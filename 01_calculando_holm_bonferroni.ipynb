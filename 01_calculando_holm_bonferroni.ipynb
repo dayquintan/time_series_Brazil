{
 "cells": [
  {
   "cell_type": "markdown",
   "id": "c3ceeecb",
   "metadata": {},
   "source": [
    "# Calculando Holm-Bonferroni para modelos"
   ]
  },
  {
   "cell_type": "markdown",
   "id": "bf5267de",
   "metadata": {},
   "source": [
    "## Importação "
   ]
  },
  {
   "cell_type": "markdown",
   "id": "9b8079d2",
   "metadata": {},
   "source": [
    "### Importando pacotes"
   ]
  },
  {
   "cell_type": "code",
   "execution_count": 10,
   "id": "a3f2366d",
   "metadata": {},
   "outputs": [],
   "source": [
    "# Importando pacotes\n",
    "import pandas as pd\n",
    "import numpy as np\n",
    "import matplotlib.pyplot as plt\n",
    "import seaborn as sns\n",
    "\n",
    "from scipy.stats import norm"
   ]
  },
  {
   "cell_type": "markdown",
   "id": "561e4f2c",
   "metadata": {},
   "source": [
    "### Importando dados"
   ]
  },
  {
   "cell_type": "code",
   "execution_count": 11,
   "id": "48fd8a50",
   "metadata": {},
   "outputs": [],
   "source": [
    "# Importando resultados \n",
    "results = pd.read_excel('extracao_final_avaliacao2.xlsx', sheet_name='Dados')"
   ]
  },
  {
   "cell_type": "markdown",
   "id": "8fee5430",
   "metadata": {},
   "source": [
    "## Calculando Holm-Bonferroni"
   ]
  },
  {
   "cell_type": "code",
   "execution_count": 13,
   "id": "ce131a0d",
   "metadata": {},
   "outputs": [
    {
     "name": "stdout",
     "output_type": "stream",
     "text": [
      "⚠️ Existem valores não numéricos na coluna VARIAVEL_EXOGENA_ESTATISTICA que foram convertidos para NaN.\n"
     ]
    }
   ],
   "source": [
    "# Força conversão para float, erros viram NaN\n",
    "results['VARIAVEL_EXOGENA_ESTATISTICA'] = pd.to_numeric(results['VARIAVEL_EXOGENA_ESTATISTICA'], errors='coerce')\n",
    "\n",
    "# Verifique se há valores não numéricos\n",
    "if results['VARIAVEL_EXOGENA_ESTATISTICA'].isna().any():\n",
    "    print(\"⚠️ Existem valores não numéricos na coluna VARIAVEL_EXOGENA_ESTATISTICA que foram convertidos para NaN.\")"
   ]
  },
  {
   "cell_type": "code",
   "execution_count": 15,
   "id": "f608436d",
   "metadata": {},
   "outputs": [],
   "source": [
    "# Calcular p-value bicaudal assumindo distribuição normal padrão\n",
    "results['p_value'] = 2 * (1 - norm.cdf(np.abs(results['VARIAVEL_EXOGENA_ESTATISTICA'])))"
   ]
  },
  {
   "cell_type": "code",
   "execution_count": 17,
   "id": "2fe0bcd2",
   "metadata": {},
   "outputs": [
    {
     "name": "stdout",
     "output_type": "stream",
     "text": [
      "Novo limiar de p-value (Holm-Bonferroni): 0.000136, para 604 testes.\n"
     ]
    }
   ],
   "source": [
    "# Aplicar correção Holm-Bonferroni\n",
    "alpha = 0.05\n",
    "n = len(results)\n",
    "\n",
    "# Ordenar os p-values em ordem crescente\n",
    "results_sorted = results.sort_values('p_value').reset_index(drop=False)\n",
    "results_sorted['holm_threshold'] = alpha / (n - results_sorted.index)\n",
    "\n",
    "# Verificar significância corrigida\n",
    "results_sorted['rejeita_H0'] = results_sorted['p_value'] <= results_sorted['holm_threshold']\n",
    "\n",
    "# Criar coluna com texto de significância\n",
    "results_sorted['significancia'] = np.where(\n",
    "    results_sorted['rejeita_H0'],\n",
    "    'significativo',\n",
    "    'não significativo'\n",
    ")\n",
    "\n",
    "# Identificar o novo limiar de p-value corrigido\n",
    "if results_sorted['rejeita_H0'].any():\n",
    "    cutoff_p = results_sorted.loc[results_sorted['rejeita_H0'], 'p_value'].max()\n",
    "    print(f'Novo limiar de p-value (Holm-Bonferroni): {cutoff_p:.6f}, para {n} testes.')\n",
    "else:\n",
    "    print('Nenhum teste significativo após Holm-Bonferroni.')"
   ]
  },
  {
   "cell_type": "code",
   "execution_count": 20,
   "id": "ac17ac01",
   "metadata": {},
   "outputs": [],
   "source": [
    "# Seleciona apenas as colunas criadas\n",
    "colunas_exportar = [\"UF\", \"AGRAVO\", 'p_value', 'holm_threshold', 'rejeita_H0', 'significancia']\n",
    "results_export = results_sorted[colunas_exportar]\n",
    "\n",
    "# Exporta para Excel\n",
    "results_export.to_excel('resultados_correcoes.xlsx', index=False)"
   ]
  },
  {
   "cell_type": "markdown",
   "id": "eb8b7562",
   "metadata": {},
   "source": [
    "Para avaliar a significância estatística da variável exógena em 604 modelos SARIMA ajustados via SARIMAX, foi extraída a estatística t associada a essa variável em cada modelo. Assumindo aproximação pela distribuição normal padrão — válida para grandes amostras — os p-values bicaudais foram estimados a partir dos valores absolutos das estatísticas t. Para controlar o erro tipo I decorrente dos múltiplos testes realizados, foi aplicada a correção de Holm-Bonferroni ao conjunto de p-values. Como resultado, foi definido um novo limiar de significância ajustado de 0.000136, abaixo do qual os efeitos da variável exógena são considerados estatisticamente significativos após correção."
   ]
  },
  {
   "cell_type": "markdown",
   "id": "cda2fdda",
   "metadata": {},
   "source": [
    "To evaluate the statistical significance of an exogenous covariate across 604 SARIMA models fitted via the SARIMAX procedure, the t-statistic corresponding to the covariate coefficient was extracted from each model. Under the assumption of large-sample properties, these test statistics were approximated as following a standard normal distribution, and two-sided p-values were computed accordingly. To adjust for multiple comparisons and control the family-wise error rate, the Holm-Bonferroni procedure was applied to the resulting p-values. This yielded an adjusted significance threshold of 0.000136, below which associations were deemed statistically significant after correction for multiplicity."
   ]
  }
 ],
 "metadata": {
  "kernelspec": {
   "display_name": ".venv",
   "language": "python",
   "name": "python3"
  },
  "language_info": {
   "codemirror_mode": {
    "name": "ipython",
    "version": 3
   },
   "file_extension": ".py",
   "mimetype": "text/x-python",
   "name": "python",
   "nbconvert_exporter": "python",
   "pygments_lexer": "ipython3",
   "version": "3.12.4"
  }
 },
 "nbformat": 4,
 "nbformat_minor": 5
}
