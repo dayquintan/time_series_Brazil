{
 "cells": [
  {
   "cell_type": "markdown",
   "metadata": {
    "application/vnd.databricks.v1+cell": {
     "cellMetadata": {
      "byteLimit": 2048000,
      "rowLimit": 10000
     },
     "inputWidgets": {},
     "nuid": "d9d61e0a-51cf-47c0-a56d-179411d8a2c7",
     "showTitle": false,
     "tableResultSettingsMap": {},
     "title": ""
    }
   },
   "source": [
    "# Análise de Séries Temporais - Whitebook: Projeto Clima e Saúde"
   ]
  },
  {
   "cell_type": "code",
   "execution_count": 0,
   "metadata": {
    "application/vnd.databricks.v1+cell": {
     "cellMetadata": {
      "byteLimit": 2048000,
      "rowLimit": 10000
     },
     "inputWidgets": {},
     "nuid": "14eb01a2-587a-44d3-82f4-63cad4ed00e7",
     "showTitle": false,
     "tableResultSettingsMap": {},
     "title": ""
    }
   },
   "outputs": [],
   "source": [
    "#-- %pip install openpyxl\n",
    "#-- %pip install geobr\n",
    "#-- %pip install geobr matplotlib matplotlib-scalebar\n"
   ]
  },
  {
   "cell_type": "code",
   "execution_count": 0,
   "metadata": {
    "application/vnd.databricks.v1+cell": {
     "cellMetadata": {
      "byteLimit": 2048000,
      "rowLimit": 10000
     },
     "inputWidgets": {},
     "nuid": "a9f5c63e-5a68-4ccf-a672-c742f6999314",
     "showTitle": false,
     "tableResultSettingsMap": {},
     "title": ""
    }
   },
   "outputs": [],
   "source": [
    "%restart_python"
   ]
  },
  {
   "cell_type": "markdown",
   "metadata": {
    "application/vnd.databricks.v1+cell": {
     "cellMetadata": {
      "byteLimit": 2048000,
      "rowLimit": 10000
     },
     "inputWidgets": {},
     "nuid": "8f348169-c393-4525-976a-e85f98a930f9",
     "showTitle": false,
     "tableResultSettingsMap": {},
     "title": ""
    }
   },
   "source": [
    "## Importação"
   ]
  },
  {
   "cell_type": "markdown",
   "metadata": {
    "application/vnd.databricks.v1+cell": {
     "cellMetadata": {
      "byteLimit": 2048000,
      "rowLimit": 10000
     },
     "inputWidgets": {},
     "nuid": "5bb6f32f-6fec-4a61-a1a9-8e8e0da0afba",
     "showTitle": false,
     "tableResultSettingsMap": {},
     "title": ""
    }
   },
   "source": [
    "### Importando pacotes"
   ]
  },
  {
   "cell_type": "code",
   "execution_count": 0,
   "metadata": {
    "application/vnd.databricks.v1+cell": {
     "cellMetadata": {
      "byteLimit": 2048000,
      "rowLimit": 10000
     },
     "inputWidgets": {},
     "nuid": "9c5eb823-9943-44ad-a5d3-15b88514ee31",
     "showTitle": false,
     "tableResultSettingsMap": {},
     "title": ""
    }
   },
   "outputs": [
    {
     "output_type": "stream",
     "name": "stderr",
     "output_type": "stream",
     "text": [
      "2024-12-03 20:08:14.258531: I external/local_tsl/tsl/cuda/cudart_stub.cc:32] Could not find cuda drivers on your machine, GPU will not be used.\n2024-12-03 20:08:14.364931: I external/local_tsl/tsl/cuda/cudart_stub.cc:32] Could not find cuda drivers on your machine, GPU will not be used.\n2024-12-03 20:08:14.818723: I tensorflow/core/platform/cpu_feature_guard.cc:210] This TensorFlow binary is optimized to use available CPU instructions in performance-critical operations.\nTo enable the following instructions: AVX2 AVX512F FMA, in other operations, rebuild TensorFlow with the appropriate compiler flags.\n2024-12-03 20:08:19.571783: W tensorflow/compiler/tf2tensorrt/utils/py_utils.cc:38] TF-TRT Warning: Could not find TensorRT\n2024/12/03 20:08:21 WARNING mlflow.tracking.fluent: Exception raised while enabling autologging for tensorflow: cannot import name 'cast' from partially initialized module 'keras.src.backend' (most likely due to a circular import) (/databricks/python/lib/python3.11/site-packages/keras/src/backend/__init__.py)\n"
     ]
    },
    {
     "output_type": "display_data",
     "data": {
      "text/plain": [
       "\u001B[0;31m---------------------------------------------------------------------------\u001B[0m\n",
       "\u001B[0;31mModuleNotFoundError\u001B[0m                       Traceback (most recent call last)\n",
       "File \u001B[0;32m<command-2897926076219238>, line 6\u001B[0m\n",
       "\u001B[1;32m      4\u001B[0m \u001B[38;5;28;01mfrom\u001B[39;00m \u001B[38;5;21;01mkeras\u001B[39;00m\u001B[38;5;21;01m.\u001B[39;00m\u001B[38;5;21;01mlayers\u001B[39;00m \u001B[38;5;28;01mimport\u001B[39;00m LSTM, Dense\n",
       "\u001B[1;32m      5\u001B[0m \u001B[38;5;28;01mfrom\u001B[39;00m \u001B[38;5;21;01mkeras\u001B[39;00m\u001B[38;5;21;01m.\u001B[39;00m\u001B[38;5;21;01mmodels\u001B[39;00m \u001B[38;5;28;01mimport\u001B[39;00m Sequential\n",
       "\u001B[0;32m----> 6\u001B[0m \u001B[38;5;28;01mfrom\u001B[39;00m \u001B[38;5;21;01mmatplotlib_scalebar\u001B[39;00m\u001B[38;5;21;01m.\u001B[39;00m\u001B[38;5;21;01mscalebar\u001B[39;00m \u001B[38;5;28;01mimport\u001B[39;00m ScaleBar\n",
       "\u001B[1;32m      7\u001B[0m \u001B[38;5;28;01mfrom\u001B[39;00m \u001B[38;5;21;01mpmdarima\u001B[39;00m \u001B[38;5;28;01mimport\u001B[39;00m auto_arima\n",
       "\u001B[1;32m      8\u001B[0m \u001B[38;5;28;01mfrom\u001B[39;00m \u001B[38;5;21;01mprophet\u001B[39;00m \u001B[38;5;28;01mimport\u001B[39;00m Prophet\n",
       "\n",
       "\u001B[0;31mModuleNotFoundError\u001B[0m: No module named 'matplotlib_scalebar'"
      ]
     },
     "metadata": {
      "application/vnd.databricks.v1+output": {
       "addedWidgets": {},
       "arguments": {},
       "datasetInfos": [],
       "jupyterProps": {
        "ename": "ModuleNotFoundError",
        "evalue": "No module named 'matplotlib_scalebar'"
       },
       "metadata": {
        "errorSummary": "<span class='ansi-red-fg'>ModuleNotFoundError</span>: No module named 'matplotlib_scalebar'"
       },
       "removedWidgets": [],
       "sqlProps": null,
       "stackFrames": [
        "\u001B[0;31m---------------------------------------------------------------------------\u001B[0m",
        "\u001B[0;31mModuleNotFoundError\u001B[0m                       Traceback (most recent call last)",
        "File \u001B[0;32m<command-2897926076219238>, line 6\u001B[0m\n\u001B[1;32m      4\u001B[0m \u001B[38;5;28;01mfrom\u001B[39;00m \u001B[38;5;21;01mkeras\u001B[39;00m\u001B[38;5;21;01m.\u001B[39;00m\u001B[38;5;21;01mlayers\u001B[39;00m \u001B[38;5;28;01mimport\u001B[39;00m LSTM, Dense\n\u001B[1;32m      5\u001B[0m \u001B[38;5;28;01mfrom\u001B[39;00m \u001B[38;5;21;01mkeras\u001B[39;00m\u001B[38;5;21;01m.\u001B[39;00m\u001B[38;5;21;01mmodels\u001B[39;00m \u001B[38;5;28;01mimport\u001B[39;00m Sequential\n\u001B[0;32m----> 6\u001B[0m \u001B[38;5;28;01mfrom\u001B[39;00m \u001B[38;5;21;01mmatplotlib_scalebar\u001B[39;00m\u001B[38;5;21;01m.\u001B[39;00m\u001B[38;5;21;01mscalebar\u001B[39;00m \u001B[38;5;28;01mimport\u001B[39;00m ScaleBar\n\u001B[1;32m      7\u001B[0m \u001B[38;5;28;01mfrom\u001B[39;00m \u001B[38;5;21;01mpmdarima\u001B[39;00m \u001B[38;5;28;01mimport\u001B[39;00m auto_arima\n\u001B[1;32m      8\u001B[0m \u001B[38;5;28;01mfrom\u001B[39;00m \u001B[38;5;21;01mprophet\u001B[39;00m \u001B[38;5;28;01mimport\u001B[39;00m Prophet\n",
        "\u001B[0;31mModuleNotFoundError\u001B[0m: No module named 'matplotlib_scalebar'"
       ],
       "type": "baseError"
      }
     },
     "output_type": "display_data"
    }
   ],
   "source": [
    "# Importando pacotes usados na análise\n",
    "from datetime import datetime\n",
    "from joblib import Parallel, delayed\n",
    "from keras.layers import LSTM, Dense\n",
    "from keras.models import Sequential\n",
    "from matplotlib_scalebar.scalebar import ScaleBar\n",
    "from pmdarima import auto_arima\n",
    "from prophet import Prophet\n",
    "from prophet.diagnostics import cross_validation, performance_metrics\n",
    "from prophet.plot import plot_cross_validation_metric\n",
    "from pyspark.ml.feature import StringIndexer\n",
    "from pyspark.sql import functions as F, SparkSession\n",
    "from pyspark.sql.functions import col, concat, countDistinct, create_map, current_date, datediff, expr, length, lit, lower, max, min, regexp_extract, regexp_replace, sum, to_date, trim, udf, when    \n",
    "from pyspark.sql.types import DateType, IntegerType, StringType\n",
    "from pyspark.sql.window import Window\n",
    "from scipy import stats\n",
    "from scipy.stats import f_oneway, norm,pearsonr, shapiro, zscore  \n",
    "from sklearn.metrics import mean_absolute_error, mean_squared_error, r2_score, mean_squared_error, r2_score, mean_absolute_error, mean_absolute_percentage_error, mean_squared_log_error, explained_variance_score\n",
    "from sklearn.preprocessing import StandardScaler, MinMaxScaler\n",
    "from sklearn.model_selection import train_test_split\n",
    "from statsmodels.graphics.gofplots import qqplot\n",
    "from statsmodels.graphics.tsaplots import plot_acf, plot_pacf\n",
    "from statsmodels.stats.diagnostic import acorr_ljungbox\n",
    "from statsmodels.tsa.holtwinters import ExponentialSmoothing\n",
    "from statsmodels.tsa.statespace.sarimax import SARIMAX\n",
    "from statsmodels.tsa.stattools import adfuller\n",
    "\n",
    "import glob\n",
    "import itertools\n",
    "import matplotlib.dates as mdates\n",
    "import matplotlib.patches as mpatches\n",
    "import matplotlib.pyplot as plt\n",
    "import matplotlib.ticker as mticker\n",
    "import numpy as np \n",
    "import pandas as pd\n",
    "import pmdarima as pm\n",
    "import os\n",
    "import random\n",
    "import seaborn as sns\n",
    "import statsmodels.api as sm\n",
    "import matplotlib.dates as mdates\n",
    "import xgboost as xgb"
   ]
  },
  {
   "cell_type": "markdown",
   "metadata": {
    "application/vnd.databricks.v1+cell": {
     "cellMetadata": {
      "byteLimit": 2048000,
      "rowLimit": 10000
     },
     "inputWidgets": {},
     "nuid": "20e90338-dcc5-4d05-87c1-69498e506b41",
     "showTitle": false,
     "tableResultSettingsMap": {},
     "title": ""
    }
   },
   "source": [
    "### Importando dados"
   ]
  },
  {
   "cell_type": "code",
   "execution_count": 0,
   "metadata": {
    "application/vnd.databricks.v1+cell": {
     "cellMetadata": {
      "byteLimit": 2048000,
      "rowLimit": 10000
     },
     "inputWidgets": {},
     "nuid": "973a171f-59a6-42e2-a5f5-ef7082c24a88",
     "showTitle": false,
     "tableResultSettingsMap": {},
     "title": ""
    }
   },
   "outputs": [
    {
     "output_type": "display_data",
     "data": {
      "text/plain": [
       "com.databricks.backend.common.rpc.DriverStoppedException: Driver down cause: driver state change (exit code: 15)\n",
       "\tat com.databricks.spark.chauffeur.ChauffeurState.processDriverStateChange(ChauffeurState.scala:492)\n",
       "\tat com.databricks.spark.chauffeur.Chauffeur.onDriverStateChange(Chauffeur.scala:1490)\n",
       "\tat com.databricks.spark.chauffeur.Chauffeur.$anonfun$driverStateOpt$1(Chauffeur.scala:187)\n",
       "\tat com.databricks.spark.chauffeur.Chauffeur.$anonfun$driverStateOpt$1$adapted(Chauffeur.scala:187)\n",
       "\tat com.databricks.spark.chauffeur.DriverDaemonMonitorImpl.$anonfun$goToStopped$4(DriverDaemonMonitorImpl.scala:273)\n",
       "\tat com.databricks.spark.chauffeur.DriverDaemonMonitorImpl.$anonfun$goToStopped$4$adapted(DriverDaemonMonitorImpl.scala:273)\n",
       "\tat scala.collection.immutable.List.foreach(List.scala:431)\n",
       "\tat com.databricks.spark.chauffeur.DriverDaemonMonitorImpl.goToStopped(DriverDaemonMonitorImpl.scala:273)\n",
       "\tat com.databricks.spark.chauffeur.DriverDaemonMonitorImpl.monitorDriver(DriverDaemonMonitorImpl.scala:399)\n",
       "\tat com.databricks.spark.chauffeur.DriverDaemonMonitorImpl.$anonfun$job$1(DriverDaemonMonitorImpl.scala:119)\n",
       "\tat scala.runtime.java8.JFunction0$mcV$sp.apply(JFunction0$mcV$sp.java:23)\n",
       "\tat com.databricks.logging.UsageLogging.$anonfun$recordOperation$1(UsageLogging.scala:532)\n",
       "\tat com.databricks.logging.UsageLogging.executeThunkAndCaptureResultTags$1(UsageLogging.scala:636)\n",
       "\tat com.databricks.logging.UsageLogging.$anonfun$recordOperationWithResultTags$4(UsageLogging.scala:654)\n",
       "\tat com.databricks.logging.AttributionContextTracing.$anonfun$withAttributionContext$1(AttributionContextTracing.scala:48)\n",
       "\tat com.databricks.logging.AttributionContext$.$anonfun$withValue$1(AttributionContext.scala:253)\n",
       "\tat scala.util.DynamicVariable.withValue(DynamicVariable.scala:62)\n",
       "\tat com.databricks.logging.AttributionContext$.withValue(AttributionContext.scala:249)\n",
       "\tat com.databricks.logging.AttributionContextTracing.withAttributionContext(AttributionContextTracing.scala:46)\n",
       "\tat com.databricks.logging.AttributionContextTracing.withAttributionContext$(AttributionContextTracing.scala:43)\n",
       "\tat com.databricks.threading.SingletonJob$SingletonJobImpl.withAttributionContext(SingletonJob.scala:432)\n",
       "\tat com.databricks.logging.AttributionContextTracing.withAttributionTags(AttributionContextTracing.scala:95)\n",
       "\tat com.databricks.logging.AttributionContextTracing.withAttributionTags$(AttributionContextTracing.scala:76)\n",
       "\tat com.databricks.threading.SingletonJob$SingletonJobImpl.withAttributionTags(SingletonJob.scala:432)\n",
       "\tat com.databricks.logging.UsageLogging.recordOperationWithResultTags(UsageLogging.scala:631)\n",
       "\tat com.databricks.logging.UsageLogging.recordOperationWithResultTags$(UsageLogging.scala:541)\n",
       "\tat com.databricks.threading.SingletonJob$SingletonJobImpl.recordOperationWithResultTags(SingletonJob.scala:432)\n",
       "\tat com.databricks.logging.UsageLogging.recordOperation(UsageLogging.scala:533)\n",
       "\tat com.databricks.logging.UsageLogging.recordOperation$(UsageLogging.scala:501)\n",
       "\tat com.databricks.threading.SingletonJob$SingletonJobImpl.recordOperation(SingletonJob.scala:432)\n",
       "\tat com.databricks.threading.SingletonJob$SingletonJobImpl$SingletonRun.$anonfun$run$4(SingletonJob.scala:491)\n",
       "\tat com.databricks.logging.AttributionContextTracing.$anonfun$withAttributionContext$1(AttributionContextTracing.scala:48)\n",
       "\tat com.databricks.logging.AttributionContext$.$anonfun$withValue$1(AttributionContext.scala:253)\n",
       "\tat scala.util.DynamicVariable.withValue(DynamicVariable.scala:62)\n",
       "\tat com.databricks.logging.AttributionContext$.withValue(AttributionContext.scala:249)\n",
       "\tat com.databricks.logging.AttributionContextTracing.withAttributionContext(AttributionContextTracing.scala:46)\n",
       "\tat com.databricks.logging.AttributionContextTracing.withAttributionContext$(AttributionContextTracing.scala:43)\n",
       "\tat com.databricks.threading.SingletonJob$SingletonJobImpl.withAttributionContext(SingletonJob.scala:432)\n",
       "\tat com.databricks.threading.SingletonJob$SingletonJobImpl$SingletonRun.$anonfun$run$3(SingletonJob.scala:491)\n",
       "\tat scala.util.Try$.apply(Try.scala:213)\n",
       "\tat com.databricks.threading.SingletonJob$SingletonJobImpl$SingletonRun.$anonfun$run$1(SingletonJob.scala:490)\n",
       "\tat com.databricks.util.UntrustedUtils$.tryLog(UntrustedUtils.scala:109)\n",
       "\tat com.databricks.threading.SingletonJob$SingletonJobImpl$SingletonRun.run(SingletonJob.scala:484)\n",
       "\tat com.databricks.threading.InstrumentedExecutorService$$anon$1.$anonfun$run$3(InstrumentedExecutorService.scala:144)\n",
       "\tat scala.runtime.java8.JFunction0$mcV$sp.apply(JFunction0$mcV$sp.java:23)\n",
       "\tat com.databricks.logging.AttributionContextTracing.$anonfun$withAttributionContext$1(AttributionContextTracing.scala:48)\n",
       "\tat com.databricks.logging.AttributionContext$.$anonfun$withValue$1(AttributionContext.scala:253)\n",
       "\tat scala.util.DynamicVariable.withValue(DynamicVariable.scala:62)\n",
       "\tat com.databricks.logging.AttributionContext$.withValue(AttributionContext.scala:249)\n",
       "\tat com.databricks.logging.AttributionContextTracing.withAttributionContext(AttributionContextTracing.scala:46)\n",
       "\tat com.databricks.logging.AttributionContextTracing.withAttributionContext$(AttributionContextTracing.scala:43)\n",
       "\tat com.databricks.threading.InstrumentedExecutorService$$anon$1.withAttributionContext(InstrumentedExecutorService.scala:137)\n",
       "\tat com.databricks.threading.InstrumentedExecutorService$$anon$1.$anonfun$run$2(InstrumentedExecutorService.scala:142)\n",
       "\tat scala.runtime.java8.JFunction0$mcV$sp.apply(JFunction0$mcV$sp.java:23)\n",
       "\tat com.databricks.instrumentation.QueuedThreadPoolInstrumenter.trackActiveThreads(QueuedThreadPoolInstrumenter.scala:110)\n",
       "\tat com.databricks.instrumentation.QueuedThreadPoolInstrumenter.trackActiveThreads$(QueuedThreadPoolInstrumenter.scala:107)\n",
       "\tat com.databricks.threading.InstrumentedExecutorService.trackActiveThreads(InstrumentedExecutorService.scala:40)\n",
       "\tat com.databricks.threading.InstrumentedExecutorService$$anon$1.$anonfun$run$1(InstrumentedExecutorService.scala:141)\n",
       "\tat scala.runtime.java8.JFunction0$mcV$sp.apply(JFunction0$mcV$sp.java:23)\n",
       "\tat com.databricks.context.integrity.IntegrityCheckContext$ThreadLocalStorage$.withValue(IntegrityCheckContext.scala:73)\n",
       "\tat com.databricks.threading.InstrumentedExecutorService$$anon$1.run(InstrumentedExecutorService.scala:140)\n",
       "\tat java.util.concurrent.Executors$RunnableAdapter.call(Executors.java:511)\n",
       "\tat java.util.concurrent.FutureTask.run(FutureTask.java:266)\n",
       "\tat java.util.concurrent.ScheduledThreadPoolExecutor$ScheduledFutureTask.access$201(ScheduledThreadPoolExecutor.java:180)\n",
       "\tat java.util.concurrent.ScheduledThreadPoolExecutor$ScheduledFutureTask.run(ScheduledThreadPoolExecutor.java:293)\n",
       "\tat java.util.concurrent.ThreadPoolExecutor.runWorker(ThreadPoolExecutor.java:1149)\n",
       "\tat java.util.concurrent.ThreadPoolExecutor$Worker.run(ThreadPoolExecutor.java:624)\n",
       "\tat java.lang.Thread.run(Thread.java:750)"
      ]
     },
     "metadata": {
      "application/vnd.databricks.v1+output": {
       "addedWidgets": {},
       "arguments": {},
       "datasetInfos": [],
       "jupyterProps": null,
       "metadata": {
        "errorSummary": "The spark driver has stopped unexpectedly and is restarting. Your notebook will be automatically reattached."
       },
       "removedWidgets": [],
       "sqlProps": null,
       "stackFrames": [
        "com.databricks.backend.common.rpc.DriverStoppedException: Driver down cause: driver state change (exit code: 15)",
        "\tat com.databricks.spark.chauffeur.ChauffeurState.processDriverStateChange(ChauffeurState.scala:492)",
        "\tat com.databricks.spark.chauffeur.Chauffeur.onDriverStateChange(Chauffeur.scala:1490)",
        "\tat com.databricks.spark.chauffeur.Chauffeur.$anonfun$driverStateOpt$1(Chauffeur.scala:187)",
        "\tat com.databricks.spark.chauffeur.Chauffeur.$anonfun$driverStateOpt$1$adapted(Chauffeur.scala:187)",
        "\tat com.databricks.spark.chauffeur.DriverDaemonMonitorImpl.$anonfun$goToStopped$4(DriverDaemonMonitorImpl.scala:273)",
        "\tat com.databricks.spark.chauffeur.DriverDaemonMonitorImpl.$anonfun$goToStopped$4$adapted(DriverDaemonMonitorImpl.scala:273)",
        "\tat scala.collection.immutable.List.foreach(List.scala:431)",
        "\tat com.databricks.spark.chauffeur.DriverDaemonMonitorImpl.goToStopped(DriverDaemonMonitorImpl.scala:273)",
        "\tat com.databricks.spark.chauffeur.DriverDaemonMonitorImpl.monitorDriver(DriverDaemonMonitorImpl.scala:399)",
        "\tat com.databricks.spark.chauffeur.DriverDaemonMonitorImpl.$anonfun$job$1(DriverDaemonMonitorImpl.scala:119)",
        "\tat scala.runtime.java8.JFunction0$mcV$sp.apply(JFunction0$mcV$sp.java:23)",
        "\tat com.databricks.logging.UsageLogging.$anonfun$recordOperation$1(UsageLogging.scala:532)",
        "\tat com.databricks.logging.UsageLogging.executeThunkAndCaptureResultTags$1(UsageLogging.scala:636)",
        "\tat com.databricks.logging.UsageLogging.$anonfun$recordOperationWithResultTags$4(UsageLogging.scala:654)",
        "\tat com.databricks.logging.AttributionContextTracing.$anonfun$withAttributionContext$1(AttributionContextTracing.scala:48)",
        "\tat com.databricks.logging.AttributionContext$.$anonfun$withValue$1(AttributionContext.scala:253)",
        "\tat scala.util.DynamicVariable.withValue(DynamicVariable.scala:62)",
        "\tat com.databricks.logging.AttributionContext$.withValue(AttributionContext.scala:249)",
        "\tat com.databricks.logging.AttributionContextTracing.withAttributionContext(AttributionContextTracing.scala:46)",
        "\tat com.databricks.logging.AttributionContextTracing.withAttributionContext$(AttributionContextTracing.scala:43)",
        "\tat com.databricks.threading.SingletonJob$SingletonJobImpl.withAttributionContext(SingletonJob.scala:432)",
        "\tat com.databricks.logging.AttributionContextTracing.withAttributionTags(AttributionContextTracing.scala:95)",
        "\tat com.databricks.logging.AttributionContextTracing.withAttributionTags$(AttributionContextTracing.scala:76)",
        "\tat com.databricks.threading.SingletonJob$SingletonJobImpl.withAttributionTags(SingletonJob.scala:432)",
        "\tat com.databricks.logging.UsageLogging.recordOperationWithResultTags(UsageLogging.scala:631)",
        "\tat com.databricks.logging.UsageLogging.recordOperationWithResultTags$(UsageLogging.scala:541)",
        "\tat com.databricks.threading.SingletonJob$SingletonJobImpl.recordOperationWithResultTags(SingletonJob.scala:432)",
        "\tat com.databricks.logging.UsageLogging.recordOperation(UsageLogging.scala:533)",
        "\tat com.databricks.logging.UsageLogging.recordOperation$(UsageLogging.scala:501)",
        "\tat com.databricks.threading.SingletonJob$SingletonJobImpl.recordOperation(SingletonJob.scala:432)",
        "\tat com.databricks.threading.SingletonJob$SingletonJobImpl$SingletonRun.$anonfun$run$4(SingletonJob.scala:491)",
        "\tat com.databricks.logging.AttributionContextTracing.$anonfun$withAttributionContext$1(AttributionContextTracing.scala:48)",
        "\tat com.databricks.logging.AttributionContext$.$anonfun$withValue$1(AttributionContext.scala:253)",
        "\tat scala.util.DynamicVariable.withValue(DynamicVariable.scala:62)",
        "\tat com.databricks.logging.AttributionContext$.withValue(AttributionContext.scala:249)",
        "\tat com.databricks.logging.AttributionContextTracing.withAttributionContext(AttributionContextTracing.scala:46)",
        "\tat com.databricks.logging.AttributionContextTracing.withAttributionContext$(AttributionContextTracing.scala:43)",
        "\tat com.databricks.threading.SingletonJob$SingletonJobImpl.withAttributionContext(SingletonJob.scala:432)",
        "\tat com.databricks.threading.SingletonJob$SingletonJobImpl$SingletonRun.$anonfun$run$3(SingletonJob.scala:491)",
        "\tat scala.util.Try$.apply(Try.scala:213)",
        "\tat com.databricks.threading.SingletonJob$SingletonJobImpl$SingletonRun.$anonfun$run$1(SingletonJob.scala:490)",
        "\tat com.databricks.util.UntrustedUtils$.tryLog(UntrustedUtils.scala:109)",
        "\tat com.databricks.threading.SingletonJob$SingletonJobImpl$SingletonRun.run(SingletonJob.scala:484)",
        "\tat com.databricks.threading.InstrumentedExecutorService$$anon$1.$anonfun$run$3(InstrumentedExecutorService.scala:144)",
        "\tat scala.runtime.java8.JFunction0$mcV$sp.apply(JFunction0$mcV$sp.java:23)",
        "\tat com.databricks.logging.AttributionContextTracing.$anonfun$withAttributionContext$1(AttributionContextTracing.scala:48)",
        "\tat com.databricks.logging.AttributionContext$.$anonfun$withValue$1(AttributionContext.scala:253)",
        "\tat scala.util.DynamicVariable.withValue(DynamicVariable.scala:62)",
        "\tat com.databricks.logging.AttributionContext$.withValue(AttributionContext.scala:249)",
        "\tat com.databricks.logging.AttributionContextTracing.withAttributionContext(AttributionContextTracing.scala:46)",
        "\tat com.databricks.logging.AttributionContextTracing.withAttributionContext$(AttributionContextTracing.scala:43)",
        "\tat com.databricks.threading.InstrumentedExecutorService$$anon$1.withAttributionContext(InstrumentedExecutorService.scala:137)",
        "\tat com.databricks.threading.InstrumentedExecutorService$$anon$1.$anonfun$run$2(InstrumentedExecutorService.scala:142)",
        "\tat scala.runtime.java8.JFunction0$mcV$sp.apply(JFunction0$mcV$sp.java:23)",
        "\tat com.databricks.instrumentation.QueuedThreadPoolInstrumenter.trackActiveThreads(QueuedThreadPoolInstrumenter.scala:110)",
        "\tat com.databricks.instrumentation.QueuedThreadPoolInstrumenter.trackActiveThreads$(QueuedThreadPoolInstrumenter.scala:107)",
        "\tat com.databricks.threading.InstrumentedExecutorService.trackActiveThreads(InstrumentedExecutorService.scala:40)",
        "\tat com.databricks.threading.InstrumentedExecutorService$$anon$1.$anonfun$run$1(InstrumentedExecutorService.scala:141)",
        "\tat scala.runtime.java8.JFunction0$mcV$sp.apply(JFunction0$mcV$sp.java:23)",
        "\tat com.databricks.context.integrity.IntegrityCheckContext$ThreadLocalStorage$.withValue(IntegrityCheckContext.scala:73)",
        "\tat com.databricks.threading.InstrumentedExecutorService$$anon$1.run(InstrumentedExecutorService.scala:140)",
        "\tat java.util.concurrent.Executors$RunnableAdapter.call(Executors.java:511)",
        "\tat java.util.concurrent.FutureTask.run(FutureTask.java:266)",
        "\tat java.util.concurrent.ScheduledThreadPoolExecutor$ScheduledFutureTask.access$201(ScheduledThreadPoolExecutor.java:180)",
        "\tat java.util.concurrent.ScheduledThreadPoolExecutor$ScheduledFutureTask.run(ScheduledThreadPoolExecutor.java:293)",
        "\tat java.util.concurrent.ThreadPoolExecutor.runWorker(ThreadPoolExecutor.java:1149)",
        "\tat java.util.concurrent.ThreadPoolExecutor$Worker.run(ThreadPoolExecutor.java:624)",
        "\tat java.lang.Thread.run(Thread.java:750)"
       ],
       "type": "baseError"
      }
     },
     "output_type": "display_data"
    }
   ],
   "source": [
    "# Importando dados \n",
    "cid = spark.read.table(\"data_research_dev.raw_cid10.rotulos_cid_10\")\n",
    "cid_pandas = cid.toPandas()\n",
    "\n",
    "sih_spark = spark.read.table(\"data_research_dev.raw_sih_sensiveis_clima.sih_microdados_individuais_2018_2023\")\n",
    "sih_pandas = sih_spark.toPandas()\n",
    "\n",
    "sih_spark_group = spark.read.table(\"data_research_dev.raw_sih_sensiveis_clima.sih_dados_agrupados_municipios_2018_2023\")\n",
    "sih_pandas_group = sih_spark_group.toPandas()\n",
    "\n",
    "wb_micro_spark = spark.read.table(\"data_research_dev.raw_acessos_wb.afya_grupotemas_wb_brasil\")\n",
    "wb_micro_pandas = wb_micro_spark.toPandas()\n",
    "\n",
    "wb_micro_spark_group = spark.read.table(\"data_research_dev.raw_acessos_wb.afya_grupotemas_wb_microrregioes_arupado\")\n",
    "wb_micro_pandas_group = wb_micro_spark_group.toPandas()\n",
    "\n",
    "wb_micro_spark_uf_group = spark.read.table(\"data_research_dev.raw_acessos_wb.afya_grupotemas_wb_estado\")\n",
    "wb_micro_pandas_uf_group = wb_micro_spark_uf_group.toPandas()\n",
    "\n",
    "correspondencia_spark_cid = spark.read.table(\"data_research_dev.raw_cids_sensiveis_clima.lista_cids_selecionados_correspondencia_wb\")\n",
    "correspondencia_pandas_cid = correspondencia_spark_cid.toPandas()\n",
    "\n",
    "projecao_populacional_spark = spark.read.table(\"data_research_dev.populacao_ibge.raw_projecao_populacao_ibge_uf\")\n",
    "projecao_populacional_pandas = projecao_populacional_spark.toPandas()\n",
    "\n",
    "projecao_nacional_spark = spark.read.table(\"data_research_dev.populacao_ibge.raw_projecao_populacao_ibge\")\n",
    "projecao_nacional_pandas = projecao_nacional_spark.toPandas()"
   ]
  },
  {
   "cell_type": "markdown",
   "metadata": {
    "application/vnd.databricks.v1+cell": {
     "cellMetadata": {},
     "inputWidgets": {},
     "nuid": "a5236251-7f13-4046-aede-6af80fb5a550",
     "showTitle": false,
     "tableResultSettingsMap": {},
     "title": ""
    }
   },
   "source": [
    "## Análise Descritiva"
   ]
  },
  {
   "cell_type": "markdown",
   "metadata": {
    "application/vnd.databricks.v1+cell": {
     "cellMetadata": {},
     "inputWidgets": {},
     "nuid": "dac524d8-6a1f-473e-8b6a-7b455a962141",
     "showTitle": false,
     "tableResultSettingsMap": {},
     "title": ""
    }
   },
   "source": [
    "### Analise por sexo e faixa etária"
   ]
  },
  {
   "cell_type": "code",
   "execution_count": 0,
   "metadata": {
    "application/vnd.databricks.v1+cell": {
     "cellMetadata": {
      "byteLimit": 2048000,
      "rowLimit": 10000
     },
     "inputWidgets": {},
     "nuid": "641d91c0-9b95-4d45-9f07-23fb7be3920d",
     "showTitle": false,
     "tableResultSettingsMap": {},
     "title": ""
    }
   },
   "outputs": [],
   "source": [
    "# Função para criar a coluna de faixa etária\n",
    "def criar_faixa_etaria(df, coluna_idade, nova_coluna):\n",
    "    # Definindo os intervalos e os rótulos das faixas etárias\n",
    "    bins = [-1, 1, 5, 10, 20, 30, 40, 50, 60, 70, 80, 90, float(\"inf\")]\n",
    "    labels = [\"<1\", \"1-5\", \"6-10\", \"11-20\", \"21-30\", \"31-40\", \"41-50\", \"51-60\", \"61-70\", \"71-80\", \"81-90\", \"90+\"]\n",
    "    # Criando a nova coluna\n",
    "    df[nova_coluna] = pd.cut(df[coluna_idade], bins=bins, labels=labels, right=True)\n",
    "    return df"
   ]
  },
  {
   "cell_type": "code",
   "execution_count": 0,
   "metadata": {
    "application/vnd.databricks.v1+cell": {
     "cellMetadata": {
      "byteLimit": 2048000,
      "rowLimit": 10000
     },
     "inputWidgets": {},
     "nuid": "ce0d2c86-c9af-42ea-bcc0-b4fef49f9f1e",
     "showTitle": false,
     "tableResultSettingsMap": {},
     "title": ""
    }
   },
   "outputs": [],
   "source": [
    "# Criar a faixa etária na coluna 'FAIXA_ETARIA'\n",
    "sih_pandas = criar_faixa_etaria(sih_pandas, coluna_idade=\"IDADE\", nova_coluna=\"FAIXA_ETARIA\")\n"
   ]
  },
  {
   "cell_type": "code",
   "execution_count": 0,
   "metadata": {
    "application/vnd.databricks.v1+cell": {
     "cellMetadata": {
      "byteLimit": 2048000,
      "rowLimit": 10000
     },
     "inputWidgets": {},
     "nuid": "7c0dd1a6-773a-4e58-8130-a12e8ae14a12",
     "showTitle": false,
     "tableResultSettingsMap": {},
     "title": ""
    }
   },
   "outputs": [],
   "source": [
    "# Criar a Tabela 1: Linhas (FAIXA_ETARIA) x Colunas (SEXO)\n",
    "tabela_1 = (\n",
    "    sih_pandas.groupby([\"FAIXA_ETARIA\", \"SEXO\"])[\"N_AIH\"]\n",
    "    .nunique()  # Contar valores únicos de N_AIH\n",
    "    .reset_index()  # Resetar o índice para facilitar o pivot\n",
    "    .pivot(index=\"FAIXA_ETARIA\", columns=\"SEXO\", values=\"N_AIH\")  # Criar a tabela no formato solicitado\n",
    ")\n",
    "\n",
    "# Criar a Tabela 2: Linhas (DIAG_PRINC_NOME) x Colunas (SEXO)\n",
    "tabela_2 = (\n",
    "    sih_pandas.groupby([\"DIAG_PRINC_NOME\", \"SEXO\"])[\"N_AIH\"]\n",
    "    .nunique()  # Contar valores únicos de N_AIH\n",
    "    .reset_index()  # Resetar o índice para facilitar o pivot\n",
    "    .pivot(index=\"DIAG_PRINC_NOME\", columns=\"SEXO\", values=\"N_AIH\")  # Criar a tabela no formato solicitado\n",
    ")\n",
    "\n",
    "# Criar a Tabela 3: Linhas (DIAG_PRINC_NOME) x Colunas (FAIXA_ETARIA)\n",
    "tabela_3 = (\n",
    "    sih_pandas.groupby([\"DIAG_PRINC_NOME\", \"FAIXA_ETARIA\"])[\"N_AIH\"]\n",
    "    .nunique()  # Contar valores únicos de N_AIH\n",
    "    .reset_index()  # Resetar o índice para facilitar o pivot\n",
    "    .pivot(index=\"DIAG_PRINC_NOME\", columns=\"FAIXA_ETARIA\", values=\"N_AIH\")  # Criar a tabela no formato solicitado\n",
    ")\n"
   ]
  },
  {
   "cell_type": "code",
   "execution_count": 0,
   "metadata": {
    "application/vnd.databricks.v1+cell": {
     "cellMetadata": {
      "byteLimit": 2048000,
      "rowLimit": 10000
     },
     "inputWidgets": {},
     "nuid": "a221191a-f97a-45b0-b709-7240b847e0e4",
     "showTitle": false,
     "tableResultSettingsMap": {},
     "title": ""
    }
   },
   "outputs": [],
   "source": [
    "# Função para adicionar total e calcular frequência e percentual\n",
    "def adicionar_totais_e_percentuais(tabela, total_label=\"Total\"):\n",
    "    # Adicionar a linha com os totais\n",
    "    tabela.loc[total_label] = tabela.sum(axis=0)\n",
    "    \n",
    "    # Calcular os percentuais\n",
    "    percentuais = tabela.div(tabela.loc[total_label], axis=1) * 100\n",
    "    \n",
    "    # Renomear colunas para incluir frequência e percentual\n",
    "    tabela_final = pd.concat([tabela, percentuais], axis=1)\n",
    "    tabela_final.columns = [f\"{col}_frequencia\" if i < len(tabela.columns) / 2 else f\"{col}_percentual\" \n",
    "                            for i, col in enumerate(tabela_final.columns)]\n",
    "    \n",
    "    return tabela_final"
   ]
  },
  {
   "cell_type": "code",
   "execution_count": 0,
   "metadata": {
    "application/vnd.databricks.v1+cell": {
     "cellMetadata": {
      "byteLimit": 2048000,
      "rowLimit": 10000
     },
     "inputWidgets": {},
     "nuid": "943ff720-dd5c-41b2-88dd-3750e9468436",
     "showTitle": false,
     "tableResultSettingsMap": {},
     "title": ""
    }
   },
   "outputs": [],
   "source": [
    "# Recriar as tabelas com totais e percentuais\n",
    "\n",
    "# Faixa Etária x Sexo\n",
    "tabela_1_com_totais = adicionar_totais_e_percentuais(tabela_1)\n",
    "\n",
    "# Diagnóstico x Sexo\n",
    "tabela_2_com_totais = adicionar_totais_e_percentuais(tabela_2)\n",
    "\n",
    "# Diagnóstico x Faixa Etária\n",
    "tabela_3_com_totais = adicionar_totais_e_percentuais(tabela_3)\n"
   ]
  },
  {
   "cell_type": "code",
   "execution_count": 0,
   "metadata": {
    "application/vnd.databricks.v1+cell": {
     "cellMetadata": {
      "byteLimit": 2048000,
      "rowLimit": 10000
     },
     "inputWidgets": {},
     "nuid": "d589c9e6-e0f5-4d73-8f40-f59664f37eda",
     "showTitle": false,
     "tableResultSettingsMap": {},
     "title": ""
    }
   },
   "outputs": [],
   "source": [
    "# Salvando as tabelas no caminho especificado\n",
    "caminho_base = \"/Workspace/Users/danielly.xavier@iclinic.com.br/resultados_modelo_ts_research_center/analise_descritiva_sih/dados_demograficos/\"\n",
    "\n",
    "# Tabela 1: Faixa Etária x Sexo\n",
    "tabela_1_caminho = f\"{caminho_base}tabela_faixaetaria_sexo_sih.xlsx\"\n",
    "tabela_1_com_totais.to_excel(tabela_1_caminho, index=True)\n",
    "\n",
    "# Tabela 2: Diagnóstico x Sexo\n",
    "tabela_2_caminho = f\"{caminho_base}tabela_diagnostico_sexo_sih.xlsx\"\n",
    "tabela_2_com_totais.to_excel(tabela_2_caminho, index=True)\n",
    "\n",
    "# Tabela 3: Diagnóstico x Faixa Etária\n",
    "tabela_3_caminho = f\"{caminho_base}tabela_diagnostico_faixaetaria_sih.xlsx\"\n",
    "tabela_3_com_totais.to_excel(tabela_3_caminho, index=True)\n",
    "\n",
    "\n"
   ]
  },
  {
   "cell_type": "code",
   "execution_count": 0,
   "metadata": {
    "application/vnd.databricks.v1+cell": {
     "cellMetadata": {
      "byteLimit": 2048000,
      "rowLimit": 10000
     },
     "inputWidgets": {},
     "nuid": "d0b6bb66-bcc2-4e05-89ed-0c60a64da075",
     "showTitle": false,
     "tableResultSettingsMap": {},
     "title": ""
    }
   },
   "outputs": [],
   "source": [
    "# Agrupar os dados por Faixa Etária e Sexo e contar os valores únicos de N_AIH\n",
    "piramide_etaria = sih_pandas.groupby([\"FAIXA_ETARIA\", \"SEXO\"])[\"N_AIH\"].nunique().unstack(fill_value=0)\n",
    "\n",
    "# Separar os dados por sexo\n",
    "masculino = piramide_etaria.get(\"M\", pd.Series(index=piramide_etaria.index, data=piramide_etaria['Masculino']))\n",
    "feminino = piramide_etaria.get(\"F\", pd.Series(index=piramide_etaria.index, data = piramide_etaria['Feminino']))\n",
    "\n",
    "\n",
    "# Configuração para o gráfico\n",
    "faixas_etarias = piramide_etaria.index.astype(str)  # Converter índices para string\n",
    "posicoes = np.arange(len(faixas_etarias))\n",
    "\n",
    "# Criar o gráfico de pirâmide etária\n",
    "plt.figure(figsize=(10, 8))\n",
    "plt.barh(posicoes, -masculino, color=\"blue\", label=\"Masculino\")  # Valores negativos para a esquerda\n",
    "plt.barh(posicoes, feminino, color=\"pink\", label=\"Feminino\")\n",
    "\n",
    "# Configurações adicionais\n",
    "plt.yticks(posicoes, faixas_etarias)\n",
    "plt.xlabel(\"Número de Internações\")\n",
    "plt.ylabel(\"Faixa Etária\")\n",
    "plt.title(\"Pirâmide Etária de Internações\")\n",
    "plt.legend(loc=\"best\")\n",
    "plt.axvline(0, color=\"black\", linewidth=0.5)  # Linha central\n",
    "\n",
    "# Configurar o formato do eixo X para exibir números normalmente\n",
    "plt.gca().xaxis.set_major_formatter(mticker.StrMethodFormatter(\"{x:.0f}\"))\n",
    "\n",
    "plt.tight_layout()\n",
    "\n",
    "# Salvando a figura\n",
    "plt.savefig(\"/Workspace/Users/danielly.xavier@iclinic.com.br/resultados_modelo_ts_research_center/analise_descritiva_sih/graficos/faixa_etaria.png\")\n",
    "plt.close()\n",
    "\n",
    "# Exibir o gráfico\n",
    "plt.show()\n"
   ]
  },
  {
   "cell_type": "code",
   "execution_count": 0,
   "metadata": {
    "application/vnd.databricks.v1+cell": {
     "cellMetadata": {
      "byteLimit": 2048000,
      "rowLimit": 10000
     },
     "inputWidgets": {},
     "nuid": "5c001029-5bd1-462d-b817-f532a3ffff3f",
     "showTitle": false,
     "tableResultSettingsMap": {},
     "title": ""
    }
   },
   "outputs": [
    {
     "output_type": "stream",
     "name": "stdout",
     "output_type": "stream",
     "text": [
      "\u001B[43mNote: you may need to restart the kernel using %restart_python or dbutils.library.restartPython() to use updated packages.\u001B[0m\nRequirement already satisfied: xlsxwriter in /local_disk0/.ephemeral_nfs/envs/pythonEnv-5823f045-7c69-4d5b-a3a3-18eeb792523e/lib/python3.11/site-packages (3.2.0)\n\u001B[43mNote: you may need to restart the kernel using %restart_python or dbutils.library.restartPython() to use updated packages.\u001B[0m\n"
     ]
    },
    {
     "output_type": "stream",
     "name": "stderr",
     "output_type": "stream",
     "text": [
      "/root/.ipykernel/1125/command-1204941237348366-3568575663:61: FutureWarning: save is not part of the public API, usage can give unexpected results and will be removed in a future version\n  writer.save()\n/local_disk0/.ephemeral_nfs/envs/pythonEnv-5823f045-7c69-4d5b-a3a3-18eeb792523e/lib/python3.11/site-packages/xlsxwriter/workbook.py:369: UserWarning: Calling close() on already closed file.\n  warn(\"Calling close() on already closed file.\")\n"
     ]
    },
    {
     "output_type": "stream",
     "name": "stdout",
     "output_type": "stream",
     "text": [
      "Tabela 4 salva em: /Workspace/Users/dayanna.quintanilha@afya.com.br/tabela_diagnostico_secundario_sih.xlsx\n"
     ]
    },
    {
     "output_type": "display_data",
     "data": {
      "text/html": [
       "<style scoped>\n",
       "  .ansiout {\n",
       "    display: block;\n",
       "    unicode-bidi: embed;\n",
       "    white-space: pre-wrap;\n",
       "    word-wrap: break-word;\n",
       "    word-break: break-all;\n",
       "    font-family: \"Menlo\", \"Monaco\", \"Consolas\", \"Ubuntu Mono\", \"Source Code Pro\", monospace;\n",
       "    font-size: 13px;\n",
       "    color: #555;\n",
       "    margin-left: 4px;\n",
       "    line-height: 19px;\n",
       "  }\n",
       "</style>"
      ]
     },
     "metadata": {
      "application/vnd.databricks.v1+output": {
       "arguments": {},
       "data": "",
       "errorSummary": "",
       "errorTraceType": null,
       "metadata": {},
       "type": "ipynbError"
      }
     },
     "output_type": "display_data"
    }
   ],
   "source": [
    "%python\n",
    "%pip install xlsxwriter\n",
    "\n",
    "import pandas as pd\n",
    "from pandas import ExcelWriter\n",
    "from pyspark.sql import functions as F\n",
    "from pyspark.sql.window import Window\n",
    "import os\n",
    "\n",
    "# Inicializando o DataFrame sih_spark\n",
    "sih_spark = spark.read.table(\"data_research_dev.raw_sih_sensiveis_clima.sih_microdados_individuais_2018_2023\")\n",
    "populacao_df = spark.read.table(\"data_research_dev.populacao_ibge.raw_projecao_populacao_ibge\")\n",
    "populacao_df = populacao_df.withColumnRenamed(\"ANO\", \"ANO_POP\").withColumnRenamed(\"POPULACAO\", \"POPULACAO_ANO\")\n",
    "\n",
    "# Garantir que a coluna ANO está presente em sih_spark\n",
    "sih_spark = sih_spark.withColumn(\"ANO\", F.year(F.col(\"DT_INTER\")))\n",
    "\n",
    "# Etapa 1: Agregar corretamente N_AIH\n",
    "sih_spark = sih_spark.groupBy(\"DIAG_PRINC_NOME\", \"ANO\").agg(F.count(\"N_AIH\").alias(\"N_AIH\"))\n",
    "\n",
    "# Etapa 2: Calcular o total de internações por ano\n",
    "window_ano = Window.partitionBy(\"ANO\")\n",
    "sih_spark = sih_spark.withColumn(\"Total_Ano\", F.sum(\"N_AIH\").over(window_ano))\n",
    "\n",
    "# Etapa 3: Calcular percentual de internações por diagnóstico e ano\n",
    "sih_spark = sih_spark.withColumn(\"Percentual\", F.round((F.col(\"N_AIH\") / F.col(\"Total_Ano\")) * 100, 2))\n",
    "\n",
    "# Etapa 4: Adicionar dados populacionais e calcular taxa\n",
    "sih_spark = sih_spark.join(populacao_df, sih_spark[\"ANO\"] == populacao_df[\"ANO_POP\"], \"left\")\n",
    "sih_spark = sih_spark.withColumn(\"Taxa\", F.round((F.col(\"N_AIH\") / F.col(\"POPULACAO_ANO\")) * 100000, 2))\n",
    "\n",
    "# Etapa 5: Incorporar Diagnóstico Secundário\n",
    "diagnosticos_sec_df = spark.read.table(\"data_research_dev.raw_cids_sensiveis_clima.lista_cids_selecionados_correspondencia_wb\")\n",
    "diagnosticos_sec_df = diagnosticos_sec_df.select(\"DIAG_PRINC_NOME\", \"CATEGORIA_SECUNDARIA\")\n",
    "sih_spark = sih_spark.join(diagnosticos_sec_df, on=\"DIAG_PRINC_NOME\", how=\"left\")\n",
    "\n",
    "# Etapa 6: Reorganizar tabela para o formato desejado\n",
    "tabela_diagnostico_secundario = (\n",
    "    sih_spark\n",
    "    .select(\"DIAG_PRINC_NOME\", \"CATEGORIA_SECUNDARIA\", \"ANO\", \"N_AIH\", \"Percentual\", \"Taxa\")\n",
    "    .withColumnRenamed(\"N_AIH\", \"n\")\n",
    "    .groupBy(\"DIAG_PRINC_NOME\", \"CATEGORIA_SECUNDARIA\")\n",
    "    .pivot(\"ANO\", [2021, 2022, 2023, 2024])\n",
    "    .agg(F.first(\"n\").alias(\"n\"), F.first(\"Percentual\").alias(\"Percentual\"), F.first(\"Taxa\").alias(\"Taxa\"))\n",
    ")\n",
    "\n",
    "# Converta o DataFrame para Pandas\n",
    "tabela_pandas = tabela_diagnostico_secundario.toPandas()\n",
    "\n",
    "# Salvando as tabelas no caminho especificado\n",
    "caminho_base = \"/Workspace/Users/dayanna.quintanilha@afya.com.br/\"\n",
    "\n",
    "# Ensure the directory exists\n",
    "os.makedirs(caminho_base, exist_ok=True)\n",
    "\n",
    "# Tabela 4: Diagnóstico x Ano com Diagnóstico Secundário\n",
    "tabela_4_caminho = f\"{caminho_base}tabela_diagnostico_secundario_sih.xlsx\"\n",
    "\n",
    "# Salvando a Tabela 4 no caminho especificado\n",
    "with ExcelWriter(tabela_4_caminho, engine=\"xlsxwriter\") as writer:\n",
    "    tabela_pandas.to_excel(writer, index=False, sheet_name=\"Tabela Diagnóstico Secundário\")\n",
    "    writer.save()\n",
    "\n",
    "print(f\"Tabela 4 salva em: {tabela_4_caminho}\")"
   ]
  },
  {
   "cell_type": "code",
   "execution_count": 0,
   "metadata": {
    "application/vnd.databricks.v1+cell": {
     "cellMetadata": {
      "byteLimit": 2048000,
      "rowLimit": 10000
     },
     "inputWidgets": {},
     "nuid": "740c2ee3-16be-4afa-9714-19e962d93fac",
     "showTitle": false,
     "tableResultSettingsMap": {},
     "title": ""
    }
   },
   "outputs": [],
   "source": [
    "from pyspark.sql import functions as F\n",
    "\n",
    "# Agrupando por Categoria Secundária e ajustando a tabela\n",
    "tabela_reformatada = (\n",
    "    tabela_diagnostico_secundario\n",
    "    .groupBy(\"CATEGORIA_SECUNDARIA\")\n",
    "    .agg(\n",
    "        F.sum(\"2021_n\").alias(\"2021_n\"),\n",
    "        F.avg(\"2021_Percentual\").alias(\"2021_%\"),\n",
    "        F.avg(\"2021_Taxa\").alias(\"2021_Taxa (100.000 hab)\"),\n",
    "        F.sum(\"2022_n\").alias(\"2022_n\"),\n",
    "        F.avg(\"2022_Percentual\").alias(\"2022_%\"),\n",
    "        F.avg(\"2022_Taxa\").alias(\"2022_Taxa (100.000 hab)\"),\n",
    "        F.sum(\"2023_n\").alias(\"2023_n\"),\n",
    "        F.avg(\"2023_Percentual\").alias(\"2023_%\"),\n",
    "        F.avg(\"2023_Taxa\").alias(\"2023_Taxa (100.000 hab)\"),\n",
    "        F.sum(\"2024_n\").alias(\"2024_n\"),\n",
    "        F.avg(\"2024_Percentual\").alias(\"2024_%\"),\n",
    "        F.avg(\"2024_Taxa\").alias(\"2024_Taxa (100.000 hab)\")\n",
    "    )\n",
    "    .orderBy(\"CATEGORIA_SECUNDARIA\")\n",
    ")\n",
    "\n",
    "# Convertendo para Pandas para ajustes no formato\n",
    "tabela_pandas = tabela_reformatada.toPandas()\n",
    "\n",
    "# Ajustando o cabeçalho para strings simples\n",
    "tabela_pandas.columns = [\n",
    "    \"Categoria Secundária\",\n",
    "    \"2021_n\", \"2021_%\", \"2021_Taxa (100.000 hab)\",\n",
    "    \"2022_n\", \"2022_%\", \"2022_Taxa (100.000 hab)\",\n",
    "    \"2023_n\", \"2023_%\", \"2023_Taxa (100.000 hab)\",\n",
    "    \"2024_n\", \"2024_%\", \"2024_Taxa (100.000 hab)\"\n",
    "]\n",
    "\n",
    "# Salvando os arquivos\n",
    "caminho_csv = \"/Workspace/Users/dayanna.quintanilha@afya.com.br/tabela_agravo_formatada.csv\"\n",
    "caminho_excel = \"/Workspace/Users/dayanna.quintanilha@afya.com.br/tabela_agravo_formatada.xlsx\"\n",
    "\n",
    "# Salvando em CSV\n",
    "tabela_pandas.to_csv(caminho_csv, index=False, encoding=\"utf-8\")\n"
   ]
  },
  {
   "cell_type": "code",
   "execution_count": 0,
   "metadata": {
    "application/vnd.databricks.v1+cell": {
     "cellMetadata": {
      "byteLimit": 2048000,
      "rowLimit": 10000
     },
     "inputWidgets": {},
     "nuid": "71901dec-1655-45d2-913b-8f51c059167d",
     "showTitle": false,
     "tableResultSettingsMap": {},
     "title": ""
    }
   },
   "outputs": [
    {
     "output_type": "stream",
     "name": "stdout",
     "output_type": "stream",
     "text": [
      "+------------------------+------+-------------------+-----------------------+------+-------------------+-----------------------+------+-------------------+-----------------------+------+-------------------+-----------------------+\n|CATEGORIA_SECUNDARIA    |2021_n|2021_%             |2021_Taxa (100.000 hab)|2022_n|2022_%             |2022_Taxa (100.000 hab)|2023_n|2023_%             |2023_Taxa (100.000 hab)|2024_n|2024_%             |2024_Taxa (100.000 hab)|\n+------------------------+------+-------------------+-----------------------+------+-------------------+-----------------------+------+-------------------+-----------------------+------+-------------------+-----------------------+\n|NULL                    |82166 |0.09512820512820509|0.9871794871794873     |134305|0.19634146341463413|1.52390243902439       |148219|0.2314999999999999 |1.7135000000000002     |201357|0.4917948717948721 |2.371025641025642      |\n|Arboviroses             |295   |0.01               |0.14                   |1042  |0.06               |0.49                   |765   |0.025              |0.175                  |478   |0.025              |0.11                   |\n|Asma                    |51628 |0.5825             |6.05                   |75815 |1.135              |8.8225                 |79377 |1.24               |9.174999999999999      |37715 |0.9025             |4.33                   |\n|DPOC                    |52535 |0.595              |6.1575                 |81649 |1.2225000000000001 |9.5                    |79736 |1.2475             |9.2175                 |47532 |1.135              |5.4575000000000005     |\n|Diabetes                |21663 |0.07615384615384614|0.7807692307692308     |23544 |0.10923076923076923|0.8430769230769232     |26317 |0.12769230769230772|0.9361538461538464     |15950 |0.11615384615384619|0.5630769230769231     |\n|Doença do trato urinário|13968 |0.10333333333333333|1.0916666666666666     |18194 |0.18333333333333335|1.4133333333333333     |22189 |0.23               |1.7099999999999997     |13514 |0.215              |1.0333333333333334     |\n|Doença por calor        |8     |0.0                |0.0                    |6     |0.0                |0.0                    |9     |0.0                |0.0                    |12    |0.0                |0.005                  |\n|Doença renal            |111400|0.6275000000000001 |6.5275                 |133640|1.00125            |7.77625                |148813|1.16375            |8.6                    |86273 |1.0287499999999998 |4.95375                |\n|Doenças cardíacas       |303273|1.37               |14.217999999999998     |353669|2.1199999999999997 |16.461999999999996     |364372|2.2780000000000005 |16.847999999999995     |211883|2.021              |9.733                  |\n|Influenza               |19935 |0.14833333333333334|1.5583333333333333     |29886 |0.2966666666666667 |2.3183333333333334     |23619 |0.245              |1.8199999999999996     |13415 |0.215              |1.0266666666666666     |\n+------------------------+------+-------------------+-----------------------+------+-------------------+-----------------------+------+-------------------+-----------------------+------+-------------------+-----------------------+\nonly showing top 10 rows\n\nTotal de registros após agrupamento: 14\n  CATEGORIA_SECUNDARIA  2021_n  ...    2024_%  2024_Taxa (100.000 hab)\n0                 None   82166  ...  0.491795                 2.371026\n1          Arboviroses     295  ...  0.025000                 0.110000\n2                 Asma   51628  ...  0.902500                 4.330000\n3                 DPOC   52535  ...  1.135000                 5.457500\n4             Diabetes   21663  ...  0.116154                 0.563077\n\n[5 rows x 13 columns]\nTotal de registros no DataFrame Pandas: 14\nTabela salva no formato solicitado em CSV: /Workspace/Users/dayanna.quintanilha@afya.com.br/tabela_agravo_formatada.csv\nTabela salva no formato solicitado em Excel: /Workspace/Users/dayanna.quintanilha@afya.com.br/tabela_agravo_formatada.xlsx\n"
     ]
    }
   ],
   "source": [
    "from pyspark.sql import functions as F\n",
    "\n",
    "# Agrupando por Categoria Secundária\n",
    "tabela_reformatada = (\n",
    "    tabela_diagnostico_secundario\n",
    "    .groupBy(\"CATEGORIA_SECUNDARIA\")\n",
    "    .agg(\n",
    "        F.sum(\"2021_n\").alias(\"2021_n\"),\n",
    "        F.avg(\"2021_Percentual\").alias(\"2021_%\"),\n",
    "        F.avg(\"2021_Taxa\").alias(\"2021_Taxa (100.000 hab)\"),\n",
    "        F.sum(\"2022_n\").alias(\"2022_n\"),\n",
    "        F.avg(\"2022_Percentual\").alias(\"2022_%\"),\n",
    "        F.avg(\"2022_Taxa\").alias(\"2022_Taxa (100.000 hab)\"),\n",
    "        F.sum(\"2023_n\").alias(\"2023_n\"),\n",
    "        F.avg(\"2023_Percentual\").alias(\"2023_%\"),\n",
    "        F.avg(\"2023_Taxa\").alias(\"2023_Taxa (100.000 hab)\"),\n",
    "        F.sum(\"2024_n\").alias(\"2024_n\"),\n",
    "        F.avg(\"2024_Percentual\").alias(\"2024_%\"),\n",
    "        F.avg(\"2024_Taxa\").alias(\"2024_Taxa (100.000 hab)\")\n",
    "    )\n",
    "    .orderBy(\"CATEGORIA_SECUNDARIA\")\n",
    ")\n",
    "\n",
    "# Verificar o conteúdo após o agrupamento\n",
    "tabela_reformatada.show(10, truncate=False)\n",
    "print(f\"Total de registros após agrupamento: {tabela_reformatada.count()}\")\n",
    "\n",
    "# Convertendo para Pandas para ajustes no formato\n",
    "tabela_pandas = tabela_reformatada.toPandas()\n",
    "\n",
    "# Verificar o conteúdo do DataFrame Pandas\n",
    "print(tabela_pandas.head())\n",
    "print(f\"Total de registros no DataFrame Pandas: {len(tabela_pandas)}\")\n",
    "\n",
    "# Ajustando o cabeçalho para strings simples\n",
    "tabela_pandas.columns = [\n",
    "    \"Categoria Secundária\",\n",
    "    \"2021_n\", \"2021_%\", \"2021_Taxa (100.000 hab)\",\n",
    "    \"2022_n\", \"2022_%\", \"2022_Taxa (100.000 hab)\",\n",
    "    \"2023_n\", \"2023_%\", \"2023_Taxa (100.000 hab)\",\n",
    "    \"2024_n\", \"2024_%\", \"2024_Taxa (100.000 hab)\"\n",
    "]\n",
    "\n",
    "# Salvando os arquivos\n",
    "caminho_csv = \"/Workspace/Users/dayanna.quintanilha@afya.com.br/tabela_agravo_formatada.csv\"\n",
    "caminho_excel = \"/Workspace/Users/dayanna.quintanilha@afya.com.br/tabela_agravo_formatada.xlsx\"\n",
    "\n",
    "# Salvando em CSV\n",
    "tabela_pandas.to_csv(caminho_csv, index=False, encoding=\"utf-8\")\n",
    "\n",
    "# Salvando em Excel\n",
    "with pd.ExcelWriter(caminho_excel, engine=\"xlsxwriter\") as writer:\n",
    "    tabela_pandas.to_excel(writer, index=False, sheet_name=\"Tabela Agravo x Ano\")\n",
    "\n",
    "print(f\"Tabela salva no formato solicitado em CSV: {caminho_csv}\")\n",
    "print(f\"Tabela salva no formato solicitado em Excel: {caminho_excel}\")\n"
   ]
  },
  {
   "cell_type": "code",
   "execution_count": 0,
   "metadata": {
    "application/vnd.databricks.v1+cell": {
     "cellMetadata": {
      "byteLimit": 2048000,
      "rowLimit": 10000
     },
     "inputWidgets": {},
     "nuid": "a0f3b5a7-ba43-46d3-8912-53b16e25f868",
     "showTitle": false,
     "tableResultSettingsMap": {},
     "title": ""
    }
   },
   "outputs": [
    {
     "output_type": "stream",
     "name": "stdout",
     "output_type": "stream",
     "text": [
      "Primeiras linhas do DataFrame após adicionar o ano:\n   access_date                      content_main_theme access_state  count   ano\n0  2021-01-01                                    Asma           SP     29  2021\n1  2021-01-01      Doença pulmonar obstrutiva crônica           PE      2  2021\n2  2021-01-01                                Covid-19           PE     14  2021\n3  2021-01-01                                Covid-19           RS     32  2021\n4  2021-01-01  Acidente vascular encefálico isquêmico           SP     26  2021\n"
     ]
    },
    {
     "output_type": "display_data",
     "data": {
      "text/plain": [
       "\u001B[0;31m---------------------------------------------------------------------------\u001B[0m\n",
       "\u001B[0;31mModuleNotFoundError\u001B[0m                       Traceback (most recent call last)\n",
       "File \u001B[0;32m<command-3650798557410422>, line 39\u001B[0m\n",
       "\u001B[1;32m     37\u001B[0m \u001B[38;5;66;03m# Salvar os resultados em Excel\u001B[39;00m\n",
       "\u001B[1;32m     38\u001B[0m caminho_excel \u001B[38;5;241m=\u001B[39m \u001B[38;5;124m\"\u001B[39m\u001B[38;5;124m/Workspace/Users/dayanna.quintanilha@afya.com.br/tabela_agravo_formatada.xlsx\u001B[39m\u001B[38;5;124m\"\u001B[39m\n",
       "\u001B[0;32m---> 39\u001B[0m tabela_acessos\u001B[38;5;241m.\u001B[39mto_excel(caminho_excel, index\u001B[38;5;241m=\u001B[39m\u001B[38;5;28;01mFalse\u001B[39;00m, sheet_name\u001B[38;5;241m=\u001B[39m\u001B[38;5;124m\"\u001B[39m\u001B[38;5;124mAcessos por Ano\u001B[39m\u001B[38;5;124m\"\u001B[39m)\n",
       "\u001B[1;32m     41\u001B[0m \u001B[38;5;28mprint\u001B[39m(\u001B[38;5;124mf\u001B[39m\u001B[38;5;124m\"\u001B[39m\u001B[38;5;124mTabela de análise de acessos por ano salva em: \u001B[39m\u001B[38;5;132;01m{\u001B[39;00moutput_path\u001B[38;5;132;01m}\u001B[39;00m\u001B[38;5;124m\"\u001B[39m)\n",
       "\u001B[1;32m     43\u001B[0m \u001B[38;5;66;03m# Exibir a tabela final\u001B[39;00m\n",
       "\n",
       "File \u001B[0;32m/databricks/python/lib/python3.11/site-packages/pandas/util/_decorators.py:211\u001B[0m, in \u001B[0;36mdeprecate_kwarg.<locals>._deprecate_kwarg.<locals>.wrapper\u001B[0;34m(*args, **kwargs)\u001B[0m\n",
       "\u001B[1;32m    209\u001B[0m     \u001B[38;5;28;01melse\u001B[39;00m:\n",
       "\u001B[1;32m    210\u001B[0m         kwargs[new_arg_name] \u001B[38;5;241m=\u001B[39m new_arg_value\n",
       "\u001B[0;32m--> 211\u001B[0m \u001B[38;5;28;01mreturn\u001B[39;00m func(\u001B[38;5;241m*\u001B[39margs, \u001B[38;5;241m*\u001B[39m\u001B[38;5;241m*\u001B[39mkwargs)\n",
       "\n",
       "File \u001B[0;32m/databricks/python/lib/python3.11/site-packages/pandas/util/_decorators.py:211\u001B[0m, in \u001B[0;36mdeprecate_kwarg.<locals>._deprecate_kwarg.<locals>.wrapper\u001B[0;34m(*args, **kwargs)\u001B[0m\n",
       "\u001B[1;32m    209\u001B[0m     \u001B[38;5;28;01melse\u001B[39;00m:\n",
       "\u001B[1;32m    210\u001B[0m         kwargs[new_arg_name] \u001B[38;5;241m=\u001B[39m new_arg_value\n",
       "\u001B[0;32m--> 211\u001B[0m \u001B[38;5;28;01mreturn\u001B[39;00m func(\u001B[38;5;241m*\u001B[39margs, \u001B[38;5;241m*\u001B[39m\u001B[38;5;241m*\u001B[39mkwargs)\n",
       "\n",
       "File \u001B[0;32m/databricks/python/lib/python3.11/site-packages/pandas/core/generic.py:2374\u001B[0m, in \u001B[0;36mNDFrame.to_excel\u001B[0;34m(self, excel_writer, sheet_name, na_rep, float_format, columns, header, index, index_label, startrow, startcol, engine, merge_cells, encoding, inf_rep, verbose, freeze_panes, storage_options)\u001B[0m\n",
       "\u001B[1;32m   2361\u001B[0m \u001B[38;5;28;01mfrom\u001B[39;00m \u001B[38;5;21;01mpandas\u001B[39;00m\u001B[38;5;21;01m.\u001B[39;00m\u001B[38;5;21;01mio\u001B[39;00m\u001B[38;5;21;01m.\u001B[39;00m\u001B[38;5;21;01mformats\u001B[39;00m\u001B[38;5;21;01m.\u001B[39;00m\u001B[38;5;21;01mexcel\u001B[39;00m \u001B[38;5;28;01mimport\u001B[39;00m ExcelFormatter\n",
       "\u001B[1;32m   2363\u001B[0m formatter \u001B[38;5;241m=\u001B[39m ExcelFormatter(\n",
       "\u001B[1;32m   2364\u001B[0m     df,\n",
       "\u001B[1;32m   2365\u001B[0m     na_rep\u001B[38;5;241m=\u001B[39mna_rep,\n",
       "\u001B[0;32m   (...)\u001B[0m\n",
       "\u001B[1;32m   2372\u001B[0m     inf_rep\u001B[38;5;241m=\u001B[39minf_rep,\n",
       "\u001B[1;32m   2373\u001B[0m )\n",
       "\u001B[0;32m-> 2374\u001B[0m formatter\u001B[38;5;241m.\u001B[39mwrite(\n",
       "\u001B[1;32m   2375\u001B[0m     excel_writer,\n",
       "\u001B[1;32m   2376\u001B[0m     sheet_name\u001B[38;5;241m=\u001B[39msheet_name,\n",
       "\u001B[1;32m   2377\u001B[0m     startrow\u001B[38;5;241m=\u001B[39mstartrow,\n",
       "\u001B[1;32m   2378\u001B[0m     startcol\u001B[38;5;241m=\u001B[39mstartcol,\n",
       "\u001B[1;32m   2379\u001B[0m     freeze_panes\u001B[38;5;241m=\u001B[39mfreeze_panes,\n",
       "\u001B[1;32m   2380\u001B[0m     engine\u001B[38;5;241m=\u001B[39mengine,\n",
       "\u001B[1;32m   2381\u001B[0m     storage_options\u001B[38;5;241m=\u001B[39mstorage_options,\n",
       "\u001B[1;32m   2382\u001B[0m )\n",
       "\n",
       "File \u001B[0;32m/databricks/python/lib/python3.11/site-packages/pandas/io/formats/excel.py:944\u001B[0m, in \u001B[0;36mExcelFormatter.write\u001B[0;34m(self, writer, sheet_name, startrow, startcol, freeze_panes, engine, storage_options)\u001B[0m\n",
       "\u001B[1;32m    940\u001B[0m     need_save \u001B[38;5;241m=\u001B[39m \u001B[38;5;28;01mFalse\u001B[39;00m\n",
       "\u001B[1;32m    941\u001B[0m \u001B[38;5;28;01melse\u001B[39;00m:\n",
       "\u001B[1;32m    942\u001B[0m     \u001B[38;5;66;03m# error: Cannot instantiate abstract class 'ExcelWriter' with abstract\u001B[39;00m\n",
       "\u001B[1;32m    943\u001B[0m     \u001B[38;5;66;03m# attributes 'engine', 'save', 'supported_extensions' and 'write_cells'\u001B[39;00m\n",
       "\u001B[0;32m--> 944\u001B[0m     writer \u001B[38;5;241m=\u001B[39m ExcelWriter(  \u001B[38;5;66;03m# type: ignore[abstract]\u001B[39;00m\n",
       "\u001B[1;32m    945\u001B[0m         writer, engine\u001B[38;5;241m=\u001B[39mengine, storage_options\u001B[38;5;241m=\u001B[39mstorage_options\n",
       "\u001B[1;32m    946\u001B[0m     )\n",
       "\u001B[1;32m    947\u001B[0m     need_save \u001B[38;5;241m=\u001B[39m \u001B[38;5;28;01mTrue\u001B[39;00m\n",
       "\u001B[1;32m    949\u001B[0m \u001B[38;5;28;01mtry\u001B[39;00m:\n",
       "\n",
       "File \u001B[0;32m/databricks/python/lib/python3.11/site-packages/pandas/io/excel/_openpyxl.py:56\u001B[0m, in \u001B[0;36mOpenpyxlWriter.__init__\u001B[0;34m(self, path, engine, date_format, datetime_format, mode, storage_options, if_sheet_exists, engine_kwargs, **kwargs)\u001B[0m\n",
       "\u001B[1;32m     43\u001B[0m \u001B[38;5;28;01mdef\u001B[39;00m \u001B[38;5;21m__init__\u001B[39m(\n",
       "\u001B[1;32m     44\u001B[0m     \u001B[38;5;28mself\u001B[39m,\n",
       "\u001B[1;32m     45\u001B[0m     path: FilePath \u001B[38;5;241m|\u001B[39m WriteExcelBuffer \u001B[38;5;241m|\u001B[39m ExcelWriter,\n",
       "\u001B[0;32m   (...)\u001B[0m\n",
       "\u001B[1;32m     54\u001B[0m ) \u001B[38;5;241m-\u001B[39m\u001B[38;5;241m>\u001B[39m \u001B[38;5;28;01mNone\u001B[39;00m:\n",
       "\u001B[1;32m     55\u001B[0m     \u001B[38;5;66;03m# Use the openpyxl module as the Excel writer.\u001B[39;00m\n",
       "\u001B[0;32m---> 56\u001B[0m     \u001B[38;5;28;01mfrom\u001B[39;00m \u001B[38;5;21;01mopenpyxl\u001B[39;00m\u001B[38;5;21;01m.\u001B[39;00m\u001B[38;5;21;01mworkbook\u001B[39;00m \u001B[38;5;28;01mimport\u001B[39;00m Workbook\n",
       "\u001B[1;32m     58\u001B[0m     engine_kwargs \u001B[38;5;241m=\u001B[39m combine_kwargs(engine_kwargs, kwargs)\n",
       "\u001B[1;32m     60\u001B[0m     \u001B[38;5;28msuper\u001B[39m()\u001B[38;5;241m.\u001B[39m\u001B[38;5;21m__init__\u001B[39m(\n",
       "\u001B[1;32m     61\u001B[0m         path,\n",
       "\u001B[1;32m     62\u001B[0m         mode\u001B[38;5;241m=\u001B[39mmode,\n",
       "\u001B[0;32m   (...)\u001B[0m\n",
       "\u001B[1;32m     65\u001B[0m         engine_kwargs\u001B[38;5;241m=\u001B[39mengine_kwargs,\n",
       "\u001B[1;32m     66\u001B[0m     )\n",
       "\n",
       "\u001B[0;31mModuleNotFoundError\u001B[0m: No module named 'openpyxl'"
      ]
     },
     "metadata": {
      "application/vnd.databricks.v1+output": {
       "addedWidgets": {},
       "arguments": {},
       "datasetInfos": [],
       "jupyterProps": {
        "ename": "ModuleNotFoundError",
        "evalue": "No module named 'openpyxl'"
       },
       "metadata": {
        "errorSummary": "<span class='ansi-red-fg'>ModuleNotFoundError</span>: No module named 'openpyxl'"
       },
       "removedWidgets": [],
       "sqlProps": null,
       "stackFrames": [
        "\u001B[0;31m---------------------------------------------------------------------------\u001B[0m",
        "\u001B[0;31mModuleNotFoundError\u001B[0m                       Traceback (most recent call last)",
        "File \u001B[0;32m<command-3650798557410422>, line 39\u001B[0m\n\u001B[1;32m     37\u001B[0m \u001B[38;5;66;03m# Salvar os resultados em Excel\u001B[39;00m\n\u001B[1;32m     38\u001B[0m caminho_excel \u001B[38;5;241m=\u001B[39m \u001B[38;5;124m\"\u001B[39m\u001B[38;5;124m/Workspace/Users/dayanna.quintanilha@afya.com.br/tabela_agravo_formatada.xlsx\u001B[39m\u001B[38;5;124m\"\u001B[39m\n\u001B[0;32m---> 39\u001B[0m tabela_acessos\u001B[38;5;241m.\u001B[39mto_excel(caminho_excel, index\u001B[38;5;241m=\u001B[39m\u001B[38;5;28;01mFalse\u001B[39;00m, sheet_name\u001B[38;5;241m=\u001B[39m\u001B[38;5;124m\"\u001B[39m\u001B[38;5;124mAcessos por Ano\u001B[39m\u001B[38;5;124m\"\u001B[39m)\n\u001B[1;32m     41\u001B[0m \u001B[38;5;28mprint\u001B[39m(\u001B[38;5;124mf\u001B[39m\u001B[38;5;124m\"\u001B[39m\u001B[38;5;124mTabela de análise de acessos por ano salva em: \u001B[39m\u001B[38;5;132;01m{\u001B[39;00moutput_path\u001B[38;5;132;01m}\u001B[39;00m\u001B[38;5;124m\"\u001B[39m)\n\u001B[1;32m     43\u001B[0m \u001B[38;5;66;03m# Exibir a tabela final\u001B[39;00m\n",
        "File \u001B[0;32m/databricks/python/lib/python3.11/site-packages/pandas/util/_decorators.py:211\u001B[0m, in \u001B[0;36mdeprecate_kwarg.<locals>._deprecate_kwarg.<locals>.wrapper\u001B[0;34m(*args, **kwargs)\u001B[0m\n\u001B[1;32m    209\u001B[0m     \u001B[38;5;28;01melse\u001B[39;00m:\n\u001B[1;32m    210\u001B[0m         kwargs[new_arg_name] \u001B[38;5;241m=\u001B[39m new_arg_value\n\u001B[0;32m--> 211\u001B[0m \u001B[38;5;28;01mreturn\u001B[39;00m func(\u001B[38;5;241m*\u001B[39margs, \u001B[38;5;241m*\u001B[39m\u001B[38;5;241m*\u001B[39mkwargs)\n",
        "File \u001B[0;32m/databricks/python/lib/python3.11/site-packages/pandas/util/_decorators.py:211\u001B[0m, in \u001B[0;36mdeprecate_kwarg.<locals>._deprecate_kwarg.<locals>.wrapper\u001B[0;34m(*args, **kwargs)\u001B[0m\n\u001B[1;32m    209\u001B[0m     \u001B[38;5;28;01melse\u001B[39;00m:\n\u001B[1;32m    210\u001B[0m         kwargs[new_arg_name] \u001B[38;5;241m=\u001B[39m new_arg_value\n\u001B[0;32m--> 211\u001B[0m \u001B[38;5;28;01mreturn\u001B[39;00m func(\u001B[38;5;241m*\u001B[39margs, \u001B[38;5;241m*\u001B[39m\u001B[38;5;241m*\u001B[39mkwargs)\n",
        "File \u001B[0;32m/databricks/python/lib/python3.11/site-packages/pandas/core/generic.py:2374\u001B[0m, in \u001B[0;36mNDFrame.to_excel\u001B[0;34m(self, excel_writer, sheet_name, na_rep, float_format, columns, header, index, index_label, startrow, startcol, engine, merge_cells, encoding, inf_rep, verbose, freeze_panes, storage_options)\u001B[0m\n\u001B[1;32m   2361\u001B[0m \u001B[38;5;28;01mfrom\u001B[39;00m \u001B[38;5;21;01mpandas\u001B[39;00m\u001B[38;5;21;01m.\u001B[39;00m\u001B[38;5;21;01mio\u001B[39;00m\u001B[38;5;21;01m.\u001B[39;00m\u001B[38;5;21;01mformats\u001B[39;00m\u001B[38;5;21;01m.\u001B[39;00m\u001B[38;5;21;01mexcel\u001B[39;00m \u001B[38;5;28;01mimport\u001B[39;00m ExcelFormatter\n\u001B[1;32m   2363\u001B[0m formatter \u001B[38;5;241m=\u001B[39m ExcelFormatter(\n\u001B[1;32m   2364\u001B[0m     df,\n\u001B[1;32m   2365\u001B[0m     na_rep\u001B[38;5;241m=\u001B[39mna_rep,\n\u001B[0;32m   (...)\u001B[0m\n\u001B[1;32m   2372\u001B[0m     inf_rep\u001B[38;5;241m=\u001B[39minf_rep,\n\u001B[1;32m   2373\u001B[0m )\n\u001B[0;32m-> 2374\u001B[0m formatter\u001B[38;5;241m.\u001B[39mwrite(\n\u001B[1;32m   2375\u001B[0m     excel_writer,\n\u001B[1;32m   2376\u001B[0m     sheet_name\u001B[38;5;241m=\u001B[39msheet_name,\n\u001B[1;32m   2377\u001B[0m     startrow\u001B[38;5;241m=\u001B[39mstartrow,\n\u001B[1;32m   2378\u001B[0m     startcol\u001B[38;5;241m=\u001B[39mstartcol,\n\u001B[1;32m   2379\u001B[0m     freeze_panes\u001B[38;5;241m=\u001B[39mfreeze_panes,\n\u001B[1;32m   2380\u001B[0m     engine\u001B[38;5;241m=\u001B[39mengine,\n\u001B[1;32m   2381\u001B[0m     storage_options\u001B[38;5;241m=\u001B[39mstorage_options,\n\u001B[1;32m   2382\u001B[0m )\n",
        "File \u001B[0;32m/databricks/python/lib/python3.11/site-packages/pandas/io/formats/excel.py:944\u001B[0m, in \u001B[0;36mExcelFormatter.write\u001B[0;34m(self, writer, sheet_name, startrow, startcol, freeze_panes, engine, storage_options)\u001B[0m\n\u001B[1;32m    940\u001B[0m     need_save \u001B[38;5;241m=\u001B[39m \u001B[38;5;28;01mFalse\u001B[39;00m\n\u001B[1;32m    941\u001B[0m \u001B[38;5;28;01melse\u001B[39;00m:\n\u001B[1;32m    942\u001B[0m     \u001B[38;5;66;03m# error: Cannot instantiate abstract class 'ExcelWriter' with abstract\u001B[39;00m\n\u001B[1;32m    943\u001B[0m     \u001B[38;5;66;03m# attributes 'engine', 'save', 'supported_extensions' and 'write_cells'\u001B[39;00m\n\u001B[0;32m--> 944\u001B[0m     writer \u001B[38;5;241m=\u001B[39m ExcelWriter(  \u001B[38;5;66;03m# type: ignore[abstract]\u001B[39;00m\n\u001B[1;32m    945\u001B[0m         writer, engine\u001B[38;5;241m=\u001B[39mengine, storage_options\u001B[38;5;241m=\u001B[39mstorage_options\n\u001B[1;32m    946\u001B[0m     )\n\u001B[1;32m    947\u001B[0m     need_save \u001B[38;5;241m=\u001B[39m \u001B[38;5;28;01mTrue\u001B[39;00m\n\u001B[1;32m    949\u001B[0m \u001B[38;5;28;01mtry\u001B[39;00m:\n",
        "File \u001B[0;32m/databricks/python/lib/python3.11/site-packages/pandas/io/excel/_openpyxl.py:56\u001B[0m, in \u001B[0;36mOpenpyxlWriter.__init__\u001B[0;34m(self, path, engine, date_format, datetime_format, mode, storage_options, if_sheet_exists, engine_kwargs, **kwargs)\u001B[0m\n\u001B[1;32m     43\u001B[0m \u001B[38;5;28;01mdef\u001B[39;00m \u001B[38;5;21m__init__\u001B[39m(\n\u001B[1;32m     44\u001B[0m     \u001B[38;5;28mself\u001B[39m,\n\u001B[1;32m     45\u001B[0m     path: FilePath \u001B[38;5;241m|\u001B[39m WriteExcelBuffer \u001B[38;5;241m|\u001B[39m ExcelWriter,\n\u001B[0;32m   (...)\u001B[0m\n\u001B[1;32m     54\u001B[0m ) \u001B[38;5;241m-\u001B[39m\u001B[38;5;241m>\u001B[39m \u001B[38;5;28;01mNone\u001B[39;00m:\n\u001B[1;32m     55\u001B[0m     \u001B[38;5;66;03m# Use the openpyxl module as the Excel writer.\u001B[39;00m\n\u001B[0;32m---> 56\u001B[0m     \u001B[38;5;28;01mfrom\u001B[39;00m \u001B[38;5;21;01mopenpyxl\u001B[39;00m\u001B[38;5;21;01m.\u001B[39;00m\u001B[38;5;21;01mworkbook\u001B[39;00m \u001B[38;5;28;01mimport\u001B[39;00m Workbook\n\u001B[1;32m     58\u001B[0m     engine_kwargs \u001B[38;5;241m=\u001B[39m combine_kwargs(engine_kwargs, kwargs)\n\u001B[1;32m     60\u001B[0m     \u001B[38;5;28msuper\u001B[39m()\u001B[38;5;241m.\u001B[39m\u001B[38;5;21m__init__\u001B[39m(\n\u001B[1;32m     61\u001B[0m         path,\n\u001B[1;32m     62\u001B[0m         mode\u001B[38;5;241m=\u001B[39mmode,\n\u001B[0;32m   (...)\u001B[0m\n\u001B[1;32m     65\u001B[0m         engine_kwargs\u001B[38;5;241m=\u001B[39mengine_kwargs,\n\u001B[1;32m     66\u001B[0m     )\n",
        "\u001B[0;31mModuleNotFoundError\u001B[0m: No module named 'openpyxl'"
       ],
       "type": "baseError"
      }
     },
     "output_type": "display_data"
    }
   ],
   "source": [
    "import pandas as pd\n",
    "\n",
    "# Certificar-se de que access_date é do tipo datetime\n",
    "wb_micro_pandas_uf_group['access_date'] = pd.to_datetime(wb_micro_pandas_uf_group['access_date'], errors='coerce')\n",
    "\n",
    "# Criar uma nova coluna para o ano\n",
    "wb_micro_pandas_uf_group['ano'] = wb_micro_pandas_uf_group['access_date'].dt.year\n",
    "\n",
    "# Verificar os dados carregados\n",
    "print(\"Primeiras linhas do DataFrame após adicionar o ano:\\n\", wb_micro_pandas_uf_group.head())\n",
    "\n",
    "# Filtrar os anos relevantes\n",
    "anos_relevantes = [2021, 2022, 2023, 2024]\n",
    "wb_micro_pandas_uf_group = wb_micro_pandas_uf_group[wb_micro_pandas_uf_group['ano'].isin(anos_relevantes)]\n",
    "\n",
    "# Pivotar os dados para criar a tabela com os acessos por estado e ano\n",
    "tabela_acessos = wb_micro_pandas_uf_group.pivot_table(\n",
    "    index='access_state',  # Coluna representando os estados\n",
    "    columns='ano',         # Coluna representando os anos\n",
    "    values='count',        # Coluna representando o número de acessos\n",
    "    aggfunc='sum',         # Somar os acessos por estado e ano\n",
    "    fill_value=0           # Substituir valores ausentes por 0\n",
    ")\n",
    "\n",
    "# Renomear as colunas para garantir que os anos sejam strings\n",
    "tabela_acessos.columns = tabela_acessos.columns.astype(str)\n",
    "\n",
    "# Resetar o índice para que access_state se torne uma coluna\n",
    "tabela_acessos.reset_index(inplace=True)\n",
    "\n",
    "# Adicionar uma coluna de soma total de acessos\n",
    "tabela_acessos['Total'] = tabela_acessos.iloc[:, 1:].sum(axis=1)\n",
    "\n",
    "# Ordenar pela soma total de acessos em ordem decrescente\n",
    "tabela_acessos = tabela_acessos.sort_values(by='Total', ascending=False)\n",
    "\n",
    "# Salvar os resultados em Excel\n",
    "caminho_excel = \"/Workspace/Users/dayanna.quintanilha@afya.com.br/tabela_agravo_formatada.xlsx\"\n",
    "tabela_acessos.to_excel(caminho_excel, index=False, sheet_name=\"Acessos por Ano\")\n",
    "\n",
    "print(f\"Tabela de análise de acessos por ano salva em: {output_path}\")\n",
    "\n",
    "# Exibir a tabela final\n",
    "print(tabela_acessos)\n"
   ]
  },
  {
   "cell_type": "code",
   "execution_count": 0,
   "metadata": {
    "application/vnd.databricks.v1+cell": {
     "cellMetadata": {
      "byteLimit": 2048000,
      "rowLimit": 10000
     },
     "inputWidgets": {},
     "nuid": "827b3455-0b0b-44f9-b2c0-27d962b8141c",
     "showTitle": false,
     "tableResultSettingsMap": {},
     "title": ""
    }
   },
   "outputs": [
    {
     "output_type": "stream",
     "name": "stdout",
     "output_type": "stream",
     "text": [
      "\u001B[43mNote: you may need to restart the kernel using %restart_python or dbutils.library.restartPython() to use updated packages.\u001B[0m\nRequirement already satisfied: openpyxl in /local_disk0/.ephemeral_nfs/envs/pythonEnv-465db0d4-ee63-442e-97b7-9d42e4a1f6f1/lib/python3.11/site-packages (3.1.5)\nRequirement already satisfied: et-xmlfile in /local_disk0/.ephemeral_nfs/envs/pythonEnv-465db0d4-ee63-442e-97b7-9d42e4a1f6f1/lib/python3.11/site-packages (from openpyxl) (2.0.0)\n\u001B[43mNote: you may need to restart the kernel using %restart_python or dbutils.library.restartPython() to use updated packages.\u001B[0m\nPrimeiras linhas do DataFrame após adicionar o ano:\n   access_date                      content_main_theme access_state  count   ano\n0  2021-01-01                                    Asma           SP     29  2021\n1  2021-01-01      Doença pulmonar obstrutiva crônica           PE      2  2021\n2  2021-01-01                                Covid-19           PE     14  2021\n3  2021-01-01                                Covid-19           RS     32  2021\n4  2021-01-01  Acidente vascular encefálico isquêmico           SP     26  2021\n"
     ]
    },
    {
     "output_type": "display_data",
     "data": {
      "text/plain": [
       "\u001B[0;31m---------------------------------------------------------------------------\u001B[0m\n",
       "\u001B[0;31mModuleNotFoundError\u001B[0m                       Traceback (most recent call last)\n",
       "File \u001B[0;32m<command-3650798557410437>, line 55\u001B[0m\n",
       "\u001B[1;32m     52\u001B[0m tabela_5_caminho \u001B[38;5;241m=\u001B[39m \u001B[38;5;124mf\u001B[39m\u001B[38;5;124m\"\u001B[39m\u001B[38;5;132;01m{\u001B[39;00mcaminho_base\u001B[38;5;132;01m}\u001B[39;00m\u001B[38;5;124macessos_WB_estado.xlsx\u001B[39m\u001B[38;5;124m\"\u001B[39m\n",
       "\u001B[1;32m     54\u001B[0m \u001B[38;5;66;03m# Salvando a Tabela 5 no caminho especificado\u001B[39;00m\n",
       "\u001B[0;32m---> 55\u001B[0m \u001B[38;5;28;01mwith\u001B[39;00m ExcelWriter(tabela_5_caminho, engine\u001B[38;5;241m=\u001B[39m\u001B[38;5;124m\"\u001B[39m\u001B[38;5;124mxlsxwriter\u001B[39m\u001B[38;5;124m\"\u001B[39m) \u001B[38;5;28;01mas\u001B[39;00m writer:\n",
       "\u001B[1;32m     56\u001B[0m     tabela_pandas\u001B[38;5;241m.\u001B[39mto_excel(writer, index\u001B[38;5;241m=\u001B[39m\u001B[38;5;28;01mFalse\u001B[39;00m, sheet_name\u001B[38;5;241m=\u001B[39m\u001B[38;5;124m\"\u001B[39m\u001B[38;5;124mAcessos WB\u001B[39m\u001B[38;5;124m\"\u001B[39m)\n",
       "\u001B[1;32m     57\u001B[0m     writer\u001B[38;5;241m.\u001B[39msave()\n",
       "\n",
       "File \u001B[0;32m/databricks/python/lib/python3.11/site-packages/pandas/io/excel/_xlsxwriter.py:198\u001B[0m, in \u001B[0;36mXlsxWriter.__init__\u001B[0;34m(self, path, engine, date_format, datetime_format, mode, storage_options, if_sheet_exists, engine_kwargs, **kwargs)\u001B[0m\n",
       "\u001B[1;32m    185\u001B[0m \u001B[38;5;28;01mdef\u001B[39;00m \u001B[38;5;21m__init__\u001B[39m(\n",
       "\u001B[1;32m    186\u001B[0m     \u001B[38;5;28mself\u001B[39m,\n",
       "\u001B[1;32m    187\u001B[0m     path: FilePath \u001B[38;5;241m|\u001B[39m WriteExcelBuffer \u001B[38;5;241m|\u001B[39m ExcelWriter,\n",
       "\u001B[0;32m   (...)\u001B[0m\n",
       "\u001B[1;32m    196\u001B[0m ) \u001B[38;5;241m-\u001B[39m\u001B[38;5;241m>\u001B[39m \u001B[38;5;28;01mNone\u001B[39;00m:\n",
       "\u001B[1;32m    197\u001B[0m     \u001B[38;5;66;03m# Use the xlsxwriter module as the Excel writer.\u001B[39;00m\n",
       "\u001B[0;32m--> 198\u001B[0m     \u001B[38;5;28;01mfrom\u001B[39;00m \u001B[38;5;21;01mxlsxwriter\u001B[39;00m \u001B[38;5;28;01mimport\u001B[39;00m Workbook\n",
       "\u001B[1;32m    200\u001B[0m     engine_kwargs \u001B[38;5;241m=\u001B[39m combine_kwargs(engine_kwargs, kwargs)\n",
       "\u001B[1;32m    202\u001B[0m     \u001B[38;5;28;01mif\u001B[39;00m mode \u001B[38;5;241m==\u001B[39m \u001B[38;5;124m\"\u001B[39m\u001B[38;5;124ma\u001B[39m\u001B[38;5;124m\"\u001B[39m:\n",
       "\n",
       "\u001B[0;31mModuleNotFoundError\u001B[0m: No module named 'xlsxwriter'"
      ]
     },
     "metadata": {
      "application/vnd.databricks.v1+output": {
       "addedWidgets": {},
       "arguments": {},
       "datasetInfos": [],
       "jupyterProps": {
        "ename": "ModuleNotFoundError",
        "evalue": "No module named 'xlsxwriter'"
       },
       "metadata": {
        "errorSummary": "<span class='ansi-red-fg'>ModuleNotFoundError</span>: No module named 'xlsxwriter'"
       },
       "removedWidgets": [],
       "sqlProps": null,
       "stackFrames": [
        "\u001B[0;31m---------------------------------------------------------------------------\u001B[0m",
        "\u001B[0;31mModuleNotFoundError\u001B[0m                       Traceback (most recent call last)",
        "File \u001B[0;32m<command-3650798557410437>, line 55\u001B[0m\n\u001B[1;32m     52\u001B[0m tabela_5_caminho \u001B[38;5;241m=\u001B[39m \u001B[38;5;124mf\u001B[39m\u001B[38;5;124m\"\u001B[39m\u001B[38;5;132;01m{\u001B[39;00mcaminho_base\u001B[38;5;132;01m}\u001B[39;00m\u001B[38;5;124macessos_WB_estado.xlsx\u001B[39m\u001B[38;5;124m\"\u001B[39m\n\u001B[1;32m     54\u001B[0m \u001B[38;5;66;03m# Salvando a Tabela 5 no caminho especificado\u001B[39;00m\n\u001B[0;32m---> 55\u001B[0m \u001B[38;5;28;01mwith\u001B[39;00m ExcelWriter(tabela_5_caminho, engine\u001B[38;5;241m=\u001B[39m\u001B[38;5;124m\"\u001B[39m\u001B[38;5;124mxlsxwriter\u001B[39m\u001B[38;5;124m\"\u001B[39m) \u001B[38;5;28;01mas\u001B[39;00m writer:\n\u001B[1;32m     56\u001B[0m     tabela_pandas\u001B[38;5;241m.\u001B[39mto_excel(writer, index\u001B[38;5;241m=\u001B[39m\u001B[38;5;28;01mFalse\u001B[39;00m, sheet_name\u001B[38;5;241m=\u001B[39m\u001B[38;5;124m\"\u001B[39m\u001B[38;5;124mAcessos WB\u001B[39m\u001B[38;5;124m\"\u001B[39m)\n\u001B[1;32m     57\u001B[0m     writer\u001B[38;5;241m.\u001B[39msave()\n",
        "File \u001B[0;32m/databricks/python/lib/python3.11/site-packages/pandas/io/excel/_xlsxwriter.py:198\u001B[0m, in \u001B[0;36mXlsxWriter.__init__\u001B[0;34m(self, path, engine, date_format, datetime_format, mode, storage_options, if_sheet_exists, engine_kwargs, **kwargs)\u001B[0m\n\u001B[1;32m    185\u001B[0m \u001B[38;5;28;01mdef\u001B[39;00m \u001B[38;5;21m__init__\u001B[39m(\n\u001B[1;32m    186\u001B[0m     \u001B[38;5;28mself\u001B[39m,\n\u001B[1;32m    187\u001B[0m     path: FilePath \u001B[38;5;241m|\u001B[39m WriteExcelBuffer \u001B[38;5;241m|\u001B[39m ExcelWriter,\n\u001B[0;32m   (...)\u001B[0m\n\u001B[1;32m    196\u001B[0m ) \u001B[38;5;241m-\u001B[39m\u001B[38;5;241m>\u001B[39m \u001B[38;5;28;01mNone\u001B[39;00m:\n\u001B[1;32m    197\u001B[0m     \u001B[38;5;66;03m# Use the xlsxwriter module as the Excel writer.\u001B[39;00m\n\u001B[0;32m--> 198\u001B[0m     \u001B[38;5;28;01mfrom\u001B[39;00m \u001B[38;5;21;01mxlsxwriter\u001B[39;00m \u001B[38;5;28;01mimport\u001B[39;00m Workbook\n\u001B[1;32m    200\u001B[0m     engine_kwargs \u001B[38;5;241m=\u001B[39m combine_kwargs(engine_kwargs, kwargs)\n\u001B[1;32m    202\u001B[0m     \u001B[38;5;28;01mif\u001B[39;00m mode \u001B[38;5;241m==\u001B[39m \u001B[38;5;124m\"\u001B[39m\u001B[38;5;124ma\u001B[39m\u001B[38;5;124m\"\u001B[39m:\n",
        "\u001B[0;31mModuleNotFoundError\u001B[0m: No module named 'xlsxwriter'"
       ],
       "type": "baseError"
      }
     },
     "output_type": "display_data"
    }
   ],
   "source": [
    "%python\n",
    "# Install the openpyxl module\n",
    "%pip install openpyxl\n",
    "\n",
    "import pandas as pd\n",
    "import os\n",
    "from pandas import ExcelWriter\n",
    "\n",
    "# Certificar-se de que access_date é do tipo datetime\n",
    "wb_micro_pandas_uf_group['access_date'] = pd.to_datetime(wb_micro_pandas_uf_group['access_date'], errors='coerce')\n",
    "\n",
    "# Criar uma nova coluna para o ano\n",
    "wb_micro_pandas_uf_group['ano'] = wb_micro_pandas_uf_group['access_date'].dt.year\n",
    "\n",
    "# Verificar os dados carregados\n",
    "print(\"Primeiras linhas do DataFrame após adicionar o ano:\\n\", wb_micro_pandas_uf_group.head())\n",
    "\n",
    "# Filtrar os anos relevantes\n",
    "anos_relevantes = [2021, 2022, 2023, 2024]\n",
    "wb_micro_pandas_uf_group = wb_micro_pandas_uf_group[wb_micro_pandas_uf_group['ano'].isin(anos_relevantes)]\n",
    "\n",
    "# Pivotar os dados para criar a tabela com os acessos por estado e ano\n",
    "tabela_acessos = wb_micro_pandas_uf_group.pivot_table(\n",
    "    index='access_state',  # Coluna representando os estados\n",
    "    columns='ano',         # Coluna representando os anos\n",
    "    values='count',        # Coluna representando o número de acessos\n",
    "    aggfunc='sum',         # Somar os acessos por estado e ano\n",
    "    fill_value=0           # Substituir valores ausentes por 0\n",
    ")\n",
    "\n",
    "# Renomear as colunas para garantir que os anos sejam strings\n",
    "tabela_acessos.columns = tabela_acessos.columns.astype(str)\n",
    "\n",
    "# Resetar o índice para que access_state se torne uma coluna\n",
    "tabela_acessos.reset_index(inplace=True)\n",
    "\n",
    "# Adicionar uma coluna de soma total de acessos\n",
    "tabela_acessos['Total'] = tabela_acessos.iloc[:, 1:].sum(axis=1)\n",
    "\n",
    "# Ordenar pela soma total de acessos em ordem decrescente\n",
    "tabela_acessos = tabela_acessos.sort_values(by='Total', ascending=False)\n",
    "\n",
    "# Converta o DataFrame para Pandas\n",
    "tabela_pandas = tabela_acessos\n",
    "\n",
    "# Salvando as tabelas no caminho especificado\n",
    "caminho_base = \"/Workspace/Users/dayanna.quintanilha@afya.com.br/\"\n",
    "\n",
    "# Ensure the directory exists\n",
    "os.makedirs(caminho_base, exist_ok=True)\n",
    "\n",
    "# Tabela 5: Diagnóstico x Ano com Diagnóstico Secundário\n",
    "tabela_5_caminho = f\"{caminho_base}acessos_WB_estado.xlsx\"\n",
    "\n",
    "# Salvando a Tabela 5 no caminho especificado\n",
    "with ExcelWriter(tabela_5_caminho, engine=\"xlsxwriter\") as writer:\n",
    "    tabela_pandas.to_excel(writer, index=False, sheet_name=\"Acessos WB\")\n",
    "    writer.save()\n",
    "\n",
    "print(f\"Tabela 5 salva em: {tabela_5_caminho}\")"
   ]
  },
  {
   "cell_type": "code",
   "execution_count": 0,
   "metadata": {
    "application/vnd.databricks.v1+cell": {
     "cellMetadata": {
      "byteLimit": 2048000,
      "rowLimit": 10000
     },
     "inputWidgets": {},
     "nuid": "05489026-1f35-4826-9ef7-fdd780b23b9a",
     "showTitle": false,
     "tableResultSettingsMap": {},
     "title": ""
    }
   },
   "outputs": [
    {
     "output_type": "stream",
     "name": "stdout",
     "output_type": "stream",
     "text": [
      "\u001B[43mNote: you may need to restart the kernel using %restart_python or dbutils.library.restartPython() to use updated packages.\u001B[0m\nRequirement already satisfied: openpyxl in /local_disk0/.ephemeral_nfs/envs/pythonEnv-465db0d4-ee63-442e-97b7-9d42e4a1f6f1/lib/python3.11/site-packages (3.1.5)\nRequirement already satisfied: et-xmlfile in /local_disk0/.ephemeral_nfs/envs/pythonEnv-465db0d4-ee63-442e-97b7-9d42e4a1f6f1/lib/python3.11/site-packages (from openpyxl) (2.0.0)\n\u001B[43mNote: you may need to restart the kernel using %restart_python or dbutils.library.restartPython() to use updated packages.\u001B[0m\n\u001B[43mNote: you may need to restart the kernel using %restart_python or dbutils.library.restartPython() to use updated packages.\u001B[0m\nCollecting xlsxwriter\n  Obtaining dependency information for xlsxwriter from https://files.pythonhosted.org/packages/a7/ea/53d1fe468e63e092cf16e2c18d16f50c29851242f9dd12d6a66e0d7f0d02/XlsxWriter-3.2.0-py3-none-any.whl.metadata\n  Downloading XlsxWriter-3.2.0-py3-none-any.whl.metadata (2.6 kB)\nDownloading XlsxWriter-3.2.0-py3-none-any.whl (159 kB)\n\u001B[?25l   \u001B[90m━━━━━━━━━━━━━━━━━━━━━━━━━━━━━━━━━━━━━━━━\u001B[0m \u001B[32m0.0/159.9 kB\u001B[0m \u001B[31m?\u001B[0m eta \u001B[36m-:--:--\u001B[0m\n\u001B[2K   \u001B[90m━━━━━━━━━━━━━━━━━━━━━━━━━━━━━━━━━━━━━━━━\u001B[0m \u001B[32m159.9/159.9 kB\u001B[0m \u001B[31m5.2 MB/s\u001B[0m eta \u001B[36m0:00:00\u001B[0m\n\u001B[?25hInstalling collected packages: xlsxwriter\nSuccessfully installed xlsxwriter-3.2.0\n\u001B[43mNote: you may need to restart the kernel using %restart_python or dbutils.library.restartPython() to use updated packages.\u001B[0m\nPrimeiras linhas do DataFrame após adicionar o ano:\n   access_date                      content_main_theme access_state  count   ano\n0  2021-01-01                                    Asma           SP     29  2021\n1  2021-01-01      Doença pulmonar obstrutiva crônica           PE      2  2021\n2  2021-01-01                                Covid-19           PE     14  2021\n3  2021-01-01                                Covid-19           RS     32  2021\n4  2021-01-01  Acidente vascular encefálico isquêmico           SP     26  2021\n"
     ]
    },
    {
     "output_type": "stream",
     "name": "stderr",
     "output_type": "stream",
     "text": [
      "/root/.ipykernel/1045/command-3650798557410443-877087719:58: FutureWarning: save is not part of the public API, usage can give unexpected results and will be removed in a future version\n  writer.save()\n"
     ]
    },
    {
     "output_type": "stream",
     "name": "stdout",
     "output_type": "stream",
     "text": [
      "Tabela 5 salva em: /Workspace/Users/dayanna.quintanilha@afya.com.br/acessos_WB_estado.xlsx\n"
     ]
    }
   ],
   "source": [
    "%python\n",
    "# Install the required modules\n",
    "%pip install openpyxl\n",
    "%pip install xlsxwriter\n",
    "\n",
    "import pandas as pd\n",
    "import os\n",
    "from pandas import ExcelWriter\n",
    "\n",
    "# Certificar-se de que access_date é do tipo datetime\n",
    "wb_micro_pandas_uf_group['access_date'] = pd.to_datetime(wb_micro_pandas_uf_group['access_date'], errors='coerce')\n",
    "\n",
    "# Criar uma nova coluna para o ano\n",
    "wb_micro_pandas_uf_group['ano'] = wb_micro_pandas_uf_group['access_date'].dt.year\n",
    "\n",
    "# Verificar os dados carregados\n",
    "print(\"Primeiras linhas do DataFrame após adicionar o ano:\\n\", wb_micro_pandas_uf_group.head())\n",
    "\n",
    "# Filtrar os anos relevantes\n",
    "anos_relevantes = [2021, 2022, 2023, 2024]\n",
    "wb_micro_pandas_uf_group = wb_micro_pandas_uf_group[wb_micro_pandas_uf_group['ano'].isin(anos_relevantes)]\n",
    "\n",
    "# Pivotar os dados para criar a tabela com os acessos por estado e ano\n",
    "tabela_acessos = wb_micro_pandas_uf_group.pivot_table(\n",
    "    index='access_state',  # Coluna representando os estados\n",
    "    columns='ano',         # Coluna representando os anos\n",
    "    values='count',        # Coluna representando o número de acessos\n",
    "    aggfunc='sum',         # Somar os acessos por estado e ano\n",
    "    fill_value=0           # Substituir valores ausentes por 0\n",
    ")\n",
    "\n",
    "# Renomear as colunas para garantir que os anos sejam strings\n",
    "tabela_acessos.columns = tabela_acessos.columns.astype(str)\n",
    "\n",
    "# Resetar o índice para que access_state se torne uma coluna\n",
    "tabela_acessos.reset_index(inplace=True)\n",
    "\n",
    "# Adicionar uma coluna de soma total de acessos\n",
    "tabela_acessos['Total'] = tabela_acessos.iloc[:, 1:].sum(axis=1)\n",
    "\n",
    "# Ordenar pela soma total de acessos em ordem decrescente\n",
    "tabela_acessos = tabela_acessos.sort_values(by='Total', ascending=False)\n",
    "\n",
    "# Converta o DataFrame para Pandas\n",
    "tabela_pandas = tabela_acessos\n",
    "\n",
    "# Salvando as tabelas no caminho especificado\n",
    "caminho_base = \"/Workspace/Users/dayanna.quintanilha@afya.com.br/\"\n",
    "\n",
    "# Ensure the directory exists\n",
    "os.makedirs(caminho_base, exist_ok=True)\n",
    "\n",
    "# Tabela 5: Diagnóstico x Ano com Diagnóstico Secundário\n",
    "tabela_5_caminho = f\"{caminho_base}acessos_WB_estado.xlsx\"\n",
    "\n",
    "# Salvando a Tabela 5 no caminho especificado\n",
    "with ExcelWriter(tabela_5_caminho, engine=\"xlsxwriter\") as writer:\n",
    "    tabela_pandas.to_excel(writer, index=False, sheet_name=\"Acessos WB\")\n",
    "    writer.save()\n",
    "\n",
    "print(f\"Tabela 5 salva em: {tabela_5_caminho}\")"
   ]
  },
  {
   "cell_type": "markdown",
   "metadata": {
    "application/vnd.databricks.v1+cell": {
     "cellMetadata": {
      "byteLimit": 2048000,
      "rowLimit": 10000
     },
     "inputWidgets": {},
     "nuid": "46f7f9fa-e0a4-433b-8b68-f007579425f1",
     "showTitle": false,
     "tableResultSettingsMap": {},
     "title": ""
    }
   },
   "source": [
    "### Ajuste de dados para a TS\n"
   ]
  },
  {
   "cell_type": "code",
   "execution_count": 0,
   "metadata": {
    "application/vnd.databricks.v1+cell": {
     "cellMetadata": {
      "byteLimit": 2048000,
      "rowLimit": 10000
     },
     "inputWidgets": {},
     "nuid": "92bd8616-265b-4ca5-8029-1cd3d757b900",
     "showTitle": false,
     "tableResultSettingsMap": {},
     "title": ""
    }
   },
   "outputs": [],
   "source": [
    "#Transformando datas\n",
    "sih_pandas_group['DT_INTER'] = pd.to_datetime(sih_pandas_group['DT_INTER'], format=\"%Y-%m-%d\")\n",
    "\n",
    "sih_pandas['DT_INTER'] = pd.to_datetime(sih_pandas['DT_INTER'], format=\"%Y-%m-%d\")\n",
    "sih_pandas['DT_SAIDA'] = pd.to_datetime(sih_pandas['DT_SAIDA'], format=\"%Y-%m-%d\")\n",
    "sih_pandas['NASC'] = pd.to_datetime(sih_pandas['NASC'], format=\"%Y-%m-%d\")\n",
    "\n",
    "wb_micro_pandas['access_date'] = pd.to_datetime(wb_micro_pandas['access_date'], format=\"%Y-%m-%d\")\n",
    "wb_micro_pandas_group['data_acesso'] = pd.to_datetime(wb_micro_pandas_group['data_acesso'], format=\"%Y-%m-%d\")"
   ]
  },
  {
   "cell_type": "code",
   "execution_count": 0,
   "metadata": {
    "application/vnd.databricks.v1+cell": {
     "cellMetadata": {
      "byteLimit": 2048000,
      "rowLimit": 10000
     },
     "inputWidgets": {},
     "nuid": "371eca21-264d-4fe5-9076-58249dbe4d92",
     "showTitle": false,
     "tableResultSettingsMap": {},
     "title": ""
    }
   },
   "outputs": [],
   "source": [
    "# Tratando dados de SIH com o dados de WB para união\n",
    "sih_spark_group = sih_spark_group.withColumn('DT_INTER', F.to_date(F.col('DT_INTER'), 'yyyy-MM-dd'))\n",
    "wb_micro_spark_group = wb_micro_spark_group.withColumn('data_acesso', F.to_date(F.col('data_acesso'), 'yyyy-MM-dd'))\n",
    "\n",
    "# Selecionar apenas as colunas necessárias de 'correspondencia_spark_cid'\n",
    "correspondencia_spark_cid_selected = correspondencia_spark_cid.select('DIAG_PRINC', 'CATEGORIA_PRIMARIA')\n",
    "\n",
    "# Tratando dados para extração\n",
    "sih_spark_group = sih_spark_group.withColumn(\"DIAG_PRINC\", \n",
    "                                             when(length(col(\"DIAG_PRINC\")) == 3, \n",
    "                                                  regexp_replace(col(\"DIAG_PRINC\"), \"$\", \"0\"))  # Adicionar 0 ao final se tiver 3 dígitos\n",
    "                                             .otherwise(col(\"DIAG_PRINC\")))\n",
    "correspondencia_spark_cid_selected = correspondencia_spark_cid_selected.withColumn(\"DIAG_PRINC\", \n",
    "                                             when(length(col(\"DIAG_PRINC\")) == 3, \n",
    "                                                  regexp_replace(col(\"DIAG_PRINC\"), \"$\", \"0\"))  # Adicionar 0 ao final se tiver 3 dígitos\n",
    "                                             .otherwise(col(\"DIAG_PRINC\")))\n",
    "\n",
    "# Fazer o merge entre 'sih_spark_group' e 'correspondencia_spark_cid_selected' (similar ao merge no pandas)\n",
    "sih_spark_group_cid = sih_spark_group.join(correspondencia_spark_cid_selected, on='DIAG_PRINC', how='inner')"
   ]
  },
  {
   "cell_type": "code",
   "execution_count": 0,
   "metadata": {
    "application/vnd.databricks.v1+cell": {
     "cellMetadata": {
      "byteLimit": 2048000,
      "rowLimit": 10000
     },
     "inputWidgets": {},
     "nuid": "d535c9cb-e30c-4546-b06f-6cc59febc815",
     "showTitle": false,
     "tableResultSettingsMap": {},
     "title": ""
    }
   },
   "outputs": [],
   "source": [
    "# Ajustar o valor na coluna \"CATEGORIA_PRIMARIA\"\n",
    "sih_spark_group_cid = sih_spark_group_cid.withColumn(\n",
    "    \"CATEGORIA_PRIMARIA\",\n",
    "    when(col(\"CATEGORIA_PRIMARIA\") == \"Febre de Chikungunya\", \"Febre Chikungunya\")\n",
    "    .otherwise(col(\"CATEGORIA_PRIMARIA\"))\n",
    ")"
   ]
  },
  {
   "cell_type": "code",
   "execution_count": 0,
   "metadata": {
    "application/vnd.databricks.v1+cell": {
     "cellMetadata": {
      "byteLimit": 2048000,
      "rowLimit": 10000
     },
     "inputWidgets": {},
     "nuid": "b683d76e-6646-4dd8-b18d-8a3f0c658668",
     "showTitle": false,
     "tableResultSettingsMap": {},
     "title": ""
    }
   },
   "outputs": [
    {
     "output_type": "stream",
     "name": "stdout",
     "output_type": "stream",
     "text": [
      "Valores que dão match (19): ['Infecção de trato urinário', 'Diabetes mellitus tipo 2', 'Covid-19', 'Hipertermia', 'Malária', 'Depressão', 'Dengue', 'Injúria Renal Aguda', 'Doença pulmonar obstrutiva crônica', 'Pneumonia comunitária', 'Febre Zika', 'Exaustão pelo Calor', 'Oropouche', 'Transtorno de ansiedade generalizada', 'Infarto agudo do miocárdio', 'Cetoacidose diabética', 'Asma', 'Febre Chikungunya', 'Doença renal crônica']\nValores únicos estaduais do Whitebook que não têm match (4): ['Arboviroses (Pediatria)', 'Asma (Pediatria)', 'Acidente vascular encefálico hemorrágico', 'Acidente vascular encefálico isquêmico']\nValores únicos do SIH que não têm match (6): ['Influenza', 'Pneumonia viral', 'Pneumonia bacteriana', 'Pneumonia por outros organismos', 'Insuficiência cardíaca ', 'Tuberculose']\n"
     ]
    }
   ],
   "source": [
    "# Obter os valores únicos das duas colunas sem RDDs\n",
    "wb_tema_principal_unicos = [row[0] for row in wb_micro_spark_uf_group.select(\"content_main_theme\").distinct().collect()]\n",
    "sih_categoria_primaria_unicos = [row[0] for row in sih_spark_group_cid.select(\"CATEGORIA_PRIMARIA\").distinct().collect()]\n",
    "\n",
    "# Identificar os valores que dão match entre as duas listas\n",
    "valores_match = list(set(wb_tema_principal_unicos) & set(sih_categoria_primaria_unicos))\n",
    "\n",
    "# Identificar os valores que não dão match (estão em uma lista mas não na outra)\n",
    "valores_nao_match_wb = list(set(wb_tema_principal_unicos) - set(sih_categoria_primaria_unicos))\n",
    "valores_nao_match_sih = list(set(sih_categoria_primaria_unicos) - set(wb_tema_principal_unicos))\n",
    "\n",
    "# Exibir os resultados com a quantidade e os valores\n",
    "print(\"Valores que dão match ({}): {}\".format(len(valores_match), valores_match))\n",
    "print(\"Valores únicos estaduais do Whitebook que não têm match ({}): {}\".format(len(valores_nao_match_wb), valores_nao_match_wb))\n",
    "print(\"Valores únicos do SIH que não têm match ({}): {}\".format(len(valores_nao_match_sih), valores_nao_match_sih))"
   ]
  },
  {
   "cell_type": "code",
   "execution_count": 0,
   "metadata": {
    "application/vnd.databricks.v1+cell": {
     "cellMetadata": {
      "byteLimit": 2048000,
      "rowLimit": 10000
     },
     "inputWidgets": {},
     "nuid": "5864e643-1272-4754-a6d9-198889b77fe5",
     "showTitle": false,
     "tableResultSettingsMap": {},
     "title": ""
    }
   },
   "outputs": [],
   "source": [
    "# Criar cópia tratada de 'CATEGORIA_PRIMARIA' em 'sih_spark_group_cid'\n",
    "sih_spark_group_cid = sih_spark_group_cid.withColumn(\n",
    "    \"CATEGORIA_PRIMARIA_TRATADA\",\n",
    "    trim(\n",
    "        regexp_replace(\n",
    "            lower(\n",
    "                regexp_replace(col(\"CATEGORIA_PRIMARIA\"), \"[^a-zA-Z0-9 ]\", \"\")\n",
    "            ), \n",
    "            \" {2,}\", \" \"  # Substituir múltiplos espaços por um único espaço\n",
    "        )\n",
    "    )\n",
    ")\n",
    "\n",
    "# Criar cópia tratada de 'tema_principal' em 'wb_micro_spark_group'\n",
    "wb_micro_spark_group = wb_micro_spark_group.withColumn(\n",
    "    \"tema_principal_tratado\",\n",
    "    trim(\n",
    "        regexp_replace(\n",
    "            lower(\n",
    "                regexp_replace(col(\"tema_principal\"), \"[^a-zA-Z0-9 ]\", \"\")\n",
    "            ), \n",
    "            \" {2,}\", \" \"  # Substituir múltiplos espaços por um único espaço\n",
    "        )\n",
    "    )\n",
    ")\n",
    "\n",
    "# Fazer o merge (join) usando as colunas tratadas\n",
    "sih_spark_group_wb = sih_spark_group_cid.join(\n",
    "    wb_micro_spark_group,\n",
    "    (sih_spark_group_cid['DT_INTER'] == wb_micro_spark_group['data_acesso']) & \n",
    "    (sih_spark_group_cid['CATEGORIA_PRIMARIA_TRATADA'] == wb_micro_spark_group['tema_principal_tratado']),\n",
    "    how='inner'\n",
    ")\n",
    "\n",
    "# Remover as colunas tratadas após o merge\n",
    "sih_spark_group_wb = sih_spark_group_wb.drop(\"CATEGORIA_PRIMARIA_TRATADA\", \"tema_principal_tratado\")"
   ]
  },
  {
   "cell_type": "code",
   "execution_count": 0,
   "metadata": {
    "application/vnd.databricks.v1+cell": {
     "cellMetadata": {
      "byteLimit": 2048000,
      "rowLimit": 10000
     },
     "inputWidgets": {},
     "nuid": "5bfe8b05-c4e4-43d0-89d0-6465a4afb23f",
     "showTitle": false,
     "tableResultSettingsMap": {},
     "title": ""
    }
   },
   "outputs": [],
   "source": [
    "# Agrupar os dados por 'DT_INTER' e 'tema_principal', somando 'quantidade_acessos' e 'N_AIH'\n",
    "dados_agrupados = sih_spark_group_wb.groupBy('DT_INTER', 'tema_principal').agg(\n",
    "    F.sum('quantidade_acessos').alias('total_acessos'),\n",
    "    F.sum('N_AIH').alias('total_internacoes')\n",
    ")\n",
    "\n",
    "# Ordenar os dados por 'DT_INTER' para garantir a sequência temporal\n",
    "dados_agrupados = dados_agrupados.orderBy('DT_INTER')"
   ]
  },
  {
   "cell_type": "code",
   "execution_count": 0,
   "metadata": {
    "application/vnd.databricks.v1+cell": {
     "cellMetadata": {
      "byteLimit": 2048000,
      "rowLimit": 10000
     },
     "inputWidgets": {},
     "nuid": "4bafddbc-7ea5-4be9-b02c-72efaf70acf1",
     "showTitle": false,
     "tableResultSettingsMap": {},
     "title": ""
    }
   },
   "outputs": [],
   "source": [
    "# Converter para Pandas DataFrame para criar gráficos\n",
    "dados_agrupados_pandas= dados_agrupados.toPandas()"
   ]
  },
  {
   "cell_type": "code",
   "execution_count": 0,
   "metadata": {
    "application/vnd.databricks.v1+cell": {
     "cellMetadata": {
      "byteLimit": 2048000,
      "rowLimit": 10000
     },
     "inputWidgets": {},
     "nuid": "54bc6bb3-e297-485d-8055-fe03228d690d",
     "showTitle": false,
     "tableResultSettingsMap": {},
     "title": ""
    }
   },
   "outputs": [],
   "source": [
    "# Criar a coluna 'ano' em dados_agrupados_pandas a partir da coluna 'DT_INTER'\n",
    "dados_agrupados_pandas['ano'] = pd.to_datetime(dados_agrupados_pandas['DT_INTER']).dt.year"
   ]
  },
  {
   "cell_type": "code",
   "execution_count": 0,
   "metadata": {
    "application/vnd.databricks.v1+cell": {
     "cellMetadata": {
      "byteLimit": 2048000,
      "rowLimit": 10000
     },
     "inputWidgets": {},
     "nuid": "51e36452-739f-45a7-8f6e-b74e4213ce24",
     "showTitle": false,
     "tableResultSettingsMap": {},
     "title": ""
    }
   },
   "outputs": [],
   "source": [
    "# Garantir que a coluna 'ano' em ambos os DataFrames seja do tipo int\n",
    "dados_agrupados_pandas['ano'] = dados_agrupados_pandas['ano'].astype(int)\n",
    "projecao_nacional_pandas['ano'] = projecao_nacional_pandas['ano'].astype(int)"
   ]
  },
  {
   "cell_type": "code",
   "execution_count": 0,
   "metadata": {
    "application/vnd.databricks.v1+cell": {
     "cellMetadata": {
      "byteLimit": 2048000,
      "rowLimit": 10000
     },
     "inputWidgets": {},
     "nuid": "649f154c-9304-489e-b7af-f50e1661082c",
     "showTitle": false,
     "tableResultSettingsMap": {},
     "title": ""
    }
   },
   "outputs": [],
   "source": [
    "# Calcular a taxa de internação e armazenar na coluna 'total_internacoes'\n",
    "dados_agrupados_pandas = dados_agrupados_pandas.merge(projecao_nacional_pandas, on='ano', how='left')\n",
    "dados_agrupados_pandas['internacoes'] = dados_agrupados_pandas['total_internacoes']\n",
    "dados_agrupados_pandas['total_internacoes'] = round((dados_agrupados_pandas['internacoes']/dados_agrupados_pandas['populacao'])*1000000000, 2)"
   ]
  },
  {
   "cell_type": "code",
   "execution_count": 0,
   "metadata": {
    "application/vnd.databricks.v1+cell": {
     "cellMetadata": {
      "byteLimit": 2048000,
      "rowLimit": 10000
     },
     "inputWidgets": {},
     "nuid": "19e6c7df-aee3-406b-b258-0c4aa8dad594",
     "showTitle": false,
     "tableResultSettingsMap": {},
     "title": ""
    }
   },
   "outputs": [],
   "source": [
    "# Ajustando dados por UF\n",
    "sih_pandas['DT_INTER'] = pd.to_datetime(sih_pandas['DT_INTER'], errors='coerce')\n",
    "\n",
    "internacoes_uf = sih_pandas.groupby(['DT_INTER', 'UF_ZI', 'DIAG_PRINC_NOME'])['N_AIH'].nunique().reset_index()\n",
    "internacoes_uf.rename(columns={'N_AIH': 'INTERNACOES'}, inplace=True)\n",
    "internacoes_uf['UF_ZI'] = internacoes_uf['UF_ZI'].astype(str).str[:2]\n",
    "internacoes_uf['ANO'] = internacoes_uf['DT_INTER'].dt.year"
   ]
  },
  {
   "cell_type": "code",
   "execution_count": 0,
   "metadata": {
    "application/vnd.databricks.v1+cell": {
     "cellMetadata": {
      "byteLimit": 2048000,
      "rowLimit": 10000
     },
     "inputWidgets": {},
     "nuid": "600186c2-7f1c-4ef4-a502-3ff753ef06cb",
     "showTitle": false,
     "tableResultSettingsMap": {},
     "title": ""
    }
   },
   "outputs": [],
   "source": [
    "# Ajustar dados populacionais\n",
    "projecao_long = projecao_populacional_pandas.melt(id_vars=['geocod', 'unidade_federada'],\n",
    "                                                  var_name='ano',\n",
    "                                                  value_name='populacao')\n",
    "projecao_long['ano'] = projecao_long['ano'].str.extract('(\\d{4})')"
   ]
  },
  {
   "cell_type": "code",
   "execution_count": 0,
   "metadata": {
    "application/vnd.databricks.v1+cell": {
     "cellMetadata": {
      "byteLimit": 2048000,
      "rowLimit": 10000
     },
     "inputWidgets": {},
     "nuid": "9b37dce4-2bf2-48a1-b711-1eeec1c9be4d",
     "showTitle": false,
     "tableResultSettingsMap": {},
     "title": ""
    }
   },
   "outputs": [],
   "source": [
    "# Garantir que ANO e ano sejam inteiros antes de filtrar\n",
    "internacoes_uf['ANO'] = internacoes_uf['ANO'].astype(int)\n",
    "projecao_long['ano'] = projecao_long['ano'].astype(int)\n",
    "\n",
    "# Remover espaços e extrair apenas os dígitos em UF_ZI e geocod\n",
    "internacoes_uf['UF_ZI'] = internacoes_uf['UF_ZI'].astype(str).str.replace(r'\\D', '', regex=True).str.zfill(2)\n",
    "projecao_long['geocod'] = projecao_long['geocod'].astype(str).str.replace(r'\\D', '', regex=True).str.zfill(2)\n",
    "\n",
    "# Filtrar o dataframe internacoes_uf para anos entre 2018 e 2024\n",
    "internacoes_uf = internacoes_uf[(internacoes_uf['ANO'] >= 2018) & (internacoes_uf['ANO'] <= 2024)]\n",
    "\n",
    "# Filtrar o dataframe projecao_long para anos entre 2018 e 2024\n",
    "projecao_long = projecao_long[(projecao_long['ano'] >= 2018) & (projecao_long['ano'] <= 2024)]\n",
    "\n",
    "# Garantir que ANO e ano sejam inteiros\n",
    "internacoes_uf['ANO'] = internacoes_uf['ANO'].astype(int)\n",
    "projecao_long['ano'] = projecao_long['ano'].astype(int)\n"
   ]
  },
  {
   "cell_type": "code",
   "execution_count": 0,
   "metadata": {
    "application/vnd.databricks.v1+cell": {
     "cellMetadata": {
      "byteLimit": 2048000,
      "rowLimit": 10000
     },
     "inputWidgets": {},
     "nuid": "cb0d9a03-4e6e-4f93-890c-87337b3f007c",
     "showTitle": false,
     "tableResultSettingsMap": {},
     "title": ""
    }
   },
   "outputs": [],
   "source": [
    "# Dados de UF \n",
    "dados_agrupados_pandas_uf = pd.merge(internacoes_uf, projecao_long, left_on=['UF_ZI', 'ANO'], right_on=['geocod', 'ano'], how='left')\n",
    "dados_agrupados_pandas_uf.drop(columns=['geocod', 'ano'], inplace=True)"
   ]
  },
  {
   "cell_type": "code",
   "execution_count": 0,
   "metadata": {
    "application/vnd.databricks.v1+cell": {
     "cellMetadata": {
      "byteLimit": 2048000,
      "rowLimit": 10000
     },
     "inputWidgets": {},
     "nuid": "09213f30-9d92-43fa-9f78-86def29b1ec0",
     "showTitle": false,
     "tableResultSettingsMap": {},
     "title": ""
    }
   },
   "outputs": [],
   "source": [
    "# Calculando Taxa de Internação por dia\n",
    "dados_agrupados_pandas_uf['taxa_internacao'] = round(dados_agrupados_pandas_uf['INTERNACOES']/dados_agrupados_pandas_uf['populacao']*1000000, 2)"
   ]
  },
  {
   "cell_type": "code",
   "execution_count": 0,
   "metadata": {
    "application/vnd.databricks.v1+cell": {
     "cellMetadata": {
      "byteLimit": 2048000,
      "rowLimit": 10000
     },
     "inputWidgets": {},
     "nuid": "dcea5be3-9ec3-41d1-8a5c-aedca7d0d651",
     "showTitle": false,
     "tableResultSettingsMap": {},
     "title": ""
    }
   },
   "outputs": [],
   "source": [
    "# Dicionário para mapear estados para suas siglas\n",
    "estado_para_sigla = {\n",
    "    'Rondônia': 'RO',\n",
    "    'Acre': 'AC',\n",
    "    'Amazonas': 'AM',\n",
    "    'Roraima': 'RR',\n",
    "    'Pará': 'PA',\n",
    "    'Amapá': 'AP',\n",
    "    'Tocantins': 'TO',\n",
    "    'Maranhão': 'MA',\n",
    "    'Piauí': 'PI',\n",
    "    'Ceará': 'CE',\n",
    "    'Rio Grande do Norte': 'RN',\n",
    "    'Paraíba': 'PB',\n",
    "    'Pernambuco': 'PE',\n",
    "    'Alagoas': 'AL',\n",
    "    'Sergipe': 'SE',\n",
    "    'Bahia': 'BA',\n",
    "    'Minas Gerais': 'MG',\n",
    "    'Espírito Santo': 'ES',\n",
    "    'Rio de Janeiro': 'RJ',\n",
    "    'São Paulo': 'SP',\n",
    "    'Paraná': 'PR',\n",
    "    'Santa Catarina': 'SC',\n",
    "    'Rio Grande do Sul': 'RS',\n",
    "    'Mato Grosso do Sul': 'MS',\n",
    "    'Mato Grosso': 'MT',\n",
    "    'Goiás': 'GO',\n",
    "    'Distrito Federal': 'DF'\n",
    "}\n",
    "\n",
    "# Substituir os nomes dos estados pelas siglas\n",
    "dados_agrupados_pandas_uf['unidade_federada'] = dados_agrupados_pandas_uf['unidade_federada'].map(estado_para_sigla)"
   ]
  },
  {
   "cell_type": "code",
   "execution_count": 0,
   "metadata": {
    "application/vnd.databricks.v1+cell": {
     "cellMetadata": {
      "byteLimit": 2048000,
      "rowLimit": 10000
     },
     "inputWidgets": {},
     "nuid": "39a75fdf-cdb4-439e-82c8-35f92927ddd4",
     "showTitle": false,
     "tableResultSettingsMap": {},
     "title": ""
    }
   },
   "outputs": [],
   "source": [
    "# Substituir DIAG_PRINC_NOME por DIAG_PRINC em dados_agrupados_pandas_uf\n",
    "dados_agrupados_pandas_uf = dados_agrupados_pandas_uf.merge(\n",
    "    correspondencia_pandas_cid[['DIAG_PRINC', 'DIAG_PRINC_NOME']],\n",
    "    on='DIAG_PRINC_NOME',\n",
    "    how='left'\n",
    ")\n",
    "\n",
    "# Substituir content_main_theme por DIAG_PRINC em wb_micro_pandas_uf_group\n",
    "wb_micro_pandas_uf_group = wb_micro_pandas_uf_group.merge(\n",
    "    correspondencia_pandas_cid[['DIAG_PRINC', 'CATEGORIA_PRIMARIA']],\n",
    "    left_on='content_main_theme',\n",
    "    right_on='CATEGORIA_PRIMARIA',\n",
    "    how='left'\n",
    ")"
   ]
  },
  {
   "cell_type": "code",
   "execution_count": 0,
   "metadata": {
    "application/vnd.databricks.v1+cell": {
     "cellMetadata": {
      "byteLimit": 2048000,
      "rowLimit": 10000
     },
     "inputWidgets": {},
     "nuid": "3aa876e9-1f64-4799-9ee8-05fa11e41cc2",
     "showTitle": false,
     "tableResultSettingsMap": {},
     "title": ""
    }
   },
   "outputs": [],
   "source": [
    "# Agora vamos garantir que as colunas de data estejam no formato correto\n",
    "dados_agrupados_pandas_uf['DT_INTER'] = pd.to_datetime(dados_agrupados_pandas_uf['DT_INTER'], errors='coerce')\n",
    "wb_micro_pandas_uf_group['access_date'] = pd.to_datetime(wb_micro_pandas_uf_group['access_date'], errors='coerce')\n",
    "\n",
    "# Realizar o merge com left join usando as colunas ajustadas\n",
    "merged_uf_df = pd.merge(\n",
    "    dados_agrupados_pandas_uf,\n",
    "    wb_micro_pandas_uf_group,\n",
    "    left_on=['DT_INTER', 'DIAG_PRINC', 'unidade_federada'],\n",
    "    right_on=['access_date', 'DIAG_PRINC', 'access_state'],\n",
    "    how='left'\n",
    ")\n",
    "\n",
    "# Apagar as colunas excedentes do dataframe após o merge\n",
    "merged_uf_df.drop(columns=['access_date', 'access_state', 'content_main_theme', 'DIAG_PRINC_NOME', 'CATEGORIA_PRIMARIA'], inplace=True)\n",
    "\n",
    "# Preencher valores ausentes na coluna 'count' com zero\n",
    "merged_uf_df['count'] = merged_uf_df['count'].fillna(0)"
   ]
  },
  {
   "cell_type": "code",
   "execution_count": 0,
   "metadata": {
    "application/vnd.databricks.v1+cell": {
     "cellMetadata": {
      "byteLimit": 2048000,
      "rowLimit": 10000
     },
     "inputWidgets": {},
     "nuid": "a3024723-1d64-4be6-8227-9759128fad6d",
     "showTitle": false,
     "tableResultSettingsMap": {},
     "title": ""
    }
   },
   "outputs": [],
   "source": [
    "# Remover linhas onde DIAG_PRINC é NaN\n",
    "merged_uf_df = merged_uf_df[merged_uf_df['DIAG_PRINC'].notna()]\n",
    "\n",
    "# Filtrar as linhas para datas entre 2021-01-01 e 2024-06-01\n",
    "merged_uf_df = merged_uf_df[\n",
    "    (merged_uf_df['DT_INTER'] >= '2021-01-01') & \n",
    "    (merged_uf_df['DT_INTER'] <= '2024-05-30')\n",
    "]\n",
    "\n",
    "# Unindo com dados de correspondência de cid\n",
    "merged_uf_df = pd.DataFrame(merged_uf_df.merge(correspondencia_pandas_cid, on = \"DIAG_PRINC\", how = \"left\"))\n",
    "\n",
    "# Fazendo cópia do df original\n",
    "merged_uf_df_copy = merged_uf_df.copy()"
   ]
  },
  {
   "cell_type": "code",
   "execution_count": 0,
   "metadata": {
    "application/vnd.databricks.v1+cell": {
     "cellMetadata": {
      "byteLimit": 2048000,
      "rowLimit": 10000
     },
     "inputWidgets": {},
     "nuid": "d8faa10e-b30a-45e0-8c99-51850bce7e0a",
     "showTitle": false,
     "tableResultSettingsMap": {},
     "title": ""
    }
   },
   "outputs": [],
   "source": [
    "# Agrupando dados por categoria primária\n",
    "merged_uf_df = pd.DataFrame(merged_uf_df.groupby(['DT_INTER', 'unidade_federada', 'CATEGORIA_PRIMARIA']).agg({'INTERNACOES':'sum', 'count':'sum', 'populacao':'max'})).reset_index()\n",
    "\n",
    "# Calculando taxa de internação\n",
    "merged_uf_df['taxa_internacao'] = round(merged_uf_df['INTERNACOES']/merged_uf_df['populacao']*100000, 2)"
   ]
  },
  {
   "cell_type": "markdown",
   "metadata": {
    "application/vnd.databricks.v1+cell": {
     "cellMetadata": {},
     "inputWidgets": {},
     "nuid": "2231df87-1386-43af-8a0f-700745d3bdfe",
     "showTitle": false,
     "tableResultSettingsMap": {},
     "title": ""
    }
   },
   "source": [
    "### Descrição por território"
   ]
  },
  {
   "cell_type": "code",
   "execution_count": 0,
   "metadata": {
    "application/vnd.databricks.v1+cell": {
     "cellMetadata": {
      "byteLimit": 2048000,
      "rowLimit": 10000
     },
     "inputWidgets": {},
     "nuid": "ba6ff24e-5f44-4baa-9aba-8d646ff8d363",
     "showTitle": false,
     "tableResultSettingsMap": {},
     "title": ""
    }
   },
   "outputs": [],
   "source": [
    "# Soma da coluna INTERNACOES por unidade_federada e ano\n",
    "tabela_uf_ano_frequencia = (\n",
    "    merged_uf_df.assign(ANO=pd.to_datetime(merged_uf_df[\"DT_INTER\"]).dt.year)\n",
    "    .groupby([\"unidade_federada\", \"ANO\"])[\"INTERNACOES\"]\n",
    "    .sum()\n",
    "    .reset_index()\n",
    "    .pivot(index=\"unidade_federada\", columns=\"ANO\", values=\"INTERNACOES\")\n",
    ")\n",
    "\n",
    "# Soma da coluna taxa_internacao por unidade_federada e ano\n",
    "tabela_uf_ano_taxa = (\n",
    "    merged_uf_df.assign(ANO=pd.to_datetime(merged_uf_df[\"DT_INTER\"]).dt.year)\n",
    "    .groupby([\"unidade_federada\", \"ANO\"])[\"taxa_internacao\"]\n",
    "    .sum()\n",
    "    .reset_index()\n",
    "    .pivot(index=\"unidade_federada\", columns=\"ANO\", values=\"taxa_internacao\")\n",
    ")"
   ]
  },
  {
   "cell_type": "code",
   "execution_count": 0,
   "metadata": {
    "application/vnd.databricks.v1+cell": {
     "cellMetadata": {
      "byteLimit": 2048000,
      "rowLimit": 10000
     },
     "inputWidgets": {},
     "nuid": "71dffc41-fa4e-414e-9bfc-22ad7c29eb35",
     "showTitle": false,
     "tableResultSettingsMap": {},
     "title": ""
    }
   },
   "outputs": [],
   "source": [
    "# Salvar tabelas localmente\n",
    "tabela_uf_ano_frequencia.to_excel(\"/Workspace/Users/danielly.xavier@iclinic.com.br/resultados_modelo_ts_research_center/analise_descritiva_sih/dados_demograficos/tabela_uf_ano_frequencia.xlsx\")\n",
    "tabela_uf_ano_taxa.to_excel(\"/Workspace/Users/danielly.xavier@iclinic.com.br/resultados_modelo_ts_research_center/analise_descritiva_sih/dados_demograficos/tabela_uf_ano_taxa.xlsx\")"
   ]
  },
  {
   "cell_type": "code",
   "execution_count": 0,
   "metadata": {
    "application/vnd.databricks.v1+cell": {
     "cellMetadata": {
      "byteLimit": 2048000,
      "rowLimit": 10000
     },
     "inputWidgets": {},
     "nuid": "f0b5d64d-594e-4f9a-8f65-649f57518cd0",
     "showTitle": false,
     "tableResultSettingsMap": {},
     "title": ""
    }
   },
   "outputs": [],
   "source": [
    "from geobr import read_state\n",
    "import matplotlib.pyplot as plt\n",
    "import pandas as pd\n",
    "\n",
    "# Carregar shapefile das unidades federativas do Brasil usando geobr\n",
    "brasil_shapefile = read_state(year=2020)\n",
    "\n",
    "# Garantir que as siglas no shapefile correspondam ao índice da tabela_uf_ano_taxa\n",
    "brasil_shapefile[\"SIGLA\"] = brasil_shapefile[\"abbrev_state\"]"
   ]
  },
  {
   "cell_type": "code",
   "execution_count": 0,
   "metadata": {
    "application/vnd.databricks.v1+cell": {
     "cellMetadata": {
      "byteLimit": 2048000,
      "rowLimit": 10000
     },
     "inputWidgets": {},
     "nuid": "694331ad-f7c4-448f-b846-e43f15d7c290",
     "showTitle": false,
     "tableResultSettingsMap": {},
     "title": ""
    }
   },
   "outputs": [],
   "source": [
    "# Ajuste o caminho de salvamento para o seu ambiente local\n",
    "for ano in tabela_uf_ano_taxa.columns:\n",
    "    # Mesclar dados da tabela com o shapefile\n",
    "    mapa_dados = brasil_shapefile.merge(\n",
    "        tabela_uf_ano_taxa[[ano]].reset_index(), how=\"left\", left_on=\"SIGLA\", right_on=\"unidade_federada\"\n",
    "    )\n",
    "    \n",
    "    # Calcular os quartis para classificação\n",
    "    mapa_dados[\"quartil\"] = pd.qcut(mapa_dados[ano], q=4, labels=[\"Q1\", \"Q2\", \"Q3\", \"Q4\"])\n",
    "    \n",
    "    # Criar o mapa\n",
    "    fig, ax = plt.subplots(1, 1, figsize=(12, 8))\n",
    "    mapa_dados.plot(\n",
    "        column=ano,\n",
    "        cmap=\"Blues\",\n",
    "        legend=True,\n",
    "        legend_kwds={\n",
    "            \"label\": f\"Taxa de Internação ({ano})\",\n",
    "            \"orientation\": \"horizontal\",\n",
    "            \"shrink\": 0.7,  # Reduzir a barra da legenda\n",
    "        },\n",
    "        edgecolor=\"black\",  # Borda preta fina\n",
    "        linewidth=0.5,\n",
    "        ax=ax,\n",
    "        missing_kwds={\"color\": \"lightgrey\", \"label\": \"Sem Dados\"},\n",
    "    )\n",
    "    \n",
    "    # Configurações do mapa\n",
    "    ax.set_title(f\"Taxa de Internação por Unidade Federativa ({ano})\", fontsize=16)\n",
    "    ax.axis(\"off\")\n",
    "    \n",
    "    # Adicionar rosa dos ventos no canto inferior direito\n",
    "    ax.arrow(0.9, 0.1, 0, 0.05, transform=ax.transAxes, color=\"black\",\n",
    "             head_width=0.02, head_length=0.03, length_includes_head=True)\n",
    "    ax.text(0.92, 0.12, \"N\", transform=ax.transAxes, fontsize=12, weight=\"bold\")\n",
    "    \n",
    "    # Adicionar escala no canto inferior direito\n",
    "    scalebar = ScaleBar(100, location=\"lower right\", length_fraction=0.1)\n",
    "    ax.add_artist(scalebar)\n",
    "    \n",
    "    plt.tight_layout()\n",
    "    \n",
    "    # Salvar o mapa localmente\n",
    "    plt.savefig(f\"/Workspace/Users/danielly.xavier@iclinic.com.br/resultados_modelo_ts_research_center/analise_descritiva_sih/graficos/mapa_taxa_internacao_ajustado_{ano}.png\", dpi=300)\n",
    "    plt.close()\n"
   ]
  },
  {
   "cell_type": "markdown",
   "metadata": {
    "application/vnd.databricks.v1+cell": {
     "cellMetadata": {
      "byteLimit": 2048000,
      "rowLimit": 10000
     },
     "inputWidgets": {},
     "nuid": "20d888a7-016e-4ea7-a55c-b13ea98e3d41",
     "showTitle": false,
     "tableResultSettingsMap": {},
     "title": ""
    }
   },
   "source": [
    "### Descrição dos dados de acessos e internações"
   ]
  },
  {
   "cell_type": "code",
   "execution_count": 0,
   "metadata": {
    "application/vnd.databricks.v1+cell": {
     "cellMetadata": {
      "byteLimit": 2048000,
      "rowLimit": 10000
     },
     "inputWidgets": {},
     "nuid": "1a7a80fc-878d-4579-936e-df4e954fe338",
     "showTitle": false,
     "tableResultSettingsMap": {},
     "title": ""
    }
   },
   "outputs": [],
   "source": [
    "# Criar gráficos de linha para cada tema_principal\n",
    "for tema in dados_agrupados_pandas['tema_principal'].unique():\n",
    "    # Filtrar os dados para o diagnóstico atual\n",
    "    dados_tema = dados_agrupados_pandas[dados_agrupados_pandas['tema_principal'] == tema].copy()\n",
    "\n",
    "    # Ajustando range de datas\n",
    "    datas_range = pd.DataFrame({\n",
    "        \"DT_INTER\": pd.date_range(start=\"2021-01-01\", end=\"2024-01-01\")\n",
    "    })\n",
    "\n",
    "    # Unindo dados com datas\n",
    "    dados_tema[\"DT_INTER\"] = pd.to_datetime(dados_tema[\"DT_INTER\"])\n",
    "    dados_tema = pd.merge(datas_range, dados_tema, on=\"DT_INTER\", how=\"left\")\n",
    "\n",
    "    # Substituir NaN por 0 em colunas numéricas\n",
    "    num_cols = [\"total_acessos\", \"total_internacoes\", \"internacoes\"]\n",
    "    for col in num_cols:\n",
    "        if col in dados_tema.columns:  # Verificar se a coluna existe\n",
    "            dados_tema[col] = dados_tema[col].fillna(0)\n",
    "\n",
    "    # Ajustando valores não numéricos com ffill e bfill\n",
    "    non_num_cols = [\"unidade_federada\", \"CATEGORIA_PRIMARIA\", \"populacao\"]\n",
    "    for col in non_num_cols:\n",
    "        if col in dados_tema.columns:  # Verificar se a coluna existe\n",
    "            dados_tema[col] = dados_tema[col].ffill().bfill()\n",
    "    \n",
    "    # Salvando em excel\n",
    "    #-- dados_tema.to_excel(f\"/Workspace/Users/danielly.xavier@iclinic.com.br/resultados_modelo_ts_research_center/analise_nacional/dados_diarios/{tema}_{correlacao}_series_temporais_diario.xlsx\")\n",
    "    \n",
    "    # Calcular a correlação entre 'total_acessos' e 'total_internacoes'\n",
    "    correlacao = round(dados_tema[['internacoes', 'total_acessos']].corr().iloc[0, 1], 2)\n",
    "    \n",
    "    # Plotar as séries temporais\n",
    "    plt.figure(figsize=(10,6))\n",
    "    \n",
    "    # Série temporal de 'total_acessos'\n",
    "    plt.plot(dados_tema['DT_INTER'], dados_tema['total_acessos'], label='Total de acessos no Whitebook', color='blue')\n",
    "    \n",
    "    # Série temporal de 'total_internacoes'\n",
    "    plt.plot(dados_tema['DT_INTER'], dados_tema['internacoes'], label='Total de internações no SIH', color='green')\n",
    "    \n",
    "    # Adicionar título e rótulos com a correlação\n",
    "    plt.title(f'Série Temporal- {tema} (Correlação: {correlacao:.2f})')\n",
    "    plt.xlabel('Data')\n",
    "    plt.ylabel('Quantidade')\n",
    "    plt.legend()\n",
    "    \n",
    "    # Ajuste de layout\n",
    "    plt.xticks(rotation=90)\n",
    "    plt.tight_layout()\n",
    "    \n",
    "    # Salvar o gráfico\n",
    "    #-- plt.savefig(f\"/Workspace/Users/danielly.xavier@iclinic.com.br/resultados_modelo_ts_research_center/analise_nacional/graficos_correlacao/{tema}_{correlacao}_series_temporais.png\")\n",
    "    \n",
    "    # Exibir o gráfico no notebook\n",
    "    plt.show()"
   ]
  },
  {
   "cell_type": "code",
   "execution_count": 0,
   "metadata": {
    "application/vnd.databricks.v1+cell": {
     "cellMetadata": {
      "byteLimit": 2048000,
      "rowLimit": 10000
     },
     "inputWidgets": {},
     "nuid": "47ef98b1-650c-4be7-8d0b-a22ff0b6c420",
     "showTitle": false,
     "tableResultSettingsMap": {},
     "title": ""
    }
   },
   "outputs": [],
   "source": [
    "# Lista para acumular os resultados\n",
    "resultados_correlacao = []\n",
    "\n",
    "# Criar gráficos de linha para cada tema_principal e unidade_federada\n",
    "for tema in merged_uf_df['CATEGORIA_PRIMARIA'].unique():\n",
    "    for uf in merged_uf_df['unidade_federada'].unique():\n",
    "        # Filtrar os dados para o diagnóstico atual\n",
    "        dados_tema = merged_uf_df[\n",
    "            (merged_uf_df['CATEGORIA_PRIMARIA'] == tema) & (merged_uf_df['unidade_federada'] == uf)\n",
    "        ].copy()\n",
    "\n",
    "        # Ajustando range de datas\n",
    "        datas_range = pd.DataFrame({\n",
    "            \"DT_INTER\": pd.date_range(start=\"2021-01-01\", end=\"2024-05-30\")\n",
    "        })\n",
    "\n",
    "        # Unindo dados com datas\n",
    "        dados_tema[\"DT_INTER\"] = pd.to_datetime(dados_tema[\"DT_INTER\"])\n",
    "        dados_tema = pd.merge(datas_range, dados_tema, on=\"DT_INTER\", how=\"left\")\n",
    "\n",
    "        # Substituir NaN por 0 em colunas numéricas\n",
    "        num_cols = [\"INTERNACOES\", \"count\", \"taxa_internacao\"]\n",
    "        for col in num_cols:\n",
    "            if col in dados_tema.columns:  # Verificar se a coluna existe\n",
    "                dados_tema[col] = dados_tema[col].fillna(0)\n",
    "\n",
    "        # Ajustando valores não numéricos com ffill e bfill\n",
    "        non_num_cols = [\"unidade_federada\", \"CATEGORIA_PRIMARIA\", \"populacao\"]\n",
    "        for col in non_num_cols:\n",
    "            if col in dados_tema.columns:  # Verificar se a coluna existe\n",
    "                dados_tema[col] = dados_tema[col].ffill().bfill()\n",
    "        \n",
    "        # Calcular a correlação entre 'INTERNACOES' e 'count'\n",
    "        correlacao = round(dados_tema[['INTERNACOES', 'count']].corr().iloc[0, 1], 2)\n",
    "\n",
    "        # Adicionar o resultado à lista\n",
    "        resultados_correlacao.append({\"uf\": uf, \"tema\": tema, \"correlacao\": correlacao})\n",
    "\n",
    "        # Salvar o DataFrame processado em Excel\n",
    "        caminho_excel = f\"/Workspace/Users/danielly.xavier@iclinic.com.br/resultados_modelo_ts_research_center/analise_estadual/dados_diarios/{uf}_{tema}_{correlacao}_series_temporais_diario.xlsx\"\n",
    "        #-- dados_tema.to_excel(caminho_excel, index=False)\n",
    "\n",
    "        # Plotar as séries temporais\n",
    "        plt.figure(figsize=(10, 6))\n",
    "        plt.plot(dados_tema['DT_INTER'], dados_tema['count'], label='Total de acessos no Whitebook', color='blue')\n",
    "        plt.plot(dados_tema['DT_INTER'], dados_tema['INTERNACOES'], label='Total de internações no SIH', color='green')\n",
    "\n",
    "        # Adicionar título e rótulos com a correlação\n",
    "        plt.title(f'Série Temporal - {tema} em {uf}, (Correlação: {correlacao:.2f})')\n",
    "        plt.xlabel('Data')\n",
    "        plt.ylabel('Quantidade')\n",
    "        plt.legend()\n",
    "        plt.xticks(rotation=90)\n",
    "        plt.tight_layout()\n",
    "\n",
    "        # Salvar o gráfico diretamente\n",
    "        caminho_grafico = f\"/Workspace/Users/danielly.xavier@iclinic.com.br/resultados_modelo_ts_research_center/analise_estadual/graficos_correlacao/{uf}_{tema}_{correlacao}_series_temporais.png\"\n",
    "        #-- plt.savefig(caminho_grafico, dpi=300)\n",
    "\n",
    "        # Fechar o gráfico para liberar memória\n",
    "        plt.close()\n",
    "\n",
    "        # Limpar o DataFrame processado\n",
    "        del dados_tema"
   ]
  },
  {
   "cell_type": "code",
   "execution_count": 0,
   "metadata": {
    "application/vnd.databricks.v1+cell": {
     "cellMetadata": {
      "byteLimit": 2048000,
      "rowLimit": 10000
     },
     "inputWidgets": {},
     "nuid": "944d5087-1e50-42c3-8176-41f94cb37e25",
     "showTitle": false,
     "tableResultSettingsMap": {},
     "title": ""
    }
   },
   "outputs": [],
   "source": [
    "# Criar o DataFrame de resultados de correlação\n",
    "df_resultados = pd.DataFrame(resultados_correlacao)\n",
    "\n",
    "# Ordenar pela correlação (maior para menor)\n",
    "df_resultados = df_resultados.sort_values(by=\"correlacao\", ascending=False)\n",
    "\n",
    "# Salvar o DataFrame final em um arquivo Excel\n",
    "caminho_final = \"/Workspace/Users/danielly.xavier@iclinic.com.br/resultados_modelo_ts_research_center/analise_estadual/graficos_correlacao/resultados_correlacao.xlsx\"\n",
    "\n",
    "df_resultados.to_excel(caminho_final, index=False)"
   ]
  },
  {
   "cell_type": "markdown",
   "metadata": {
    "application/vnd.databricks.v1+cell": {
     "cellMetadata": {
      "byteLimit": 2048000,
      "rowLimit": 10000
     },
     "inputWidgets": {},
     "nuid": "8582655d-4d34-4067-bb41-02dbc65d4053",
     "showTitle": false,
     "tableResultSettingsMap": {},
     "title": ""
    }
   },
   "source": [
    "## Treinamento de modelos de Séries Temporais"
   ]
  },
  {
   "cell_type": "markdown",
   "metadata": {
    "application/vnd.databricks.v1+cell": {
     "cellMetadata": {
      "byteLimit": 2048000,
      "rowLimit": 10000
     },
     "inputWidgets": {},
     "nuid": "cd4a47aa-0e6e-4960-b984-4ddf606b76f7",
     "showTitle": false,
     "tableResultSettingsMap": {},
     "title": ""
    }
   },
   "source": [
    "### Modelos nacionais"
   ]
  },
  {
   "cell_type": "code",
   "execution_count": 0,
   "metadata": {
    "application/vnd.databricks.v1+cell": {
     "cellMetadata": {
      "byteLimit": 2048000,
      "rowLimit": 10000
     },
     "inputWidgets": {},
     "nuid": "aecb99cb-c9e0-4127-a805-dba5bcccb5ff",
     "showTitle": false,
     "tableResultSettingsMap": {},
     "title": ""
    }
   },
   "outputs": [],
   "source": [
    "# Função para dividir os dados em treino (antes de 2023) e teste (2023)\n",
    "def prepare_data(df):\n",
    "    # Converter '2023-01-01' para um objeto datetime compatível com datetime64[ns]\n",
    "    data_limite = pd.to_datetime('2023-01-01')\n",
    "\n",
    "    # Como 'DT_INTER' virou índice, usamos o índice para a filtragem\n",
    "    treino = df[df.index < data_limite]\n",
    "    teste = df[df.index >= data_limite]\n",
    "    \n",
    "    return treino, teste"
   ]
  },
  {
   "cell_type": "code",
   "execution_count": 0,
   "metadata": {
    "application/vnd.databricks.v1+cell": {
     "cellMetadata": {
      "byteLimit": 2048000,
      "rowLimit": 10000
     },
     "inputWidgets": {},
     "nuid": "713ee6dd-3322-406a-b15b-ea022e998f4a",
     "showTitle": false,
     "tableResultSettingsMap": {},
     "title": ""
    }
   },
   "outputs": [],
   "source": [
    "def prepare_time_series_data(df, tema):\n",
    "    # Filtrar o tema principal específico\n",
    "    dados_tema = df[df['tema_principal'] == tema].copy()\n",
    "\n",
    "    # Selecionar as colunas necessárias\n",
    "    dados_tema = dados_tema[['DT_INTER', 'internacoes', 'total_acessos']]\n",
    "\n",
    "    # Garantir que DT_INTER seja tratado como data\n",
    "    dados_tema['DT_INTER'] = pd.to_datetime(dados_tema['DT_INTER'])\n",
    "\n",
    "    # Definir DT_INTER como índice\n",
    "    dados_tema.set_index('DT_INTER', inplace=True)\n",
    "\n",
    "    # Verificar o intervalo completo de datas desde o início até o fim\n",
    "    all_dates = pd.date_range(start=dados_tema.index.min(), end=dados_tema.index.max())\n",
    "\n",
    "    # Adicionar as datas faltantes e preencher com NaN\n",
    "    dados_tema = dados_tema.reindex(all_dates, fill_value=pd.NA)\n",
    "\n",
    "    # Interpolar os dados para preencher os valores NaN\n",
    "    dados_tema.interpolate(method='time', inplace=True)\n",
    "\n",
    "    # Remover as lacunas com mais de 3 dias consecutivos sem dados\n",
    "    # Criar uma série booleana que identifica onde estão os NaNs\n",
    "    is_nan = dados_tema['internacoes'].isna() | dados_tema['total_acessos'].isna()\n",
    "\n",
    "    # Agrupar os NaNs e contar os grupos consecutivos\n",
    "    grouped_nan = is_nan.groupby((is_nan != is_nan.shift()).cumsum()).cumsum()\n",
    "\n",
    "    # Encontrar os índices onde a contagem de NaNs consecutivos é maior que 3\n",
    "    to_remove = grouped_nan[grouped_nan > 3].index\n",
    "\n",
    "    # Remover esses índices do DataFrame\n",
    "    dados_tema.drop(index=to_remove, inplace=True)\n",
    "\n",
    "    return dados_tema"
   ]
  },
  {
   "cell_type": "markdown",
   "metadata": {
    "application/vnd.databricks.v1+cell": {
     "cellMetadata": {
      "byteLimit": 2048000,
      "rowLimit": 10000
     },
     "inputWidgets": {},
     "nuid": "1245b520-00f8-477f-adbd-a6c5e51f9862",
     "showTitle": false,
     "tableResultSettingsMap": {},
     "title": ""
    }
   },
   "source": [
    "#### Modelo Univariado"
   ]
  },
  {
   "cell_type": "code",
   "execution_count": 0,
   "metadata": {
    "application/vnd.databricks.v1+cell": {
     "cellMetadata": {
      "byteLimit": 2048000,
      "rowLimit": 10000
     },
     "inputWidgets": {},
     "nuid": "c07a2820-19ad-4a21-8273-4823ab1a0a2c",
     "showTitle": false,
     "tableResultSettingsMap": {},
     "title": ""
    }
   },
   "outputs": [],
   "source": [
    "# Função para treinar o modelo SARIMAX com ou sem variável exógena\n",
    "def treinar_modelo_sarimax_univariado(treino, teste):\n",
    "    # Separar a variável dependente (internacoes)\n",
    "    y_train = treino['internacoes']\n",
    "    y_test = teste['internacoes']\n",
    "    \n",
    "    # Criar e ajustar o modelo SARIMAX (com ou sem variável exógena)\n",
    "    modelo = SARIMAX(y_train, exog=None, order=(1, 1, 1), seasonal_order=(1, 1, 1, 12))\n",
    "    resultado = modelo.fit(disp=False)\n",
    "    \n",
    "    # Fazer previsões para o período de teste\n",
    "    forecast = resultado.get_forecast(steps=len(teste))\n",
    "    \n",
    "    # Gerar o intervalo de confiança\n",
    "    conf_int = forecast.conf_int(alpha=0.05)\n",
    "    \n",
    "    return resultado, forecast, conf_int"
   ]
  },
  {
   "cell_type": "code",
   "execution_count": 0,
   "metadata": {
    "application/vnd.databricks.v1+cell": {
     "cellMetadata": {
      "byteLimit": 2048000,
      "rowLimit": 10000
     },
     "inputWidgets": {},
     "nuid": "61405321-4c6d-48d3-8790-4897668f73f7",
     "showTitle": false,
     "tableResultSettingsMap": {},
     "title": ""
    }
   },
   "outputs": [],
   "source": [
    "# Função para plotar as previsões e dados reais\n",
    "def plot_forecast_univariado(treino, teste, forecast, conf_int, tema):\n",
    "    plt.figure(figsize=(10,6))\n",
    "    \n",
    "    # Plotar os dados de treino\n",
    "    plt.plot(treino.index, treino['internacoes'], label='Treino (Observado)', color='blue')\n",
    "    \n",
    "    # Plotar os dados de teste\n",
    "    plt.plot(teste.index, teste['internacoes'], label='Teste (Observado)', color='orange')\n",
    "    \n",
    "    # Plotar o forecast\n",
    "    plt.plot(teste.index, forecast.predicted_mean, label='Forecast (Predição)', color='green')\n",
    "    \n",
    "    # Plotar intervalo de confiança\n",
    "    plt.fill_between(teste.index, conf_int.iloc[:, 0], conf_int.iloc[:, 1], color='gray', alpha=0.3, label='95% Intervalo de Confiança')\n",
    "    \n",
    "    # Configurações do gráfico\n",
    "    plt.title(f'Forecast SARIMAX univariado - {tema}')\n",
    "    plt.xlabel('Data')\n",
    "    plt.ylabel('Total Internações')\n",
    "    plt.xticks(rotation=90)\n",
    "    plt.legend()\n",
    "    plt.tight_layout()\n",
    "    \n",
    "    # Salvar o gráfico com o prefixo \"ts_\", tema e tipo de modelo\n",
    "    plt.savefig(f\"/Workspace/Users/danielly.xavier@iclinic.com.br/resultados_modelo_ts_research_center/analise_nacional/ts_univariada/graficos/ts_{tema}_univariado_forecast_nacional.png\")\n",
    "    plt.close()"
   ]
  },
  {
   "cell_type": "code",
   "execution_count": 0,
   "metadata": {
    "application/vnd.databricks.v1+cell": {
     "cellMetadata": {
      "byteLimit": 2048000,
      "rowLimit": 10000
     },
     "inputWidgets": {},
     "nuid": "d1bab16e-b74e-4f07-8a0e-73c0b4ee64d5",
     "showTitle": false,
     "tableResultSettingsMap": {},
     "title": ""
    }
   },
   "outputs": [],
   "source": [
    "# Função para gerar e salvar o sumário do modelo em Excel\n",
    "def summary_modelo_univariado(resultado, tema):\n",
    "    print(f'Summary do modelo SARIMAX univariado para {tema}')\n",
    "    print(resultado.summary())\n",
    "    \n",
    "    # Converte o summary em uma string e divide em linhas\n",
    "    summary_text = resultado.summary().as_text().splitlines()\n",
    "    \n",
    "    # Converte cada linha do summary em uma lista de strings para formar um DataFrame\n",
    "    summary_df = pd.DataFrame([line.split() for line in summary_text if line.strip()], dtype=str)\n",
    "    \n",
    "    # Define o caminho do arquivo de saída\n",
    "    output_path = f\"/Workspace/Users/danielly.xavier@iclinic.com.br/resultados_modelo_ts_research_center/analise_nacional/ts_univariada/summaries/ts_{tema}_univariado_summary.xlsx\"\n",
    "    \n",
    "    # Salva o DataFrame no Excel\n",
    "    summary_df.to_excel(output_path, index=False, header=False)\n",
    "    \n",
    "    print(f\"Summary completo salvo em: {output_path}\")"
   ]
  },
  {
   "cell_type": "code",
   "execution_count": 0,
   "metadata": {
    "application/vnd.databricks.v1+cell": {
     "cellMetadata": {
      "byteLimit": 2048000,
      "rowLimit": 10000
     },
     "inputWidgets": {},
     "nuid": "1eb11155-685b-4ce5-8e42-6e2e1376edb4",
     "showTitle": false,
     "tableResultSettingsMap": {},
     "title": ""
    }
   },
   "outputs": [],
   "source": [
    "# Loop para cada tema principal\n",
    "for tema in dados_agrupados_pandas['tema_principal'].unique():\n",
    "    try:\n",
    "        # Preparar os dados de série temporal\n",
    "        dados_tema = prepare_time_series_data(dados_agrupados_pandas, tema)\n",
    "        \n",
    "        # Dividir em treino (anos antes de 2023) e teste (2023)\n",
    "        treino, teste = prepare_data(dados_tema)\n",
    "        \n",
    "        # Treinar e salvar o modelo univariado (sem exógena)\n",
    "        resultado_uni, forecast_uni, conf_int_uni = treinar_modelo_sarimax_univariado(treino, teste)\n",
    "        plot_forecast_univariado(treino, teste, forecast_uni, conf_int_uni, tema)\n",
    "        summary_modelo_univariado(resultado_uni, tema)\n",
    "            \n",
    "    except ValueError as ve:\n",
    "        # Se ocorrer um ValueError (como o array vazio), imprimir a mensagem de erro\n",
    "        print(f\"Erro ao processar o tema '{tema}': {ve}\")\n",
    "    \n",
    "    except Exception as e:\n",
    "        # Capturar outros tipos de exceções e imprimir a mensagem de erro\n",
    "        print(f\"Ocorreu um erro inesperado ao processar o tema '{tema}': {e}\")"
   ]
  },
  {
   "cell_type": "markdown",
   "metadata": {
    "application/vnd.databricks.v1+cell": {
     "cellMetadata": {
      "byteLimit": 2048000,
      "rowLimit": 10000
     },
     "inputWidgets": {},
     "nuid": "cbcf6a5a-7465-484d-863b-b448f6ab4446",
     "showTitle": false,
     "tableResultSettingsMap": {},
     "title": ""
    }
   },
   "source": [
    "#### Modelo com variável exógena (Whitebook)"
   ]
  },
  {
   "cell_type": "code",
   "execution_count": 0,
   "metadata": {
    "application/vnd.databricks.v1+cell": {
     "cellMetadata": {
      "byteLimit": 2048000,
      "rowLimit": 10000
     },
     "inputWidgets": {},
     "nuid": "d8fd0fef-0b85-48b6-8e1f-30f21add1dd0",
     "showTitle": false,
     "tableResultSettingsMap": {},
     "title": ""
    }
   },
   "outputs": [],
   "source": [
    "# Função para treinar o modelo SARIMAX com ou sem variável exógena\n",
    "def treinar_modelo_sarimax_exogena(treino, teste, com_exog=True):\n",
    "    # Separar a variável dependente (internacoes)\n",
    "    y_train = treino['internacoes']\n",
    "    y_test = teste['internacoes']\n",
    "    \n",
    "    exog_train = treino[['total_acessos']]\n",
    "    exog_test = teste[['total_acessos']]\n",
    "   \n",
    "    # Criar e ajustar o modelo SARIMAX (com ou sem variável exógena)\n",
    "    modelo = SARIMAX(y_train, exog=exog_train, order=(1, 1, 1), seasonal_order=(1, 1, 1, 12))\n",
    "    resultado = modelo.fit(disp=False)\n",
    "    \n",
    "    # Fazer previsões para o período de teste\n",
    "    forecast = resultado.get_forecast(steps=len(teste), exog=exog_test)\n",
    "    \n",
    "    # Gerar o intervalo de confiança\n",
    "    conf_int = forecast.conf_int(alpha=0.05)\n",
    "    \n",
    "    return resultado, forecast, conf_int"
   ]
  },
  {
   "cell_type": "code",
   "execution_count": 0,
   "metadata": {
    "application/vnd.databricks.v1+cell": {
     "cellMetadata": {
      "byteLimit": 2048000,
      "rowLimit": 10000
     },
     "inputWidgets": {},
     "nuid": "8a503d9d-bf91-4f96-9617-e221da398aa3",
     "showTitle": false,
     "tableResultSettingsMap": {},
     "title": ""
    }
   },
   "outputs": [],
   "source": [
    "# Função para plotar as previsões e dados reais\n",
    "def plot_forecast_exogena(treino, teste, forecast, conf_int, tema):\n",
    "    plt.figure(figsize=(10,6))\n",
    "    \n",
    "    # Plotar os dados de treino\n",
    "    plt.plot(treino.index, treino['internacoes'], label='Treino (Observado)', color='blue')\n",
    "    \n",
    "    # Plotar os dados de teste\n",
    "    plt.plot(teste.index, teste['internacoes'], label='Teste (Observado)', color='orange')\n",
    "    \n",
    "    # Plotar o forecast\n",
    "    plt.plot(teste.index, forecast.predicted_mean, label='Forecast (Predição)', color='green')\n",
    "    \n",
    "    # Plotar intervalo de confiança\n",
    "    plt.fill_between(teste.index, conf_int.iloc[:, 0], conf_int.iloc[:, 1], color='gray', alpha=0.3, label='95% Intervalo de Confiança')\n",
    "    \n",
    "    # Configurações do gráfico\n",
    "    plt.title(f'Forecast SARIMAX com variável exógena - {tema}')\n",
    "    plt.xlabel('Data')\n",
    "    plt.ylabel('Total Internações')\n",
    "    plt.xticks(rotation=90)\n",
    "    plt.legend()\n",
    "    plt.tight_layout()\n",
    "    \n",
    "    # Salvar o gráfico com o prefixo \"ts_\", tema e tipo de modelo\n",
    "    plt.savefig(f\"/Workspace/Users/danielly.xavier@iclinic.com.br/resultados_modelo_ts_research_center/analise_nacional/ts_exogena/graficos/ts_{tema}_exogena_forecast_nacional.png\")\n",
    "    plt.close()"
   ]
  },
  {
   "cell_type": "code",
   "execution_count": 0,
   "metadata": {
    "application/vnd.databricks.v1+cell": {
     "cellMetadata": {
      "byteLimit": 2048000,
      "rowLimit": 10000
     },
     "inputWidgets": {},
     "nuid": "2c6c70ef-8907-42dc-8bb1-1e244b1748ce",
     "showTitle": false,
     "tableResultSettingsMap": {},
     "title": ""
    }
   },
   "outputs": [],
   "source": [
    "# Função para gerar e salvar o sumário do modelo em Excel\n",
    "def summary_modelo_exogena(resultado, tema):\n",
    "    print(f'Summary do modelo SARIMAX com variável exógena para {tema}')\n",
    "    print(resultado.summary())\n",
    "    \n",
    "    # Converte o summary em uma string e divide em linhas\n",
    "    summary_text = resultado.summary().as_text().splitlines()\n",
    "    \n",
    "    # Converte cada linha do summary em uma lista de strings para formar um DataFrame\n",
    "    summary_df = pd.DataFrame([line.split() for line in summary_text if line.strip()], dtype=str)\n",
    "    \n",
    "    # Define o caminho do arquivo de saída\n",
    "    output_path = f\"/Workspace/Users/danielly.xavier@iclinic.com.br/resultados_modelo_ts_research_center/analise_nacional/ts_exogena/summaries/ts_{tema}_exaogena_summary.xlsx\"\n",
    "    \n",
    "    # Salva o DataFrame no Excel\n",
    "    summary_df.to_excel(output_path, index=False, header=False)\n",
    "    \n",
    "    print(f\"Summary completo salvo em: {output_path}\")"
   ]
  },
  {
   "cell_type": "code",
   "execution_count": 0,
   "metadata": {
    "application/vnd.databricks.v1+cell": {
     "cellMetadata": {
      "byteLimit": 2048000,
      "rowLimit": 10000
     },
     "inputWidgets": {},
     "nuid": "ff324eb2-799c-4cea-aca6-f6e8130db128",
     "showTitle": false,
     "tableResultSettingsMap": {},
     "title": ""
    }
   },
   "outputs": [],
   "source": [
    "# Loop para cada tema principal\n",
    "for tema in dados_agrupados_pandas['tema_principal'].unique():\n",
    "    try:\n",
    "        # Preparar os dados de série temporal\n",
    "        dados_tema = prepare_time_series_data(dados_agrupados_pandas, tema)\n",
    "        \n",
    "        # Dividir em treino (anos antes de 2023) e teste (2023)\n",
    "        treino, teste = prepare_data(dados_tema)\n",
    "                \n",
    "        # Treinar e salvar o modelo com exógena\n",
    "        resultado_exog, forecast_exog, conf_int_exog = treinar_modelo_sarimax_exogena(treino, teste)\n",
    "        plot_forecast_exogena(treino, teste, forecast_exog, conf_int_exog, tema)\n",
    "        summary_modelo_exogena(resultado_exog, tema)\n",
    "    \n",
    "    except ValueError as ve:\n",
    "        # Se ocorrer um ValueError (como o array vazio), imprimir a mensagem de erro\n",
    "        print(f\"Erro ao processar o tema '{tema}': {ve}\")\n",
    "    \n",
    "    except Exception as e:\n",
    "        # Capturar outros tipos de exceções e imprimir a mensagem de erro\n",
    "        print(f\"Ocorreu um erro inesperado ao processar o tema '{tema}': {e}\")"
   ]
  },
  {
   "cell_type": "markdown",
   "metadata": {
    "application/vnd.databricks.v1+cell": {
     "cellMetadata": {
      "byteLimit": 2048000,
      "rowLimit": 10000
     },
     "inputWidgets": {},
     "nuid": "f1b434e1-8f85-4ece-b625-7abc18aefb7c",
     "showTitle": false,
     "tableResultSettingsMap": {},
     "title": ""
    }
   },
   "source": [
    "### Modelos estaduais"
   ]
  },
  {
   "cell_type": "code",
   "execution_count": 0,
   "metadata": {
    "application/vnd.databricks.v1+cell": {
     "cellMetadata": {
      "byteLimit": 2048000,
      "rowLimit": 10000
     },
     "inputWidgets": {},
     "nuid": "bd301f5b-4539-4b3a-80a4-bcbd390270ab",
     "showTitle": false,
     "tableResultSettingsMap": {},
     "title": ""
    }
   },
   "outputs": [],
   "source": [
    "def prepare_time_series_data_uf(df, tema, uf):\n",
    "    # Filtrar o tema principal específico\n",
    "    dados_tema = df[(df['tema_principal'] == tema) & (df['UF'] == uf)].copy()\n",
    "\n",
    "    # Selecionar as colunas necessárias\n",
    "    dados_tema = dados_tema[['DT_INTER', 'internacoes', 'total_acessos']]\n",
    "\n",
    "    # Garantir que DT_INTER seja tratado como data\n",
    "    dados_tema['DT_INTER'] = pd.to_datetime(dados_tema['DT_INTER'])\n",
    "\n",
    "    # Definir DT_INTER como índice\n",
    "    dados_tema.set_index('DT_INTER', inplace=True)\n",
    "\n",
    "    # Verificar o intervalo completo de datas desde o início até o fim\n",
    "    all_dates = pd.date_range(start=dados_tema.index.min(), end=dados_tema.index.max())\n",
    "\n",
    "    # Adicionar as datas faltantes e preencher com NaN\n",
    "    dados_tema = dados_tema.reindex(all_dates, fill_value=pd.NA)\n",
    "\n",
    "    # Interpolar os dados para preencher os valores NaN\n",
    "    dados_tema.interpolate(method='time', inplace=True)\n",
    "\n",
    "    # Remover as lacunas com mais de 3 dias consecutivos sem dados\n",
    "    # Criar uma série booleana que identifica onde estão os NaNs\n",
    "    is_nan = dados_tema['internacoes'].isna() | dados_tema['total_acessos'].isna()\n",
    "\n",
    "    # Agrupar os NaNs e contar os grupos consecutivos\n",
    "    grouped_nan = is_nan.groupby((is_nan != is_nan.shift()).cumsum()).cumsum()\n",
    "\n",
    "    # Encontrar os índices onde a contagem de NaNs consecutivos é maior que 3\n",
    "    to_remove = grouped_nan[grouped_nan > 3].index\n",
    "\n",
    "    # Remover esses índices do DataFrame\n",
    "    dados_tema.drop(index=to_remove, inplace=True)\n",
    "\n",
    "    return dados_tema"
   ]
  },
  {
   "cell_type": "markdown",
   "metadata": {
    "application/vnd.databricks.v1+cell": {
     "cellMetadata": {
      "byteLimit": 2048000,
      "rowLimit": 10000
     },
     "inputWidgets": {},
     "nuid": "e3699d0c-d800-4747-8a00-1e4a5fa3e01b",
     "showTitle": false,
     "tableResultSettingsMap": {},
     "title": ""
    }
   },
   "source": [
    "#### Modelo Univariado"
   ]
  },
  {
   "cell_type": "code",
   "execution_count": 0,
   "metadata": {
    "application/vnd.databricks.v1+cell": {
     "cellMetadata": {
      "byteLimit": 2048000,
      "rowLimit": 10000
     },
     "inputWidgets": {},
     "nuid": "8acf890b-bf83-48ac-a66c-91cc7c1798ee",
     "showTitle": false,
     "tableResultSettingsMap": {},
     "title": ""
    }
   },
   "outputs": [],
   "source": [
    "# Ajustando nome das colunas\n",
    "dados_agrupados_pandas_uf = merged_uf_df.copy()\n",
    "dados_agrupados_pandas_uf.columns = (\"DT_INTER\", \"UF\", \"tema_principal\", \"internacoes\", \"total_acessos\", \"populacao\", \"taxa_internacao\")"
   ]
  },
  {
   "cell_type": "code",
   "execution_count": 0,
   "metadata": {
    "application/vnd.databricks.v1+cell": {
     "cellMetadata": {
      "byteLimit": 2048000,
      "rowLimit": 10000
     },
     "inputWidgets": {},
     "nuid": "f996f29a-288e-47b8-a859-c320c2c35712",
     "showTitle": false,
     "tableResultSettingsMap": {},
     "title": ""
    }
   },
   "outputs": [],
   "source": [
    "# Função para treinar o modelo SARIMAX com ou sem variável exógena\n",
    "def treinar_modelo_sarimax_univariado_uf(treino, teste):\n",
    "    # Separar a variável dependente (internacoes)\n",
    "    y_train = treino['internacoes']\n",
    "    y_test = teste['internacoes']\n",
    "    \n",
    "    # Criar e ajustar o modelo SARIMAX (com ou sem variável exógena)\n",
    "    modelo = SARIMAX(y_train, exog=None, order=(1, 1, 1), seasonal_order=(1, 1, 1, 12))\n",
    "    resultado = modelo.fit(disp=False)\n",
    "    \n",
    "    # Fazer previsões para o período de teste\n",
    "    forecast = resultado.get_forecast(steps=len(teste))\n",
    "    \n",
    "    # Gerar o intervalo de confiança\n",
    "    conf_int = forecast.conf_int(alpha=0.05)\n",
    "    \n",
    "    return resultado, forecast, conf_int"
   ]
  },
  {
   "cell_type": "code",
   "execution_count": 0,
   "metadata": {
    "application/vnd.databricks.v1+cell": {
     "cellMetadata": {
      "byteLimit": 2048000,
      "rowLimit": 10000
     },
     "inputWidgets": {},
     "nuid": "a5fbe05c-c5ba-4a63-84be-d6121180c211",
     "showTitle": false,
     "tableResultSettingsMap": {},
     "title": ""
    }
   },
   "outputs": [],
   "source": [
    "# Função para plotar as previsões e dados reais\n",
    "def plot_forecast_univariado_uf(treino, teste, forecast, conf_int, tema):\n",
    "    plt.figure(figsize=(10,6))\n",
    "    \n",
    "    # Plotar os dados de treino\n",
    "    plt.plot(treino.index, treino['internacoes'], label='Treino (Observado)', color='blue')\n",
    "    \n",
    "    # Plotar os dados de teste\n",
    "    plt.plot(teste.index, teste['internacoes'], label='Teste (Observado)', color='orange')\n",
    "    \n",
    "    # Plotar o forecast\n",
    "    plt.plot(teste.index, forecast.predicted_mean, label='Forecast (Predição)', color='green')\n",
    "    \n",
    "    # Plotar intervalo de confiança\n",
    "    plt.fill_between(teste.index, conf_int.iloc[:, 0], conf_int.iloc[:, 1], color='gray', alpha=0.3, label='95% Intervalo de Confiança')\n",
    "    \n",
    "    # Configurações do gráfico\n",
    "    plt.title(f'Forecast SARIMAX univariado - {tema} em {uf}')\n",
    "    plt.xlabel('Data')\n",
    "    plt.ylabel('Total Internações')\n",
    "    plt.xticks(rotation=90)\n",
    "    plt.legend()\n",
    "    plt.tight_layout()\n",
    "    \n",
    "    # Salvar o gráfico com o prefixo \"ts_\", tema e tipo de modelo\n",
    "    plt.savefig(f\"/Workspace/Users/danielly.xavier@iclinic.com.br/resultados_modelo_ts_research_center/analise_estadual/ts_univariada/graficos/ts_{tema}_{uf}_univariado_forecast.png\")\n",
    "    plt.close()"
   ]
  },
  {
   "cell_type": "code",
   "execution_count": 0,
   "metadata": {
    "application/vnd.databricks.v1+cell": {
     "cellMetadata": {
      "byteLimit": 2048000,
      "rowLimit": 10000
     },
     "inputWidgets": {},
     "nuid": "e7fbf616-ee70-40c0-9df4-5a95aa065c31",
     "showTitle": false,
     "tableResultSettingsMap": {},
     "title": ""
    }
   },
   "outputs": [],
   "source": [
    "# Função para gerar e salvar o sumário do modelo em Excel\n",
    "def summary_modelo_univariado_uf(resultado, tema):\n",
    "    print(f'Summary do modelo SARIMAX univariado para {tema}')\n",
    "    print(resultado.summary())\n",
    "    \n",
    "    # Converte o summary em uma string e divide em linhas\n",
    "    summary_text = resultado.summary().as_text().splitlines()\n",
    "    \n",
    "    # Converte cada linha do summary em uma lista de strings para formar um DataFrame\n",
    "    summary_df = pd.DataFrame([line.split() for line in summary_text if line.strip()], dtype=str)\n",
    "    \n",
    "    # Define o caminho do arquivo de saída\n",
    "    output_path = f\"/Workspace/Users/danielly.xavier@iclinic.com.br/resultados_modelo_ts_research_center/analise_estadual/ts_univariada/summaries/ts_{tema}_{uf}_univariado.xlsx\"\n",
    "    \n",
    "    # Salva o DataFrame no Excel\n",
    "    summary_df.to_excel(output_path, index=False, header=False)\n",
    "    \n",
    "    print(f\"Summary completo salvo em: {output_path}\")"
   ]
  },
  {
   "cell_type": "code",
   "execution_count": 0,
   "metadata": {
    "application/vnd.databricks.v1+cell": {
     "cellMetadata": {
      "byteLimit": 2048000,
      "rowLimit": 10000
     },
     "inputWidgets": {},
     "nuid": "feba8b5a-627c-42ca-8d1d-24f63f5c9669",
     "showTitle": false,
     "tableResultSettingsMap": {},
     "title": ""
    }
   },
   "outputs": [],
   "source": [
    "# Loop para cada tema principal\n",
    "for tema in dados_agrupados_pandas_uf['tema_principal'].unique():\n",
    "    for uf in dados_agrupados_pandas_uf['UF'].unique():\n",
    "        try:\n",
    "            # Preparar os dados de série temporal\n",
    "            dados_tema = prepare_time_series_data_uf(dados_agrupados_pandas_uf, tema, uf)\n",
    "            \n",
    "            # Dividir em treino (anos antes de 2023) e teste (2023)\n",
    "            treino, teste = prepare_data(dados_tema)\n",
    "            \n",
    "            # Treinar e salvar o modelo univariado (sem exógena)\n",
    "            resultado_uni, forecast_uni, conf_int_uni = treinar_modelo_sarimax_univariado_uf(treino, teste)\n",
    "            plot_forecast_univariado_uf(treino, teste, forecast_uni, conf_int_uni, tema)\n",
    "            summary_modelo_univariado_uf(resultado_uni, tema)\n",
    "                \n",
    "        except ValueError as ve:\n",
    "            # Se ocorrer um ValueError (como o array vazio), imprimir a mensagem de erro\n",
    "            print(f\"Erro ao processar o tema '{tema}' na {uf}: {ve}\")\n",
    "        \n",
    "        except Exception as e:\n",
    "            # Capturar outros tipos de exceções e imprimir a mensagem de erro\n",
    "            print(f\"Ocorreu um erro inesperado ao processar o tema '{tema}' na {uf}: {e}\")"
   ]
  },
  {
   "cell_type": "markdown",
   "metadata": {
    "application/vnd.databricks.v1+cell": {
     "cellMetadata": {
      "byteLimit": 2048000,
      "rowLimit": 10000
     },
     "inputWidgets": {},
     "nuid": "97a34293-09d1-42b7-8f25-f63b92edb66b",
     "showTitle": false,
     "tableResultSettingsMap": {},
     "title": ""
    }
   },
   "source": [
    "#### Modelo com variável exógena (Whitebook)"
   ]
  },
  {
   "cell_type": "code",
   "execution_count": 0,
   "metadata": {
    "application/vnd.databricks.v1+cell": {
     "cellMetadata": {
      "byteLimit": 2048000,
      "rowLimit": 10000
     },
     "inputWidgets": {},
     "nuid": "20b976c3-bf89-45fd-9288-bee662c9fe76",
     "showTitle": false,
     "tableResultSettingsMap": {},
     "title": ""
    }
   },
   "outputs": [],
   "source": [
    "# Função para treinar o modelo SARIMAX com ou sem variável exógena\n",
    "def treinar_modelo_sarimax_exogena_uf(treino, teste, com_exog=True):\n",
    "    # Separar a variável dependente (internacoes)\n",
    "    y_train = treino['internacoes']\n",
    "    y_test = teste['internacoes']\n",
    "    \n",
    "    exog_train = treino[['total_acessos']]\n",
    "    exog_test = teste[['total_acessos']]\n",
    "   \n",
    "    # Criar e ajustar o modelo SARIMAX (com ou sem variável exógena)\n",
    "    modelo = SARIMAX(y_train, exog=exog_train, order=(1, 1, 1), seasonal_order=(1, 1, 1, 12))\n",
    "    resultado = modelo.fit(disp=False)\n",
    "    \n",
    "    # Fazer previsões para o período de teste\n",
    "    forecast = resultado.get_forecast(steps=len(teste), exog=exog_test)\n",
    "    \n",
    "    # Gerar o intervalo de confiança\n",
    "    conf_int = forecast.conf_int(alpha=0.05)\n",
    "    \n",
    "    return resultado, forecast, conf_int"
   ]
  },
  {
   "cell_type": "code",
   "execution_count": 0,
   "metadata": {
    "application/vnd.databricks.v1+cell": {
     "cellMetadata": {
      "byteLimit": 2048000,
      "rowLimit": 10000
     },
     "inputWidgets": {},
     "nuid": "cda828ed-6fd4-4a7d-b26a-9f1fea1182f0",
     "showTitle": false,
     "tableResultSettingsMap": {},
     "title": ""
    }
   },
   "outputs": [],
   "source": [
    "# Função para plotar as previsões e dados reais\n",
    "def plot_forecast_exogena_uf(treino, teste, forecast, conf_int, tema):\n",
    "    plt.figure(figsize=(10,6))\n",
    "    \n",
    "    # Plotar os dados de treino\n",
    "    plt.plot(treino.index, treino['internacoes'], label='Treino (Observado)', color='blue')\n",
    "    \n",
    "    # Plotar os dados de teste\n",
    "    plt.plot(teste.index, teste['internacoes'], label='Teste (Observado)', color='orange')\n",
    "    \n",
    "    # Plotar o forecast\n",
    "    plt.plot(teste.index, forecast.predicted_mean, label='Forecast (Predição)', color='green')\n",
    "    \n",
    "    # Plotar intervalo de confiança\n",
    "    plt.fill_between(teste.index, conf_int.iloc[:, 0], conf_int.iloc[:, 1], color='gray', alpha=0.3, label='95% Intervalo de Confiança')\n",
    "    \n",
    "    # Configurações do gráfico\n",
    "    plt.title(f'Forecast SARIMAX com variável exógena - {tema} em {uf}')\n",
    "    plt.xlabel('Data')\n",
    "    plt.ylabel('Total Internações')\n",
    "    plt.xticks(rotation=90)\n",
    "    plt.legend()\n",
    "    plt.tight_layout()\n",
    "    \n",
    "    # Salvar o gráfico com o prefixo \"ts_\", tema e tipo de modelo\n",
    "    plt.savefig(f\"/Workspace/Users/danielly.xavier@iclinic.com.br/resultados_modelo_ts_research_center/analise_estadual/ts_exogena/graficos/ts_{tema}_{uf}_exogena_forecast.png\")\n",
    "    plt.close()"
   ]
  },
  {
   "cell_type": "code",
   "execution_count": 0,
   "metadata": {
    "application/vnd.databricks.v1+cell": {
     "cellMetadata": {
      "byteLimit": 2048000,
      "rowLimit": 10000
     },
     "inputWidgets": {},
     "nuid": "b277f956-4bc4-4665-828e-3cbc7e66fe7f",
     "showTitle": false,
     "tableResultSettingsMap": {},
     "title": ""
    }
   },
   "outputs": [],
   "source": [
    "# Função para gerar e salvar o sumário do modelo em Excel\n",
    "def summary_modelo_exogena_uf(resultado, tema):\n",
    "    print(f'Summary do modelo SARIMAX com variável exógena para {tema} em {uf}')\n",
    "    print(resultado.summary())\n",
    "    \n",
    "    # Converte o summary em uma string e divide em linhas\n",
    "    summary_text = resultado.summary().as_text().splitlines()\n",
    "    \n",
    "    # Converte cada linha do summary em uma lista de strings para formar um DataFrame\n",
    "    summary_df = pd.DataFrame([line.split() for line in summary_text if line.strip()], dtype=str)\n",
    "    \n",
    "    # Define o caminho do arquivo de saída\n",
    "    output_path = f\"/Workspace/Users/danielly.xavier@iclinic.com.br/resultados_modelo_ts_research_center/analise_estadual/ts_exogena/summaries/ts_{tema}_{uf}_exaogena_summary.xlsx\"\n",
    "    \n",
    "    # Salva o DataFrame no Excel\n",
    "    summary_df.to_excel(output_path, index=False, header=False)\n",
    "    \n",
    "    print(f\"Summary completo salvo em: {output_path}\")"
   ]
  },
  {
   "cell_type": "code",
   "execution_count": 0,
   "metadata": {
    "application/vnd.databricks.v1+cell": {
     "cellMetadata": {
      "byteLimit": 2048000,
      "rowLimit": 10000
     },
     "inputWidgets": {},
     "nuid": "1d0d1350-6274-4683-a28b-116638a43d2d",
     "showTitle": false,
     "tableResultSettingsMap": {},
     "title": ""
    }
   },
   "outputs": [],
   "source": [
    "# Loop para cada tema principal\n",
    "for tema in dados_agrupados_pandas_uf['tema_principal'].unique():\n",
    "    for uf in dados_agrupados_pandas_uf['UF'].unique():\n",
    "        try:\n",
    "            # Preparar os dados de série temporal\n",
    "            dados_tema = prepare_time_series_data_uf(dados_agrupados_pandas_uf, tema, uf)\n",
    "            \n",
    "            # Dividir em treino (anos antes de 2023) e teste (2023)\n",
    "            treino, teste = prepare_data(dados_tema)\n",
    "            \n",
    "            # Treinar e salvar o modelo com variável exógena\n",
    "            resultado_uni, forecast_uni, conf_int_uni = treinar_modelo_sarimax_exogena_uf(treino, teste)\n",
    "            plot_forecast_exogena_uf(treino, teste, forecast_uni, conf_int_uni, tema)\n",
    "            summary_modelo_exogena_uf(resultado_uni, tema)\n",
    "                \n",
    "        except ValueError as ve:\n",
    "            # Se ocorrer um ValueError (como o array vazio), imprimir a mensagem de erro\n",
    "            print(f\"Erro ao processar o tema '{tema}' na {uf}: {ve}\")\n",
    "        \n",
    "        except Exception as e:\n",
    "            # Capturar outros tipos de exceções e imprimir a mensagem de erro\n",
    "            print(f\"Ocorreu um erro inesperado ao processar o tema '{tema}' na {uf}: {e}\")"
   ]
  },
  {
   "cell_type": "markdown",
   "metadata": {
    "application/vnd.databricks.v1+cell": {
     "cellMetadata": {},
     "inputWidgets": {},
     "nuid": "3f0aa843-b2a9-43b2-aba4-96793694e847",
     "showTitle": false,
     "tableResultSettingsMap": {},
     "title": ""
    }
   },
   "source": [
    "Extração de dados\n"
   ]
  },
  {
   "cell_type": "code",
   "execution_count": 0,
   "metadata": {
    "application/vnd.databricks.v1+cell": {
     "cellMetadata": {
      "byteLimit": 2048000,
      "rowLimit": 10000
     },
     "inputWidgets": {},
     "nuid": "f034a9fc-a216-4969-bdd5-fdcad22eaacd",
     "showTitle": false,
     "tableResultSettingsMap": {},
     "title": ""
    }
   },
   "outputs": [
    {
     "output_type": "stream",
     "name": "stdout",
     "output_type": "stream",
     "text": [
      "Processando arquivo: /Workspace/Users/danielly.xavier@iclinic.com.br/Modelo Séries Temporais Clima e Saúde WB/Modelo Séries Temporais Clima e Saúde WB - Resultados/analise_estadual/ts_univariada/summaries/ts_Asma_AC_univariado.xlsx\n                                                   0           1   ...      9    10\n0                                             SARIMAX     Results  ...     NaN  NaN\n1                                                 NaN         NaN  ...     NaN  NaN\n2                                                Dep.   Variable:  ...     NaN  NaN\n3                                              Model:  SARIMAX(1,  ...  82.877  NaN\n4                                               Date:        Tue,  ...     NaN  NaN\n5                                               Time:    10:52:42  ...     NaN  NaN\n6                                             Sample:  01-02-2021  ...     NaN  NaN\n7                                                   -  12-31-2022  ...     NaN  NaN\n8                                          Covariance       Type:  ...     NaN  NaN\n9                                                 NaN         NaN  ...     NaN  NaN\n10                                               coef         std  ...     NaN  NaN\n11  ----------------------------------------------...         NaN  ...     NaN  NaN\n12                                              ar.L1      0.7696  ...     NaN  NaN\n13                                              ma.L1     -0.9991  ...     NaN  NaN\n14                                           ar.S.L12      0.0427  ...     NaN  NaN\n\n[15 rows x 11 columns]\nDados extraídos (univariado): {'UF': 'AC', 'AGRAVO': 'Asma', 'LOG_UNIVARIADO': 82.877, 'AIC_UNIVARIADO': -155.755, 'BIC_UNIVARIADO': -132.886, 'HQIC_UNIVARIADO': -146.924, 'LJUNGBOX_UNIVARIADO': 4.53, 'JAQUE_BERA_UNIVARIADO': 18690.81, 'KURTOSIS_UNIVARIADO': 27.95, 'VARIAVEL_EXOGENA_SIGNIFIICATIVA': None, 'VARIAVEL_EXOGENA_ESTATISTICA': None, 'VARIAVEL_EXOGENA_PVALUE': None, 'DESCRICAO': 'Resultados para Asma no estado AC'}\nProcessando arquivo: /Workspace/Users/danielly.xavier@iclinic.com.br/Modelo Séries Temporais Clima e Saúde WB/Modelo Séries Temporais Clima e Saúde WB - Resultados/analise_estadual/ts_exogena/summaries/ts_Asma_AC_exaogena_summary.xlsx\n                                                   0           1   ...      9    10\n0                                             SARIMAX     Results  ...     NaN  NaN\n1                                                 NaN         NaN  ...     NaN  NaN\n2                                                Dep.   Variable:  ...     NaN  NaN\n3                                              Model:  SARIMAX(1,  ...  84.119  NaN\n4                                               Date:        Tue,  ...     NaN  NaN\n5                                               Time:    12:23:59  ...     NaN  NaN\n6                                             Sample:  01-02-2021  ...     NaN  NaN\n7                                                   -  12-31-2022  ...     NaN  NaN\n8                                          Covariance       Type:  ...     NaN  NaN\n9                                                 NaN         NaN  ...     NaN  NaN\n10                                               coef         std  ...     NaN  NaN\n11  ----------------------------------------------...         NaN  ...     NaN  NaN\n12                                      total_acessos      0.0252  ...     NaN  NaN\n13                                              ar.L1      0.7690  ...     NaN  NaN\n14                                              ma.L1     -0.9996  ...     NaN  NaN\n\n[15 rows x 11 columns]\nDados extraídos (exogena): {'UF': 'AC', 'AGRAVO': 'Asma', 'LOG_EXOGENA': 84.119, 'AIC_EXOGENA': -156.237, 'BIC_EXOGENA': -128.795, 'HQIC_EXOGENA': -145.64, 'LJUNGBOX_EXOGENA': nan, 'JAQUE_BERA_EXOGENA': nan, 'KURTOSIS_EXOGENA': 0.75, 'VARIAVEL_EXOGENA_SIGNIFIICATIVA': 1, 'VARIAVEL_EXOGENA_ESTATISTICA': 3.993, 'VARIAVEL_EXOGENA_PVALUE': 0.0, 'DESCRICAO': 'Resultados para Asma no estado AC'}\n\nResumo de campos incompletos:\n   UF AGRAVO  DADOS_INCOMPLETOS                      CAMPOS_INCOMPLETOS\n0  AC   Asma               True  [LJUNGBOX_EXOGENA, JAQUE_BERA_EXOGENA]\n\nResultados consolidados:\n   UF AGRAVO  ...  DADOS_INCOMPLETOS                      CAMPOS_INCOMPLETOS\n0  AC   Asma  ...               True  [LJUNGBOX_EXOGENA, JAQUE_BERA_EXOGENA]\n\n[1 rows x 22 columns]\nProcessamento concluído. Dados salvos em '/Workspace/Users/dayanna.quintanilha@afya.com.br/resultados_consolidados.csv'.\n"
     ]
    }
   ],
   "source": [
    "import os\n",
    "import pandas as pd\n",
    "\n",
    "# Definir os caminhos dos arquivos\n",
    "paths = {\n",
    "    'univariado': '/Workspace/Users/danielly.xavier@iclinic.com.br/Modelo Séries Temporais Clima e Saúde WB/Modelo Séries Temporais Clima e Saúde WB - Resultados/analise_estadual/ts_univariada/summaries/ts_Asma_AC_univariado.xlsx',\n",
    "    'exogena': '/Workspace/Users/danielly.xavier@iclinic.com.br/Modelo Séries Temporais Clima e Saúde WB/Modelo Séries Temporais Clima e Saúde WB - Resultados/analise_estadual/ts_exogena/summaries/ts_Asma_AC_exaogena_summary.xlsx'\n",
    "}\n",
    "\n",
    "# Dicionário para armazenar resultados temporários\n",
    "results_dict = {}\n",
    "\n",
    "# Função para extrair dados\n",
    "def extract_data(file_path, tipo):\n",
    "    try:\n",
    "        print(f\"Processando arquivo: {file_path}\")\n",
    "        df = pd.read_excel(file_path, header=None)\n",
    "        print(df.head(15))  # Visualização inicial\n",
    "\n",
    "        prefix = 'UNIVARIADO' if tipo == 'univariado' else 'EXOGENA'\n",
    "\n",
    "        # Extrair valores baseando-se na posição conhecida\n",
    "        log_likelihood = pd.to_numeric(df.iloc[3, 9], errors='coerce')\n",
    "        aic = pd.to_numeric(df.iloc[4, 6], errors='coerce')\n",
    "        bic = pd.to_numeric(df.iloc[5, 3], errors='coerce')\n",
    "        hqic = pd.to_numeric(df.iloc[6, 3], errors='coerce')\n",
    "        ljung_box = pd.to_numeric(df.iloc[18, 3], errors='coerce')\n",
    "        jarque_bera = pd.to_numeric(df.iloc[18, 6], errors='coerce')\n",
    "        kurtosis = pd.to_numeric(df.iloc[21, 4], errors='coerce')\n",
    "        estatistica = pd.to_numeric(df.iloc[12, 3], errors='coerce') if tipo == 'exogena' else None\n",
    "        pvalue = pd.to_numeric(df.iloc[12, 4], errors='coerce') if tipo == 'exogena' else None\n",
    "        significancia = 1 if pvalue is not None and pvalue <= 0.05 else 0\n",
    "\n",
    "        uf = 'AC'\n",
    "        agravo = 'Asma'\n",
    "        descricao = f\"Resultados para {agravo} no estado {uf}\"\n",
    "\n",
    "        # Armazenar os dados\n",
    "        data = {\n",
    "            'UF': uf,\n",
    "            'AGRAVO': agravo,\n",
    "            f'LOG_{prefix}': log_likelihood,\n",
    "            f'AIC_{prefix}': aic,\n",
    "            f'BIC_{prefix}': bic,\n",
    "            f'HQIC_{prefix}': hqic,\n",
    "            f'LJUNGBOX_{prefix}': ljung_box,\n",
    "            f'JAQUE_BERA_{prefix}': jarque_bera,\n",
    "            f'KURTOSIS_{prefix}': kurtosis,\n",
    "            'VARIAVEL_EXOGENA_SIGNIFIICATIVA': significancia if tipo == 'exogena' else None,\n",
    "            'VARIAVEL_EXOGENA_ESTATISTICA': estatistica,\n",
    "            'VARIAVEL_EXOGENA_PVALUE': pvalue,\n",
    "            'DESCRICAO': descricao\n",
    "        }\n",
    "        print(f\"Dados extraídos ({tipo}): {data}\")\n",
    "\n",
    "        # Atualizar o dicionário de resultados\n",
    "        key = (uf, agravo)\n",
    "        if key not in results_dict:\n",
    "            results_dict[key] = {}\n",
    "        results_dict[key].update(data)\n",
    "\n",
    "    except Exception as e:\n",
    "        print(f\"Erro ao processar {file_path}: {e}\")\n",
    "\n",
    "# Processar arquivos\n",
    "for tipo, path in paths.items():\n",
    "    extract_data(path, tipo)\n",
    "\n",
    "# Consolidar resultados\n",
    "df_resultados = pd.DataFrame(results_dict.values())\n",
    "\n",
    "# Verificar valores ausentes\n",
    "df_resultados['DADOS_INCOMPLETOS'] = df_resultados.isnull().any(axis=1)\n",
    "df_resultados['CAMPOS_INCOMPLETOS'] = df_resultados.apply(\n",
    "    lambda row: [col for col in df_resultados.columns if pd.isnull(row[col])], axis=1\n",
    ")\n",
    "\n",
    "# Exibir e salvar os resultados\n",
    "print(\"\\nResumo de campos incompletos:\")\n",
    "print(df_resultados[['UF', 'AGRAVO', 'DADOS_INCOMPLETOS', 'CAMPOS_INCOMPLETOS']])\n",
    "print(\"\\nResultados consolidados:\")\n",
    "print(df_resultados)\n",
    "\n",
    "output_path = '/Workspace/Users/dayanna.quintanilha@afya.com.br/resultados_consolidados.csv'\n",
    "df_resultados.to_csv(output_path, index=False)\n",
    "print(f\"Processamento concluído. Dados salvos em '{output_path}'.\")\n"
   ]
  },
  {
   "cell_type": "code",
   "execution_count": 0,
   "metadata": {
    "application/vnd.databricks.v1+cell": {
     "cellMetadata": {
      "byteLimit": 2048000,
      "rowLimit": 10000
     },
     "inputWidgets": {},
     "nuid": "4ccd8cfe-3a67-4098-a9e9-476ac766a3be",
     "showTitle": false,
     "tableResultSettingsMap": {},
     "title": ""
    }
   },
   "outputs": [
    {
     "output_type": "stream",
     "name": "stdout",
     "output_type": "stream",
     "text": [
      "\u001B[43mNote: you may need to restart the kernel using %restart_python or dbutils.library.restartPython() to use updated packages.\u001B[0m\nRequirement already satisfied: openpyxl in /local_disk0/.ephemeral_nfs/envs/pythonEnv-2fa8a723-5191-4d66-869a-965997964739/lib/python3.11/site-packages (3.1.5)\nRequirement already satisfied: et-xmlfile in /local_disk0/.ephemeral_nfs/envs/pythonEnv-2fa8a723-5191-4d66-869a-965997964739/lib/python3.11/site-packages (from openpyxl) (2.0.0)\n\u001B[43mNote: you may need to restart the kernel using %restart_python or dbutils.library.restartPython() to use updated packages.\u001B[0m\nProcessando arquivo: /Workspace/Users/danielly.xavier@iclinic.com.br/Modelo Séries Temporais Clima e Saúde WB/Modelo Séries Temporais Clima e Saúde WB - Resultados/analise_estadual/ts_univariada/summaries/ts_Pneumonia por outros organismos_RS_univariado.xlsx\n                                                   0           1   ...   14   15\n0                                             SARIMAX     Results  ...  NaN  NaN\n1                                                 NaN         NaN  ...  NaN  NaN\n2                                                Dep.   Variable:  ...  NaN  NaN\n3                                              Model:  SARIMAX(1,  ...  NaN  NaN\n4                                               Date:        Tue,  ...  NaN  NaN\n5                                               Time:    11:43:00  ...  NaN  NaN\n6                                             Sample:  09-18-2021  ...  NaN  NaN\n7                                                   -  12-31-2022  ...  NaN  NaN\n8                                          Covariance       Type:  ...  NaN  NaN\n9                                                 NaN         NaN  ...  NaN  NaN\n10                                               coef         std  ...  NaN  NaN\n11  ----------------------------------------------...         NaN  ...  NaN  NaN\n12                                              ar.L1   7.769e-06  ...  NaN  NaN\n13                                              ma.L1  -1.256e-12  ...  NaN  NaN\n14                                           ar.S.L12   1.118e-15  ...  NaN  NaN\n\n[15 rows x 16 columns]\nDados extraídos (univariado): {'UF': 'AC', 'AGRAVO': 'Asma', 'LOG_UNIVARIADO': 5183.24, 'AIC_UNIVARIADO': -10356.48, 'BIC_UNIVARIADO': -10335.856, 'HQIC_UNIVARIADO': -10348.357, 'LJUNGBOX_UNIVARIADO': nan, 'JAQUE_BERA_UNIVARIADO': nan, 'KURTOSIS_UNIVARIADO': nan, 'VARIAVEL_EXOGENA_SIGNIFIICATIVA': None, 'VARIAVEL_EXOGENA_ESTATISTICA': None, 'VARIAVEL_EXOGENA_PVALUE': None, 'DESCRICAO': 'Resultados para Asma no estado AC'}\nProcessando arquivo: /Workspace/Users/danielly.xavier@iclinic.com.br/Modelo Séries Temporais Clima e Saúde WB/Modelo Séries Temporais Clima e Saúde WB - Resultados/analise_estadual/ts_univariada/summaries/ts_Covid-19_MT_univariado.xlsx\n                                                   0   ...   10\n0                                             SARIMAX  ...  NaN\n1                                                 NaN  ...  NaN\n2                                                Dep.  ...  NaN\n3                                              Model:  ...  NaN\n4                                               Date:  ...  NaN\n5                                               Time:  ...  NaN\n6                                             Sample:  ...  NaN\n7                                                   -  ...  NaN\n8                                          Covariance  ...  NaN\n9                                                 NaN  ...  NaN\n10                                               coef  ...  NaN\n11  ----------------------------------------------...  ...  NaN\n12                                              ar.L1  ...  NaN\n13                                              ma.L1  ...  NaN\n14                                           ar.S.L12  ...  NaN\n\n[15 rows x 11 columns]\nDados extraídos (univariado): {'UF': 'AC', 'AGRAVO': 'Asma', 'LOG_UNIVARIADO': -2706.27, 'AIC_UNIVARIADO': 5422.541, 'BIC_UNIVARIADO': 5445.416, 'HQIC_UNIVARIADO': 5431.374, 'LJUNGBOX_UNIVARIADO': 0.0, 'JAQUE_BERA_UNIVARIADO': nan, 'KURTOSIS_UNIVARIADO': 7.86, 'VARIAVEL_EXOGENA_SIGNIFIICATIVA': None, 'VARIAVEL_EXOGENA_ESTATISTICA': None, 'VARIAVEL_EXOGENA_PVALUE': None, 'DESCRICAO': 'Resultados para Asma no estado AC'}\nProcessando arquivo: /Workspace/Users/danielly.xavier@iclinic.com.br/Modelo Séries Temporais Clima e Saúde WB/Modelo Séries Temporais Clima e Saúde WB - Resultados/analise_estadual/ts_univariada/summaries/ts_Cetoacidose diabética_RO_univariado.xlsx\n                                                   0   ...   10\n0                                             SARIMAX  ...  NaN\n1                                                 NaN  ...  NaN\n2                                                Dep.  ...  NaN\n3                                              Model:  ...  NaN\n4                                               Date:  ...  NaN\n5                                               Time:  ...  NaN\n6                                             Sample:  ...  NaN\n7                                                   -  ...  NaN\n8                                          Covariance  ...  NaN\n9                                                 NaN  ...  NaN\n10                                               coef  ...  NaN\n11  ----------------------------------------------...  ...  NaN\n12                                              ar.L1  ...  NaN\n13                                              ma.L1  ...  NaN\n14                                           ar.S.L12  ...  NaN\n\n[15 rows x 11 columns]\nDados extraídos (univariado): {'UF': 'AC', 'AGRAVO': 'Asma', 'LOG_UNIVARIADO': 1645.606, 'AIC_UNIVARIADO': -3281.211, 'BIC_UNIVARIADO': -3258.456, 'HQIC_UNIVARIADO': -3272.415, 'LJUNGBOX_UNIVARIADO': 0.0, 'JAQUE_BERA_UNIVARIADO': nan, 'KURTOSIS_UNIVARIADO': 176.59, 'VARIAVEL_EXOGENA_SIGNIFIICATIVA': None, 'VARIAVEL_EXOGENA_ESTATISTICA': None, 'VARIAVEL_EXOGENA_PVALUE': None, 'DESCRICAO': 'Resultados para Asma no estado AC'}\nProcessando arquivo: /Workspace/Users/danielly.xavier@iclinic.com.br/Modelo Séries Temporais Clima e Saúde WB/Modelo Séries Temporais Clima e Saúde WB - Resultados/analise_estadual/ts_univariada/summaries/ts_Depressão_AL_univariado.xlsx\n                                                   0           1   ...       9    10\n0                                             SARIMAX     Results  ...      NaN  NaN\n1                                                 NaN         NaN  ...      NaN  NaN\n2                                                Dep.   Variable:  ...      NaN  NaN\n3                                              Model:  SARIMAX(1,  ...  -23.625  NaN\n4                                               Date:        Tue,  ...      NaN  NaN\n5                                               Time:    10:32:13  ...      NaN  NaN\n6                                             Sample:  01-01-2021  ...      NaN  NaN\n7                                                   -  12-31-2022  ...      NaN  NaN\n8                                          Covariance       Type:  ...      NaN  NaN\n9                                                 NaN         NaN  ...      NaN  NaN\n10                                               coef         std  ...      NaN  NaN\n11  ----------------------------------------------...         NaN  ...      NaN  NaN\n12                                              ar.L1      0.7473  ...      NaN  NaN\n13                                              ma.L1     -0.9990  ...      NaN  NaN\n14                                           ar.S.L12      0.0350  ...      NaN  NaN\n\n[15 rows x 11 columns]\nDados extraídos (univariado): {'UF': 'AC', 'AGRAVO': 'Asma', 'LOG_UNIVARIADO': -23.625, 'AIC_UNIVARIADO': 57.25, 'BIC_UNIVARIADO': 80.125, 'HQIC_UNIVARIADO': 66.082, 'LJUNGBOX_UNIVARIADO': 0.0, 'JAQUE_BERA_UNIVARIADO': nan, 'KURTOSIS_UNIVARIADO': 24.03, 'VARIAVEL_EXOGENA_SIGNIFIICATIVA': None, 'VARIAVEL_EXOGENA_ESTATISTICA': None, 'VARIAVEL_EXOGENA_PVALUE': None, 'DESCRICAO': 'Resultados para Asma no estado AC'}\nProcessando arquivo: /Workspace/Users/danielly.xavier@iclinic.com.br/Modelo Séries Temporais Clima e Saúde WB/Modelo Séries Temporais Clima e Saúde WB - Resultados/analise_estadual/ts_univariada/summaries/ts_Depressão_PB_univariado.xlsx\n                                                   0   ...   10\n0                                             SARIMAX  ...  NaN\n1                                                 NaN  ...  NaN\n2                                                Dep.  ...  NaN\n3                                              Model:  ...  NaN\n4                                               Date:  ...  NaN\n5                                               Time:  ...  NaN\n6                                             Sample:  ...  NaN\n7                                                   -  ...  NaN\n8                                          Covariance  ...  NaN\n9                                                 NaN  ...  NaN\n10                                               coef  ...  NaN\n11  ----------------------------------------------...  ...  NaN\n12                                              ar.L1  ...  NaN\n13                                              ma.L1  ...  NaN\n14                                           ar.S.L12  ...  NaN\n\n[15 rows x 11 columns]\nDados extraídos (univariado): {'UF': 'AC', 'AGRAVO': 'Asma', 'LOG_UNIVARIADO': -565.699, 'AIC_UNIVARIADO': 1141.397, 'BIC_UNIVARIADO': 1164.265, 'HQIC_UNIVARIADO': 1150.228, 'LJUNGBOX_UNIVARIADO': 0.0, 'JAQUE_BERA_UNIVARIADO': nan, 'KURTOSIS_UNIVARIADO': 6.85, 'VARIAVEL_EXOGENA_SIGNIFIICATIVA': None, 'VARIAVEL_EXOGENA_ESTATISTICA': None, 'VARIAVEL_EXOGENA_PVALUE': None, 'DESCRICAO': 'Resultados para Asma no estado AC'}\nProcessando arquivo: /Workspace/Users/danielly.xavier@iclinic.com.br/Modelo Séries Temporais Clima e Saúde WB/Modelo Séries Temporais Clima e Saúde WB - Resultados/analise_estadual/ts_exogena/summaries/ts_Covid-19_AL_exaogena_summary.xlsx\n                                                   0   ...   10\n0                                             SARIMAX  ...  NaN\n1                                                 NaN  ...  NaN\n2                                                Dep.  ...  NaN\n3                                              Model:  ...  NaN\n4                                               Date:  ...  NaN\n5                                               Time:  ...  NaN\n6                                             Sample:  ...  NaN\n7                                                   -  ...  NaN\n8                                          Covariance  ...  NaN\n9                                                 NaN  ...  NaN\n10                                               coef  ...  NaN\n11  ----------------------------------------------...  ...  NaN\n12                                      total_acessos  ...  NaN\n13                                              ar.L1  ...  NaN\n14                                              ma.L1  ...  NaN\n\n[15 rows x 11 columns]\nDados extraídos (exogena): {'UF': 'AC', 'AGRAVO': 'Asma', 'LOG_EXOGENA': -2268.035, 'AIC_EXOGENA': 4548.07, 'BIC_EXOGENA': 4575.52, 'HQIC_EXOGENA': 4558.669, 'LJUNGBOX_EXOGENA': 0.0, 'JAQUE_BERA_EXOGENA': 826.76, 'KURTOSIS_EXOGENA': -0.29, 'VARIAVEL_EXOGENA_SIGNIFIICATIVA': 1, 'VARIAVEL_EXOGENA_ESTATISTICA': 9.499, 'VARIAVEL_EXOGENA_PVALUE': 0.0, 'DESCRICAO': 'Resultados para Asma no estado AC'}\nProcessando arquivo: /Workspace/Users/danielly.xavier@iclinic.com.br/Modelo Séries Temporais Clima e Saúde WB/Modelo Séries Temporais Clima e Saúde WB - Resultados/analise_estadual/ts_exogena/summaries/ts_Infecção de trato urinário_MA_exaogena_summary.xlsx\n                                                   0   ...   10\n0                                             SARIMAX  ...  NaN\n1                                                 NaN  ...  NaN\n2                                                Dep.  ...  NaN\n3                                              Model:  ...  NaN\n4                                               Date:  ...  NaN\n5                                               Time:  ...  NaN\n6                                             Sample:  ...  NaN\n7                                                   -  ...  NaN\n8                                          Covariance  ...  NaN\n9                                                 NaN  ...  NaN\n10                                               coef  ...  NaN\n11  ----------------------------------------------...  ...  NaN\n12                                      total_acessos  ...  NaN\n13                                              ar.L1  ...  NaN\n14                                              ma.L1  ...  NaN\n\n[15 rows x 11 columns]\nDados extraídos (exogena): {'UF': 'AC', 'AGRAVO': 'Asma', 'LOG_EXOGENA': -1101.464, 'AIC_EXOGENA': 2214.927, 'BIC_EXOGENA': 2242.378, 'HQIC_EXOGENA': 2225.527, 'LJUNGBOX_EXOGENA': 0.01, 'JAQUE_BERA_EXOGENA': 492.4, 'KURTOSIS_EXOGENA': 1.18, 'VARIAVEL_EXOGENA_SIGNIFIICATIVA': 1, 'VARIAVEL_EXOGENA_ESTATISTICA': 25.873, 'VARIAVEL_EXOGENA_PVALUE': 0.0, 'DESCRICAO': 'Resultados para Asma no estado AC'}\nProcessando arquivo: /Workspace/Users/danielly.xavier@iclinic.com.br/Modelo Séries Temporais Clima e Saúde WB/Modelo Séries Temporais Clima e Saúde WB - Resultados/analise_estadual/ts_exogena/summaries/ts_Covid-19_SC_exaogena_summary.xlsx\n                                                   0   ...   10\n0                                             SARIMAX  ...  NaN\n1                                                 NaN  ...  NaN\n2                                                Dep.  ...  NaN\n3                                              Model:  ...  NaN\n4                                               Date:  ...  NaN\n5                                               Time:  ...  NaN\n6                                             Sample:  ...  NaN\n7                                                   -  ...  NaN\n8                                          Covariance  ...  NaN\n9                                                 NaN  ...  NaN\n10                                               coef  ...  NaN\n11  ----------------------------------------------...  ...  NaN\n12                                      total_acessos  ...  NaN\n13                                              ar.L1  ...  NaN\n14                                              ma.L1  ...  NaN\n\n[15 rows x 11 columns]\nDados extraídos (exogena): {'UF': 'AC', 'AGRAVO': 'Asma', 'LOG_EXOGENA': -3006.847, 'AIC_EXOGENA': 6025.694, 'BIC_EXOGENA': 6053.145, 'HQIC_EXOGENA': 6036.294, 'LJUNGBOX_EXOGENA': 0.23, 'JAQUE_BERA_EXOGENA': 1043.43, 'KURTOSIS_EXOGENA': -0.05, 'VARIAVEL_EXOGENA_SIGNIFIICATIVA': 1, 'VARIAVEL_EXOGENA_ESTATISTICA': 12.835, 'VARIAVEL_EXOGENA_PVALUE': 0.0, 'DESCRICAO': 'Resultados para Asma no estado AC'}\nProcessando arquivo: /Workspace/Users/danielly.xavier@iclinic.com.br/Modelo Séries Temporais Clima e Saúde WB/Modelo Séries Temporais Clima e Saúde WB - Resultados/analise_estadual/ts_exogena/summaries/ts_Pneumonia comunitária_RN_exaogena_summary.xlsx\n                                                   0   ...   10\n0                                             SARIMAX  ...  NaN\n1                                                 NaN  ...  NaN\n2                                                Dep.  ...  NaN\n3                                              Model:  ...  NaN\n4                                               Date:  ...  NaN\n5                                               Time:  ...  NaN\n6                                             Sample:  ...  NaN\n7                                                   -  ...  NaN\n8                                          Covariance  ...  NaN\n9                                                 NaN  ...  NaN\n10                                               coef  ...  NaN\n11  ----------------------------------------------...  ...  NaN\n12                                      total_acessos  ...  NaN\n13                                              ar.L1  ...  NaN\n14                                              ma.L1  ...  NaN\n\n[15 rows x 11 columns]\nDados extraídos (exogena): {'UF': 'AC', 'AGRAVO': 'Asma', 'LOG_EXOGENA': -2108.636, 'AIC_EXOGENA': 4229.271, 'BIC_EXOGENA': 4256.722, 'HQIC_EXOGENA': 4239.871, 'LJUNGBOX_EXOGENA': 0.01, 'JAQUE_BERA_EXOGENA': 71.47, 'KURTOSIS_EXOGENA': 0.47, 'VARIAVEL_EXOGENA_SIGNIFIICATIVA': 1, 'VARIAVEL_EXOGENA_ESTATISTICA': 14.606, 'VARIAVEL_EXOGENA_PVALUE': 0.0, 'DESCRICAO': 'Resultados para Asma no estado AC'}\nProcessando arquivo: /Workspace/Users/danielly.xavier@iclinic.com.br/Modelo Séries Temporais Clima e Saúde WB/Modelo Séries Temporais Clima e Saúde WB - Resultados/analise_estadual/ts_exogena/summaries/ts_Infecção de trato urinário_AL_exaogena_summary.xlsx\n                                                   0           1   ...       9    10\n0                                             SARIMAX     Results  ...      NaN  NaN\n1                                                 NaN         NaN  ...      NaN  NaN\n2                                                Dep.   Variable:  ...      NaN  NaN\n3                                              Model:  SARIMAX(1,  ...  102.324  NaN\n4                                               Date:        Tue,  ...      NaN  NaN\n5                                               Time:    12:29:08  ...      NaN  NaN\n6                                             Sample:  01-08-2021  ...      NaN  NaN\n7                                                   -  12-31-2022  ...      NaN  NaN\n8                                          Covariance       Type:  ...      NaN  NaN\n9                                                 NaN         NaN  ...      NaN  NaN\n10                                               coef         std  ...      NaN  NaN\n11  ----------------------------------------------...         NaN  ...      NaN  NaN\n12                                      total_acessos      0.0560  ...      NaN  NaN\n13                                              ar.L1     -0.3302  ...      NaN  NaN\n14                                              ma.L1      0.4870  ...      NaN  NaN\n\n[15 rows x 11 columns]\nDados extraídos (exogena): {'UF': 'AC', 'AGRAVO': 'Asma', 'LOG_EXOGENA': 102.324, 'AIC_EXOGENA': -192.648, 'BIC_EXOGENA': -165.257, 'HQIC_EXOGENA': -182.067, 'LJUNGBOX_EXOGENA': 0.18, 'JAQUE_BERA_EXOGENA': 13361.99, 'KURTOSIS_EXOGENA': -1.73, 'VARIAVEL_EXOGENA_SIGNIFIICATIVA': 1, 'VARIAVEL_EXOGENA_ESTATISTICA': 30.857, 'VARIAVEL_EXOGENA_PVALUE': 0.0, 'DESCRICAO': 'Resultados para Asma no estado AC'}\n\nResumo de campos incompletos:\n   UF AGRAVO  DADOS_INCOMPLETOS       CAMPOS_INCOMPLETOS\n0  AC   Asma               True  [JAQUE_BERA_UNIVARIADO]\n\nResultados consolidados:\n   UF AGRAVO  ...  DADOS_INCOMPLETOS       CAMPOS_INCOMPLETOS\n0  AC   Asma  ...               True  [JAQUE_BERA_UNIVARIADO]\n\n[1 rows x 22 columns]\nProcessamento concluído. Dados salvos em '/Workspace/Users/dayanna.quintanilha@afya.com.br/resultados_consolidados.csv'.\n"
     ]
    }
   ],
   "source": [
    "%python\n",
    "%pip install openpyxl\n",
    "\n",
    "import os\n",
    "import pandas as pd\n",
    "import glob\n",
    "\n",
    "try:\n",
    "    import openpyxl\n",
    "except ImportError:\n",
    "    print(\"O módulo 'openpyxl' não está instalado. Use 'pip install openpyxl' para instalá-lo.\")\n",
    "    raise\n",
    "\n",
    "# Caminhos das pastas\n",
    "paths = {\n",
    "    'univariado': '/Workspace/Users/danielly.xavier@iclinic.com.br/Modelo Séries Temporais Clima e Saúde WB/Modelo Séries Temporais Clima e Saúde WB - Resultados/analise_estadual/ts_univariada/summaries',\n",
    "    'exogena': '/Workspace/Users/danielly.xavier@iclinic.com.br/Modelo Séries Temporais Clima e Saúde WB/Modelo Séries Temporais Clima e Saúde WB - Resultados/analise_estadual/ts_exogena/summaries'\n",
    "}\n",
    "\n",
    "# Dicionário para armazenar resultados temporários\n",
    "results_dict = {}\n",
    "\n",
    "# Função para extrair dados\n",
    "def extract_data(file_path, tipo):\n",
    "    try:\n",
    "        print(f\"Processando arquivo: {file_path}\")\n",
    "        df = pd.read_excel(file_path, header=None)\n",
    "        \n",
    "        # Verificar se o DataFrame está vazio\n",
    "        if df.empty:\n",
    "            print(f\"Arquivo {file_path} está vazio ou não contém dados processáveis.\")\n",
    "            return\n",
    "        \n",
    "        print(df.head(15))  # Visualização inicial\n",
    "\n",
    "        prefix = 'UNIVARIADO' if tipo == 'univariado' else 'EXOGENA'\n",
    "\n",
    "        # Extrair valores baseando-se na posição conhecida\n",
    "        log_likelihood = pd.to_numeric(df.iloc[3, 9], errors='coerce')\n",
    "        aic = pd.to_numeric(df.iloc[4, 6], errors='coerce')\n",
    "        bic = pd.to_numeric(df.iloc[5, 3], errors='coerce')\n",
    "        hqic = pd.to_numeric(df.iloc[6, 3], errors='coerce')\n",
    "        ljung_box = pd.to_numeric(df.iloc[18, 3], errors='coerce') if len(df) > 18 else None\n",
    "        jarque_bera = pd.to_numeric(df.iloc[18, 6], errors='coerce') if len(df) > 18 else None\n",
    "        kurtosis = pd.to_numeric(df.iloc[21, 4], errors='coerce') if len(df) > 21 else None\n",
    "        estatistica = pd.to_numeric(df.iloc[12, 3], errors='coerce') if tipo == 'exogena' else None\n",
    "        pvalue = pd.to_numeric(df.iloc[12, 4], errors='coerce') if tipo == 'exogena' else None\n",
    "        significancia = 1 if pvalue is not None and pvalue <= 0.05 else 0\n",
    "\n",
    "        uf = 'AC'\n",
    "        agravo = 'Asma'\n",
    "        descricao = f\"Resultados para {agravo} no estado {uf}\"\n",
    "\n",
    "        # Armazenar os dados\n",
    "        data = {\n",
    "            'UF': uf,\n",
    "            'AGRAVO': agravo,\n",
    "            f'LOG_{prefix}': log_likelihood,\n",
    "            f'AIC_{prefix}': aic,\n",
    "            f'BIC_{prefix}': bic,\n",
    "            f'HQIC_{prefix}': hqic,\n",
    "            f'LJUNGBOX_{prefix}': ljung_box,\n",
    "            f'JAQUE_BERA_{prefix}': jarque_bera,\n",
    "            f'KURTOSIS_{prefix}': kurtosis,\n",
    "            'VARIAVEL_EXOGENA_SIGNIFIICATIVA': significancia if tipo == 'exogena' else None,\n",
    "            'VARIAVEL_EXOGENA_ESTATISTICA': estatistica,\n",
    "            'VARIAVEL_EXOGENA_PVALUE': pvalue,\n",
    "            'DESCRICAO': descricao\n",
    "        }\n",
    "        print(f\"Dados extraídos ({tipo}): {data}\")\n",
    "\n",
    "        # Atualizar o dicionário de resultados\n",
    "        key = (uf, agravo)\n",
    "        if key not in results_dict:\n",
    "            results_dict[key] = {}\n",
    "        results_dict[key].update(data)\n",
    "\n",
    "    except Exception as e:\n",
    "        print(f\"Erro ao processar {file_path}: {e}\")\n",
    "\n",
    "# Processar os primeiros 5 arquivos de cada pasta\n",
    "for tipo, path in paths.items():\n",
    "    arquivos = glob.glob(os.path.join(path, \"*.xlsx\"))[:5]  # Selecionar os primeiros 5 arquivos\n",
    "    if not arquivos:\n",
    "        print(f\"Nenhum arquivo encontrado na pasta: {path}\")\n",
    "    for file_path in arquivos:\n",
    "        extract_data(file_path, tipo)\n",
    "\n",
    "# Consolidar resultados\n",
    "if results_dict:\n",
    "    df_resultados = pd.DataFrame(results_dict.values())\n",
    "\n",
    "    # Garantir que as colunas UF e AGRAVO existam\n",
    "    if 'UF' not in df_resultados.columns:\n",
    "        df_resultados['UF'] = None\n",
    "    if 'AGRAVO' not in df_resultados.columns:\n",
    "        df_resultados['AGRAVO'] = None\n",
    "\n",
    "    # Verificar valores ausentes\n",
    "    df_resultados['DADOS_INCOMPLETOS'] = df_resultados.isnull().any(axis=1)\n",
    "    df_resultados['CAMPOS_INCOMPLETOS'] = df_resultados.apply(\n",
    "        lambda row: [col for col in df_resultados.columns if pd.isnull(row[col])], axis=1\n",
    "    )\n",
    "\n",
    "    # Exibir e salvar os resultados\n",
    "    print(\"\\nResumo de campos incompletos:\")\n",
    "    print(df_resultados[['UF', 'AGRAVO', 'DADOS_INCOMPLETOS', 'CAMPOS_INCOMPLETOS']])\n",
    "    print(\"\\nResultados consolidados:\")\n",
    "    print(df_resultados)\n",
    "\n",
    "    # Salvar o resultado consolidado em um arquivo CSV\n",
    "    output_path = '/Workspace/Users/dayanna.quintanilha@afya.com.br/resultados_consolidados.csv'\n",
    "    df_resultados.to_csv(output_path, index=False)\n",
    "    print(f\"Processamento concluído. Dados salvos em '{output_path}'.\")\n",
    "else:\n",
    "    print(\"Nenhum dado foi extraído. Verifique os arquivos ou o processo de extração.\")\n"
   ]
  },
  {
   "cell_type": "code",
   "execution_count": 0,
   "metadata": {
    "application/vnd.databricks.v1+cell": {
     "cellMetadata": {
      "byteLimit": 2048000,
      "rowLimit": 10000
     },
     "inputWidgets": {},
     "nuid": "50255924-a720-4fed-8b17-1c009eea545b",
     "showTitle": false,
     "tableResultSettingsMap": {},
     "title": ""
    }
   },
   "outputs": [
    {
     "output_type": "stream",
     "name": "stdout",
     "output_type": "stream",
     "text": [
      "Processando arquivo: /Workspace/Users/danielly.xavier@iclinic.com.br/Modelo Séries Temporais Clima e Saúde WB/Modelo Séries Temporais Clima e Saúde WB - Resultados/analise_estadual/ts_univariada/summaries/ts_Pneumonia por outros organismos_RS_univariado.xlsx\n                                                   0           1   ...   14   15\n0                                             SARIMAX     Results  ...  NaN  NaN\n1                                                 NaN         NaN  ...  NaN  NaN\n2                                                Dep.   Variable:  ...  NaN  NaN\n3                                              Model:  SARIMAX(1,  ...  NaN  NaN\n4                                               Date:        Tue,  ...  NaN  NaN\n5                                               Time:    11:43:00  ...  NaN  NaN\n6                                             Sample:  09-18-2021  ...  NaN  NaN\n7                                                   -  12-31-2022  ...  NaN  NaN\n8                                          Covariance       Type:  ...  NaN  NaN\n9                                                 NaN         NaN  ...  NaN  NaN\n10                                               coef         std  ...  NaN  NaN\n11  ----------------------------------------------...         NaN  ...  NaN  NaN\n12                                              ar.L1   7.769e-06  ...  NaN  NaN\n13                                              ma.L1  -1.256e-12  ...  NaN  NaN\n14                                           ar.S.L12   1.118e-15  ...  NaN  NaN\n\n[15 rows x 16 columns]\nDados extraídos (univariado): {'UF': 'RS', 'AGRAVO': 'Pneumonia por outros organismos', 'LOG_UNIVARIADO': 5183.24, 'AIC_UNIVARIADO': -10356.48, 'BIC_UNIVARIADO': -10335.856, 'HQIC_UNIVARIADO': -10348.357, 'LJUNGBOX_UNIVARIADO': nan, 'JAQUE_BERA_UNIVARIADO': nan, 'KURTOSIS_UNIVARIADO': nan, 'VARIAVEL_EXOGENA_SIGNIFIICATIVA': None, 'VARIAVEL_EXOGENA_ESTATISTICA': None, 'VARIAVEL_EXOGENA_PVALUE': None, 'DESCRICAO': 'Resultados para Pneumonia por outros organismos no estado RS'}\nProcessando arquivo: /Workspace/Users/danielly.xavier@iclinic.com.br/Modelo Séries Temporais Clima e Saúde WB/Modelo Séries Temporais Clima e Saúde WB - Resultados/analise_estadual/ts_univariada/summaries/ts_Covid-19_MT_univariado.xlsx\n                                                   0   ...   10\n0                                             SARIMAX  ...  NaN\n1                                                 NaN  ...  NaN\n2                                                Dep.  ...  NaN\n3                                              Model:  ...  NaN\n4                                               Date:  ...  NaN\n5                                               Time:  ...  NaN\n6                                             Sample:  ...  NaN\n7                                                   -  ...  NaN\n8                                          Covariance  ...  NaN\n9                                                 NaN  ...  NaN\n10                                               coef  ...  NaN\n11  ----------------------------------------------...  ...  NaN\n12                                              ar.L1  ...  NaN\n13                                              ma.L1  ...  NaN\n14                                           ar.S.L12  ...  NaN\n\n[15 rows x 11 columns]\nDados extraídos (univariado): {'UF': 'MT', 'AGRAVO': 'Covid-19', 'LOG_UNIVARIADO': -2706.27, 'AIC_UNIVARIADO': 5422.541, 'BIC_UNIVARIADO': 5445.416, 'HQIC_UNIVARIADO': 5431.374, 'LJUNGBOX_UNIVARIADO': 0.2, 'JAQUE_BERA_UNIVARIADO': 707.33, 'KURTOSIS_UNIVARIADO': 7.86, 'VARIAVEL_EXOGENA_SIGNIFIICATIVA': None, 'VARIAVEL_EXOGENA_ESTATISTICA': None, 'VARIAVEL_EXOGENA_PVALUE': None, 'DESCRICAO': 'Resultados para Covid-19 no estado MT'}\nProcessando arquivo: /Workspace/Users/danielly.xavier@iclinic.com.br/Modelo Séries Temporais Clima e Saúde WB/Modelo Séries Temporais Clima e Saúde WB - Resultados/analise_estadual/ts_univariada/summaries/ts_Cetoacidose diabética_RO_univariado.xlsx\n                                                   0   ...   10\n0                                             SARIMAX  ...  NaN\n1                                                 NaN  ...  NaN\n2                                                Dep.  ...  NaN\n3                                              Model:  ...  NaN\n4                                               Date:  ...  NaN\n5                                               Time:  ...  NaN\n6                                             Sample:  ...  NaN\n7                                                   -  ...  NaN\n8                                          Covariance  ...  NaN\n9                                                 NaN  ...  NaN\n10                                               coef  ...  NaN\n11  ----------------------------------------------...  ...  NaN\n12                                              ar.L1  ...  NaN\n13                                              ma.L1  ...  NaN\n14                                           ar.S.L12  ...  NaN\n\n[15 rows x 11 columns]\nDados extraídos (univariado): {'UF': 'RO', 'AGRAVO': 'Cetoacidose diabética', 'LOG_UNIVARIADO': 1645.606, 'AIC_UNIVARIADO': -3281.211, 'BIC_UNIVARIADO': -3258.456, 'HQIC_UNIVARIADO': -3272.415, 'LJUNGBOX_UNIVARIADO': 0.58, 'JAQUE_BERA_UNIVARIADO': 885524.2, 'KURTOSIS_UNIVARIADO': 176.59, 'VARIAVEL_EXOGENA_SIGNIFIICATIVA': None, 'VARIAVEL_EXOGENA_ESTATISTICA': None, 'VARIAVEL_EXOGENA_PVALUE': None, 'DESCRICAO': 'Resultados para Cetoacidose diabética no estado RO'}\nProcessando arquivo: /Workspace/Users/danielly.xavier@iclinic.com.br/Modelo Séries Temporais Clima e Saúde WB/Modelo Séries Temporais Clima e Saúde WB - Resultados/analise_estadual/ts_univariada/summaries/ts_Depressão_AL_univariado.xlsx\n                                                   0           1   ...       9    10\n0                                             SARIMAX     Results  ...      NaN  NaN\n1                                                 NaN         NaN  ...      NaN  NaN\n2                                                Dep.   Variable:  ...      NaN  NaN\n3                                              Model:  SARIMAX(1,  ...  -23.625  NaN\n4                                               Date:        Tue,  ...      NaN  NaN\n5                                               Time:    10:32:13  ...      NaN  NaN\n6                                             Sample:  01-01-2021  ...      NaN  NaN\n7                                                   -  12-31-2022  ...      NaN  NaN\n8                                          Covariance       Type:  ...      NaN  NaN\n9                                                 NaN         NaN  ...      NaN  NaN\n10                                               coef         std  ...      NaN  NaN\n11  ----------------------------------------------...         NaN  ...      NaN  NaN\n12                                              ar.L1      0.7473  ...      NaN  NaN\n13                                              ma.L1     -0.9990  ...      NaN  NaN\n14                                           ar.S.L12      0.0350  ...      NaN  NaN\n\n[15 rows x 11 columns]\nDados extraídos (univariado): {'UF': 'AL', 'AGRAVO': 'Depressão', 'LOG_UNIVARIADO': -23.625, 'AIC_UNIVARIADO': 57.25, 'BIC_UNIVARIADO': 80.125, 'HQIC_UNIVARIADO': 66.082, 'LJUNGBOX_UNIVARIADO': 1.27, 'JAQUE_BERA_UNIVARIADO': 13744.9, 'KURTOSIS_UNIVARIADO': 24.03, 'VARIAVEL_EXOGENA_SIGNIFIICATIVA': None, 'VARIAVEL_EXOGENA_ESTATISTICA': None, 'VARIAVEL_EXOGENA_PVALUE': None, 'DESCRICAO': 'Resultados para Depressão no estado AL'}\nProcessando arquivo: /Workspace/Users/danielly.xavier@iclinic.com.br/Modelo Séries Temporais Clima e Saúde WB/Modelo Séries Temporais Clima e Saúde WB - Resultados/analise_estadual/ts_univariada/summaries/ts_Depressão_PB_univariado.xlsx\n                                                   0   ...   10\n0                                             SARIMAX  ...  NaN\n1                                                 NaN  ...  NaN\n2                                                Dep.  ...  NaN\n3                                              Model:  ...  NaN\n4                                               Date:  ...  NaN\n5                                               Time:  ...  NaN\n6                                             Sample:  ...  NaN\n7                                                   -  ...  NaN\n8                                          Covariance  ...  NaN\n9                                                 NaN  ...  NaN\n10                                               coef  ...  NaN\n11  ----------------------------------------------...  ...  NaN\n12                                              ar.L1  ...  NaN\n13                                              ma.L1  ...  NaN\n14                                           ar.S.L12  ...  NaN\n\n[15 rows x 11 columns]\nDados extraídos (univariado): {'UF': 'PB', 'AGRAVO': 'Depressão', 'LOG_UNIVARIADO': -565.699, 'AIC_UNIVARIADO': 1141.397, 'BIC_UNIVARIADO': 1164.265, 'HQIC_UNIVARIADO': 1150.228, 'LJUNGBOX_UNIVARIADO': 0.18, 'JAQUE_BERA_UNIVARIADO': 636.06, 'KURTOSIS_UNIVARIADO': 6.85, 'VARIAVEL_EXOGENA_SIGNIFIICATIVA': None, 'VARIAVEL_EXOGENA_ESTATISTICA': None, 'VARIAVEL_EXOGENA_PVALUE': None, 'DESCRICAO': 'Resultados para Depressão no estado PB'}\nProcessando arquivo: /Workspace/Users/danielly.xavier@iclinic.com.br/Modelo Séries Temporais Clima e Saúde WB/Modelo Séries Temporais Clima e Saúde WB - Resultados/analise_estadual/ts_exogena/summaries/ts_Covid-19_CE_exaogena_summary.xlsx\n                                                   0   ...   10\n0                                             SARIMAX  ...  NaN\n1                                                 NaN  ...  NaN\n2                                                Dep.  ...  NaN\n3                                              Model:  ...  NaN\n4                                               Date:  ...  NaN\n5                                               Time:  ...  NaN\n6                                             Sample:  ...  NaN\n7                                                   -  ...  NaN\n8                                          Covariance  ...  NaN\n9                                                 NaN  ...  NaN\n10                                               coef  ...  NaN\n11  ----------------------------------------------...  ...  NaN\n12                                      total_acessos  ...  NaN\n13                                              ar.L1  ...  NaN\n14                                              ma.L1  ...  NaN\n\n[15 rows x 11 columns]\nDados extraídos (exogena): {'UF': 'exaogena', 'AGRAVO': 'CE', 'LOG_EXOGENA': -3040.316, 'AIC_EXOGENA': 6092.631, 'BIC_EXOGENA': 6120.082, 'HQIC_EXOGENA': 6103.231, 'LJUNGBOX_EXOGENA': nan, 'JAQUE_BERA_EXOGENA': nan, 'KURTOSIS_EXOGENA': -0.13, 'VARIAVEL_EXOGENA_SIGNIFIICATIVA': 1, 'VARIAVEL_EXOGENA_ESTATISTICA': 25.049, 'VARIAVEL_EXOGENA_PVALUE': 0.0, 'DESCRICAO': 'Resultados para CE no estado exaogena'}\nProcessando arquivo: /Workspace/Users/danielly.xavier@iclinic.com.br/Modelo Séries Temporais Clima e Saúde WB/Modelo Séries Temporais Clima e Saúde WB - Resultados/analise_estadual/ts_exogena/summaries/ts_Covid-19_TO_exaogena_summary.xlsx\n                                                   0   ...   10\n0                                             SARIMAX  ...  NaN\n1                                                 NaN  ...  NaN\n2                                                Dep.  ...  NaN\n3                                              Model:  ...  NaN\n4                                               Date:  ...  NaN\n5                                               Time:  ...  NaN\n6                                             Sample:  ...  NaN\n7                                                   -  ...  NaN\n8                                          Covariance  ...  NaN\n9                                                 NaN  ...  NaN\n10                                               coef  ...  NaN\n11  ----------------------------------------------...  ...  NaN\n12                                      total_acessos  ...  NaN\n13                                              ar.L1  ...  NaN\n14                                              ma.L1  ...  NaN\n\n[15 rows x 11 columns]\nDados extraídos (exogena): {'UF': 'exaogena', 'AGRAVO': 'TO', 'LOG_EXOGENA': -2147.695, 'AIC_EXOGENA': 4307.391, 'BIC_EXOGENA': 4334.841, 'HQIC_EXOGENA': 4317.99, 'LJUNGBOX_EXOGENA': nan, 'JAQUE_BERA_EXOGENA': nan, 'KURTOSIS_EXOGENA': -0.03, 'VARIAVEL_EXOGENA_SIGNIFIICATIVA': 1, 'VARIAVEL_EXOGENA_ESTATISTICA': 10.308, 'VARIAVEL_EXOGENA_PVALUE': 0.0, 'DESCRICAO': 'Resultados para TO no estado exaogena'}\nProcessando arquivo: /Workspace/Users/danielly.xavier@iclinic.com.br/Modelo Séries Temporais Clima e Saúde WB/Modelo Séries Temporais Clima e Saúde WB - Resultados/analise_estadual/ts_exogena/summaries/ts_Cetoacidose diabética_PR_exaogena_summary.xlsx\n                                                   0   ...   10\n0                                             SARIMAX  ...  NaN\n1                                                 NaN  ...  NaN\n2                                                Dep.  ...  NaN\n3                                              Model:  ...  NaN\n4                                               Date:  ...  NaN\n5                                               Time:  ...  NaN\n6                                             Sample:  ...  NaN\n7                                                   -  ...  NaN\n8                                          Covariance  ...  NaN\n9                                                 NaN  ...  NaN\n10                                               coef  ...  NaN\n11  ----------------------------------------------...  ...  NaN\n12                                      total_acessos  ...  NaN\n13                                              ar.L1  ...  NaN\n14                                              ma.L1  ...  NaN\n\n[15 rows x 11 columns]\nDados extraídos (exogena): {'UF': 'exaogena', 'AGRAVO': 'PR', 'LOG_EXOGENA': -1039.121, 'AIC_EXOGENA': 2090.242, 'BIC_EXOGENA': 2117.692, 'HQIC_EXOGENA': 2100.841, 'LJUNGBOX_EXOGENA': nan, 'JAQUE_BERA_EXOGENA': nan, 'KURTOSIS_EXOGENA': 0.83, 'VARIAVEL_EXOGENA_SIGNIFIICATIVA': 1, 'VARIAVEL_EXOGENA_ESTATISTICA': 28.488, 'VARIAVEL_EXOGENA_PVALUE': 0.0, 'DESCRICAO': 'Resultados para PR no estado exaogena'}\nProcessando arquivo: /Workspace/Users/danielly.xavier@iclinic.com.br/Modelo Séries Temporais Clima e Saúde WB/Modelo Séries Temporais Clima e Saúde WB - Resultados/analise_estadual/ts_exogena/summaries/ts_Pneumonia viral_RN_exaogena_summary.xlsx\n                                                   0           1   ...   14   15\n0                                             SARIMAX     Results  ...  NaN  NaN\n1                                                 NaN         NaN  ...  NaN  NaN\n2                                                Dep.   Variable:  ...  NaN  NaN\n3                                              Model:  SARIMAX(1,  ...  NaN  NaN\n4                                               Date:        Tue,  ...  NaN  NaN\n5                                               Time:    12:22:36  ...  NaN  NaN\n6                                             Sample:  01-01-2021  ...  NaN  NaN\n7                                                   -  12-31-2022  ...  NaN  NaN\n8                                          Covariance       Type:  ...  NaN  NaN\n9                                                 NaN         NaN  ...  NaN  NaN\n10                                               coef         std  ...  NaN  NaN\n11  ----------------------------------------------...         NaN  ...  NaN  NaN\n12                                      total_acessos           0  ...  NaN  NaN\n13                                              ar.L1      0.2089  ...  NaN  NaN\n14                                              ma.L1     -0.9272  ...  NaN  NaN\n\n[15 rows x 16 columns]\nDados extraídos (exogena): {'UF': 'exaogena', 'AGRAVO': 'RN', 'LOG_EXOGENA': -1127.069, 'AIC_EXOGENA': 2266.138, 'BIC_EXOGENA': 2293.589, 'HQIC_EXOGENA': 2276.738, 'LJUNGBOX_EXOGENA': nan, 'JAQUE_BERA_EXOGENA': nan, 'KURTOSIS_EXOGENA': 1.4, 'VARIAVEL_EXOGENA_SIGNIFIICATIVA': 0, 'VARIAVEL_EXOGENA_ESTATISTICA': 0, 'VARIAVEL_EXOGENA_PVALUE': 1.0, 'DESCRICAO': 'Resultados para RN no estado exaogena'}\nProcessando arquivo: /Workspace/Users/danielly.xavier@iclinic.com.br/Modelo Séries Temporais Clima e Saúde WB/Modelo Séries Temporais Clima e Saúde WB - Resultados/analise_estadual/ts_exogena/summaries/ts_Doença renal crônica_MT_exaogena_summary.xlsx\n                                                   0   ...   10\n0                                             SARIMAX  ...  NaN\n1                                                 NaN  ...  NaN\n2                                                Dep.  ...  NaN\n3                                              Model:  ...  NaN\n4                                               Date:  ...  NaN\n5                                               Time:  ...  NaN\n6                                             Sample:  ...  NaN\n7                                                   -  ...  NaN\n8                                          Covariance  ...  NaN\n9                                                 NaN  ...  NaN\n10                                               coef  ...  NaN\n11  ----------------------------------------------...  ...  NaN\n12                                      total_acessos  ...  NaN\n13                                              ar.L1  ...  NaN\n14                                              ma.L1  ...  NaN\n\n[15 rows x 11 columns]\nDados extraídos (exogena): {'UF': 'exaogena', 'AGRAVO': 'MT', 'LOG_EXOGENA': -1381.877, 'AIC_EXOGENA': 2775.754, 'BIC_EXOGENA': 2803.204, 'HQIC_EXOGENA': 2786.353, 'LJUNGBOX_EXOGENA': nan, 'JAQUE_BERA_EXOGENA': nan, 'KURTOSIS_EXOGENA': 1.1, 'VARIAVEL_EXOGENA_SIGNIFIICATIVA': 1, 'VARIAVEL_EXOGENA_ESTATISTICA': 9.465, 'VARIAVEL_EXOGENA_PVALUE': 0.0, 'DESCRICAO': 'Resultados para MT no estado exaogena'}\n\nResumo de campos incompletos:\n         UF  ...                                 CAMPOS_INCOMPLETOS\n0        RS  ...  [LJUNGBOX_UNIVARIADO, JAQUE_BERA_UNIVARIADO, K...\n1        MT  ...  [VARIAVEL_EXOGENA_SIGNIFIICATIVA, VARIAVEL_EXO...\n2        RO  ...  [VARIAVEL_EXOGENA_SIGNIFIICATIVA, VARIAVEL_EXO...\n3        AL  ...  [VARIAVEL_EXOGENA_SIGNIFIICATIVA, VARIAVEL_EXO...\n4        PB  ...  [VARIAVEL_EXOGENA_SIGNIFIICATIVA, VARIAVEL_EXO...\n5  exaogena  ...  [LOG_UNIVARIADO, AIC_UNIVARIADO, BIC_UNIVARIAD...\n6  exaogena  ...  [LOG_UNIVARIADO, AIC_UNIVARIADO, BIC_UNIVARIAD...\n7  exaogena  ...  [LOG_UNIVARIADO, AIC_UNIVARIADO, BIC_UNIVARIAD...\n8  exaogena  ...  [LOG_UNIVARIADO, AIC_UNIVARIADO, BIC_UNIVARIAD...\n9  exaogena  ...  [LOG_UNIVARIADO, AIC_UNIVARIADO, BIC_UNIVARIAD...\n\n[10 rows x 4 columns]\n\nResultados consolidados salvos em:\n/Workspace/Users/dayanna.quintanilha@afya.com.br/resultados_consolidados.csv\n"
     ]
    }
   ],
   "source": [
    "import os\n",
    "import pandas as pd\n",
    "import glob\n",
    "\n",
    "# Definir os caminhos das pastas\n",
    "paths = {\n",
    "    'univariado': '/Workspace/Users/danielly.xavier@iclinic.com.br/Modelo Séries Temporais Clima e Saúde WB/Modelo Séries Temporais Clima e Saúde WB - Resultados/analise_estadual/ts_univariada/summaries/*.xlsx',\n",
    "    'exogena': '/Workspace/Users/danielly.xavier@iclinic.com.br/Modelo Séries Temporais Clima e Saúde WB/Modelo Séries Temporais Clima e Saúde WB - Resultados/analise_estadual/ts_exogena/summaries/*.xlsx'\n",
    "}\n",
    "\n",
    "# Dicionário para armazenar os resultados\n",
    "results_dict = {}\n",
    "\n",
    "# Função para extrair dados de uma planilha\n",
    "def extract_data(file_path, tipo):\n",
    "    try:\n",
    "        print(f\"Processando arquivo: {file_path}\")\n",
    "        df = pd.read_excel(file_path, header=None)\n",
    "        print(df.head(15))  # Visualização inicial\n",
    "\n",
    "        # Prefixo para diferenciar entre univariado e exógeno\n",
    "        prefix = 'UNIVARIADO' if tipo == 'univariado' else 'EXOGENA'\n",
    "\n",
    "        # Extrair valores\n",
    "        log_likelihood = pd.to_numeric(df.iloc[3, 9], errors='coerce')\n",
    "        aic = pd.to_numeric(df.iloc[4, 6], errors='coerce')\n",
    "        bic = pd.to_numeric(df.iloc[5, 3], errors='coerce')\n",
    "        hqic = pd.to_numeric(df.iloc[6, 3], errors='coerce')\n",
    "        ljung_box = pd.to_numeric(df.iloc[18, 3], errors='coerce')\n",
    "        jarque_bera = pd.to_numeric(df.iloc[18, 6], errors='coerce')\n",
    "        kurtosis = pd.to_numeric(df.iloc[21, 4], errors='coerce')\n",
    "        estatistica = pd.to_numeric(df.iloc[12, 3], errors='coerce') if tipo == 'exogena' else None\n",
    "        pvalue = pd.to_numeric(df.iloc[12, 4], errors='coerce') if tipo == 'exogena' else None\n",
    "        significancia = 1 if pvalue is not None and pvalue <= 0.05 else 0\n",
    "\n",
    "        # Identificar UF e Agravo\n",
    "        uf = file_path.split('_')[-2]\n",
    "        agravo = file_path.split('_')[-3]\n",
    "        descricao = f\"Resultados para {agravo} no estado {uf}\"\n",
    "\n",
    "        # Armazenar os dados\n",
    "        data = {\n",
    "            'UF': uf,\n",
    "            'AGRAVO': agravo,\n",
    "            f'LOG_{prefix}': log_likelihood,\n",
    "            f'AIC_{prefix}': aic,\n",
    "            f'BIC_{prefix}': bic,\n",
    "            f'HQIC_{prefix}': hqic,\n",
    "            f'LJUNGBOX_{prefix}': ljung_box,\n",
    "            f'JAQUE_BERA_{prefix}': jarque_bera,\n",
    "            f'KURTOSIS_{prefix}': kurtosis,\n",
    "            'VARIAVEL_EXOGENA_SIGNIFIICATIVA': significancia if tipo == 'exogena' else None,\n",
    "            'VARIAVEL_EXOGENA_ESTATISTICA': estatistica,\n",
    "            'VARIAVEL_EXOGENA_PVALUE': pvalue,\n",
    "            'DESCRICAO': descricao\n",
    "        }\n",
    "        print(f\"Dados extraídos ({tipo}): {data}\")\n",
    "\n",
    "        # Atualizar o dicionário de resultados\n",
    "        key = (uf, agravo)\n",
    "        if key not in results_dict:\n",
    "            results_dict[key] = {}\n",
    "        results_dict[key].update(data)\n",
    "\n",
    "    except Exception as e:\n",
    "        print(f\"Erro ao processar {file_path}: {e}\")\n",
    "\n",
    "# Processar os 5 primeiros arquivos de cada pasta\n",
    "for tipo, path in paths.items():\n",
    "    arquivos = glob.glob(path)[:5]  # Selecionar os primeiros 5 arquivos\n",
    "    for file_path in arquivos:\n",
    "        extract_data(file_path, tipo)\n",
    "\n",
    "# Consolidar resultados em um DataFrame\n",
    "df_resultados = pd.DataFrame(results_dict.values())\n",
    "\n",
    "# Verificar colunas existentes no DataFrame resultante\n",
    "colunas_disponiveis = df_resultados.columns\n",
    "\n",
    "# Lista de colunas desejadas no formato final\n",
    "colunas_ordenadas = [\n",
    "    'UF', 'AGRAVO', 'LOG_UNIVARIADO', 'AIC_UNIVARIADO', 'BIC_UNIVARIADO', 'HQIC_UNIVARIADO',\n",
    "    'LJUNGBOX_UNIVARIADO', 'JAQUE_BERA_UNIVARIADO', 'KURTOSIS_UNIVARIADO',\n",
    "    'VARIAVEL_EXOGENA_SIGNIFIICATIVA', 'VARIAVEL_EXOGENA_ESTATISTICA', 'VARIAVEL_EXOGENA_PVALUE',\n",
    "    'DESCRICAO', 'LOG_EXOGENA', 'AIC_EXOGENA', 'BIC_EXOGENA', 'HQIC_EXOGENA',\n",
    "    'LJUNGBOX_EXOGENA', 'JAQUE_BERA_EXOGENA', 'KURTOSIS_EXOGENA',\n",
    "    'DADOS_INCOMPLETOS', 'CAMPOS_INCOMPLETOS'\n",
    "]\n",
    "\n",
    "# Adicionar colunas ausentes com valores NaN\n",
    "for coluna in colunas_ordenadas:\n",
    "    if coluna not in colunas_disponiveis:\n",
    "        df_resultados[coluna] = pd.NA\n",
    "\n",
    "# Reorganizar colunas\n",
    "df_resultados = df_resultados[colunas_ordenadas]\n",
    "\n",
    "# Identificar valores ausentes\n",
    "df_resultados['DADOS_INCOMPLETOS'] = df_resultados.isnull().any(axis=1)\n",
    "df_resultados['CAMPOS_INCOMPLETOS'] = df_resultados.apply(\n",
    "    lambda row: [col for col in df_resultados.columns if pd.isnull(row[col])], axis=1\n",
    ")\n",
    "\n",
    "# Salvar resultados consolidados\n",
    "output_path = '/Workspace/Users/dayanna.quintanilha@afya.com.br/resultados_consolidados.csv'\n",
    "df_resultados.to_csv(output_path, index=False)\n",
    "\n",
    "# Exibir resumo\n",
    "print(\"\\nResumo de campos incompletos:\")\n",
    "print(df_resultados[['UF', 'AGRAVO', 'DADOS_INCOMPLETOS', 'CAMPOS_INCOMPLETOS']])\n",
    "print(\"\\nResultados consolidados salvos em:\")\n",
    "print(output_path)\n"
   ]
  },
  {
   "cell_type": "code",
   "execution_count": 0,
   "metadata": {
    "application/vnd.databricks.v1+cell": {
     "cellMetadata": {
      "byteLimit": 2048000,
      "rowLimit": 10000
     },
     "inputWidgets": {},
     "nuid": "605e724e-4279-45d5-a5a0-21c2dd123f8c",
     "showTitle": false,
     "tableResultSettingsMap": {},
     "title": ""
    }
   },
   "outputs": [
    {
     "output_type": "stream",
     "name": "stdout",
     "output_type": "stream",
     "text": [
      "Processando arquivo: /Workspace/Users/danielly.xavier@iclinic.com.br/Modelo Séries Temporais Clima e Saúde WB/Modelo Séries Temporais Clima e Saúde WB - Resultados/analise_estadual/ts_univariada/summaries/ts_Pneumonia por outros organismos_RS_univariado.xlsx\n                                                   0           1   ...   14   15\n0                                             SARIMAX     Results  ...  NaN  NaN\n1                                                 NaN         NaN  ...  NaN  NaN\n2                                                Dep.   Variable:  ...  NaN  NaN\n3                                              Model:  SARIMAX(1,  ...  NaN  NaN\n4                                               Date:        Tue,  ...  NaN  NaN\n5                                               Time:    11:43:00  ...  NaN  NaN\n6                                             Sample:  09-18-2021  ...  NaN  NaN\n7                                                   -  12-31-2022  ...  NaN  NaN\n8                                          Covariance       Type:  ...  NaN  NaN\n9                                                 NaN         NaN  ...  NaN  NaN\n10                                               coef         std  ...  NaN  NaN\n11  ----------------------------------------------...         NaN  ...  NaN  NaN\n12                                              ar.L1   7.769e-06  ...  NaN  NaN\n13                                              ma.L1  -1.256e-12  ...  NaN  NaN\n14                                           ar.S.L12   1.118e-15  ...  NaN  NaN\n\n[15 rows x 16 columns]\nProcessando arquivo: /Workspace/Users/danielly.xavier@iclinic.com.br/Modelo Séries Temporais Clima e Saúde WB/Modelo Séries Temporais Clima e Saúde WB - Resultados/analise_estadual/ts_univariada/summaries/ts_Covid-19_MT_univariado.xlsx\n                                                   0   ...   10\n0                                             SARIMAX  ...  NaN\n1                                                 NaN  ...  NaN\n2                                                Dep.  ...  NaN\n3                                              Model:  ...  NaN\n4                                               Date:  ...  NaN\n5                                               Time:  ...  NaN\n6                                             Sample:  ...  NaN\n7                                                   -  ...  NaN\n8                                          Covariance  ...  NaN\n9                                                 NaN  ...  NaN\n10                                               coef  ...  NaN\n11  ----------------------------------------------...  ...  NaN\n12                                              ar.L1  ...  NaN\n13                                              ma.L1  ...  NaN\n14                                           ar.S.L12  ...  NaN\n\n[15 rows x 11 columns]\nProcessando arquivo: /Workspace/Users/danielly.xavier@iclinic.com.br/Modelo Séries Temporais Clima e Saúde WB/Modelo Séries Temporais Clima e Saúde WB - Resultados/analise_estadual/ts_univariada/summaries/ts_Cetoacidose diabética_RO_univariado.xlsx\n                                                   0   ...   10\n0                                             SARIMAX  ...  NaN\n1                                                 NaN  ...  NaN\n2                                                Dep.  ...  NaN\n3                                              Model:  ...  NaN\n4                                               Date:  ...  NaN\n5                                               Time:  ...  NaN\n6                                             Sample:  ...  NaN\n7                                                   -  ...  NaN\n8                                          Covariance  ...  NaN\n9                                                 NaN  ...  NaN\n10                                               coef  ...  NaN\n11  ----------------------------------------------...  ...  NaN\n12                                              ar.L1  ...  NaN\n13                                              ma.L1  ...  NaN\n14                                           ar.S.L12  ...  NaN\n\n[15 rows x 11 columns]\nProcessando arquivo: /Workspace/Users/danielly.xavier@iclinic.com.br/Modelo Séries Temporais Clima e Saúde WB/Modelo Séries Temporais Clima e Saúde WB - Resultados/analise_estadual/ts_univariada/summaries/ts_Depressão_AL_univariado.xlsx\n                                                   0           1   ...       9    10\n0                                             SARIMAX     Results  ...      NaN  NaN\n1                                                 NaN         NaN  ...      NaN  NaN\n2                                                Dep.   Variable:  ...      NaN  NaN\n3                                              Model:  SARIMAX(1,  ...  -23.625  NaN\n4                                               Date:        Tue,  ...      NaN  NaN\n5                                               Time:    10:32:13  ...      NaN  NaN\n6                                             Sample:  01-01-2021  ...      NaN  NaN\n7                                                   -  12-31-2022  ...      NaN  NaN\n8                                          Covariance       Type:  ...      NaN  NaN\n9                                                 NaN         NaN  ...      NaN  NaN\n10                                               coef         std  ...      NaN  NaN\n11  ----------------------------------------------...         NaN  ...      NaN  NaN\n12                                              ar.L1      0.7473  ...      NaN  NaN\n13                                              ma.L1     -0.9990  ...      NaN  NaN\n14                                           ar.S.L12      0.0350  ...      NaN  NaN\n\n[15 rows x 11 columns]\nProcessando arquivo: /Workspace/Users/danielly.xavier@iclinic.com.br/Modelo Séries Temporais Clima e Saúde WB/Modelo Séries Temporais Clima e Saúde WB - Resultados/analise_estadual/ts_univariada/summaries/ts_Depressão_PB_univariado.xlsx\n                                                   0   ...   10\n0                                             SARIMAX  ...  NaN\n1                                                 NaN  ...  NaN\n2                                                Dep.  ...  NaN\n3                                              Model:  ...  NaN\n4                                               Date:  ...  NaN\n5                                               Time:  ...  NaN\n6                                             Sample:  ...  NaN\n7                                                   -  ...  NaN\n8                                          Covariance  ...  NaN\n9                                                 NaN  ...  NaN\n10                                               coef  ...  NaN\n11  ----------------------------------------------...  ...  NaN\n12                                              ar.L1  ...  NaN\n13                                              ma.L1  ...  NaN\n14                                           ar.S.L12  ...  NaN\n\n[15 rows x 11 columns]\nProcessando arquivo: /Workspace/Users/danielly.xavier@iclinic.com.br/Modelo Séries Temporais Clima e Saúde WB/Modelo Séries Temporais Clima e Saúde WB - Resultados/analise_estadual/ts_exogena/summaries/ts_Covid-19_CE_exaogena_summary.xlsx\n                                                   0   ...   10\n0                                             SARIMAX  ...  NaN\n1                                                 NaN  ...  NaN\n2                                                Dep.  ...  NaN\n3                                              Model:  ...  NaN\n4                                               Date:  ...  NaN\n5                                               Time:  ...  NaN\n6                                             Sample:  ...  NaN\n7                                                   -  ...  NaN\n8                                          Covariance  ...  NaN\n9                                                 NaN  ...  NaN\n10                                               coef  ...  NaN\n11  ----------------------------------------------...  ...  NaN\n12                                      total_acessos  ...  NaN\n13                                              ar.L1  ...  NaN\n14                                              ma.L1  ...  NaN\n\n[15 rows x 11 columns]\nProcessando arquivo: /Workspace/Users/danielly.xavier@iclinic.com.br/Modelo Séries Temporais Clima e Saúde WB/Modelo Séries Temporais Clima e Saúde WB - Resultados/analise_estadual/ts_exogena/summaries/ts_Covid-19_TO_exaogena_summary.xlsx\n                                                   0   ...   10\n0                                             SARIMAX  ...  NaN\n1                                                 NaN  ...  NaN\n2                                                Dep.  ...  NaN\n3                                              Model:  ...  NaN\n4                                               Date:  ...  NaN\n5                                               Time:  ...  NaN\n6                                             Sample:  ...  NaN\n7                                                   -  ...  NaN\n8                                          Covariance  ...  NaN\n9                                                 NaN  ...  NaN\n10                                               coef  ...  NaN\n11  ----------------------------------------------...  ...  NaN\n12                                      total_acessos  ...  NaN\n13                                              ar.L1  ...  NaN\n14                                              ma.L1  ...  NaN\n\n[15 rows x 11 columns]\nProcessando arquivo: /Workspace/Users/danielly.xavier@iclinic.com.br/Modelo Séries Temporais Clima e Saúde WB/Modelo Séries Temporais Clima e Saúde WB - Resultados/analise_estadual/ts_exogena/summaries/ts_Cetoacidose diabética_PR_exaogena_summary.xlsx\n                                                   0   ...   10\n0                                             SARIMAX  ...  NaN\n1                                                 NaN  ...  NaN\n2                                                Dep.  ...  NaN\n3                                              Model:  ...  NaN\n4                                               Date:  ...  NaN\n5                                               Time:  ...  NaN\n6                                             Sample:  ...  NaN\n7                                                   -  ...  NaN\n8                                          Covariance  ...  NaN\n9                                                 NaN  ...  NaN\n10                                               coef  ...  NaN\n11  ----------------------------------------------...  ...  NaN\n12                                      total_acessos  ...  NaN\n13                                              ar.L1  ...  NaN\n14                                              ma.L1  ...  NaN\n\n[15 rows x 11 columns]\nProcessando arquivo: /Workspace/Users/danielly.xavier@iclinic.com.br/Modelo Séries Temporais Clima e Saúde WB/Modelo Séries Temporais Clima e Saúde WB - Resultados/analise_estadual/ts_exogena/summaries/ts_Pneumonia viral_RN_exaogena_summary.xlsx\n                                                   0           1   ...   14   15\n0                                             SARIMAX     Results  ...  NaN  NaN\n1                                                 NaN         NaN  ...  NaN  NaN\n2                                                Dep.   Variable:  ...  NaN  NaN\n3                                              Model:  SARIMAX(1,  ...  NaN  NaN\n4                                               Date:        Tue,  ...  NaN  NaN\n5                                               Time:    12:22:36  ...  NaN  NaN\n6                                             Sample:  01-01-2021  ...  NaN  NaN\n7                                                   -  12-31-2022  ...  NaN  NaN\n8                                          Covariance       Type:  ...  NaN  NaN\n9                                                 NaN         NaN  ...  NaN  NaN\n10                                               coef         std  ...  NaN  NaN\n11  ----------------------------------------------...         NaN  ...  NaN  NaN\n12                                      total_acessos           0  ...  NaN  NaN\n13                                              ar.L1      0.2089  ...  NaN  NaN\n14                                              ma.L1     -0.9272  ...  NaN  NaN\n\n[15 rows x 16 columns]\nProcessando arquivo: /Workspace/Users/danielly.xavier@iclinic.com.br/Modelo Séries Temporais Clima e Saúde WB/Modelo Séries Temporais Clima e Saúde WB - Resultados/analise_estadual/ts_exogena/summaries/ts_Doença renal crônica_MT_exaogena_summary.xlsx\n                                                   0   ...   10\n0                                             SARIMAX  ...  NaN\n1                                                 NaN  ...  NaN\n2                                                Dep.  ...  NaN\n3                                              Model:  ...  NaN\n4                                               Date:  ...  NaN\n5                                               Time:  ...  NaN\n6                                             Sample:  ...  NaN\n7                                                   -  ...  NaN\n8                                          Covariance  ...  NaN\n9                                                 NaN  ...  NaN\n10                                               coef  ...  NaN\n11  ----------------------------------------------...  ...  NaN\n12                                      total_acessos  ...  NaN\n13                                              ar.L1  ...  NaN\n14                                              ma.L1  ...  NaN\n\n[15 rows x 11 columns]\n\nResumo de campos incompletos:\n         UF  ...                                 CAMPOS_INCOMPLETOS\n0        RS  ...  [LJUNGBOX_UNIVARIADO, JAQUE_BERA_UNIVARIADO, K...\n1        MT  ...  [VARIAVEL_EXOGENA_SIGNIFIICATIVA, VARIAVEL_EXO...\n2        RO  ...  [VARIAVEL_EXOGENA_SIGNIFIICATIVA, VARIAVEL_EXO...\n3        AL  ...  [VARIAVEL_EXOGENA_SIGNIFIICATIVA, VARIAVEL_EXO...\n4        PB  ...  [VARIAVEL_EXOGENA_SIGNIFIICATIVA, VARIAVEL_EXO...\n5  exaogena  ...  [LOG_UNIVARIADO, AIC_UNIVARIADO, BIC_UNIVARIAD...\n6  exaogena  ...  [LOG_UNIVARIADO, AIC_UNIVARIADO, BIC_UNIVARIAD...\n7  exaogena  ...  [LOG_UNIVARIADO, AIC_UNIVARIADO, BIC_UNIVARIAD...\n8  exaogena  ...  [LOG_UNIVARIADO, AIC_UNIVARIADO, BIC_UNIVARIAD...\n9  exaogena  ...  [LOG_UNIVARIADO, AIC_UNIVARIADO, BIC_UNIVARIAD...\n\n[10 rows x 4 columns]\n\nResultados consolidados salvos em:\n/Workspace/Users/dayanna.quintanilha@afya.com.br/resultados_consolidados.csv\n"
     ]
    }
   ],
   "source": [
    "import os\n",
    "import pandas as pd\n",
    "import glob\n",
    "\n",
    "# Definir os caminhos das pastas\n",
    "paths = {\n",
    "    'univariado': '/Workspace/Users/danielly.xavier@iclinic.com.br/Modelo Séries Temporais Clima e Saúde WB/Modelo Séries Temporais Clima e Saúde WB - Resultados/analise_estadual/ts_univariada/summaries/*.xlsx',\n",
    "    'exogena': '/Workspace/Users/danielly.xavier@iclinic.com.br/Modelo Séries Temporais Clima e Saúde WB/Modelo Séries Temporais Clima e Saúde WB - Resultados/analise_estadual/ts_exogena/summaries/*.xlsx'\n",
    "}\n",
    "\n",
    "# Dicionário para armazenar os resultados\n",
    "results_dict = {}\n",
    "\n",
    "# Função para extrair dados de uma planilha\n",
    "def extract_data(file_path, tipo):\n",
    "    try:\n",
    "        print(f\"Processando arquivo: {file_path}\")\n",
    "        df = pd.read_excel(file_path, header=None)\n",
    "        print(df.head(15))  # Visualização inicial\n",
    "\n",
    "        # Prefixo para diferenciar entre univariado e exógeno\n",
    "        prefix = 'UNIVARIADO' if tipo == 'univariado' else 'EXOGENA'\n",
    "\n",
    "        # Extrair valores\n",
    "        log_likelihood = pd.to_numeric(df.iloc[3, 9], errors='coerce')\n",
    "        aic = pd.to_numeric(df.iloc[4, 6], errors='coerce')\n",
    "        bic = pd.to_numeric(df.iloc[5, 3], errors='coerce')\n",
    "        hqic = pd.to_numeric(df.iloc[6, 3], errors='coerce')\n",
    "        ljung_box = pd.to_numeric(df.iloc[18, 3], errors='coerce')\n",
    "        jarque_bera = pd.to_numeric(df.iloc[18, 6], errors='coerce')\n",
    "        kurtosis = pd.to_numeric(df.iloc[21, 4], errors='coerce')\n",
    "        estatistica = pd.to_numeric(df.iloc[12, 3], errors='coerce') if tipo == 'exogena' else None\n",
    "        pvalue = pd.to_numeric(df.iloc[12, 4], errors='coerce') if tipo == 'exogena' else None\n",
    "        significancia = 1 if pvalue is not None and pvalue <= 0.05 else 0\n",
    "\n",
    "        # Identificar UF e Agravo\n",
    "        uf = os.path.basename(file_path).split('_')[-2]\n",
    "        agravo = os.path.basename(file_path).split('_')[-3]\n",
    "        descricao = f\"Resultados para {agravo} no estado {uf}\"\n",
    "\n",
    "        # Armazenar os dados\n",
    "        data = {\n",
    "            f'LOG_{prefix}': log_likelihood,\n",
    "            f'AIC_{prefix}': aic,\n",
    "            f'BIC_{prefix}': bic,\n",
    "            f'HQIC_{prefix}': hqic,\n",
    "            f'LJUNGBOX_{prefix}': ljung_box,\n",
    "            f'JAQUE_BERA_{prefix}': jarque_bera,\n",
    "            f'KURTOSIS_{prefix}': kurtosis,\n",
    "            'VARIAVEL_EXOGENA_SIGNIFIICATIVA': significancia if tipo == 'exogena' else None,\n",
    "            'VARIAVEL_EXOGENA_ESTATISTICA': estatistica,\n",
    "            'VARIAVEL_EXOGENA_PVALUE': pvalue,\n",
    "            'DESCRICAO': descricao\n",
    "        }\n",
    "\n",
    "        # Atualizar o dicionário de resultados\n",
    "        key = (uf, agravo)\n",
    "        if key not in results_dict:\n",
    "            results_dict[key] = {'UF': uf, 'AGRAVO': agravo}\n",
    "        results_dict[key].update(data)\n",
    "\n",
    "    except Exception as e:\n",
    "        print(f\"Erro ao processar {file_path}: {e}\")\n",
    "\n",
    "# Processar os 5 primeiros arquivos de cada pasta\n",
    "for tipo, path in paths.items():\n",
    "    arquivos = glob.glob(path)[:5]  # Selecionar os primeiros 5 arquivos\n",
    "    for file_path in arquivos:\n",
    "        extract_data(file_path, tipo)\n",
    "\n",
    "# Consolidar resultados em um DataFrame\n",
    "df_resultados = pd.DataFrame(results_dict.values())\n",
    "\n",
    "# Verificar colunas existentes no DataFrame resultante\n",
    "colunas_disponiveis = df_resultados.columns\n",
    "\n",
    "# Lista de colunas desejadas no formato final\n",
    "colunas_ordenadas = [\n",
    "    'UF', 'AGRAVO', 'LOG_UNIVARIADO', 'AIC_UNIVARIADO', 'BIC_UNIVARIADO', 'HQIC_UNIVARIADO',\n",
    "    'LJUNGBOX_UNIVARIADO', 'JAQUE_BERA_UNIVARIADO', 'KURTOSIS_UNIVARIADO',\n",
    "    'VARIAVEL_EXOGENA_SIGNIFIICATIVA', 'VARIAVEL_EXOGENA_ESTATISTICA', 'VARIAVEL_EXOGENA_PVALUE',\n",
    "    'DESCRICAO', 'LOG_EXOGENA', 'AIC_EXOGENA', 'BIC_EXOGENA', 'HQIC_EXOGENA',\n",
    "    'LJUNGBOX_EXOGENA', 'JAQUE_BERA_EXOGENA', 'KURTOSIS_EXOGENA',\n",
    "    'DADOS_INCOMPLETOS', 'CAMPOS_INCOMPLETOS'\n",
    "]\n",
    "\n",
    "# Adicionar colunas ausentes com valores NaN\n",
    "for coluna in colunas_ordenadas:\n",
    "    if coluna not in colunas_disponiveis:\n",
    "        df_resultados[coluna] = pd.NA\n",
    "\n",
    "# Reorganizar colunas\n",
    "df_resultados = df_resultados[colunas_ordenadas]\n",
    "\n",
    "# Identificar valores ausentes\n",
    "df_resultados['DADOS_INCOMPLETOS'] = df_resultados.isnull().any(axis=1)\n",
    "df_resultados['CAMPOS_INCOMPLETOS'] = df_resultados.apply(\n",
    "    lambda row: [col for col in df_resultados.columns if pd.isnull(row[col])], axis=1\n",
    ")\n",
    "\n",
    "# Salvar resultados consolidados\n",
    "output_path = '/Workspace/Users/dayanna.quintanilha@afya.com.br/resultados_consolidados.csv'\n",
    "df_resultados.to_csv(output_path, index=False)\n",
    "\n",
    "# Exibir resumo\n",
    "print(\"\\nResumo de campos incompletos:\")\n",
    "print(df_resultados[['UF', 'AGRAVO', 'DADOS_INCOMPLETOS', 'CAMPOS_INCOMPLETOS']])\n",
    "print(\"\\nResultados consolidados salvos em:\")\n",
    "print(output_path)\n"
   ]
  },
  {
   "cell_type": "code",
   "execution_count": 0,
   "metadata": {
    "application/vnd.databricks.v1+cell": {
     "cellMetadata": {
      "byteLimit": 2048000,
      "rowLimit": 10000
     },
     "inputWidgets": {},
     "nuid": "fc1270cf-6d1a-4af6-9a38-b255a566839d",
     "showTitle": false,
     "tableResultSettingsMap": {},
     "title": ""
    }
   },
   "outputs": [
    {
     "output_type": "stream",
     "name": "stdout",
     "output_type": "stream",
     "text": [
      "\n--- Processando UNIVARIADOS ---\n\nProcessando arquivo: /Workspace/Users/danielly.xavier@iclinic.com.br/Modelo Séries Temporais Clima e Saúde WB/Modelo Séries Temporais Clima e Saúde WB - Resultados/analise_estadual/ts_univariada/summaries/ts_Pneumonia por outros organismos_RS_univariado.xlsx\nProcessando arquivo: /Workspace/Users/danielly.xavier@iclinic.com.br/Modelo Séries Temporais Clima e Saúde WB/Modelo Séries Temporais Clima e Saúde WB - Resultados/analise_estadual/ts_univariada/summaries/ts_Covid-19_MT_univariado.xlsx\nProcessando arquivo: /Workspace/Users/danielly.xavier@iclinic.com.br/Modelo Séries Temporais Clima e Saúde WB/Modelo Séries Temporais Clima e Saúde WB - Resultados/analise_estadual/ts_univariada/summaries/ts_Cetoacidose diabética_RO_univariado.xlsx\nProcessando arquivo: /Workspace/Users/danielly.xavier@iclinic.com.br/Modelo Séries Temporais Clima e Saúde WB/Modelo Séries Temporais Clima e Saúde WB - Resultados/analise_estadual/ts_univariada/summaries/ts_Depressão_AL_univariado.xlsx\nProcessando arquivo: /Workspace/Users/danielly.xavier@iclinic.com.br/Modelo Séries Temporais Clima e Saúde WB/Modelo Séries Temporais Clima e Saúde WB - Resultados/analise_estadual/ts_univariada/summaries/ts_Depressão_PB_univariado.xlsx\n\n--- Processando EXÓGENOS ---\n\nProcessando arquivo: /Workspace/Users/danielly.xavier@iclinic.com.br/Modelo Séries Temporais Clima e Saúde WB/Modelo Séries Temporais Clima e Saúde WB - Resultados/analise_estadual/ts_exogena/summaries/ts_Covid-19_CE_exaogena_summary.xlsx\nProcessando arquivo: /Workspace/Users/danielly.xavier@iclinic.com.br/Modelo Séries Temporais Clima e Saúde WB/Modelo Séries Temporais Clima e Saúde WB - Resultados/analise_estadual/ts_exogena/summaries/ts_Covid-19_TO_exaogena_summary.xlsx\nProcessando arquivo: /Workspace/Users/danielly.xavier@iclinic.com.br/Modelo Séries Temporais Clima e Saúde WB/Modelo Séries Temporais Clima e Saúde WB - Resultados/analise_estadual/ts_exogena/summaries/ts_Cetoacidose diabética_PR_exaogena_summary.xlsx\nProcessando arquivo: /Workspace/Users/danielly.xavier@iclinic.com.br/Modelo Séries Temporais Clima e Saúde WB/Modelo Séries Temporais Clima e Saúde WB - Resultados/analise_estadual/ts_exogena/summaries/ts_Pneumonia viral_RN_exaogena_summary.xlsx\nProcessando arquivo: /Workspace/Users/danielly.xavier@iclinic.com.br/Modelo Séries Temporais Clima e Saúde WB/Modelo Séries Temporais Clima e Saúde WB - Resultados/analise_estadual/ts_exogena/summaries/ts_Doença renal crônica_MT_exaogena_summary.xlsx\n\nResumo de campos incompletos:\n   UF  ...                                 CAMPOS_INCOMPLETOS\n0  RS  ...  [LJUNGBOX_UNIVARIADO, JAQUE_BERA_UNIVARIADO, K...\n1  MT  ...  [VARIAVEL_EXOGENA_SIGNIFIICATIVA, VARIAVEL_EXO...\n2  RO  ...  [VARIAVEL_EXOGENA_SIGNIFIICATIVA, VARIAVEL_EXO...\n3  AL  ...  [VARIAVEL_EXOGENA_SIGNIFIICATIVA, VARIAVEL_EXO...\n4  PB  ...  [VARIAVEL_EXOGENA_SIGNIFIICATIVA, VARIAVEL_EXO...\n5  CE  ...  [LOG_UNIVARIADO, AIC_UNIVARIADO, BIC_UNIVARIAD...\n6  TO  ...  [LOG_UNIVARIADO, AIC_UNIVARIADO, BIC_UNIVARIAD...\n7  PR  ...  [LOG_UNIVARIADO, AIC_UNIVARIADO, BIC_UNIVARIAD...\n8  RN  ...  [LOG_UNIVARIADO, AIC_UNIVARIADO, BIC_UNIVARIAD...\n9  MT  ...  [LOG_UNIVARIADO, AIC_UNIVARIADO, BIC_UNIVARIAD...\n\n[10 rows x 4 columns]\n\nResultados consolidados salvos em:\n/Workspace/Users/dayanna.quintanilha@afya.com.br/resultados_consolidados.csv\n"
     ]
    }
   ],
   "source": [
    "import os\n",
    "import pandas as pd\n",
    "import glob\n",
    "\n",
    "# Definir os caminhos das pastas\n",
    "paths = {\n",
    "    'univariado': '/Workspace/Users/danielly.xavier@iclinic.com.br/Modelo Séries Temporais Clima e Saúde WB/Modelo Séries Temporais Clima e Saúde WB - Resultados/analise_estadual/ts_univariada/summaries/*.xlsx',\n",
    "    'exogena': '/Workspace/Users/danielly.xavier@iclinic.com.br/Modelo Séries Temporais Clima e Saúde WB/Modelo Séries Temporais Clima e Saúde WB - Resultados/analise_estadual/ts_exogena/summaries/*.xlsx'\n",
    "}\n",
    "\n",
    "# Dicionário para armazenar os resultados\n",
    "results_dict = {}\n",
    "\n",
    "# Função para extrair dados\n",
    "def extract_data(file_path, tipo):\n",
    "    try:\n",
    "        print(f\"Processando arquivo: {file_path}\")\n",
    "        df = pd.read_excel(file_path, header=None)\n",
    "        \n",
    "        # Prefixo para diferenciar entre univariado e exógeno\n",
    "        prefix = 'UNIVARIADO' if tipo == 'univariado' else 'EXOGENA'\n",
    "\n",
    "        # Extrair valores\n",
    "        log_likelihood = pd.to_numeric(df.iloc[3, 9], errors='coerce')\n",
    "        aic = pd.to_numeric(df.iloc[4, 6], errors='coerce')\n",
    "        bic = pd.to_numeric(df.iloc[5, 3], errors='coerce')\n",
    "        hqic = pd.to_numeric(df.iloc[6, 3], errors='coerce')\n",
    "        ljung_box = pd.to_numeric(df.iloc[18, 3], errors='coerce')\n",
    "        jarque_bera = pd.to_numeric(df.iloc[18, 6], errors='coerce')\n",
    "        kurtosis = pd.to_numeric(df.iloc[21, 4], errors='coerce')\n",
    "        estatistica = pd.to_numeric(df.iloc[12, 3], errors='coerce') if tipo == 'exogena' else None\n",
    "        pvalue = pd.to_numeric(df.iloc[12, 4], errors='coerce') if tipo == 'exogena' else None\n",
    "        significancia = 1 if pvalue is not None and pvalue <= 0.05 else 0\n",
    "\n",
    "        # Identificar UF e Agravo\n",
    "        filename = os.path.basename(file_path)\n",
    "        parts = filename.replace(\".xlsx\", \"\").split('_')\n",
    "        uf = parts[-2] if tipo == 'univariado' else parts[-3]\n",
    "        agravo = parts[1]\n",
    "\n",
    "        descricao = f\"Resultados para {agravo} no estado {uf}\"\n",
    "\n",
    "        # Armazenar os dados\n",
    "        data = {\n",
    "            'UF': uf,\n",
    "            'AGRAVO': agravo,\n",
    "            f'LOG_{prefix}': log_likelihood,\n",
    "            f'AIC_{prefix}': aic,\n",
    "            f'BIC_{prefix}': bic,\n",
    "            f'HQIC_{prefix}': hqic,\n",
    "            f'LJUNGBOX_{prefix}': ljung_box,\n",
    "            f'JAQUE_BERA_{prefix}': jarque_bera,\n",
    "            f'KURTOSIS_{prefix}': kurtosis,\n",
    "            'VARIAVEL_EXOGENA_SIGNIFIICATIVA': significancia if tipo == 'exogena' else None,\n",
    "            'VARIAVEL_EXOGENA_ESTATISTICA': estatistica,\n",
    "            'VARIAVEL_EXOGENA_PVALUE': pvalue,\n",
    "            'DESCRICAO': descricao\n",
    "        }\n",
    "\n",
    "        # Atualizar o dicionário de resultados\n",
    "        key = (uf, agravo)\n",
    "        if key not in results_dict:\n",
    "            results_dict[key] = {}\n",
    "        results_dict[key].update(data)\n",
    "\n",
    "    except Exception as e:\n",
    "        print(f\"Erro ao processar {file_path}: {e}\")\n",
    "\n",
    "# Passo 1: Processar arquivos univariados\n",
    "print(\"\\n--- Processando UNIVARIADOS ---\\n\")\n",
    "arquivos_univariados = glob.glob(paths['univariado'])[:5]\n",
    "for file_path in arquivos_univariados:\n",
    "    extract_data(file_path, 'univariado')\n",
    "\n",
    "# Passo 2: Processar arquivos exógenos\n",
    "print(\"\\n--- Processando EXÓGENOS ---\\n\")\n",
    "arquivos_exogenos = glob.glob(paths['exogena'])[:5]\n",
    "for file_path in arquivos_exogenos:\n",
    "    extract_data(file_path, 'exogena')\n",
    "\n",
    "# Consolidar resultados em um DataFrame\n",
    "df_resultados = pd.DataFrame(results_dict.values())\n",
    "\n",
    "# Adicionar colunas ausentes\n",
    "colunas_ordenadas = [\n",
    "    'UF', 'AGRAVO', 'LOG_UNIVARIADO', 'AIC_UNIVARIADO', 'BIC_UNIVARIADO', 'HQIC_UNIVARIADO',\n",
    "    'LJUNGBOX_UNIVARIADO', 'JAQUE_BERA_UNIVARIADO', 'KURTOSIS_UNIVARIADO',\n",
    "    'VARIAVEL_EXOGENA_SIGNIFIICATIVA', 'VARIAVEL_EXOGENA_ESTATISTICA', 'VARIAVEL_EXOGENA_PVALUE',\n",
    "    'DESCRICAO', 'LOG_EXOGENA', 'AIC_EXOGENA', 'BIC_EXOGENA', 'HQIC_EXOGENA',\n",
    "    'LJUNGBOX_EXOGENA', 'JAQUE_BERA_EXOGENA', 'KURTOSIS_EXOGENA',\n",
    "    'DADOS_INCOMPLETOS', 'CAMPOS_INCOMPLETOS'\n",
    "]\n",
    "\n",
    "for coluna in colunas_ordenadas:\n",
    "    if coluna not in df_resultados.columns:\n",
    "        df_resultados[coluna] = pd.NA\n",
    "\n",
    "# Reorganizar as colunas\n",
    "df_resultados = df_resultados[colunas_ordenadas]\n",
    "\n",
    "# Identificar valores ausentes\n",
    "df_resultados['DADOS_INCOMPLETOS'] = df_resultados.isnull().any(axis=1)\n",
    "df_resultados['CAMPOS_INCOMPLETOS'] = df_resultados.apply(\n",
    "    lambda row: [col for col in df_resultados.columns if pd.isnull(row[col])], axis=1\n",
    ")\n",
    "\n",
    "# Salvar resultados consolidados\n",
    "output_path = '/Workspace/Users/dayanna.quintanilha@afya.com.br/resultados_consolidados.csv'\n",
    "df_resultados.to_csv(output_path, index=False)\n",
    "\n",
    "# Exibir resumo\n",
    "print(\"\\nResumo de campos incompletos:\")\n",
    "print(df_resultados[['UF', 'AGRAVO', 'DADOS_INCOMPLETOS', 'CAMPOS_INCOMPLETOS']])\n",
    "print(\"\\nResultados consolidados salvos em:\")\n",
    "print(output_path)\n"
   ]
  },
  {
   "cell_type": "markdown",
   "metadata": {
    "application/vnd.databricks.v1+cell": {
     "cellMetadata": {},
     "inputWidgets": {},
     "nuid": "59ab1c83-9828-4f06-827b-ffd2b6148c30",
     "showTitle": false,
     "tableResultSettingsMap": {},
     "title": ""
    }
   },
   "source": [
    "Extração univariada\n"
   ]
  },
  {
   "cell_type": "code",
   "execution_count": 0,
   "metadata": {
    "application/vnd.databricks.v1+cell": {
     "cellMetadata": {
      "byteLimit": 2048000,
      "rowLimit": 10000
     },
     "inputWidgets": {},
     "nuid": "dabd61be-7266-473a-a855-141fa94c6943",
     "showTitle": false,
     "tableResultSettingsMap": {},
     "title": ""
    }
   },
   "outputs": [
    {
     "output_type": "stream",
     "name": "stdout",
     "output_type": "stream",
     "text": [
      "Requirement already satisfied: openpyxl in /local_disk0/.ephemeral_nfs/envs/pythonEnv-61f421d3-a20e-4d43-887a-3236a2dc9dfa/lib/python3.10/site-packages (3.1.5)\nRequirement already satisfied: et-xmlfile in /local_disk0/.ephemeral_nfs/envs/pythonEnv-61f421d3-a20e-4d43-887a-3236a2dc9dfa/lib/python3.10/site-packages (from openpyxl) (2.0.0)\n\u001B[43mNote: you may need to restart the kernel using %restart_python or dbutils.library.restartPython() to use updated packages.\u001B[0m\n\n--- Processando arquivos UNIVARIADOS ---\n\nProcessando arquivo: /Workspace/Users/danielly.xavier@iclinic.com.br/Modelo Séries Temporais Clima e Saúde WB/Modelo Séries Temporais Clima e Saúde WB - Resultados/analise_estadual/ts_univariada/summaries/00B_ts_Dengue_PR_univariado.xlsx\nProcessando arquivo: /Workspace/Users/danielly.xavier@iclinic.com.br/Modelo Séries Temporais Clima e Saúde WB/Modelo Séries Temporais Clima e Saúde WB - Resultados/analise_estadual/ts_univariada/summaries/00B_ts_Pneumonia_RJ_univariado.xlsx\nProcessando arquivo: /Workspace/Users/danielly.xavier@iclinic.com.br/Modelo Séries Temporais Clima e Saúde WB/Modelo Séries Temporais Clima e Saúde WB - Resultados/analise_estadual/ts_univariada/summaries/00B_ts_Dengue_GO_univariado.xlsx\nProcessando arquivo: /Workspace/Users/danielly.xavier@iclinic.com.br/Modelo Séries Temporais Clima e Saúde WB/Modelo Séries Temporais Clima e Saúde WB - Resultados/analise_estadual/ts_univariada/summaries/00B_ts_Dengue_MG_univariado.xlsx\nProcessando arquivo: /Workspace/Users/danielly.xavier@iclinic.com.br/Modelo Séries Temporais Clima e Saúde WB/Modelo Séries Temporais Clima e Saúde WB - Resultados/analise_estadual/ts_univariada/summaries/00B_ts_Pneumonia_TO_univariado.xlsx\nProcessando arquivo: /Workspace/Users/danielly.xavier@iclinic.com.br/Modelo Séries Temporais Clima e Saúde WB/Modelo Séries Temporais Clima e Saúde WB - Resultados/analise_estadual/ts_univariada/summaries/00B_ts_Pneumonia_PE_univariado.xlsx\nProcessando arquivo: /Workspace/Users/danielly.xavier@iclinic.com.br/Modelo Séries Temporais Clima e Saúde WB/Modelo Séries Temporais Clima e Saúde WB - Resultados/analise_estadual/ts_univariada/summaries/00B_ts_Pneumonia_PR_univariado.xlsx\nProcessando arquivo: /Workspace/Users/danielly.xavier@iclinic.com.br/Modelo Séries Temporais Clima e Saúde WB/Modelo Séries Temporais Clima e Saúde WB - Resultados/analise_estadual/ts_univariada/summaries/00B_ts_Dengue_AM_univariado.xlsx\nProcessando arquivo: /Workspace/Users/danielly.xavier@iclinic.com.br/Modelo Séries Temporais Clima e Saúde WB/Modelo Séries Temporais Clima e Saúde WB - Resultados/analise_estadual/ts_univariada/summaries/00B_ts_Pneumonia_ES_univariado.xlsx\nProcessando arquivo: /Workspace/Users/danielly.xavier@iclinic.com.br/Modelo Séries Temporais Clima e Saúde WB/Modelo Séries Temporais Clima e Saúde WB - Resultados/analise_estadual/ts_univariada/summaries/00B_ts_Dengue_CE_univariado.xlsx\nProcessando arquivo: /Workspace/Users/danielly.xavier@iclinic.com.br/Modelo Séries Temporais Clima e Saúde WB/Modelo Séries Temporais Clima e Saúde WB - Resultados/analise_estadual/ts_univariada/summaries/00B_ts_Dengue_TO_univariado.xlsx\nProcessando arquivo: /Workspace/Users/danielly.xavier@iclinic.com.br/Modelo Séries Temporais Clima e Saúde WB/Modelo Séries Temporais Clima e Saúde WB - Resultados/analise_estadual/ts_univariada/summaries/00B_ts_Pneumonia_CE_univariado.xlsx\nProcessando arquivo: /Workspace/Users/danielly.xavier@iclinic.com.br/Modelo Séries Temporais Clima e Saúde WB/Modelo Séries Temporais Clima e Saúde WB - Resultados/analise_estadual/ts_univariada/summaries/00B_ts_Pneumonia_MA_univariado.xlsx\nProcessando arquivo: /Workspace/Users/danielly.xavier@iclinic.com.br/Modelo Séries Temporais Clima e Saúde WB/Modelo Séries Temporais Clima e Saúde WB - Resultados/analise_estadual/ts_univariada/summaries/00B_ts_Pneumonia_AL_univariado.xlsx\nProcessando arquivo: /Workspace/Users/danielly.xavier@iclinic.com.br/Modelo Séries Temporais Clima e Saúde WB/Modelo Séries Temporais Clima e Saúde WB - Resultados/analise_estadual/ts_univariada/summaries/00B_ts_Pneumonia_DF_univariado.xlsx\nProcessando arquivo: /Workspace/Users/danielly.xavier@iclinic.com.br/Modelo Séries Temporais Clima e Saúde WB/Modelo Séries Temporais Clima e Saúde WB - Resultados/analise_estadual/ts_univariada/summaries/ts_Pneumonia comunitária_CE_univariado.xlsx\nProcessando arquivo: /Workspace/Users/danielly.xavier@iclinic.com.br/Modelo Séries Temporais Clima e Saúde WB/Modelo Séries Temporais Clima e Saúde WB - Resultados/analise_estadual/ts_univariada/summaries/ts_Pneumonia comunitária_RN_univariado.xlsx\nProcessando arquivo: /Workspace/Users/danielly.xavier@iclinic.com.br/Modelo Séries Temporais Clima e Saúde WB/Modelo Séries Temporais Clima e Saúde WB - Resultados/analise_estadual/ts_univariada/summaries/ts_Covid-19_RJ_univariado.xlsx\nProcessando arquivo: /Workspace/Users/danielly.xavier@iclinic.com.br/Modelo Séries Temporais Clima e Saúde WB/Modelo Séries Temporais Clima e Saúde WB - Resultados/analise_estadual/ts_univariada/summaries/ts_Pneumonia comunitária_BA_univariado.xlsx\nProcessando arquivo: /Workspace/Users/danielly.xavier@iclinic.com.br/Modelo Séries Temporais Clima e Saúde WB/Modelo Séries Temporais Clima e Saúde WB - Resultados/analise_estadual/ts_univariada/summaries/ts_Pneumonia comunitária_GO_univariado.xlsx\nProcessando arquivo: /Workspace/Users/danielly.xavier@iclinic.com.br/Modelo Séries Temporais Clima e Saúde WB/Modelo Séries Temporais Clima e Saúde WB - Resultados/analise_estadual/ts_univariada/summaries/ts_Pneumonia comunitária_PA_univariado.xlsx\nProcessando arquivo: /Workspace/Users/danielly.xavier@iclinic.com.br/Modelo Séries Temporais Clima e Saúde WB/Modelo Séries Temporais Clima e Saúde WB - Resultados/analise_estadual/ts_univariada/summaries/ts_Cetoacidose diabética_PA_univariado.xlsx\nProcessando arquivo: /Workspace/Users/danielly.xavier@iclinic.com.br/Modelo Séries Temporais Clima e Saúde WB/Modelo Séries Temporais Clima e Saúde WB - Resultados/analise_estadual/ts_univariada/summaries/ts_Cetoacidose diabética_PI_univariado.xlsx\nProcessando arquivo: /Workspace/Users/danielly.xavier@iclinic.com.br/Modelo Séries Temporais Clima e Saúde WB/Modelo Séries Temporais Clima e Saúde WB - Resultados/analise_estadual/ts_univariada/summaries/ts_Pneumonia viral_AC_univariado.xlsx\nProcessando arquivo: /Workspace/Users/danielly.xavier@iclinic.com.br/Modelo Séries Temporais Clima e Saúde WB/Modelo Séries Temporais Clima e Saúde WB - Resultados/analise_estadual/ts_univariada/summaries/ts_Doença pulmonar obstrutiva crônica_SE_univariado.xlsx\nProcessando arquivo: /Workspace/Users/danielly.xavier@iclinic.com.br/Modelo Séries Temporais Clima e Saúde WB/Modelo Séries Temporais Clima e Saúde WB - Resultados/analise_estadual/ts_univariada/summaries/ts_Infarto agudo do miocárdio_RS_univariado.xlsx\nProcessando arquivo: /Workspace/Users/danielly.xavier@iclinic.com.br/Modelo Séries Temporais Clima e Saúde WB/Modelo Séries Temporais Clima e Saúde WB - Resultados/analise_estadual/ts_univariada/summaries/ts_Influenza_AC_univariado.xlsx\nProcessando arquivo: /Workspace/Users/danielly.xavier@iclinic.com.br/Modelo Séries Temporais Clima e Saúde WB/Modelo Séries Temporais Clima e Saúde WB - Resultados/analise_estadual/ts_univariada/summaries/ts_Influenza_ES_univariado.xlsx\nProcessando arquivo: /Workspace/Users/danielly.xavier@iclinic.com.br/Modelo Séries Temporais Clima e Saúde WB/Modelo Séries Temporais Clima e Saúde WB - Resultados/analise_estadual/ts_univariada/summaries/ts_Influenza_GO_univariado.xlsx\nProcessando arquivo: /Workspace/Users/danielly.xavier@iclinic.com.br/Modelo Séries Temporais Clima e Saúde WB/Modelo Séries Temporais Clima e Saúde WB - Resultados/analise_estadual/ts_univariada/summaries/ts_Influenza_PR_univariado.xlsx\nProcessando arquivo: /Workspace/Users/danielly.xavier@iclinic.com.br/Modelo Séries Temporais Clima e Saúde WB/Modelo Séries Temporais Clima e Saúde WB - Resultados/analise_estadual/ts_univariada/summaries/ts_Influenza_RJ_univariado.xlsx\nProcessando arquivo: /Workspace/Users/danielly.xavier@iclinic.com.br/Modelo Séries Temporais Clima e Saúde WB/Modelo Séries Temporais Clima e Saúde WB - Resultados/analise_estadual/ts_univariada/summaries/ts_Pneumonia bacteriana_AP_univariado.xlsx\nProcessando arquivo: /Workspace/Users/danielly.xavier@iclinic.com.br/Modelo Séries Temporais Clima e Saúde WB/Modelo Séries Temporais Clima e Saúde WB - Resultados/analise_estadual/ts_univariada/summaries/ts_Doença pulmonar obstrutiva crônica_RO_univariado.xlsx\nProcessando arquivo: /Workspace/Users/danielly.xavier@iclinic.com.br/Modelo Séries Temporais Clima e Saúde WB/Modelo Séries Temporais Clima e Saúde WB - Resultados/analise_estadual/ts_univariada/summaries/ts_Tuberculose_MT_univariado.xlsx\nProcessando arquivo: /Workspace/Users/danielly.xavier@iclinic.com.br/Modelo Séries Temporais Clima e Saúde WB/Modelo Séries Temporais Clima e Saúde WB - Resultados/analise_estadual/ts_univariada/summaries/ts_Transtorno de ansiedade generalizada_SP_univariado.xlsx\nProcessando arquivo: /Workspace/Users/danielly.xavier@iclinic.com.br/Modelo Séries Temporais Clima e Saúde WB/Modelo Séries Temporais Clima e Saúde WB - Resultados/analise_estadual/ts_univariada/summaries/ts_Febre de Chikungunya_MA_univariado.xlsx\nProcessando arquivo: /Workspace/Users/danielly.xavier@iclinic.com.br/Modelo Séries Temporais Clima e Saúde WB/Modelo Séries Temporais Clima e Saúde WB - Resultados/analise_estadual/ts_univariada/summaries/ts_Depressão_SE_univariado.xlsx\nProcessando arquivo: /Workspace/Users/danielly.xavier@iclinic.com.br/Modelo Séries Temporais Clima e Saúde WB/Modelo Séries Temporais Clima e Saúde WB - Resultados/analise_estadual/ts_univariada/summaries/ts_Infarto agudo do miocárdio_AM_univariado.xlsx\nProcessando arquivo: /Workspace/Users/danielly.xavier@iclinic.com.br/Modelo Séries Temporais Clima e Saúde WB/Modelo Séries Temporais Clima e Saúde WB - Resultados/analise_estadual/ts_univariada/summaries/ts_Infarto agudo do miocárdio_MA_univariado.xlsx\nProcessando arquivo: /Workspace/Users/danielly.xavier@iclinic.com.br/Modelo Séries Temporais Clima e Saúde WB/Modelo Séries Temporais Clima e Saúde WB - Resultados/analise_estadual/ts_univariada/summaries/ts_Insuficiência cardíaca _AM_univariado.xlsx\nProcessando arquivo: /Workspace/Users/danielly.xavier@iclinic.com.br/Modelo Séries Temporais Clima e Saúde WB/Modelo Séries Temporais Clima e Saúde WB - Resultados/analise_estadual/ts_univariada/summaries/ts_Asma_BA_univariado.xlsx\nProcessando arquivo: /Workspace/Users/danielly.xavier@iclinic.com.br/Modelo Séries Temporais Clima e Saúde WB/Modelo Séries Temporais Clima e Saúde WB - Resultados/analise_estadual/ts_univariada/summaries/ts_Asma_PA_univariado.xlsx\nProcessando arquivo: /Workspace/Users/danielly.xavier@iclinic.com.br/Modelo Séries Temporais Clima e Saúde WB/Modelo Séries Temporais Clima e Saúde WB - Resultados/analise_estadual/ts_univariada/summaries/ts_Febre de Chikungunya_AL_univariado.xlsx\nProcessando arquivo: /Workspace/Users/danielly.xavier@iclinic.com.br/Modelo Séries Temporais Clima e Saúde WB/Modelo Séries Temporais Clima e Saúde WB - Resultados/analise_estadual/ts_univariada/summaries/ts_Pneumonia por outros organismos_SC_univariado.xlsx\nProcessando arquivo: /Workspace/Users/danielly.xavier@iclinic.com.br/Modelo Séries Temporais Clima e Saúde WB/Modelo Séries Temporais Clima e Saúde WB - Resultados/analise_estadual/ts_univariada/summaries/ts_Depressão_RO_univariado.xlsx\nProcessando arquivo: /Workspace/Users/danielly.xavier@iclinic.com.br/Modelo Séries Temporais Clima e Saúde WB/Modelo Séries Temporais Clima e Saúde WB - Resultados/analise_estadual/ts_univariada/summaries/ts_Covid-19_DF_univariado.xlsx\nProcessando arquivo: /Workspace/Users/danielly.xavier@iclinic.com.br/Modelo Séries Temporais Clima e Saúde WB/Modelo Séries Temporais Clima e Saúde WB - Resultados/analise_estadual/ts_univariada/summaries/ts_Covid-19_SE_univariado.xlsx\nProcessando arquivo: /Workspace/Users/danielly.xavier@iclinic.com.br/Modelo Séries Temporais Clima e Saúde WB/Modelo Séries Temporais Clima e Saúde WB - Resultados/analise_estadual/ts_univariada/summaries/ts_Pneumonia comunitária_RJ_univariado.xlsx\nProcessando arquivo: /Workspace/Users/danielly.xavier@iclinic.com.br/Modelo Séries Temporais Clima e Saúde WB/Modelo Séries Temporais Clima e Saúde WB - Resultados/analise_estadual/ts_univariada/summaries/ts_Depressão_AM_univariado.xlsx\nProcessando arquivo: /Workspace/Users/danielly.xavier@iclinic.com.br/Modelo Séries Temporais Clima e Saúde WB/Modelo Séries Temporais Clima e Saúde WB - Resultados/analise_estadual/ts_univariada/summaries/ts_Pneumonia viral_MG_univariado.xlsx\nProcessando arquivo: /Workspace/Users/danielly.xavier@iclinic.com.br/Modelo Séries Temporais Clima e Saúde WB/Modelo Séries Temporais Clima e Saúde WB - Resultados/analise_estadual/ts_univariada/summaries/ts_Diabetes mellitus tipo 2_PA_univariado.xlsx\nProcessando arquivo: /Workspace/Users/danielly.xavier@iclinic.com.br/Modelo Séries Temporais Clima e Saúde WB/Modelo Séries Temporais Clima e Saúde WB - Resultados/analise_estadual/ts_univariada/summaries/ts_Diabetes mellitus tipo 2_PE_univariado.xlsx\nProcessando arquivo: /Workspace/Users/danielly.xavier@iclinic.com.br/Modelo Séries Temporais Clima e Saúde WB/Modelo Séries Temporais Clima e Saúde WB - Resultados/analise_estadual/ts_univariada/summaries/ts_Doença renal crônica_MS_univariado.xlsx\nProcessando arquivo: /Workspace/Users/danielly.xavier@iclinic.com.br/Modelo Séries Temporais Clima e Saúde WB/Modelo Séries Temporais Clima e Saúde WB - Resultados/analise_estadual/ts_univariada/summaries/ts_Doença renal crônica_RN_univariado.xlsx\nProcessando arquivo: /Workspace/Users/danielly.xavier@iclinic.com.br/Modelo Séries Temporais Clima e Saúde WB/Modelo Séries Temporais Clima e Saúde WB - Resultados/analise_estadual/ts_univariada/summaries/ts_Doença renal crônica_SP_univariado.xlsx\nProcessando arquivo: /Workspace/Users/danielly.xavier@iclinic.com.br/Modelo Séries Temporais Clima e Saúde WB/Modelo Séries Temporais Clima e Saúde WB - Resultados/analise_estadual/ts_univariada/summaries/ts_Insuficiência cardíaca _DF_univariado.xlsx\nProcessando arquivo: /Workspace/Users/danielly.xavier@iclinic.com.br/Modelo Séries Temporais Clima e Saúde WB/Modelo Séries Temporais Clima e Saúde WB - Resultados/analise_estadual/ts_univariada/summaries/ts_Insuficiência cardíaca _GO_univariado.xlsx\nProcessando arquivo: /Workspace/Users/danielly.xavier@iclinic.com.br/Modelo Séries Temporais Clima e Saúde WB/Modelo Séries Temporais Clima e Saúde WB - Resultados/analise_estadual/ts_univariada/summaries/ts_Infecção de trato urinário_DF_univariado.xlsx\nProcessando arquivo: /Workspace/Users/danielly.xavier@iclinic.com.br/Modelo Séries Temporais Clima e Saúde WB/Modelo Séries Temporais Clima e Saúde WB - Resultados/analise_estadual/ts_univariada/summaries/ts_Diabetes mellitus tipo 2_AL_univariado.xlsx\nProcessando arquivo: /Workspace/Users/danielly.xavier@iclinic.com.br/Modelo Séries Temporais Clima e Saúde WB/Modelo Séries Temporais Clima e Saúde WB - Resultados/analise_estadual/ts_univariada/summaries/ts_Diabetes mellitus tipo 2_SE_univariado.xlsx\nProcessando arquivo: /Workspace/Users/danielly.xavier@iclinic.com.br/Modelo Séries Temporais Clima e Saúde WB/Modelo Séries Temporais Clima e Saúde WB - Resultados/analise_estadual/ts_univariada/summaries/ts_Transtorno de ansiedade generalizada_AP_univariado.xlsx\nProcessando arquivo: /Workspace/Users/danielly.xavier@iclinic.com.br/Modelo Séries Temporais Clima e Saúde WB/Modelo Séries Temporais Clima e Saúde WB - Resultados/analise_estadual/ts_univariada/summaries/ts_Infarto agudo do miocárdio_MS_univariado.xlsx\nProcessando arquivo: /Workspace/Users/danielly.xavier@iclinic.com.br/Modelo Séries Temporais Clima e Saúde WB/Modelo Séries Temporais Clima e Saúde WB - Resultados/analise_estadual/ts_univariada/summaries/ts_Infarto agudo do miocárdio_MT_univariado.xlsx\nProcessando arquivo: /Workspace/Users/danielly.xavier@iclinic.com.br/Modelo Séries Temporais Clima e Saúde WB/Modelo Séries Temporais Clima e Saúde WB - Resultados/analise_estadual/ts_univariada/summaries/ts_Infarto agudo do miocárdio_PB_univariado.xlsx\nProcessando arquivo: /Workspace/Users/danielly.xavier@iclinic.com.br/Modelo Séries Temporais Clima e Saúde WB/Modelo Séries Temporais Clima e Saúde WB - Resultados/analise_estadual/ts_univariada/summaries/ts_Infarto agudo do miocárdio_SE_univariado.xlsx\nProcessando arquivo: /Workspace/Users/danielly.xavier@iclinic.com.br/Modelo Séries Temporais Clima e Saúde WB/Modelo Séries Temporais Clima e Saúde WB - Resultados/analise_estadual/ts_univariada/summaries/ts_Influenza_DF_univariado.xlsx\nProcessando arquivo: /Workspace/Users/danielly.xavier@iclinic.com.br/Modelo Séries Temporais Clima e Saúde WB/Modelo Séries Temporais Clima e Saúde WB - Resultados/analise_estadual/ts_univariada/summaries/ts_Injúria Renal Aguda_PA_univariado.xlsx\nProcessando arquivo: /Workspace/Users/danielly.xavier@iclinic.com.br/Modelo Séries Temporais Clima e Saúde WB/Modelo Séries Temporais Clima e Saúde WB - Resultados/analise_estadual/ts_univariada/summaries/ts_Injúria Renal Aguda_PR_univariado.xlsx\nProcessando arquivo: /Workspace/Users/danielly.xavier@iclinic.com.br/Modelo Séries Temporais Clima e Saúde WB/Modelo Séries Temporais Clima e Saúde WB - Resultados/analise_estadual/ts_univariada/summaries/ts_Pneumonia bacteriana_CE_univariado.xlsx\nProcessando arquivo: /Workspace/Users/danielly.xavier@iclinic.com.br/Modelo Séries Temporais Clima e Saúde WB/Modelo Séries Temporais Clima e Saúde WB - Resultados/analise_estadual/ts_univariada/summaries/ts_Tuberculose_MG_univariado.xlsx\nProcessando arquivo: /Workspace/Users/danielly.xavier@iclinic.com.br/Modelo Séries Temporais Clima e Saúde WB/Modelo Séries Temporais Clima e Saúde WB - Resultados/analise_estadual/ts_univariada/summaries/ts_Tuberculose_TO_univariado.xlsx\nProcessando arquivo: /Workspace/Users/danielly.xavier@iclinic.com.br/Modelo Séries Temporais Clima e Saúde WB/Modelo Séries Temporais Clima e Saúde WB - Resultados/analise_estadual/ts_univariada/summaries/ts_Pneumonia por outros organismos_MT_univariado.xlsx\nProcessando arquivo: /Workspace/Users/danielly.xavier@iclinic.com.br/Modelo Séries Temporais Clima e Saúde WB/Modelo Séries Temporais Clima e Saúde WB - Resultados/analise_estadual/ts_univariada/summaries/00B_ts_Dengue_ES_univariado.xlsx\nProcessando arquivo: /Workspace/Users/danielly.xavier@iclinic.com.br/Modelo Séries Temporais Clima e Saúde WB/Modelo Séries Temporais Clima e Saúde WB - Resultados/analise_estadual/ts_univariada/summaries/00B_ts_Pneumonia_BA_univariado.xlsx\nProcessando arquivo: /Workspace/Users/danielly.xavier@iclinic.com.br/Modelo Séries Temporais Clima e Saúde WB/Modelo Séries Temporais Clima e Saúde WB - Resultados/analise_estadual/ts_univariada/summaries/00B_ts_Dengue_RO_univariado.xlsx\nProcessando arquivo: /Workspace/Users/danielly.xavier@iclinic.com.br/Modelo Séries Temporais Clima e Saúde WB/Modelo Séries Temporais Clima e Saúde WB - Resultados/analise_estadual/ts_univariada/summaries/00B_ts_Dengue_RR_univariado.xlsx\nProcessando arquivo: /Workspace/Users/danielly.xavier@iclinic.com.br/Modelo Séries Temporais Clima e Saúde WB/Modelo Séries Temporais Clima e Saúde WB - Resultados/analise_estadual/ts_univariada/summaries/00B_ts_Dengue_PA_univariado.xlsx\nProcessando arquivo: /Workspace/Users/danielly.xavier@iclinic.com.br/Modelo Séries Temporais Clima e Saúde WB/Modelo Séries Temporais Clima e Saúde WB - Resultados/analise_estadual/ts_univariada/summaries/ts_Covid-19_MT_univariado.xlsx\nProcessando arquivo: /Workspace/Users/danielly.xavier@iclinic.com.br/Modelo Séries Temporais Clima e Saúde WB/Modelo Séries Temporais Clima e Saúde WB - Resultados/analise_estadual/ts_univariada/summaries/ts_Cetoacidose diabética_RO_univariado.xlsx\nProcessando arquivo: /Workspace/Users/danielly.xavier@iclinic.com.br/Modelo Séries Temporais Clima e Saúde WB/Modelo Séries Temporais Clima e Saúde WB - Resultados/analise_estadual/ts_univariada/summaries/ts_Depressão_AL_univariado.xlsx\nProcessando arquivo: /Workspace/Users/danielly.xavier@iclinic.com.br/Modelo Séries Temporais Clima e Saúde WB/Modelo Séries Temporais Clima e Saúde WB - Resultados/analise_estadual/ts_univariada/summaries/ts_Depressão_PB_univariado.xlsx\nProcessando arquivo: /Workspace/Users/danielly.xavier@iclinic.com.br/Modelo Séries Temporais Clima e Saúde WB/Modelo Séries Temporais Clima e Saúde WB - Resultados/analise_estadual/ts_univariada/summaries/ts_Covid-19_MA_univariado.xlsx\nProcessando arquivo: /Workspace/Users/danielly.xavier@iclinic.com.br/Modelo Séries Temporais Clima e Saúde WB/Modelo Séries Temporais Clima e Saúde WB - Resultados/analise_estadual/ts_univariada/summaries/ts_Doença renal crônica_SC_univariado.xlsx\nProcessando arquivo: /Workspace/Users/danielly.xavier@iclinic.com.br/Modelo Séries Temporais Clima e Saúde WB/Modelo Séries Temporais Clima e Saúde WB - Resultados/analise_estadual/ts_univariada/summaries/ts_Asma_RN_univariado.xlsx\nProcessando arquivo: /Workspace/Users/danielly.xavier@iclinic.com.br/Modelo Séries Temporais Clima e Saúde WB/Modelo Séries Temporais Clima e Saúde WB - Resultados/analise_estadual/ts_univariada/summaries/ts_Infecção de trato urinário_BA_univariado.xlsx\nProcessando arquivo: /Workspace/Users/danielly.xavier@iclinic.com.br/Modelo Séries Temporais Clima e Saúde WB/Modelo Séries Temporais Clima e Saúde WB - Resultados/analise_estadual/ts_univariada/summaries/ts_Influenza_SE_univariado.xlsx\nProcessando arquivo: /Workspace/Users/danielly.xavier@iclinic.com.br/Modelo Séries Temporais Clima e Saúde WB/Modelo Séries Temporais Clima e Saúde WB - Resultados/analise_estadual/ts_univariada/summaries/ts_Pneumonia bacteriana_SE_univariado.xlsx\nProcessando arquivo: /Workspace/Users/danielly.xavier@iclinic.com.br/Modelo Séries Temporais Clima e Saúde WB/Modelo Séries Temporais Clima e Saúde WB - Resultados/analise_estadual/ts_univariada/summaries/ts_Diabetes mellitus tipo 2_MT_univariado.xlsx\nProcessando arquivo: /Workspace/Users/danielly.xavier@iclinic.com.br/Modelo Séries Temporais Clima e Saúde WB/Modelo Séries Temporais Clima e Saúde WB - Resultados/analise_estadual/ts_univariada/summaries/ts_Infarto agudo do miocárdio_ES_univariado.xlsx\nProcessando arquivo: /Workspace/Users/danielly.xavier@iclinic.com.br/Modelo Séries Temporais Clima e Saúde WB/Modelo Séries Temporais Clima e Saúde WB - Resultados/analise_estadual/ts_univariada/summaries/ts_Insuficiência cardíaca _PI_univariado.xlsx\nProcessando arquivo: /Workspace/Users/danielly.xavier@iclinic.com.br/Modelo Séries Temporais Clima e Saúde WB/Modelo Séries Temporais Clima e Saúde WB - Resultados/analise_estadual/ts_univariada/summaries/ts_Insuficiência cardíaca _RO_univariado.xlsx\nProcessando arquivo: /Workspace/Users/danielly.xavier@iclinic.com.br/Modelo Séries Temporais Clima e Saúde WB/Modelo Séries Temporais Clima e Saúde WB - Resultados/analise_estadual/ts_univariada/summaries/ts_Injúria Renal Aguda_PB_univariado.xlsx\nProcessando arquivo: /Workspace/Users/danielly.xavier@iclinic.com.br/Modelo Séries Temporais Clima e Saúde WB/Modelo Séries Temporais Clima e Saúde WB - Resultados/analise_estadual/ts_univariada/summaries/ts_Injúria Renal Aguda_RS_univariado.xlsx\nProcessando arquivo: /Workspace/Users/danielly.xavier@iclinic.com.br/Modelo Séries Temporais Clima e Saúde WB/Modelo Séries Temporais Clima e Saúde WB - Resultados/analise_estadual/ts_univariada/summaries/ts_Diabetes mellitus tipo 2_BA_univariado.xlsx\nProcessando arquivo: /Workspace/Users/danielly.xavier@iclinic.com.br/Modelo Séries Temporais Clima e Saúde WB/Modelo Séries Temporais Clima e Saúde WB - Resultados/analise_estadual/ts_univariada/summaries/ts_Doença pulmonar obstrutiva crônica_TO_univariado.xlsx\nProcessando arquivo: /Workspace/Users/danielly.xavier@iclinic.com.br/Modelo Séries Temporais Clima e Saúde WB/Modelo Séries Temporais Clima e Saúde WB - Resultados/analise_estadual/ts_univariada/summaries/ts_Tuberculose_AP_univariado.xlsx\nProcessando arquivo: /Workspace/Users/danielly.xavier@iclinic.com.br/Modelo Séries Temporais Clima e Saúde WB/Modelo Séries Temporais Clima e Saúde WB - Resultados/analise_estadual/ts_univariada/summaries/ts_Transtorno de ansiedade generalizada_PR_univariado.xlsx\nProcessando arquivo: /Workspace/Users/danielly.xavier@iclinic.com.br/Modelo Séries Temporais Clima e Saúde WB/Modelo Séries Temporais Clima e Saúde WB - Resultados/analise_estadual/ts_univariada/summaries/ts_Febre de Chikungunya_RO_univariado.xlsx\nProcessando arquivo: /Workspace/Users/danielly.xavier@iclinic.com.br/Modelo Séries Temporais Clima e Saúde WB/Modelo Séries Temporais Clima e Saúde WB - Resultados/analise_estadual/ts_univariada/summaries/ts_Doença renal crônica_CE_univariado.xlsx\nProcessando arquivo: /Workspace/Users/danielly.xavier@iclinic.com.br/Modelo Séries Temporais Clima e Saúde WB/Modelo Séries Temporais Clima e Saúde WB - Resultados/analise_est\n\n*** WARNING: max output size exceeded, skipping output. ***\n\nssando arquivo: /Workspace/Users/danielly.xavier@iclinic.com.br/Modelo Séries Temporais Clima e Saúde WB/Modelo Séries Temporais Clima e Saúde WB - Resultados/analise_estadual/ts_univariada/summaries/ts_Infecção de trato urinário_GO_univariado.xlsx\nProcessando arquivo: /Workspace/Users/danielly.xavier@iclinic.com.br/Modelo Séries Temporais Clima e Saúde WB/Modelo Séries Temporais Clima e Saúde WB - Resultados/analise_estadual/ts_univariada/summaries/ts_Infecção de trato urinário_MA_univariado.xlsx\nProcessando arquivo: /Workspace/Users/danielly.xavier@iclinic.com.br/Modelo Séries Temporais Clima e Saúde WB/Modelo Séries Temporais Clima e Saúde WB - Resultados/analise_estadual/ts_univariada/summaries/ts_Influenza_TO_univariado.xlsx\nProcessando arquivo: /Workspace/Users/danielly.xavier@iclinic.com.br/Modelo Séries Temporais Clima e Saúde WB/Modelo Séries Temporais Clima e Saúde WB - Resultados/analise_estadual/ts_univariada/summaries/ts_Injúria Renal Aguda_RJ_univariado.xlsx\nProcessando arquivo: /Workspace/Users/danielly.xavier@iclinic.com.br/Modelo Séries Temporais Clima e Saúde WB/Modelo Séries Temporais Clima e Saúde WB - Resultados/analise_estadual/ts_univariada/summaries/ts_Pneumonia bacteriana_RO_univariado.xlsx\nProcessando arquivo: /Workspace/Users/danielly.xavier@iclinic.com.br/Modelo Séries Temporais Clima e Saúde WB/Modelo Séries Temporais Clima e Saúde WB - Resultados/analise_estadual/ts_univariada/summaries/ts_Diabetes mellitus tipo 2_CE_univariado.xlsx\nProcessando arquivo: /Workspace/Users/danielly.xavier@iclinic.com.br/Modelo Séries Temporais Clima e Saúde WB/Modelo Séries Temporais Clima e Saúde WB - Resultados/analise_estadual/ts_univariada/summaries/ts_Tuberculose_PA_univariado.xlsx\nProcessando arquivo: /Workspace/Users/danielly.xavier@iclinic.com.br/Modelo Séries Temporais Clima e Saúde WB/Modelo Séries Temporais Clima e Saúde WB - Resultados/analise_estadual/ts_univariada/summaries/ts_Tuberculose_PR_univariado.xlsx\nProcessando arquivo: /Workspace/Users/danielly.xavier@iclinic.com.br/Modelo Séries Temporais Clima e Saúde WB/Modelo Séries Temporais Clima e Saúde WB - Resultados/analise_estadual/ts_univariada/summaries/ts_Transtorno de ansiedade generalizada_TO_univariado.xlsx\nProcessando arquivo: /Workspace/Users/danielly.xavier@iclinic.com.br/Modelo Séries Temporais Clima e Saúde WB/Modelo Séries Temporais Clima e Saúde WB - Resultados/analise_estadual/ts_univariada/summaries/ts_Depressão_SP_univariado.xlsx\nProcessando arquivo: /Workspace/Users/danielly.xavier@iclinic.com.br/Modelo Séries Temporais Clima e Saúde WB/Modelo Séries Temporais Clima e Saúde WB - Resultados/analise_estadual/ts_univariada/summaries/ts_Doença renal crônica_RO_univariado.xlsx\nProcessando arquivo: /Workspace/Users/danielly.xavier@iclinic.com.br/Modelo Séries Temporais Clima e Saúde WB/Modelo Séries Temporais Clima e Saúde WB - Resultados/analise_estadual/ts_univariada/summaries/ts_Infarto agudo do miocárdio_TO_univariado.xlsx\nProcessando arquivo: /Workspace/Users/danielly.xavier@iclinic.com.br/Modelo Séries Temporais Clima e Saúde WB/Modelo Séries Temporais Clima e Saúde WB - Resultados/analise_estadual/ts_univariada/summaries/ts_Insuficiência cardíaca _BA_univariado.xlsx\nProcessando arquivo: /Workspace/Users/danielly.xavier@iclinic.com.br/Modelo Séries Temporais Clima e Saúde WB/Modelo Séries Temporais Clima e Saúde WB - Resultados/analise_estadual/ts_univariada/summaries/ts_Insuficiência cardíaca _MA_univariado.xlsx\nProcessando arquivo: /Workspace/Users/danielly.xavier@iclinic.com.br/Modelo Séries Temporais Clima e Saúde WB/Modelo Séries Temporais Clima e Saúde WB - Resultados/analise_estadual/ts_univariada/summaries/ts_Insuficiência cardíaca _PA_univariado.xlsx\nProcessando arquivo: /Workspace/Users/danielly.xavier@iclinic.com.br/Modelo Séries Temporais Clima e Saúde WB/Modelo Séries Temporais Clima e Saúde WB - Resultados/analise_estadual/ts_univariada/summaries/ts_Pneumonia viral_PI_univariado.xlsx\nProcessando arquivo: /Workspace/Users/danielly.xavier@iclinic.com.br/Modelo Séries Temporais Clima e Saúde WB/Modelo Séries Temporais Clima e Saúde WB - Resultados/analise_estadual/ts_univariada/summaries/ts_Asma_MA_univariado.xlsx\nProcessando arquivo: /Workspace/Users/danielly.xavier@iclinic.com.br/Modelo Séries Temporais Clima e Saúde WB/Modelo Séries Temporais Clima e Saúde WB - Resultados/analise_estadual/ts_univariada/summaries/ts_Injúria Renal Aguda_AC_univariado.xlsx\nProcessando arquivo: /Workspace/Users/danielly.xavier@iclinic.com.br/Modelo Séries Temporais Clima e Saúde WB/Modelo Séries Temporais Clima e Saúde WB - Resultados/analise_estadual/ts_univariada/summaries/ts_Diabetes mellitus tipo 2_GO_univariado.xlsx\nProcessando arquivo: /Workspace/Users/danielly.xavier@iclinic.com.br/Modelo Séries Temporais Clima e Saúde WB/Modelo Séries Temporais Clima e Saúde WB - Resultados/analise_estadual/ts_univariada/summaries/ts_Diabetes mellitus tipo 2_MA_univariado.xlsx\nProcessando arquivo: /Workspace/Users/danielly.xavier@iclinic.com.br/Modelo Séries Temporais Clima e Saúde WB/Modelo Séries Temporais Clima e Saúde WB - Resultados/analise_estadual/ts_univariada/summaries/ts_Diabetes mellitus tipo 2_RO_univariado.xlsx\nProcessando arquivo: /Workspace/Users/danielly.xavier@iclinic.com.br/Modelo Séries Temporais Clima e Saúde WB/Modelo Séries Temporais Clima e Saúde WB - Resultados/analise_estadual/ts_univariada/summaries/ts_Doença pulmonar obstrutiva crônica_RR_univariado.xlsx\nProcessando arquivo: /Workspace/Users/danielly.xavier@iclinic.com.br/Modelo Séries Temporais Clima e Saúde WB/Modelo Séries Temporais Clima e Saúde WB - Resultados/analise_estadual/ts_univariada/summaries/ts_Malária_RS_univariado.xlsx\nProcessando arquivo: /Workspace/Users/danielly.xavier@iclinic.com.br/Modelo Séries Temporais Clima e Saúde WB/Modelo Séries Temporais Clima e Saúde WB - Resultados/analise_estadual/ts_univariada/summaries/ts_Febre de Chikungunya_RN_univariado.xlsx\nProcessando arquivo: /Workspace/Users/danielly.xavier@iclinic.com.br/Modelo Séries Temporais Clima e Saúde WB/Modelo Séries Temporais Clima e Saúde WB - Resultados/analise_estadual/ts_univariada/summaries/ts_Pneumonia por outros organismos_RJ_univariado.xlsx\nProcessando arquivo: /Workspace/Users/danielly.xavier@iclinic.com.br/Modelo Séries Temporais Clima e Saúde WB/Modelo Séries Temporais Clima e Saúde WB - Resultados/analise_estadual/ts_univariada/summaries/ts_Cetoacidose diabética_AC_univariado.xlsx\nProcessando arquivo: /Workspace/Users/danielly.xavier@iclinic.com.br/Modelo Séries Temporais Clima e Saúde WB/Modelo Séries Temporais Clima e Saúde WB - Resultados/analise_estadual/ts_univariada/summaries/ts_Cetoacidose diabética_PE_univariado.xlsx\nProcessando arquivo: /Workspace/Users/danielly.xavier@iclinic.com.br/Modelo Séries Temporais Clima e Saúde WB/Modelo Séries Temporais Clima e Saúde WB - Resultados/analise_estadual/ts_univariada/summaries/ts_Pneumonia comunitária_AL_univariado.xlsx\nProcessando arquivo: /Workspace/Users/danielly.xavier@iclinic.com.br/Modelo Séries Temporais Clima e Saúde WB/Modelo Séries Temporais Clima e Saúde WB - Resultados/analise_estadual/ts_univariada/summaries/ts_Pneumonia comunitária_RO_univariado.xlsx\nProcessando arquivo: /Workspace/Users/danielly.xavier@iclinic.com.br/Modelo Séries Temporais Clima e Saúde WB/Modelo Séries Temporais Clima e Saúde WB - Resultados/analise_estadual/ts_univariada/summaries/ts_Cetoacidose diabética_MS_univariado.xlsx\nProcessando arquivo: /Workspace/Users/danielly.xavier@iclinic.com.br/Modelo Séries Temporais Clima e Saúde WB/Modelo Séries Temporais Clima e Saúde WB - Resultados/analise_estadual/ts_univariada/summaries/ts_Cetoacidose diabética_MT_univariado.xlsx\nProcessando arquivo: /Workspace/Users/danielly.xavier@iclinic.com.br/Modelo Séries Temporais Clima e Saúde WB/Modelo Séries Temporais Clima e Saúde WB - Resultados/analise_estadual/ts_univariada/summaries/ts_Cetoacidose diabética_SC_univariado.xlsx\nProcessando arquivo: /Workspace/Users/danielly.xavier@iclinic.com.br/Modelo Séries Temporais Clima e Saúde WB/Modelo Séries Temporais Clima e Saúde WB - Resultados/analise_estadual/ts_univariada/summaries/ts_Asma_PE_univariado.xlsx\nProcessando arquivo: /Workspace/Users/danielly.xavier@iclinic.com.br/Modelo Séries Temporais Clima e Saúde WB/Modelo Séries Temporais Clima e Saúde WB - Resultados/analise_estadual/ts_univariada/summaries/ts_Pneumonia bacteriana_MA_univariado.xlsx\nProcessando arquivo: /Workspace/Users/danielly.xavier@iclinic.com.br/Modelo Séries Temporais Clima e Saúde WB/Modelo Séries Temporais Clima e Saúde WB - Resultados/analise_estadual/ts_univariada/summaries/ts_Infarto agudo do miocárdio_AC_univariado.xlsx\nProcessando arquivo: /Workspace/Users/danielly.xavier@iclinic.com.br/Modelo Séries Temporais Clima e Saúde WB/Modelo Séries Temporais Clima e Saúde WB - Resultados/analise_estadual/ts_univariada/summaries/ts_Infarto agudo do miocárdio_SC_univariado.xlsx\nProcessando arquivo: /Workspace/Users/danielly.xavier@iclinic.com.br/Modelo Séries Temporais Clima e Saúde WB/Modelo Séries Temporais Clima e Saúde WB - Resultados/analise_estadual/ts_univariada/summaries/ts_Asma_AP_univariado.xlsx\nProcessando arquivo: /Workspace/Users/danielly.xavier@iclinic.com.br/Modelo Séries Temporais Clima e Saúde WB/Modelo Séries Temporais Clima e Saúde WB - Resultados/analise_estadual/ts_univariada/summaries/ts_Asma_MS_univariado.xlsx\nProcessando arquivo: /Workspace/Users/danielly.xavier@iclinic.com.br/Modelo Séries Temporais Clima e Saúde WB/Modelo Séries Temporais Clima e Saúde WB - Resultados/analise_estadual/ts_univariada/summaries/ts_Influenza_RR_univariado.xlsx\nProcessando arquivo: /Workspace/Users/danielly.xavier@iclinic.com.br/Modelo Séries Temporais Clima e Saúde WB/Modelo Séries Temporais Clima e Saúde WB - Resultados/analise_estadual/ts_univariada/summaries/ts_Injúria Renal Aguda_RN_univariado.xlsx\nProcessando arquivo: /Workspace/Users/danielly.xavier@iclinic.com.br/Modelo Séries Temporais Clima e Saúde WB/Modelo Séries Temporais Clima e Saúde WB - Resultados/analise_estadual/ts_univariada/summaries/ts_Injúria Renal Aguda_SE_univariado.xlsx\nProcessando arquivo: /Workspace/Users/danielly.xavier@iclinic.com.br/Modelo Séries Temporais Clima e Saúde WB/Modelo Séries Temporais Clima e Saúde WB - Resultados/analise_estadual/ts_univariada/summaries/ts_Doença pulmonar obstrutiva crônica_PR_univariado.xlsx\nProcessando arquivo: /Workspace/Users/danielly.xavier@iclinic.com.br/Modelo Séries Temporais Clima e Saúde WB/Modelo Séries Temporais Clima e Saúde WB - Resultados/analise_estadual/ts_univariada/summaries/ts_Tuberculose_CE_univariado.xlsx\nProcessando arquivo: /Workspace/Users/danielly.xavier@iclinic.com.br/Modelo Séries Temporais Clima e Saúde WB/Modelo Séries Temporais Clima e Saúde WB - Resultados/analise_estadual/ts_univariada/summaries/ts_Tuberculose_DF_univariado.xlsx\nProcessando arquivo: /Workspace/Users/danielly.xavier@iclinic.com.br/Modelo Séries Temporais Clima e Saúde WB/Modelo Séries Temporais Clima e Saúde WB - Resultados/analise_estadual/ts_univariada/summaries/ts_Transtorno de ansiedade generalizada_RN_univariado.xlsx\nProcessando arquivo: /Workspace/Users/danielly.xavier@iclinic.com.br/Modelo Séries Temporais Clima e Saúde WB/Modelo Séries Temporais Clima e Saúde WB - Resultados/analise_estadual/ts_univariada/summaries/ts_Malária_PR_univariado.xlsx\nProcessando arquivo: /Workspace/Users/danielly.xavier@iclinic.com.br/Modelo Séries Temporais Clima e Saúde WB/Modelo Séries Temporais Clima e Saúde WB - Resultados/analise_estadual/ts_univariada/summaries/ts_Pneumonia viral_ES_univariado.xlsx\nProcessando arquivo: /Workspace/Users/danielly.xavier@iclinic.com.br/Modelo Séries Temporais Clima e Saúde WB/Modelo Séries Temporais Clima e Saúde WB - Resultados/analise_estadual/ts_univariada/summaries/ts_Pneumonia viral_PR_univariado.xlsx\nProcessando arquivo: /Workspace/Users/danielly.xavier@iclinic.com.br/Modelo Séries Temporais Clima e Saúde WB/Modelo Séries Temporais Clima e Saúde WB - Resultados/analise_estadual/ts_univariada/summaries/ts_Asma_RR_univariado.xlsx\nProcessando arquivo: /Workspace/Users/danielly.xavier@iclinic.com.br/Modelo Séries Temporais Clima e Saúde WB/Modelo Séries Temporais Clima e Saúde WB - Resultados/analise_estadual/ts_univariada/summaries/ts_Influenza_MT_univariado.xlsx\nProcessando arquivo: /Workspace/Users/danielly.xavier@iclinic.com.br/Modelo Séries Temporais Clima e Saúde WB/Modelo Séries Temporais Clima e Saúde WB - Resultados/analise_estadual/ts_univariada/summaries/ts_Influenza_PE_univariado.xlsx\nProcessando arquivo: /Workspace/Users/danielly.xavier@iclinic.com.br/Modelo Séries Temporais Clima e Saúde WB/Modelo Séries Temporais Clima e Saúde WB - Resultados/analise_estadual/ts_univariada/summaries/ts_Injúria Renal Aguda_BA_univariado.xlsx\nProcessando arquivo: /Workspace/Users/danielly.xavier@iclinic.com.br/Modelo Séries Temporais Clima e Saúde WB/Modelo Séries Temporais Clima e Saúde WB - Resultados/analise_estadual/ts_univariada/summaries/ts_Injúria Renal Aguda_CE_univariado.xlsx\nProcessando arquivo: /Workspace/Users/danielly.xavier@iclinic.com.br/Modelo Séries Temporais Clima e Saúde WB/Modelo Séries Temporais Clima e Saúde WB - Resultados/analise_estadual/ts_univariada/summaries/ts_Diabetes mellitus tipo 2_RN_univariado.xlsx\nProcessando arquivo: /Workspace/Users/danielly.xavier@iclinic.com.br/Modelo Séries Temporais Clima e Saúde WB/Modelo Séries Temporais Clima e Saúde WB - Resultados/analise_estadual/ts_univariada/summaries/ts_Diabetes mellitus tipo 2_TO_univariado.xlsx\nProcessando arquivo: /Workspace/Users/danielly.xavier@iclinic.com.br/Modelo Séries Temporais Clima e Saúde WB/Modelo Séries Temporais Clima e Saúde WB - Resultados/analise_estadual/ts_univariada/summaries/ts_Doença pulmonar obstrutiva crônica_AC_univariado.xlsx\nProcessando arquivo: /Workspace/Users/danielly.xavier@iclinic.com.br/Modelo Séries Temporais Clima e Saúde WB/Modelo Séries Temporais Clima e Saúde WB - Resultados/analise_estadual/ts_univariada/summaries/ts_Doença pulmonar obstrutiva crônica_RJ_univariado.xlsx\nProcessando arquivo: /Workspace/Users/danielly.xavier@iclinic.com.br/Modelo Séries Temporais Clima e Saúde WB/Modelo Séries Temporais Clima e Saúde WB - Resultados/analise_estadual/ts_univariada/summaries/ts_Malária_AC_univariado.xlsx\nProcessando arquivo: /Workspace/Users/danielly.xavier@iclinic.com.br/Modelo Séries Temporais Clima e Saúde WB/Modelo Séries Temporais Clima e Saúde WB - Resultados/analise_estadual/ts_univariada/summaries/ts_Malária_SC_univariado.xlsx\nProcessando arquivo: /Workspace/Users/danielly.xavier@iclinic.com.br/Modelo Séries Temporais Clima e Saúde WB/Modelo Séries Temporais Clima e Saúde WB - Resultados/analise_estadual/ts_univariada/summaries/ts_Febre de Chikungunya_PA_univariado.xlsx\nProcessando arquivo: /Workspace/Users/danielly.xavier@iclinic.com.br/Modelo Séries Temporais Clima e Saúde WB/Modelo Séries Temporais Clima e Saúde WB - Resultados/analise_estadual/ts_univariada/summaries/ts_Febre de Chikungunya_AC_univariado.xlsx\nProcessando arquivo: /Workspace/Users/danielly.xavier@iclinic.com.br/Modelo Séries Temporais Clima e Saúde WB/Modelo Séries Temporais Clima e Saúde WB - Resultados/analise_estadual/ts_univariada/summaries/ts_Pneumonia por outros organismos_BA_univariado.xlsx\nProcessando arquivo: /Workspace/Users/danielly.xavier@iclinic.com.br/Modelo Séries Temporais Clima e Saúde WB/Modelo Séries Temporais Clima e Saúde WB - Resultados/analise_estadual/ts_univariada/summaries/ts_Exaustão pelo Calor_MG_univariado.xlsx\nProcessando arquivo: /Workspace/Users/danielly.xavier@iclinic.com.br/Modelo Séries Temporais Clima e Saúde WB/Modelo Séries Temporais Clima e Saúde WB - Resultados/analise_estadual/ts_univariada/summaries/ts_Pneumonia comunitária_AP_univariado.xlsx\nProcessando arquivo: /Workspace/Users/danielly.xavier@iclinic.com.br/Modelo Séries Temporais Clima e Saúde WB/Modelo Séries Temporais Clima e Saúde WB - Resultados/analise_estadual/ts_univariada/summaries/ts_Cetoacidose diabética_AP_univariado.xlsx\nProcessando arquivo: /Workspace/Users/danielly.xavier@iclinic.com.br/Modelo Séries Temporais Clima e Saúde WB/Modelo Séries Temporais Clima e Saúde WB - Resultados/analise_estadual/ts_univariada/summaries/ts_Depressão_MG_univariado.xlsx\nProcessando arquivo: /Workspace/Users/danielly.xavier@iclinic.com.br/Modelo Séries Temporais Clima e Saúde WB/Modelo Séries Temporais Clima e Saúde WB - Resultados/analise_estadual/ts_univariada/summaries/ts_Cetoacidose diabética_RS_univariado.xlsx\nProcessando arquivo: /Workspace/Users/danielly.xavier@iclinic.com.br/Modelo Séries Temporais Clima e Saúde WB/Modelo Séries Temporais Clima e Saúde WB - Resultados/analise_estadual/ts_univariada/summaries/ts_Covid-19_AP_univariado.xlsx\nProcessando arquivo: /Workspace/Users/danielly.xavier@iclinic.com.br/Modelo Séries Temporais Clima e Saúde WB/Modelo Séries Temporais Clima e Saúde WB - Resultados/analise_estadual/ts_univariada/summaries/ts_Covid-19_RN_univariado.xlsx\nProcessando arquivo: /Workspace/Users/danielly.xavier@iclinic.com.br/Modelo Séries Temporais Clima e Saúde WB/Modelo Séries Temporais Clima e Saúde WB - Resultados/analise_estadual/ts_univariada/summaries/ts_Covid-19_RS_univariado.xlsx\nProcessando arquivo: /Workspace/Users/danielly.xavier@iclinic.com.br/Modelo Séries Temporais Clima e Saúde WB/Modelo Séries Temporais Clima e Saúde WB - Resultados/analise_estadual/ts_univariada/summaries/ts_Pneumonia comunitária_PE_univariado.xlsx\nProcessando arquivo: /Workspace/Users/danielly.xavier@iclinic.com.br/Modelo Séries Temporais Clima e Saúde WB/Modelo Séries Temporais Clima e Saúde WB - Resultados/analise_estadual/ts_univariada/summaries/ts_Cetoacidose diabética_MA_univariado.xlsx\nProcessando arquivo: /Workspace/Users/danielly.xavier@iclinic.com.br/Modelo Séries Temporais Clima e Saúde WB/Modelo Séries Temporais Clima e Saúde WB - Resultados/analise_estadual/ts_univariada/summaries/ts_Cetoacidose diabética_SE_univariado.xlsx\nProcessando arquivo: /Workspace/Users/danielly.xavier@iclinic.com.br/Modelo Séries Temporais Clima e Saúde WB/Modelo Séries Temporais Clima e Saúde WB - Resultados/analise_estadual/ts_univariada/summaries/ts_Cetoacidose diabética_SP_univariado.xlsx\nProcessando arquivo: /Workspace/Users/danielly.xavier@iclinic.com.br/Modelo Séries Temporais Clima e Saúde WB/Modelo Séries Temporais Clima e Saúde WB - Resultados/analise_estadual/ts_univariada/summaries/ts_Depressão_BA_univariado.xlsx\nProcessando arquivo: /Workspace/Users/danielly.xavier@iclinic.com.br/Modelo Séries Temporais Clima e Saúde WB/Modelo Séries Temporais Clima e Saúde WB - Resultados/analise_estadual/ts_univariada/summaries/ts_Insuficiência cardíaca _RJ_univariado.xlsx\nProcessando arquivo: /Workspace/Users/danielly.xavier@iclinic.com.br/Modelo Séries Temporais Clima e Saúde WB/Modelo Séries Temporais Clima e Saúde WB - Resultados/analise_estadual/ts_univariada/summaries/ts_Infecção de trato urinário_SP_univariado.xlsx\nProcessando arquivo: /Workspace/Users/danielly.xavier@iclinic.com.br/Modelo Séries Temporais Clima e Saúde WB/Modelo Séries Temporais Clima e Saúde WB - Resultados/analise_estadual/ts_univariada/summaries/ts_Diabetes mellitus tipo 2_PB_univariado.xlsx\nProcessando arquivo: /Workspace/Users/danielly.xavier@iclinic.com.br/Modelo Séries Temporais Clima e Saúde WB/Modelo Séries Temporais Clima e Saúde WB - Resultados/analise_estadual/ts_univariada/summaries/ts_Insuficiência cardíaca _MT_univariado.xlsx\nProcessando arquivo: /Workspace/Users/danielly.xavier@iclinic.com.br/Modelo Séries Temporais Clima e Saúde WB/Modelo Séries Temporais Clima e Saúde WB - Resultados/analise_estadual/ts_univariada/summaries/ts_Influenza_AM_univariado.xlsx\nProcessando arquivo: /Workspace/Users/danielly.xavier@iclinic.com.br/Modelo Séries Temporais Clima e Saúde WB/Modelo Séries Temporais Clima e Saúde WB - Resultados/analise_estadual/ts_univariada/summaries/ts_Injúria Renal Aguda_AP_univariado.xlsx\nProcessando arquivo: /Workspace/Users/danielly.xavier@iclinic.com.br/Modelo Séries Temporais Clima e Saúde WB/Modelo Séries Temporais Clima e Saúde WB - Resultados/analise_estadual/ts_univariada/summaries/ts_Injúria Renal Aguda_RR_univariado.xlsx\nProcessando arquivo: /Workspace/Users/danielly.xavier@iclinic.com.br/Modelo Séries Temporais Clima e Saúde WB/Modelo Séries Temporais Clima e Saúde WB - Resultados/analise_estadual/ts_univariada/summaries/ts_Diabetes mellitus tipo 2_MS_univariado.xlsx\nProcessando arquivo: /Workspace/Users/danielly.xavier@iclinic.com.br/Modelo Séries Temporais Clima e Saúde WB/Modelo Séries Temporais Clima e Saúde WB - Resultados/analise_estadual/ts_univariada/summaries/ts_Tuberculose_PB_univariado.xlsx\nProcessando arquivo: /Workspace/Users/danielly.xavier@iclinic.com.br/Modelo Séries Temporais Clima e Saúde WB/Modelo Séries Temporais Clima e Saúde WB - Resultados/analise_estadual/ts_univariada/summaries/ts_Tuberculose_SE_univariado.xlsx\nProcessando arquivo: /Workspace/Users/danielly.xavier@iclinic.com.br/Modelo Séries Temporais Clima e Saúde WB/Modelo Séries Temporais Clima e Saúde WB - Resultados/analise_estadual/ts_univariada/summaries/ts_Transtorno de ansiedade generalizada_PE_univariado.xlsx\nProcessando arquivo: /Workspace/Users/danielly.xavier@iclinic.com.br/Modelo Séries Temporais Clima e Saúde WB/Modelo Séries Temporais Clima e Saúde WB - Resultados/analise_estadual/ts_univariada/summaries/ts_Transtorno de ansiedade generalizada_RS_univariado.xlsx\nProcessando arquivo: /Workspace/Users/danielly.xavier@iclinic.com.br/Modelo Séries Temporais Clima e Saúde WB/Modelo Séries Temporais Clima e Saúde WB - Resultados/analise_estadual/ts_univariada/summaries/ts_Malária_PI_univariado.xlsx\nProcessando arquivo: /Workspace/Users/danielly.xavier@iclinic.com.br/Modelo Séries Temporais Clima e Saúde WB/Modelo Séries Temporais Clima e Saúde WB - Resultados/analise_estadual/ts_univariada/summaries/ts_Malária_RJ_univariado.xlsx\nProcessando arquivo: /Workspace/Users/danielly.xavier@iclinic.com.br/Modelo Séries Temporais Clima e Saúde WB/Modelo Séries Temporais Clima e Saúde WB - Resultados/analise_estadual/ts_univariada/summaries/ts_Doença renal crônica_PA_univariado.xlsx\nProcessando arquivo: /Workspace/Users/danielly.xavier@iclinic.com.br/Modelo Séries Temporais Clima e Saúde WB/Modelo Séries Temporais Clima e Saúde WB - Resultados/analise_estadual/ts_univariada/summaries/ts_Doença renal crônica_PE_univariado.xlsx\nProcessando arquivo: /Workspace/Users/danielly.xavier@iclinic.com.br/Modelo Séries Temporais Clima e Saúde WB/Modelo Séries Temporais Clima e Saúde WB - Resultados/analise_estadual/ts_univariada/summaries/ts_Doença renal crônica_PI_univariado.xlsx\nProcessando arquivo: /Workspace/Users/danielly.xavier@iclinic.com.br/Modelo Séries Temporais Clima e Saúde WB/Modelo Séries Temporais Clima e Saúde WB - Resultados/analise_estadual/ts_univariada/summaries/ts_Infarto agudo do miocárdio_GO_univariado.xlsx\nProcessando arquivo: /Workspace/Users/danielly.xavier@iclinic.com.br/Modelo Séries Temporais Clima e Saúde WB/Modelo Séries Temporais Clima e Saúde WB - Resultados/analise_estadual/ts_univariada/summaries/ts_Asma_SE_univariado.xlsx\nProcessando arquivo: /Workspace/Users/danielly.xavier@iclinic.com.br/Modelo Séries Temporais Clima e Saúde WB/Modelo Séries Temporais Clima e Saúde WB - Resultados/analise_estadual/ts_univariada/summaries/ts_Infecção de trato urinário_RS_univariado.xlsx\nProcessando arquivo: /Workspace/Users/danielly.xavier@iclinic.com.br/Modelo Séries Temporais Clima e Saúde WB/Modelo Séries Temporais Clima e Saúde WB - Resultados/analise_estadual/ts_univariada/summaries/ts_Influenza_CE_univariado.xlsx\nProcessando arquivo: /Workspace/Users/danielly.xavier@iclinic.com.br/Modelo Séries Temporais Clima e Saúde WB/Modelo Séries Temporais Clima e Saúde WB - Resultados/analise_estadual/ts_univariada/summaries/ts_Influenza_PA_univariado.xlsx\nProcessando arquivo: /Workspace/Users/danielly.xavier@iclinic.com.br/Modelo Séries Temporais Clima e Saúde WB/Modelo Séries Temporais Clima e Saúde WB - Resultados/analise_estadual/ts_univariada/summaries/ts_Influenza_RN_univariado.xlsx\nProcessando arquivo: /Workspace/Users/danielly.xavier@iclinic.com.br/Modelo Séries Temporais Clima e Saúde WB/Modelo Séries Temporais Clima e Saúde WB - Resultados/analise_estadual/ts_univariada/summaries/ts_Diabetes mellitus tipo 2_MG_univariado.xlsx\nProcessando arquivo: /Workspace/Users/danielly.xavier@iclinic.com.br/Modelo Séries Temporais Clima e Saúde WB/Modelo Séries Temporais Clima e Saúde WB - Resultados/analise_estadual/ts_univariada/summaries/ts_Malária_PE_univariado.xlsx\nProcessando arquivo: /Workspace/Users/danielly.xavier@iclinic.com.br/Modelo Séries Temporais Clima e Saúde WB/Modelo Séries Temporais Clima e Saúde WB - Resultados/analise_estadual/ts_univariada/summaries/ts_Pneumonia por outros organismos_ES_univariado.xlsx\n\nResultados consolidados salvos em:\n/Workspace/Users/dayanna.quintanilha@afya.com.br/resultados_univariados2.csv\n"
     ]
    }
   ],
   "source": [
    "%python\n",
    "%pip install openpyxl\n",
    "\n",
    "import os\n",
    "import pandas as pd\n",
    "import glob\n",
    "\n",
    "try:\n",
    "    import openpyxl\n",
    "except ImportError:\n",
    "    print(\"O módulo 'openpyxl' não está instalado. Use 'pip install openpyxl' para instalá-lo.\")\n",
    "    raise\n",
    "\n",
    "\n",
    "# Caminho da pasta com arquivos univariados\n",
    "path_univariado = '/Workspace/Users/danielly.xavier@iclinic.com.br/Modelo Séries Temporais Clima e Saúde WB/Modelo Séries Temporais Clima e Saúde WB - Resultados/analise_estadual/ts_univariada/summaries/*.xlsx'\n",
    "\n",
    "# Dicionário para armazenar resultados temporários\n",
    "results_dict = {}\n",
    "\n",
    "# Função para extrair dados\n",
    "def extract_univariado_data(file_path):\n",
    "    try:\n",
    "        print(f\"Processando arquivo: {file_path}\")\n",
    "        df = pd.read_excel(file_path, header=None)\n",
    "\n",
    "        # Extrair valores baseando-se na posição conhecida\n",
    "        log_likelihood = pd.to_numeric(df.iloc[3, 9], errors='coerce')\n",
    "        aic = pd.to_numeric(df.iloc[4, 6], errors='coerce')\n",
    "        bic = pd.to_numeric(df.iloc[5, 3], errors='coerce')\n",
    "        hqic = pd.to_numeric(df.iloc[6, 3], errors='coerce')\n",
    "        ljung_box = pd.to_numeric(df.iloc[18, 3], errors='coerce')\n",
    "        jarque_bera = pd.to_numeric(df.iloc[18, 6], errors='coerce')\n",
    "        kurtosis = pd.to_numeric(df.iloc[21, 4], errors='coerce')\n",
    "\n",
    "        # Identificar UF e Agravo a partir do nome do arquivo\n",
    "        filename = os.path.basename(file_path)\n",
    "        parts = filename.replace(\".xlsx\", \"\").split('_')\n",
    "        uf = parts[-2]\n",
    "        agravo = \" \".join(parts[1:-2])\n",
    "\n",
    "        descricao = f\"Resultados para {agravo} no estado {uf}\"\n",
    "\n",
    "        # Armazenar os dados\n",
    "        data = {\n",
    "            'UF': uf,\n",
    "            'AGRAVO': agravo,\n",
    "            'LOG_UNIVARIADO': log_likelihood,\n",
    "            'AIC_UNIVARIADO': aic,\n",
    "            'BIC_UNIVARIADO': bic,\n",
    "            'HQIC_UNIVARIADO': hqic,\n",
    "            'LJUNGBOX_UNIVARIADO': ljung_box,\n",
    "            'JAQUE_BERA_UNIVARIADO': jarque_bera,\n",
    "            'KURTOSIS_UNIVARIADO': kurtosis,\n",
    "            'DESCRICAO': descricao\n",
    "        }\n",
    "\n",
    "        # Atualizar o dicionário de resultados\n",
    "        key = (uf, agravo)\n",
    "        if key not in results_dict:\n",
    "            results_dict[key] = {}\n",
    "        results_dict[key].update(data)\n",
    "\n",
    "    except Exception as e:\n",
    "        print(f\"Erro ao processar {file_path}: {e}\")\n",
    "\n",
    "# Processar os arquivos da pasta univariada\n",
    "print(\"\\n--- Processando arquivos UNIVARIADOS ---\\n\")\n",
    "arquivos_univariados = glob.glob(path_univariado)\n",
    "for file_path in arquivos_univariados:\n",
    "    extract_univariado_data(file_path)\n",
    "\n",
    "# Consolidar resultados\n",
    "df_resultados_univariado = pd.DataFrame(results_dict.values())\n",
    "\n",
    "# Verificar e preencher colunas ausentes\n",
    "colunas_necessarias = [\n",
    "    'UF', 'AGRAVO', 'LOG_UNIVARIADO', 'AIC_UNIVARIADO', 'BIC_UNIVARIADO', \n",
    "    'HQIC_UNIVARIADO', 'LJUNGBOX_UNIVARIADO', 'JAQUE_BERA_UNIVARIADO', \n",
    "    'KURTOSIS_UNIVARIADO', 'DESCRICAO'\n",
    "]\n",
    "\n",
    "for coluna in colunas_necessarias:\n",
    "    if coluna not in df_resultados_univariado.columns:\n",
    "        df_resultados_univariado[coluna] = pd.NA\n",
    "\n",
    "# Salvar resultados em CSV\n",
    "output_path = '/Workspace/Users/dayanna.quintanilha@afya.com.br/resultados_univariados2.csv'\n",
    "df_resultados_univariado.to_csv(output_path, index=False)\n",
    "\n",
    "# Exibir resumo\n",
    "print(\"\\nResultados consolidados salvos em:\")\n",
    "print(output_path)\n"
   ]
  },
  {
   "cell_type": "markdown",
   "metadata": {
    "application/vnd.databricks.v1+cell": {
     "cellMetadata": {},
     "inputWidgets": {},
     "nuid": "5a66571e-f5b4-4189-94aa-1e3fc5f7c9d3",
     "showTitle": false,
     "tableResultSettingsMap": {},
     "title": ""
    }
   },
   "source": [
    "extração exógena\n"
   ]
  },
  {
   "cell_type": "code",
   "execution_count": 0,
   "metadata": {
    "application/vnd.databricks.v1+cell": {
     "cellMetadata": {
      "byteLimit": 2048000,
      "rowLimit": 10000
     },
     "inputWidgets": {},
     "nuid": "8879340f-9d28-42b3-bc29-a6f0b613eabc",
     "showTitle": false,
     "tableResultSettingsMap": {},
     "title": ""
    }
   },
   "outputs": [
    {
     "output_type": "stream",
     "name": "stdout",
     "output_type": "stream",
     "text": [
      "Requirement already satisfied: openpyxl in /local_disk0/.ephemeral_nfs/envs/pythonEnv-61f421d3-a20e-4d43-887a-3236a2dc9dfa/lib/python3.10/site-packages (3.1.5)\nRequirement already satisfied: et-xmlfile in /local_disk0/.ephemeral_nfs/envs/pythonEnv-61f421d3-a20e-4d43-887a-3236a2dc9dfa/lib/python3.10/site-packages (from openpyxl) (2.0.0)\n\u001B[43mNote: you may need to restart the kernel using %restart_python or dbutils.library.restartPython() to use updated packages.\u001B[0m\n\n--- Processando arquivos EXÓGENOS ---\n\nProcessando arquivo: /Workspace/Users/danielly.xavier@iclinic.com.br/Modelo Séries Temporais Clima e Saúde WB/Modelo Séries Temporais Clima e Saúde WB - Resultados/analise_estadual/ts_exogena/summaries/ts_Covid-19_CE_exaogena_summary.xlsx\nProcessando arquivo: /Workspace/Users/danielly.xavier@iclinic.com.br/Modelo Séries Temporais Clima e Saúde WB/Modelo Séries Temporais Clima e Saúde WB - Resultados/analise_estadual/ts_exogena/summaries/ts_Covid-19_TO_exaogena_summary.xlsx\nProcessando arquivo: /Workspace/Users/danielly.xavier@iclinic.com.br/Modelo Séries Temporais Clima e Saúde WB/Modelo Séries Temporais Clima e Saúde WB - Resultados/analise_estadual/ts_exogena/summaries/ts_Cetoacidose diabética_PR_exaogena_summary.xlsx\nProcessando arquivo: /Workspace/Users/danielly.xavier@iclinic.com.br/Modelo Séries Temporais Clima e Saúde WB/Modelo Séries Temporais Clima e Saúde WB - Resultados/analise_estadual/ts_exogena/summaries/ts_Pneumonia viral_RN_exaogena_summary.xlsx\nProcessando arquivo: /Workspace/Users/danielly.xavier@iclinic.com.br/Modelo Séries Temporais Clima e Saúde WB/Modelo Séries Temporais Clima e Saúde WB - Resultados/analise_estadual/ts_exogena/summaries/ts_Doença renal crônica_MT_exaogena_summary.xlsx\nProcessando arquivo: /Workspace/Users/danielly.xavier@iclinic.com.br/Modelo Séries Temporais Clima e Saúde WB/Modelo Séries Temporais Clima e Saúde WB - Resultados/analise_estadual/ts_exogena/summaries/ts_Infecção de trato urinário_RR_exaogena_summary.xlsx\nProcessando arquivo: /Workspace/Users/danielly.xavier@iclinic.com.br/Modelo Séries Temporais Clima e Saúde WB/Modelo Séries Temporais Clima e Saúde WB - Resultados/analise_estadual/ts_exogena/summaries/ts_Influenza_PE_exaogena_summary.xlsx\nProcessando arquivo: /Workspace/Users/danielly.xavier@iclinic.com.br/Modelo Séries Temporais Clima e Saúde WB/Modelo Séries Temporais Clima e Saúde WB - Resultados/analise_estadual/ts_exogena/summaries/ts_Influenza_RN_exaogena_summary.xlsx\nProcessando arquivo: /Workspace/Users/danielly.xavier@iclinic.com.br/Modelo Séries Temporais Clima e Saúde WB/Modelo Séries Temporais Clima e Saúde WB - Resultados/analise_estadual/ts_exogena/summaries/ts_Pneumonia bacteriana_PE_exaogena_summary.xlsx\nProcessando arquivo: /Workspace/Users/danielly.xavier@iclinic.com.br/Modelo Séries Temporais Clima e Saúde WB/Modelo Séries Temporais Clima e Saúde WB - Resultados/analise_estadual/ts_exogena/summaries/ts_Diabetes mellitus tipo 2_BA_exaogena_summary.xlsx\nProcessando arquivo: /Workspace/Users/danielly.xavier@iclinic.com.br/Modelo Séries Temporais Clima e Saúde WB/Modelo Séries Temporais Clima e Saúde WB - Resultados/analise_estadual/ts_exogena/summaries/ts_Tuberculose_ES_exaogena_summary.xlsx\nProcessando arquivo: /Workspace/Users/danielly.xavier@iclinic.com.br/Modelo Séries Temporais Clima e Saúde WB/Modelo Séries Temporais Clima e Saúde WB - Resultados/analise_estadual/ts_exogena/summaries/ts_Transtorno de ansiedade generalizada_SC_exaogena_summary.xlsx\nProcessando arquivo: /Workspace/Users/danielly.xavier@iclinic.com.br/Modelo Séries Temporais Clima e Saúde WB/Modelo Séries Temporais Clima e Saúde WB - Resultados/analise_estadual/ts_exogena/summaries/ts_Cetoacidose diabética_SP_exaogena_summary.xlsx\nProcessando arquivo: /Workspace/Users/danielly.xavier@iclinic.com.br/Modelo Séries Temporais Clima e Saúde WB/Modelo Séries Temporais Clima e Saúde WB - Resultados/analise_estadual/ts_exogena/summaries/ts_Doença renal crônica_RR_exaogena_summary.xlsx\nProcessando arquivo: /Workspace/Users/danielly.xavier@iclinic.com.br/Modelo Séries Temporais Clima e Saúde WB/Modelo Séries Temporais Clima e Saúde WB - Resultados/analise_estadual/ts_exogena/summaries/ts_Infarto agudo do miocárdio_TO_exaogena_summary.xlsx\nProcessando arquivo: /Workspace/Users/danielly.xavier@iclinic.com.br/Modelo Séries Temporais Clima e Saúde WB/Modelo Séries Temporais Clima e Saúde WB - Resultados/analise_estadual/ts_exogena/summaries/ts_Insuficiência cardíaca _MS_exaogena_summary.xlsx\nProcessando arquivo: /Workspace/Users/danielly.xavier@iclinic.com.br/Modelo Séries Temporais Clima e Saúde WB/Modelo Séries Temporais Clima e Saúde WB - Resultados/analise_estadual/ts_exogena/summaries/ts_Injúria Renal Aguda_AM_exaogena_summary.xlsx\nProcessando arquivo: /Workspace/Users/danielly.xavier@iclinic.com.br/Modelo Séries Temporais Clima e Saúde WB/Modelo Séries Temporais Clima e Saúde WB - Resultados/analise_estadual/ts_exogena/summaries/ts_Injúria Renal Aguda_CE_exaogena_summary.xlsx\nProcessando arquivo: /Workspace/Users/danielly.xavier@iclinic.com.br/Modelo Séries Temporais Clima e Saúde WB/Modelo Séries Temporais Clima e Saúde WB - Resultados/analise_estadual/ts_exogena/summaries/ts_Injúria Renal Aguda_SP_exaogena_summary.xlsx\nProcessando arquivo: /Workspace/Users/danielly.xavier@iclinic.com.br/Modelo Séries Temporais Clima e Saúde WB/Modelo Séries Temporais Clima e Saúde WB - Resultados/analise_estadual/ts_exogena/summaries/ts_Pneumonia bacteriana_AM_exaogena_summary.xlsx\nProcessando arquivo: /Workspace/Users/danielly.xavier@iclinic.com.br/Modelo Séries Temporais Clima e Saúde WB/Modelo Séries Temporais Clima e Saúde WB - Resultados/analise_estadual/ts_exogena/summaries/ts_Pneumonia bacteriana_RR_exaogena_summary.xlsx\nProcessando arquivo: /Workspace/Users/danielly.xavier@iclinic.com.br/Modelo Séries Temporais Clima e Saúde WB/Modelo Séries Temporais Clima e Saúde WB - Resultados/analise_estadual/ts_exogena/summaries/ts_Diabetes mellitus tipo 2_MS_exaogena_summary.xlsx\nProcessando arquivo: /Workspace/Users/danielly.xavier@iclinic.com.br/Modelo Séries Temporais Clima e Saúde WB/Modelo Séries Temporais Clima e Saúde WB - Resultados/analise_estadual/ts_exogena/summaries/ts_Doença pulmonar obstrutiva crônica_PB_exaogena_summary.xlsx\nProcessando arquivo: /Workspace/Users/danielly.xavier@iclinic.com.br/Modelo Séries Temporais Clima e Saúde WB/Modelo Séries Temporais Clima e Saúde WB - Resultados/analise_estadual/ts_exogena/summaries/ts_Tuberculose_PB_exaogena_summary.xlsx\nProcessando arquivo: /Workspace/Users/danielly.xavier@iclinic.com.br/Modelo Séries Temporais Clima e Saúde WB/Modelo Séries Temporais Clima e Saúde WB - Resultados/analise_estadual/ts_exogena/summaries/ts_Transtorno de ansiedade generalizada_ES_exaogena_summary.xlsx\nProcessando arquivo: /Workspace/Users/danielly.xavier@iclinic.com.br/Modelo Séries Temporais Clima e Saúde WB/Modelo Séries Temporais Clima e Saúde WB - Resultados/analise_estadual/ts_exogena/summaries/ts_Transtorno de ansiedade generalizada_SE_exaogena_summary.xlsx\nProcessando arquivo: /Workspace/Users/danielly.xavier@iclinic.com.br/Modelo Séries Temporais Clima e Saúde WB/Modelo Séries Temporais Clima e Saúde WB - Resultados/analise_estadual/ts_exogena/summaries/ts_Transtorno de ansiedade generalizada_SP_exaogena_summary.xlsx\nProcessando arquivo: /Workspace/Users/danielly.xavier@iclinic.com.br/Modelo Séries Temporais Clima e Saúde WB/Modelo Séries Temporais Clima e Saúde WB - Resultados/analise_estadual/ts_exogena/summaries/ts_Malária_MG_exaogena_summary.xlsx\nProcessando arquivo: /Workspace/Users/danielly.xavier@iclinic.com.br/Modelo Séries Temporais Clima e Saúde WB/Modelo Séries Temporais Clima e Saúde WB - Resultados/analise_estadual/ts_exogena/summaries/ts_Malária_PE_exaogena_summary.xlsx\nProcessando arquivo: /Workspace/Users/danielly.xavier@iclinic.com.br/Modelo Séries Temporais Clima e Saúde WB/Modelo Séries Temporais Clima e Saúde WB - Resultados/analise_estadual/ts_exogena/summaries/ts_Febre de Chikungunya_GO_exaogena_summary.xlsx\nProcessando arquivo: /Workspace/Users/danielly.xavier@iclinic.com.br/Modelo Séries Temporais Clima e Saúde WB/Modelo Séries Temporais Clima e Saúde WB - Resultados/analise_estadual/ts_exogena/summaries/ts_Pneumonia comunitária_PE_exaogena_summary.xlsx\nProcessando arquivo: /Workspace/Users/danielly.xavier@iclinic.com.br/Modelo Séries Temporais Clima e Saúde WB/Modelo Séries Temporais Clima e Saúde WB - Resultados/analise_estadual/ts_exogena/summaries/ts_Pneumonia viral_PB_exaogena_summary.xlsx\nProcessando arquivo: /Workspace/Users/danielly.xavier@iclinic.com.br/Modelo Séries Temporais Clima e Saúde WB/Modelo Séries Temporais Clima e Saúde WB - Resultados/analise_estadual/ts_exogena/summaries/ts_Pneumonia viral_RR_exaogena_summary.xlsx\nProcessando arquivo: /Workspace/Users/danielly.xavier@iclinic.com.br/Modelo Séries Temporais Clima e Saúde WB/Modelo Séries Temporais Clima e Saúde WB - Resultados/analise_estadual/ts_exogena/summaries/ts_Asma_MT_exaogena_summary.xlsx\nProcessando arquivo: /Workspace/Users/danielly.xavier@iclinic.com.br/Modelo Séries Temporais Clima e Saúde WB/Modelo Séries Temporais Clima e Saúde WB - Resultados/analise_estadual/ts_exogena/summaries/ts_Infecção de trato urinário_MS_exaogena_summary.xlsx\nProcessando arquivo: /Workspace/Users/danielly.xavier@iclinic.com.br/Modelo Séries Temporais Clima e Saúde WB/Modelo Séries Temporais Clima e Saúde WB - Resultados/analise_estadual/ts_exogena/summaries/ts_Depressão_RO_exaogena_summary.xlsx\nProcessando arquivo: /Workspace/Users/danielly.xavier@iclinic.com.br/Modelo Séries Temporais Clima e Saúde WB/Modelo Séries Temporais Clima e Saúde WB - Resultados/analise_estadual/ts_exogena/summaries/ts_Doença renal crônica_CE_exaogena_summary.xlsx\nProcessando arquivo: /Workspace/Users/danielly.xavier@iclinic.com.br/Modelo Séries Temporais Clima e Saúde WB/Modelo Séries Temporais Clima e Saúde WB - Resultados/analise_estadual/ts_exogena/summaries/ts_Influenza_MS_exaogena_summary.xlsx\nProcessando arquivo: /Workspace/Users/danielly.xavier@iclinic.com.br/Modelo Séries Temporais Clima e Saúde WB/Modelo Séries Temporais Clima e Saúde WB - Resultados/analise_estadual/ts_exogena/summaries/ts_Injúria Renal Aguda_PR_exaogena_summary.xlsx\nProcessando arquivo: /Workspace/Users/danielly.xavier@iclinic.com.br/Modelo Séries Temporais Clima e Saúde WB/Modelo Séries Temporais Clima e Saúde WB - Resultados/analise_estadual/ts_exogena/summaries/ts_Doença pulmonar obstrutiva crônica_ES_exaogena_summary.xlsx\nProcessando arquivo: /Workspace/Users/danielly.xavier@iclinic.com.br/Modelo Séries Temporais Clima e Saúde WB/Modelo Séries Temporais Clima e Saúde WB - Resultados/analise_estadual/ts_exogena/summaries/ts_Doença pulmonar obstrutiva crônica_MT_exaogena_summary.xlsx\nProcessando arquivo: /Workspace/Users/danielly.xavier@iclinic.com.br/Modelo Séries Temporais Clima e Saúde WB/Modelo Séries Temporais Clima e Saúde WB - Resultados/analise_estadual/ts_exogena/summaries/ts_Doença pulmonar obstrutiva crônica_RS_exaogena_summary.xlsx\nProcessando arquivo: /Workspace/Users/danielly.xavier@iclinic.com.br/Modelo Séries Temporais Clima e Saúde WB/Modelo Séries Temporais Clima e Saúde WB - Resultados/analise_estadual/ts_exogena/summaries/ts_Cetoacidose diabética_RR_exaogena_summary.xlsx\nProcessando arquivo: /Workspace/Users/danielly.xavier@iclinic.com.br/Modelo Séries Temporais Clima e Saúde WB/Modelo Séries Temporais Clima e Saúde WB - Resultados/analise_estadual/ts_exogena/summaries/ts_Doença renal crônica_DF_exaogena_summary.xlsx\nProcessando arquivo: /Workspace/Users/danielly.xavier@iclinic.com.br/Modelo Séries Temporais Clima e Saúde WB/Modelo Séries Temporais Clima e Saúde WB - Resultados/analise_estadual/ts_exogena/summaries/ts_Doença renal crônica_PA_exaogena_summary.xlsx\nProcessando arquivo: /Workspace/Users/danielly.xavier@iclinic.com.br/Modelo Séries Temporais Clima e Saúde WB/Modelo Séries Temporais Clima e Saúde WB - Resultados/analise_estadual/ts_exogena/summaries/ts_Doença renal crônica_TO_exaogena_summary.xlsx\nProcessando arquivo: /Workspace/Users/danielly.xavier@iclinic.com.br/Modelo Séries Temporais Clima e Saúde WB/Modelo Séries Temporais Clima e Saúde WB - Resultados/analise_estadual/ts_exogena/summaries/ts_Infarto agudo do miocárdio_CE_exaogena_summary.xlsx\nProcessando arquivo: /Workspace/Users/danielly.xavier@iclinic.com.br/Modelo Séries Temporais Clima e Saúde WB/Modelo Séries Temporais Clima e Saúde WB - Resultados/analise_estadual/ts_exogena/summaries/ts_Infarto agudo do miocárdio_MT_exaogena_summary.xlsx\nProcessando arquivo: /Workspace/Users/danielly.xavier@iclinic.com.br/Modelo Séries Temporais Clima e Saúde WB/Modelo Séries Temporais Clima e Saúde WB - Resultados/analise_estadual/ts_exogena/summaries/ts_Infarto agudo do miocárdio_PA_exaogena_summary.xlsx\nProcessando arquivo: /Workspace/Users/danielly.xavier@iclinic.com.br/Modelo Séries Temporais Clima e Saúde WB/Modelo Séries Temporais Clima e Saúde WB - Resultados/analise_estadual/ts_exogena/summaries/ts_Asma_PA_exaogena_summary.xlsx\nProcessando arquivo: /Workspace/Users/danielly.xavier@iclinic.com.br/Modelo Séries Temporais Clima e Saúde WB/Modelo Séries Temporais Clima e Saúde WB - Resultados/analise_estadual/ts_exogena/summaries/ts_Influenza_AP_exaogena_summary.xlsx\nProcessando arquivo: /Workspace/Users/danielly.xavier@iclinic.com.br/Modelo Séries Temporais Clima e Saúde WB/Modelo Séries Temporais Clima e Saúde WB - Resultados/analise_estadual/ts_exogena/summaries/ts_Influenza_SE_exaogena_summary.xlsx\nProcessando arquivo: /Workspace/Users/danielly.xavier@iclinic.com.br/Modelo Séries Temporais Clima e Saúde WB/Modelo Séries Temporais Clima e Saúde WB - Resultados/analise_estadual/ts_exogena/summaries/ts_Injúria Renal Aguda_BA_exaogena_summary.xlsx\nProcessando arquivo: /Workspace/Users/danielly.xavier@iclinic.com.br/Modelo Séries Temporais Clima e Saúde WB/Modelo Séries Temporais Clima e Saúde WB - Resultados/analise_estadual/ts_exogena/summaries/ts_Injúria Renal Aguda_MG_exaogena_summary.xlsx\nProcessando arquivo: /Workspace/Users/danielly.xavier@iclinic.com.br/Modelo Séries Temporais Clima e Saúde WB/Modelo Séries Temporais Clima e Saúde WB - Resultados/analise_estadual/ts_exogena/summaries/ts_Pneumonia bacteriana_PI_exaogena_summary.xlsx\nProcessando arquivo: /Workspace/Users/danielly.xavier@iclinic.com.br/Modelo Séries Temporais Clima e Saúde WB/Modelo Séries Temporais Clima e Saúde WB - Resultados/analise_estadual/ts_exogena/summaries/ts_Diabetes mellitus tipo 2_ES_exaogena_summary.xlsx\nProcessando arquivo: /Workspace/Users/danielly.xavier@iclinic.com.br/Modelo Séries Temporais Clima e Saúde WB/Modelo Séries Temporais Clima e Saúde WB - Resultados/analise_estadual/ts_exogena/summaries/ts_Diabetes mellitus tipo 2_SC_exaogena_summary.xlsx\nProcessando arquivo: /Workspace/Users/danielly.xavier@iclinic.com.br/Modelo Séries Temporais Clima e Saúde WB/Modelo Séries Temporais Clima e Saúde WB - Resultados/analise_estadual/ts_exogena/summaries/ts_Tuberculose_AC_exaogena_summary.xlsx\nProcessando arquivo: /Workspace/Users/danielly.xavier@iclinic.com.br/Modelo Séries Temporais Clima e Saúde WB/Modelo Séries Temporais Clima e Saúde WB - Resultados/analise_estadual/ts_exogena/summaries/ts_Transtorno de ansiedade generalizada_AM_exaogena_summary.xlsx\nProcessando arquivo: /Workspace/Users/danielly.xavier@iclinic.com.br/Modelo Séries Temporais Clima e Saúde WB/Modelo Séries Temporais Clima e Saúde WB - Resultados/analise_estadual/ts_exogena/summaries/ts_Doença pulmonar obstrutiva crônica_CE_exaogena_summary.xlsx\nProcessando arquivo: /Workspace/Users/danielly.xavier@iclinic.com.br/Modelo Séries Temporais Clima e Saúde WB/Modelo Séries Temporais Clima e Saúde WB - Resultados/analise_estadual/ts_exogena/summaries/ts_Malária_AM_exaogena_summary.xlsx\nProcessando arquivo: /Workspace/Users/danielly.xavier@iclinic.com.br/Modelo Séries Temporais Clima e Saúde WB/Modelo Séries Temporais Clima e Saúde WB - Resultados/analise_estadual/ts_exogena/summaries/ts_Malária_RN_exaogena_summary.xlsx\nProcessando arquivo: /Workspace/Users/danielly.xavier@iclinic.com.br/Modelo Séries Temporais Clima e Saúde WB/Modelo Séries Temporais Clima e Saúde WB - Resultados/analise_estadual/ts_exogena/summaries/ts_Malária_TO_exaogena_summary.xlsx\nProcessando arquivo: /Workspace/Users/danielly.xavier@iclinic.com.br/Modelo Séries Temporais Clima e Saúde WB/Modelo Séries Temporais Clima e Saúde WB - Resultados/analise_estadual/ts_exogena/summaries/ts_Febre de Chikungunya_AC_exaogena_summary.xlsx\nProcessando arquivo: /Workspace/Users/danielly.xavier@iclinic.com.br/Modelo Séries Temporais Clima e Saúde WB/Modelo Séries Temporais Clima e Saúde WB - Resultados/analise_estadual/ts_exogena/summaries/ts_Febre de Chikungunya_RN_exaogena_summary.xlsx\nProcessando arquivo: /Workspace/Users/danielly.xavier@iclinic.com.br/Modelo Séries Temporais Clima e Saúde WB/Modelo Séries Temporais Clima e Saúde WB - Resultados/analise_estadual/ts_exogena/summaries/ts_Febre de Chikungunya_TO_exaogena_summary.xlsx\nProcessando arquivo: /Workspace/Users/danielly.xavier@iclinic.com.br/Modelo Séries Temporais Clima e Saúde WB/Modelo Séries Temporais Clima e Saúde WB - Resultados/analise_estadual/ts_exogena/summaries/ts_Pneumonia comunitária_MA_exaogena_summary.xlsx\nProcessando arquivo: /Workspace/Users/danielly.xavier@iclinic.com.br/Modelo Séries Temporais Clima e Saúde WB/Modelo Séries Temporais Clima e Saúde WB - Resultados/analise_estadual/ts_exogena/summaries/ts_Cetoacidose diabética_RJ_exaogena_summary.xlsx\nProcessando arquivo: /Workspace/Users/danielly.xavier@iclinic.com.br/Modelo Séries Temporais Clima e Saúde WB/Modelo Séries Temporais Clima e Saúde WB - Resultados/analise_estadual/ts_exogena/summaries/ts_Cetoacidose diabética_SE_exaogena_summary.xlsx\nProcessando arquivo: /Workspace/Users/danielly.xavier@iclinic.com.br/Modelo Séries Temporais Clima e Saúde WB/Modelo Séries Temporais Clima e Saúde WB - Resultados/analise_estadual/ts_exogena/summaries/ts_Depressão_RN_exaogena_summary.xlsx\nProcessando arquivo: /Workspace/Users/danielly.xavier@iclinic.com.br/Modelo Séries Temporais Clima e Saúde WB/Modelo Séries Temporais Clima e Saúde WB - Resultados/analise_estadual/ts_exogena/summaries/ts_Depressão_TO_exaogena_summary.xlsx\nProcessando arquivo: /Workspace/Users/danielly.xavier@iclinic.com.br/Modelo Séries Temporais Clima e Saúde WB/Modelo Séries Temporais Clima e Saúde WB - Resultados/analise_estadual/ts_exogena/summaries/ts_Pneumonia viral_AM_exaogena_summary.xlsx\nProcessando arquivo: /Workspace/Users/danielly.xavier@iclinic.com.br/Modelo Séries Temporais Clima e Saúde WB/Modelo Séries Temporais Clima e Saúde WB - Resultados/analise_estadual/ts_exogena/summaries/ts_Pneumonia viral_MS_exaogena_summary.xlsx\nProcessando arquivo: /Workspace/Users/danielly.xavier@iclinic.com.br/Modelo Séries Temporais Clima e Saúde WB/Modelo Séries Temporais Clima e Saúde WB - Resultados/analise_estadual/ts_exogena/summaries/ts_Pneumonia viral_PI_exaogena_summary.xlsx\nProcessando arquivo: /Workspace/Users/danielly.xavier@iclinic.com.br/Modelo Séries Temporais Clima e Saúde WB/Modelo Séries Temporais Clima e Saúde WB - Resultados/analise_estadual/ts_exogena/summaries/ts_Cetoacidose diabética_RO_exaogena_summary.xlsx\nProcessando arquivo: /Workspace/Users/danielly.xavier@iclinic.com.br/Modelo Séries Temporais Clima e Saúde WB/Modelo Séries Temporais Clima e Saúde WB - Resultados/analise_estadual/ts_exogena/summaries/ts_Depressão_SE_exaogena_summary.xlsx\nProcessando arquivo: /Workspace/Users/danielly.xavier@iclinic.com.br/Modelo Séries Temporais Clima e Saúde WB/Modelo Séries Temporais Clima e Saúde WB - Resultados/analise_estadual/ts_exogena/summaries/ts_Doença renal crônica_AC_exaogena_summary.xlsx\nProcessando arquivo: /Workspace/Users/danielly.xavier@iclinic.com.br/Modelo Séries Temporais Clima e Saúde WB/Modelo Séries Temporais Clima e Saúde WB - Resultados/analise_estadual/ts_exogena/summaries/ts_Infarto agudo do miocárdio_RO_exaogena_summary.xlsx\nProcessando arquivo: /Workspace/Users/danielly.xavier@iclinic.com.br/Modelo Séries Temporais Clima e Saúde WB/Modelo Séries Temporais Clima e Saúde WB - Resultados/analise_estadual/ts_exogena/summaries/ts_Pneumonia viral_PR_exaogena_summary.xlsx\nProcessando arquivo: /Workspace/Users/danielly.xavier@iclinic.com.br/Modelo Séries Temporais Clima e Saúde WB/Modelo Séries Temporais Clima e Saúde WB - Resultados/analise_estadual/ts_exogena/summaries/ts_Pneumonia viral_RJ_exaogena_summary.xlsx\nProcessando arquivo: /Workspace/Users/danielly.xavier@iclinic.com.br/Modelo Séries Temporais Clima e Saúde WB/Modelo Séries Temporais Clima e Saúde WB - Resultados/analise_estadual/ts_exogena/summaries/ts_Asma_PB_exaogena_summary.xlsx\nProcessando arquivo: /Workspace/Users/danielly.xavier@iclinic.com.br/Modelo Séries Temporais Clima e Saúde WB/Modelo Séries Temporais Clima e Saúde WB - Resultados/analise_estadual/ts_exogena/summaries/ts_Tuberculose_BA_exaogena_summary.xlsx\nProcessando arquivo: /Workspace/Users/danielly.xavier@iclinic.com.br/Modelo Séries Temporais Clima e Saúde WB/Modelo Séries Temporais Clima e Saúde WB - Resultados/analise_estadual/ts_exogena/summaries/ts_Tuberculose_SC_exaogena_summary.xlsx\nProcessando arquivo: /Workspace/Users/danielly.xavier@iclinic.com.br/Modelo Séries Temporais Clima e Saúde WB/Modelo Séries Temporais Clima e Saúde WB - Resultados/analise_estadual/ts_exogena/summaries/ts_Tuberculose_SP_exaogena_summary.xlsx\nProcessando arquivo: /Workspace/Users/danielly.xavier@iclinic.com.br/Modelo Séries Temporais Clima e Saúde WB/Modelo Séries Temporais Clima e Saúde WB - Resultados/analise_estadual/ts_exogena/summaries/ts_Pneumonia comunitária_MG_exaogena_summary.xlsx\nProcessando arquivo: /Workspace/Users/danielly.xavier@iclinic.com.br/Modelo Séries Temporais Clima e Saúde WB/Modelo Séries Temporais Clima e Saúde WB - Resultados/analise_estadual/ts_exogena/summaries/ts_Cetoacidose diabética_AL_exaogena_summary.xlsx\nProcessando arquivo: /Workspace/Users/danielly.xavier@iclinic.com.br/Modelo Séries Temporais Clima e Saúde WB/Modelo Séries Temporais Clima e Saúde WB - Resultados/analise_estadual/ts_exogena/summaries/ts_Depressão_MS_exaogena_summary.xlsx\nProcessando arquivo: /Workspace/Users/danielly.xavier@iclinic.com.br/Modelo Séries Temporais Clima e Saúde WB/Modelo Séries Temporais Clima e Saúde WB - Resultados/analise_estadual/ts_exogena/summaries/ts_Infarto agudo do miocárdio_DF_exaogena_summary.xlsx\nProcessando arquivo: /Workspace/Users/danielly.xavier@iclinic.com.br/Modelo Séries Temporais Clima e Saúde WB/Modelo Séries Temporais Clima e Saúde WB - Resultados/analise_estadual/ts_exogena/summaries/ts_Infarto agudo do miocárdio_RN_exaogena_summary.xlsx\nProcessando arquivo: /Workspace/Users/danielly.xavier@iclinic.com.br/Modelo Séries Temporais Clima e Saúde WB/Modelo Séries Temporais Clima e Saúde WB - Resultados/analise_estadual/ts_exogena/summaries/ts_Insuficiência cardíaca _AM_exaogena_summary.xlsx\nProcessando arquivo: /Workspace/Users/danielly.xavier@iclinic.com.br/Modelo Séries Temporais Clima e Saúde WB/Modelo Séries Temporais Clima e Saúde WB - Resultados/analise_estadual/ts_exogena/summaries/ts_Insuficiência cardíaca _ES_exaogena_summary.xlsx\nProcessando arquivo: /Workspace/Users/danielly.xavier@iclinic.com.br/Modelo Séries Temporais Clima e Saúde WB/Modelo Séries Temporais Clima e Saúde WB - Resultados/analise_estadual/ts_exogena/summaries/ts_Insuficiência cardíaca _PA_exaogena_summary.xlsx\nProcessando arquivo: /Workspace/Users/danielly.xavier@iclinic.com.br/Modelo Séries Temporais Clima e Saúde WB/Modelo Séries Temporais Clima e Saúde WB - Resultados/analise_estadual/ts_exogena/summaries/ts_Pneumonia viral_AC_exaogena_summary.xlsx\nProcessando arquivo: /Workspace/Users/danielly.xavier@iclinic.com.br/Modelo Séries Temporais Clima e Saúde WB/Modelo Séries Temporais Clima e Saúde WB - Resultados/analise_estadual/ts_exogena/summaries/ts_Pneumonia viral_AL_exaogena_summary.xlsx\nProcessando arquivo: /Workspace/Users/danielly.xavier@iclinic.com.br/Modelo Séries Temporais Clima e Saúde WB/Modelo Séries Temporais Clima e Saúde WB - Resultados/analise_estadual/ts_exogena/summaries/ts_Asma_PR_exaogena_summary.xlsx\nProcessando arquivo: /Workspace/Users/danielly.xavier@iclinic.com.br/Modelo Séries Temporais Clima e Saúde WB/Modelo Séries Temporais Clima e Saúde WB - Resultados/analise_estadual/ts_exogena/summaries/ts_Asma_RJ_exaogena_summary.xlsx\nProcessando arquivo: /Workspace/Users/danielly.xavier@iclinic.com.br/Modelo Séries Temporais Clima e Saúde WB/Modelo Séries Temporais Clima e Saúde WB - Resultados/analise_estadual/ts_exogena/summaries/ts_Asma_RN_exaogena_summary.xlsx\nProcessando arquivo: /Workspace/Users/danielly.xavier@iclinic.com.br/Modelo Séries Temporais Clima e Saúde WB/Modelo Séries Temporais Clima e Saúde WB - Resultados/analise_estadual/ts_exogena/summaries/ts_Doença pulmonar obstrutiva crônica_PE_exaogena_summary.xlsx\nProcessando arquivo: /Workspace/Users/dan\n\n*** WARNING: max output size exceeded, skipping output. ***\n\nivo: /Workspace/Users/danielly.xavier@iclinic.com.br/Modelo Séries Temporais Clima e Saúde WB/Modelo Séries Temporais Clima e Saúde WB - Resultados/analise_estadual/ts_exogena/summaries/ts_Febre de Chikungunya_PB_exaogena_summary.xlsx\nProcessando arquivo: /Workspace/Users/danielly.xavier@iclinic.com.br/Modelo Séries Temporais Clima e Saúde WB/Modelo Séries Temporais Clima e Saúde WB - Resultados/analise_estadual/ts_exogena/summaries/ts_Pneumonia por outros organismos_AM_exaogena_summary.xlsx\nProcessando arquivo: /Workspace/Users/danielly.xavier@iclinic.com.br/Modelo Séries Temporais Clima e Saúde WB/Modelo Séries Temporais Clima e Saúde WB - Resultados/analise_estadual/ts_exogena/summaries/ts_Depressão_AL_exaogena_summary.xlsx\nProcessando arquivo: /Workspace/Users/danielly.xavier@iclinic.com.br/Modelo Séries Temporais Clima e Saúde WB/Modelo Séries Temporais Clima e Saúde WB - Resultados/analise_estadual/ts_exogena/summaries/ts_Depressão_PI_exaogena_summary.xlsx\nProcessando arquivo: /Workspace/Users/danielly.xavier@iclinic.com.br/Modelo Séries Temporais Clima e Saúde WB/Modelo Séries Temporais Clima e Saúde WB - Resultados/analise_estadual/ts_exogena/summaries/ts_Depressão_SC_exaogena_summary.xlsx\nProcessando arquivo: /Workspace/Users/danielly.xavier@iclinic.com.br/Modelo Séries Temporais Clima e Saúde WB/Modelo Séries Temporais Clima e Saúde WB - Resultados/analise_estadual/ts_exogena/summaries/ts_Doença renal crônica_SC_exaogena_summary.xlsx\nProcessando arquivo: /Workspace/Users/danielly.xavier@iclinic.com.br/Modelo Séries Temporais Clima e Saúde WB/Modelo Séries Temporais Clima e Saúde WB - Resultados/analise_estadual/ts_exogena/summaries/ts_Infarto agudo do miocárdio_PI_exaogena_summary.xlsx\nProcessando arquivo: /Workspace/Users/danielly.xavier@iclinic.com.br/Modelo Séries Temporais Clima e Saúde WB/Modelo Séries Temporais Clima e Saúde WB - Resultados/analise_estadual/ts_exogena/summaries/ts_Infarto agudo do miocárdio_RR_exaogena_summary.xlsx\nProcessando arquivo: /Workspace/Users/danielly.xavier@iclinic.com.br/Modelo Séries Temporais Clima e Saúde WB/Modelo Séries Temporais Clima e Saúde WB - Resultados/analise_estadual/ts_exogena/summaries/ts_Infarto agudo do miocárdio_SE_exaogena_summary.xlsx\nProcessando arquivo: /Workspace/Users/danielly.xavier@iclinic.com.br/Modelo Séries Temporais Clima e Saúde WB/Modelo Séries Temporais Clima e Saúde WB - Resultados/analise_estadual/ts_exogena/summaries/ts_Insuficiência cardíaca _TO_exaogena_summary.xlsx\nProcessando arquivo: /Workspace/Users/danielly.xavier@iclinic.com.br/Modelo Séries Temporais Clima e Saúde WB/Modelo Séries Temporais Clima e Saúde WB - Resultados/analise_estadual/ts_exogena/summaries/ts_Pneumonia viral_GO_exaogena_summary.xlsx\nProcessando arquivo: /Workspace/Users/danielly.xavier@iclinic.com.br/Modelo Séries Temporais Clima e Saúde WB/Modelo Séries Temporais Clima e Saúde WB - Resultados/analise_estadual/ts_exogena/summaries/ts_Asma_AP_exaogena_summary.xlsx\nProcessando arquivo: /Workspace/Users/danielly.xavier@iclinic.com.br/Modelo Séries Temporais Clima e Saúde WB/Modelo Séries Temporais Clima e Saúde WB - Resultados/analise_estadual/ts_exogena/summaries/ts_Infecção de trato urinário_CE_exaogena_summary.xlsx\nProcessando arquivo: /Workspace/Users/danielly.xavier@iclinic.com.br/Modelo Séries Temporais Clima e Saúde WB/Modelo Séries Temporais Clima e Saúde WB - Resultados/analise_estadual/ts_exogena/summaries/ts_Pneumonia bacteriana_PR_exaogena_summary.xlsx\nProcessando arquivo: /Workspace/Users/danielly.xavier@iclinic.com.br/Modelo Séries Temporais Clima e Saúde WB/Modelo Séries Temporais Clima e Saúde WB - Resultados/analise_estadual/ts_exogena/summaries/ts_Tuberculose_AP_exaogena_summary.xlsx\nProcessando arquivo: /Workspace/Users/danielly.xavier@iclinic.com.br/Modelo Séries Temporais Clima e Saúde WB/Modelo Séries Temporais Clima e Saúde WB - Resultados/analise_estadual/ts_exogena/summaries/00C_ts_Dengue_RS_exaogena_summary.xlsx\nProcessando arquivo: /Workspace/Users/danielly.xavier@iclinic.com.br/Modelo Séries Temporais Clima e Saúde WB/Modelo Séries Temporais Clima e Saúde WB - Resultados/analise_estadual/ts_exogena/summaries/00C_ts_Pneumonia_RO_exaogena_summary.xlsx\nProcessando arquivo: /Workspace/Users/danielly.xavier@iclinic.com.br/Modelo Séries Temporais Clima e Saúde WB/Modelo Séries Temporais Clima e Saúde WB - Resultados/analise_estadual/ts_exogena/summaries/00C_ts_Pneumonia_SC_exaogena_summary.xlsx\nProcessando arquivo: /Workspace/Users/danielly.xavier@iclinic.com.br/Modelo Séries Temporais Clima e Saúde WB/Modelo Séries Temporais Clima e Saúde WB - Resultados/analise_estadual/ts_exogena/summaries/00C_ts_Pneumonia_AP_exaogena_summary.xlsx\nProcessando arquivo: /Workspace/Users/danielly.xavier@iclinic.com.br/Modelo Séries Temporais Clima e Saúde WB/Modelo Séries Temporais Clima e Saúde WB - Resultados/analise_estadual/ts_exogena/summaries/ts_Covid-19_AP_exaogena_summary.xlsx\nProcessando arquivo: /Workspace/Users/danielly.xavier@iclinic.com.br/Modelo Séries Temporais Clima e Saúde WB/Modelo Séries Temporais Clima e Saúde WB - Resultados/analise_estadual/ts_exogena/summaries/ts_Pneumonia comunitária_AP_exaogena_summary.xlsx\nProcessando arquivo: /Workspace/Users/danielly.xavier@iclinic.com.br/Modelo Séries Temporais Clima e Saúde WB/Modelo Séries Temporais Clima e Saúde WB - Resultados/analise_estadual/ts_exogena/summaries/ts_Pneumonia comunitária_MT_exaogena_summary.xlsx\nProcessando arquivo: /Workspace/Users/danielly.xavier@iclinic.com.br/Modelo Séries Temporais Clima e Saúde WB/Modelo Séries Temporais Clima e Saúde WB - Resultados/analise_estadual/ts_exogena/summaries/ts_Pneumonia comunitária_PB_exaogena_summary.xlsx\nProcessando arquivo: /Workspace/Users/danielly.xavier@iclinic.com.br/Modelo Séries Temporais Clima e Saúde WB/Modelo Séries Temporais Clima e Saúde WB - Resultados/analise_estadual/ts_exogena/summaries/ts_Asma_BA_exaogena_summary.xlsx\nProcessando arquivo: /Workspace/Users/danielly.xavier@iclinic.com.br/Modelo Séries Temporais Clima e Saúde WB/Modelo Séries Temporais Clima e Saúde WB - Resultados/analise_estadual/ts_exogena/summaries/ts_Doença renal crônica_PR_exaogena_summary.xlsx\nProcessando arquivo: /Workspace/Users/danielly.xavier@iclinic.com.br/Modelo Séries Temporais Clima e Saúde WB/Modelo Séries Temporais Clima e Saúde WB - Resultados/analise_estadual/ts_exogena/summaries/ts_Infarto agudo do miocárdio_AM_exaogena_summary.xlsx\nProcessando arquivo: /Workspace/Users/danielly.xavier@iclinic.com.br/Modelo Séries Temporais Clima e Saúde WB/Modelo Séries Temporais Clima e Saúde WB - Resultados/analise_estadual/ts_exogena/summaries/ts_Asma_PE_exaogena_summary.xlsx\nProcessando arquivo: /Workspace/Users/danielly.xavier@iclinic.com.br/Modelo Séries Temporais Clima e Saúde WB/Modelo Séries Temporais Clima e Saúde WB - Resultados/analise_estadual/ts_exogena/summaries/ts_Asma_RO_exaogena_summary.xlsx\nProcessando arquivo: /Workspace/Users/danielly.xavier@iclinic.com.br/Modelo Séries Temporais Clima e Saúde WB/Modelo Séries Temporais Clima e Saúde WB - Resultados/analise_estadual/ts_exogena/summaries/ts_Infecção de trato urinário_AC_exaogena_summary.xlsx\nProcessando arquivo: /Workspace/Users/danielly.xavier@iclinic.com.br/Modelo Séries Temporais Clima e Saúde WB/Modelo Séries Temporais Clima e Saúde WB - Resultados/analise_estadual/ts_exogena/summaries/ts_Infecção de trato urinário_MT_exaogena_summary.xlsx\nProcessando arquivo: /Workspace/Users/danielly.xavier@iclinic.com.br/Modelo Séries Temporais Clima e Saúde WB/Modelo Séries Temporais Clima e Saúde WB - Resultados/analise_estadual/ts_exogena/summaries/ts_Infecção de trato urinário_PB_exaogena_summary.xlsx\nProcessando arquivo: /Workspace/Users/danielly.xavier@iclinic.com.br/Modelo Séries Temporais Clima e Saúde WB/Modelo Séries Temporais Clima e Saúde WB - Resultados/analise_estadual/ts_exogena/summaries/ts_Injúria Renal Aguda_MA_exaogena_summary.xlsx\nProcessando arquivo: /Workspace/Users/danielly.xavier@iclinic.com.br/Modelo Séries Temporais Clima e Saúde WB/Modelo Séries Temporais Clima e Saúde WB - Resultados/analise_estadual/ts_exogena/summaries/ts_Injúria Renal Aguda_RN_exaogena_summary.xlsx\nProcessando arquivo: /Workspace/Users/danielly.xavier@iclinic.com.br/Modelo Séries Temporais Clima e Saúde WB/Modelo Séries Temporais Clima e Saúde WB - Resultados/analise_estadual/ts_exogena/summaries/ts_Pneumonia bacteriana_TO_exaogena_summary.xlsx\nProcessando arquivo: /Workspace/Users/danielly.xavier@iclinic.com.br/Modelo Séries Temporais Clima e Saúde WB/Modelo Séries Temporais Clima e Saúde WB - Resultados/analise_estadual/ts_exogena/summaries/ts_Cetoacidose diabética_PB_exaogena_summary.xlsx\nProcessando arquivo: /Workspace/Users/danielly.xavier@iclinic.com.br/Modelo Séries Temporais Clima e Saúde WB/Modelo Séries Temporais Clima e Saúde WB - Resultados/analise_estadual/ts_exogena/summaries/ts_Infarto agudo do miocárdio_GO_exaogena_summary.xlsx\nProcessando arquivo: /Workspace/Users/danielly.xavier@iclinic.com.br/Modelo Séries Temporais Clima e Saúde WB/Modelo Séries Temporais Clima e Saúde WB - Resultados/analise_estadual/ts_exogena/summaries/ts_Infarto agudo do miocárdio_MA_exaogena_summary.xlsx\nProcessando arquivo: /Workspace/Users/danielly.xavier@iclinic.com.br/Modelo Séries Temporais Clima e Saúde WB/Modelo Séries Temporais Clima e Saúde WB - Resultados/analise_estadual/ts_exogena/summaries/ts_Infarto agudo do miocárdio_SC_exaogena_summary.xlsx\nProcessando arquivo: /Workspace/Users/danielly.xavier@iclinic.com.br/Modelo Séries Temporais Clima e Saúde WB/Modelo Séries Temporais Clima e Saúde WB - Resultados/analise_estadual/ts_exogena/summaries/ts_Insuficiência cardíaca _AC_exaogena_summary.xlsx\nProcessando arquivo: /Workspace/Users/danielly.xavier@iclinic.com.br/Modelo Séries Temporais Clima e Saúde WB/Modelo Séries Temporais Clima e Saúde WB - Resultados/analise_estadual/ts_exogena/summaries/ts_Insuficiência cardíaca _RR_exaogena_summary.xlsx\nProcessando arquivo: /Workspace/Users/danielly.xavier@iclinic.com.br/Modelo Séries Temporais Clima e Saúde WB/Modelo Séries Temporais Clima e Saúde WB - Resultados/analise_estadual/ts_exogena/summaries/ts_Pneumonia viral_MA_exaogena_summary.xlsx\nProcessando arquivo: /Workspace/Users/danielly.xavier@iclinic.com.br/Modelo Séries Temporais Clima e Saúde WB/Modelo Séries Temporais Clima e Saúde WB - Resultados/analise_estadual/ts_exogena/summaries/ts_Pneumonia viral_MG_exaogena_summary.xlsx\nProcessando arquivo: /Workspace/Users/danielly.xavier@iclinic.com.br/Modelo Séries Temporais Clima e Saúde WB/Modelo Séries Temporais Clima e Saúde WB - Resultados/analise_estadual/ts_exogena/summaries/ts_Influenza_CE_exaogena_summary.xlsx\nProcessando arquivo: /Workspace/Users/danielly.xavier@iclinic.com.br/Modelo Séries Temporais Clima e Saúde WB/Modelo Séries Temporais Clima e Saúde WB - Resultados/analise_estadual/ts_exogena/summaries/ts_Influenza_ES_exaogena_summary.xlsx\nProcessando arquivo: /Workspace/Users/danielly.xavier@iclinic.com.br/Modelo Séries Temporais Clima e Saúde WB/Modelo Séries Temporais Clima e Saúde WB - Resultados/analise_estadual/ts_exogena/summaries/ts_Injúria Renal Aguda_GO_exaogena_summary.xlsx\nProcessando arquivo: /Workspace/Users/danielly.xavier@iclinic.com.br/Modelo Séries Temporais Clima e Saúde WB/Modelo Séries Temporais Clima e Saúde WB - Resultados/analise_estadual/ts_exogena/summaries/ts_Diabetes mellitus tipo 2_AM_exaogena_summary.xlsx\nProcessando arquivo: /Workspace/Users/danielly.xavier@iclinic.com.br/Modelo Séries Temporais Clima e Saúde WB/Modelo Séries Temporais Clima e Saúde WB - Resultados/analise_estadual/ts_exogena/summaries/ts_Tuberculose_RJ_exaogena_summary.xlsx\nProcessando arquivo: /Workspace/Users/danielly.xavier@iclinic.com.br/Modelo Séries Temporais Clima e Saúde WB/Modelo Séries Temporais Clima e Saúde WB - Resultados/analise_estadual/ts_exogena/summaries/ts_Malária_SC_exaogena_summary.xlsx\nProcessando arquivo: /Workspace/Users/danielly.xavier@iclinic.com.br/Modelo Séries Temporais Clima e Saúde WB/Modelo Séries Temporais Clima e Saúde WB - Resultados/analise_estadual/ts_exogena/summaries/ts_Febre de Chikungunya_PR_exaogena_summary.xlsx\nProcessando arquivo: /Workspace/Users/danielly.xavier@iclinic.com.br/Modelo Séries Temporais Clima e Saúde WB/Modelo Séries Temporais Clima e Saúde WB - Resultados/analise_estadual/ts_exogena/summaries/ts_Pneumonia por outros organismos_AL_exaogena_summary.xlsx\nProcessando arquivo: /Workspace/Users/danielly.xavier@iclinic.com.br/Modelo Séries Temporais Clima e Saúde WB/Modelo Séries Temporais Clima e Saúde WB - Resultados/analise_estadual/ts_exogena/summaries/ts_Pneumonia por outros organismos_MG_exaogena_summary.xlsx\nProcessando arquivo: /Workspace/Users/danielly.xavier@iclinic.com.br/Modelo Séries Temporais Clima e Saúde WB/Modelo Séries Temporais Clima e Saúde WB - Resultados/analise_estadual/ts_exogena/summaries/ts_Doença pulmonar obstrutiva crônica_AC_exaogena_summary.xlsx\nProcessando arquivo: /Workspace/Users/danielly.xavier@iclinic.com.br/Modelo Séries Temporais Clima e Saúde WB/Modelo Séries Temporais Clima e Saúde WB - Resultados/analise_estadual/ts_exogena/summaries/ts_Tuberculose_MA_exaogena_summary.xlsx\nProcessando arquivo: /Workspace/Users/danielly.xavier@iclinic.com.br/Modelo Séries Temporais Clima e Saúde WB/Modelo Séries Temporais Clima e Saúde WB - Resultados/analise_estadual/ts_exogena/summaries/ts_Febre de Chikungunya_RJ_exaogena_summary.xlsx\nProcessando arquivo: /Workspace/Users/danielly.xavier@iclinic.com.br/Modelo Séries Temporais Clima e Saúde WB/Modelo Séries Temporais Clima e Saúde WB - Resultados/analise_estadual/ts_exogena/summaries/ts_Pneumonia por outros organismos_RJ_exaogena_summary.xlsx\nProcessando arquivo: /Workspace/Users/danielly.xavier@iclinic.com.br/Modelo Séries Temporais Clima e Saúde WB/Modelo Séries Temporais Clima e Saúde WB - Resultados/analise_estadual/ts_exogena/summaries/00C_ts_Pneumonia_AL_exaogena_summary.xlsx\nProcessando arquivo: /Workspace/Users/danielly.xavier@iclinic.com.br/Modelo Séries Temporais Clima e Saúde WB/Modelo Séries Temporais Clima e Saúde WB - Resultados/analise_estadual/ts_exogena/summaries/ts_Pneumonia comunitária_BA_exaogena_summary.xlsx\nProcessando arquivo: /Workspace/Users/danielly.xavier@iclinic.com.br/Modelo Séries Temporais Clima e Saúde WB/Modelo Séries Temporais Clima e Saúde WB - Resultados/analise_estadual/ts_exogena/summaries/ts_Cetoacidose diabética_DF_exaogena_summary.xlsx\nProcessando arquivo: /Workspace/Users/danielly.xavier@iclinic.com.br/Modelo Séries Temporais Clima e Saúde WB/Modelo Séries Temporais Clima e Saúde WB - Resultados/analise_estadual/ts_exogena/summaries/ts_Cetoacidose diabética_PI_exaogena_summary.xlsx\nProcessando arquivo: /Workspace/Users/danielly.xavier@iclinic.com.br/Modelo Séries Temporais Clima e Saúde WB/Modelo Séries Temporais Clima e Saúde WB - Resultados/analise_estadual/ts_exogena/summaries/ts_Depressão_DF_exaogena_summary.xlsx\nProcessando arquivo: /Workspace/Users/danielly.xavier@iclinic.com.br/Modelo Séries Temporais Clima e Saúde WB/Modelo Séries Temporais Clima e Saúde WB - Resultados/analise_estadual/ts_exogena/summaries/ts_Infecção de trato urinário_ES_exaogena_summary.xlsx\nProcessando arquivo: /Workspace/Users/danielly.xavier@iclinic.com.br/Modelo Séries Temporais Clima e Saúde WB/Modelo Séries Temporais Clima e Saúde WB - Resultados/analise_estadual/ts_exogena/summaries/ts_Covid-19_MA_exaogena_summary.xlsx\nProcessando arquivo: /Workspace/Users/danielly.xavier@iclinic.com.br/Modelo Séries Temporais Clima e Saúde WB/Modelo Séries Temporais Clima e Saúde WB - Resultados/analise_estadual/ts_exogena/summaries/ts_Covid-19_PA_exaogena_summary.xlsx\nProcessando arquivo: /Workspace/Users/danielly.xavier@iclinic.com.br/Modelo Séries Temporais Clima e Saúde WB/Modelo Séries Temporais Clima e Saúde WB - Resultados/analise_estadual/ts_exogena/summaries/ts_Pneumonia comunitária_RR_exaogena_summary.xlsx\nProcessando arquivo: /Workspace/Users/danielly.xavier@iclinic.com.br/Modelo Séries Temporais Clima e Saúde WB/Modelo Séries Temporais Clima e Saúde WB - Resultados/analise_estadual/ts_exogena/summaries/ts_Pneumonia comunitária_SC_exaogena_summary.xlsx\nProcessando arquivo: /Workspace/Users/danielly.xavier@iclinic.com.br/Modelo Séries Temporais Clima e Saúde WB/Modelo Séries Temporais Clima e Saúde WB - Resultados/analise_estadual/ts_exogena/summaries/ts_Cetoacidose diabética_CE_exaogena_summary.xlsx\nProcessando arquivo: /Workspace/Users/danielly.xavier@iclinic.com.br/Modelo Séries Temporais Clima e Saúde WB/Modelo Séries Temporais Clima e Saúde WB - Resultados/analise_estadual/ts_exogena/summaries/ts_Pneumonia viral_ES_exaogena_summary.xlsx\nProcessando arquivo: /Workspace/Users/danielly.xavier@iclinic.com.br/Modelo Séries Temporais Clima e Saúde WB/Modelo Séries Temporais Clima e Saúde WB - Resultados/analise_estadual/ts_exogena/summaries/ts_Pneumonia viral_SC_exaogena_summary.xlsx\nProcessando arquivo: /Workspace/Users/danielly.xavier@iclinic.com.br/Modelo Séries Temporais Clima e Saúde WB/Modelo Séries Temporais Clima e Saúde WB - Resultados/analise_estadual/ts_exogena/summaries/ts_Asma_RS_exaogena_summary.xlsx\nProcessando arquivo: /Workspace/Users/danielly.xavier@iclinic.com.br/Modelo Séries Temporais Clima e Saúde WB/Modelo Séries Temporais Clima e Saúde WB - Resultados/analise_estadual/ts_exogena/summaries/ts_Influenza_BA_exaogena_summary.xlsx\nProcessando arquivo: /Workspace/Users/danielly.xavier@iclinic.com.br/Modelo Séries Temporais Clima e Saúde WB/Modelo Séries Temporais Clima e Saúde WB - Resultados/analise_estadual/ts_exogena/summaries/ts_Injúria Renal Aguda_DF_exaogena_summary.xlsx\nProcessando arquivo: /Workspace/Users/danielly.xavier@iclinic.com.br/Modelo Séries Temporais Clima e Saúde WB/Modelo Séries Temporais Clima e Saúde WB - Resultados/analise_estadual/ts_exogena/summaries/ts_Pneumonia bacteriana_RN_exaogena_summary.xlsx\nProcessando arquivo: /Workspace/Users/danielly.xavier@iclinic.com.br/Modelo Séries Temporais Clima e Saúde WB/Modelo Séries Temporais Clima e Saúde WB - Resultados/analise_estadual/ts_exogena/summaries/ts_Doença pulmonar obstrutiva crônica_AL_exaogena_summary.xlsx\nProcessando arquivo: /Workspace/Users/danielly.xavier@iclinic.com.br/Modelo Séries Temporais Clima e Saúde WB/Modelo Séries Temporais Clima e Saúde WB - Resultados/analise_estadual/ts_exogena/summaries/ts_Tuberculose_RR_exaogena_summary.xlsx\nProcessando arquivo: /Workspace/Users/danielly.xavier@iclinic.com.br/Modelo Séries Temporais Clima e Saúde WB/Modelo Séries Temporais Clima e Saúde WB - Resultados/analise_estadual/ts_exogena/summaries/ts_Depressão_MA_exaogena_summary.xlsx\nProcessando arquivo: /Workspace/Users/danielly.xavier@iclinic.com.br/Modelo Séries Temporais Clima e Saúde WB/Modelo Séries Temporais Clima e Saúde WB - Resultados/analise_estadual/ts_exogena/summaries/ts_Doença renal crônica_AP_exaogena_summary.xlsx\nProcessando arquivo: /Workspace/Users/danielly.xavier@iclinic.com.br/Modelo Séries Temporais Clima e Saúde WB/Modelo Séries Temporais Clima e Saúde WB - Resultados/analise_estadual/ts_exogena/summaries/ts_Infarto agudo do miocárdio_PB_exaogena_summary.xlsx\nProcessando arquivo: /Workspace/Users/danielly.xavier@iclinic.com.br/Modelo Séries Temporais Clima e Saúde WB/Modelo Séries Temporais Clima e Saúde WB - Resultados/analise_estadual/ts_exogena/summaries/ts_Insuficiência cardíaca _PE_exaogena_summary.xlsx\nProcessando arquivo: /Workspace/Users/danielly.xavier@iclinic.com.br/Modelo Séries Temporais Clima e Saúde WB/Modelo Séries Temporais Clima e Saúde WB - Resultados/analise_estadual/ts_exogena/summaries/ts_Asma_MS_exaogena_summary.xlsx\nProcessando arquivo: /Workspace/Users/danielly.xavier@iclinic.com.br/Modelo Séries Temporais Clima e Saúde WB/Modelo Séries Temporais Clima e Saúde WB - Resultados/analise_estadual/ts_exogena/summaries/ts_Influenza_AM_exaogena_summary.xlsx\nProcessando arquivo: /Workspace/Users/danielly.xavier@iclinic.com.br/Modelo Séries Temporais Clima e Saúde WB/Modelo Séries Temporais Clima e Saúde WB - Resultados/analise_estadual/ts_exogena/summaries/ts_Influenza_TO_exaogena_summary.xlsx\nProcessando arquivo: /Workspace/Users/danielly.xavier@iclinic.com.br/Modelo Séries Temporais Clima e Saúde WB/Modelo Séries Temporais Clima e Saúde WB - Resultados/analise_estadual/ts_exogena/summaries/ts_Injúria Renal Aguda_PI_exaogena_summary.xlsx\nProcessando arquivo: /Workspace/Users/danielly.xavier@iclinic.com.br/Modelo Séries Temporais Clima e Saúde WB/Modelo Séries Temporais Clima e Saúde WB - Resultados/analise_estadual/ts_exogena/summaries/ts_Injúria Renal Aguda_RJ_exaogena_summary.xlsx\nProcessando arquivo: /Workspace/Users/danielly.xavier@iclinic.com.br/Modelo Séries Temporais Clima e Saúde WB/Modelo Séries Temporais Clima e Saúde WB - Resultados/analise_estadual/ts_exogena/summaries/ts_Pneumonia bacteriana_GO_exaogena_summary.xlsx\nProcessando arquivo: /Workspace/Users/danielly.xavier@iclinic.com.br/Modelo Séries Temporais Clima e Saúde WB/Modelo Séries Temporais Clima e Saúde WB - Resultados/analise_estadual/ts_exogena/summaries/ts_Pneumonia bacteriana_MA_exaogena_summary.xlsx\nProcessando arquivo: /Workspace/Users/danielly.xavier@iclinic.com.br/Modelo Séries Temporais Clima e Saúde WB/Modelo Séries Temporais Clima e Saúde WB - Resultados/analise_estadual/ts_exogena/summaries/ts_Pneumonia bacteriana_PB_exaogena_summary.xlsx\nProcessando arquivo: /Workspace/Users/danielly.xavier@iclinic.com.br/Modelo Séries Temporais Clima e Saúde WB/Modelo Séries Temporais Clima e Saúde WB - Resultados/analise_estadual/ts_exogena/summaries/ts_Diabetes mellitus tipo 2_AC_exaogena_summary.xlsx\nProcessando arquivo: /Workspace/Users/danielly.xavier@iclinic.com.br/Modelo Séries Temporais Clima e Saúde WB/Modelo Séries Temporais Clima e Saúde WB - Resultados/analise_estadual/ts_exogena/summaries/ts_Diabetes mellitus tipo 2_PB_exaogena_summary.xlsx\nProcessando arquivo: /Workspace/Users/danielly.xavier@iclinic.com.br/Modelo Séries Temporais Clima e Saúde WB/Modelo Séries Temporais Clima e Saúde WB - Resultados/analise_estadual/ts_exogena/summaries/ts_Tuberculose_AM_exaogena_summary.xlsx\nProcessando arquivo: /Workspace/Users/danielly.xavier@iclinic.com.br/Modelo Séries Temporais Clima e Saúde WB/Modelo Séries Temporais Clima e Saúde WB - Resultados/analise_estadual/ts_exogena/summaries/ts_Tuberculose_MS_exaogena_summary.xlsx\nProcessando arquivo: /Workspace/Users/danielly.xavier@iclinic.com.br/Modelo Séries Temporais Clima e Saúde WB/Modelo Séries Temporais Clima e Saúde WB - Resultados/analise_estadual/ts_exogena/summaries/ts_Tuberculose_MT_exaogena_summary.xlsx\nProcessando arquivo: /Workspace/Users/danielly.xavier@iclinic.com.br/Modelo Séries Temporais Clima e Saúde WB/Modelo Séries Temporais Clima e Saúde WB - Resultados/analise_estadual/ts_exogena/summaries/ts_Transtorno de ansiedade generalizada_MS_exaogena_summary.xlsx\nProcessando arquivo: /Workspace/Users/danielly.xavier@iclinic.com.br/Modelo Séries Temporais Clima e Saúde WB/Modelo Séries Temporais Clima e Saúde WB - Resultados/analise_estadual/ts_exogena/summaries/ts_Transtorno de ansiedade generalizada_PE_exaogena_summary.xlsx\nProcessando arquivo: /Workspace/Users/danielly.xavier@iclinic.com.br/Modelo Séries Temporais Clima e Saúde WB/Modelo Séries Temporais Clima e Saúde WB - Resultados/analise_estadual/ts_exogena/summaries/ts_Malária_RS_exaogena_summary.xlsx\nProcessando arquivo: /Workspace/Users/danielly.xavier@iclinic.com.br/Modelo Séries Temporais Clima e Saúde WB/Modelo Séries Temporais Clima e Saúde WB - Resultados/analise_estadual/ts_exogena/summaries/ts_Febre de Chikungunya_AL_exaogena_summary.xlsx\nProcessando arquivo: /Workspace/Users/danielly.xavier@iclinic.com.br/Modelo Séries Temporais Clima e Saúde WB/Modelo Séries Temporais Clima e Saúde WB - Resultados/analise_estadual/ts_exogena/summaries/ts_Febre de Chikungunya_MG_exaogena_summary.xlsx\nProcessando arquivo: /Workspace/Users/danielly.xavier@iclinic.com.br/Modelo Séries Temporais Clima e Saúde WB/Modelo Séries Temporais Clima e Saúde WB - Resultados/analise_estadual/ts_exogena/summaries/ts_Febre de Chikungunya_MT_exaogena_summary.xlsx\nProcessando arquivo: /Workspace/Users/danielly.xavier@iclinic.com.br/Modelo Séries Temporais Clima e Saúde WB/Modelo Séries Temporais Clima e Saúde WB - Resultados/analise_estadual/ts_exogena/summaries/ts_Pneumonia por outros organismos_CE_exaogena_summary.xlsx\nProcessando arquivo: /Workspace/Users/danielly.xavier@iclinic.com.br/Modelo Séries Temporais Clima e Saúde WB/Modelo Séries Temporais Clima e Saúde WB - Resultados/analise_estadual/ts_exogena/summaries/00C_ts_Dengue_AP_exaogena_summary.xlsx\nProcessando arquivo: /Workspace/Users/danielly.xavier@iclinic.com.br/Modelo Séries Temporais Clima e Saúde WB/Modelo Séries Temporais Clima e Saúde WB - Resultados/analise_estadual/ts_exogena/summaries/00C_ts_Dengue_CE_exaogena_summary.xlsx\n\nResultados consolidados salvos em:\n/Workspace/Users/dayanna.quintanilha@afya.com.br/resultados_exogena2.csv\n"
     ]
    }
   ],
   "source": [
    "%python\n",
    "%pip install openpyxl\n",
    "\n",
    "import os\n",
    "import pandas as pd\n",
    "import glob\n",
    "\n",
    "try:\n",
    "    import openpyxl\n",
    "except ImportError:\n",
    "    print(\"O módulo 'openpyxl' não está instalado. Use 'pip install openpyxl' para instalá-lo.\")\n",
    "    raise\n",
    "\n",
    "# Caminho da pasta com arquivos exógenos\n",
    "path_exogena = '/Workspace/Users/danielly.xavier@iclinic.com.br/Modelo Séries Temporais Clima e Saúde WB/Modelo Séries Temporais Clima e Saúde WB - Resultados/analise_estadual/ts_exogena/summaries/*.xlsx'\n",
    "\n",
    "# Dicionário para armazenar resultados temporários\n",
    "results_dict = {}\n",
    "\n",
    "# Função para extrair dados exógenos\n",
    "def extract_exogena_data(file_path):\n",
    "    try:\n",
    "        print(f\"Processando arquivo: {file_path}\")\n",
    "        df = pd.read_excel(file_path, header=None)\n",
    "\n",
    "        # Extrair valores baseando-se na posição conhecida\n",
    "        log_likelihood = pd.to_numeric(df.iloc[3, 9], errors='coerce')\n",
    "        aic = pd.to_numeric(df.iloc[4, 6], errors='coerce')\n",
    "        bic = pd.to_numeric(df.iloc[5, 3], errors='coerce')\n",
    "        hqic = pd.to_numeric(df.iloc[6, 3], errors='coerce')\n",
    "        ljung_box = pd.to_numeric(df.iloc[19, 3], errors='coerce')\n",
    "        jarque_bera = pd.to_numeric(df.iloc[19, 6], errors='coerce')\n",
    "        kurtosis = pd.to_numeric(df.iloc[21, 4], errors='coerce')\n",
    "        estatistica = pd.to_numeric(df.iloc[12, 3], errors='coerce')\n",
    "        pvalue = pd.to_numeric(df.iloc[12, 4], errors='coerce')\n",
    "        significancia = 1 if pvalue is not None and pvalue <= 0.05 else 0\n",
    "\n",
    "        # Identificar UF e Agravo a partir do nome do arquivo\n",
    "        filename = os.path.basename(file_path)\n",
    "        parts = filename.replace(\".xlsx\", \"\").split('_')\n",
    "        uf = parts[-2]\n",
    "        agravo = \" \".join(parts[1:-2])\n",
    "\n",
    "        descricao = f\"Resultados para {agravo} no estado {uf}\"\n",
    "\n",
    "        # Armazenar os dados\n",
    "        data = {\n",
    "            'UF': uf,\n",
    "            'AGRAVO': agravo,\n",
    "            'LOG_EXOGENA': log_likelihood,\n",
    "            'AIC_EXOGENA': aic,\n",
    "            'BIC_EXOGENA': bic,\n",
    "            'HQIC_EXOGENA': hqic,\n",
    "            'LJUNGBOX_EXOGENA': ljung_box,\n",
    "            'JAQUE_BERA_EXOGENA': jarque_bera,\n",
    "            'KURTOSIS_EXOGENA': kurtosis,\n",
    "            'VARIAVEL_EXOGENA_SIGNIFICATIVA': significancia,\n",
    "            'VARIAVEL_EXOGENA_ESTATISTICA': estatistica,\n",
    "            'VARIAVEL_EXOGENA_PVALUE': pvalue,\n",
    "            'DESCRICAO': descricao\n",
    "        }\n",
    "\n",
    "        # Atualizar o dicionário de resultados\n",
    "        key = (uf, agravo)\n",
    "        if key not in results_dict:\n",
    "            results_dict[key] = {}\n",
    "        results_dict[key].update(data)\n",
    "\n",
    "    except Exception as e:\n",
    "        print(f\"Erro ao processar {file_path}: {e}\")\n",
    "\n",
    "# Processar os arquivos da pasta exógena\n",
    "print(\"\\n--- Processando arquivos EXÓGENOS ---\\n\")\n",
    "arquivos_exogena = glob.glob(path_exogena)\n",
    "for file_path in arquivos_exogena:\n",
    "    extract_exogena_data(file_path)\n",
    "\n",
    "# Consolidar resultados\n",
    "df_resultados_exogena = pd.DataFrame(results_dict.values())\n",
    "\n",
    "# Verificar e preencher colunas ausentes\n",
    "colunas_necessarias = [\n",
    "    'UF', 'AGRAVO', 'LOG_EXOGENA', 'AIC_EXOGENA', 'BIC_EXOGENA', \n",
    "    'HQIC_EXOGENA', 'LJUNGBOX_EXOGENA', 'JAQUE_BERA_EXOGENA', \n",
    "    'KURTOSIS_EXOGENA', 'VARIAVEL_EXOGENA_SIGNIFICATIVA', \n",
    "    'VARIAVEL_EXOGENA_ESTATISTICA', 'VARIAVEL_EXOGENA_PVALUE', \n",
    "    'DESCRICAO'\n",
    "]\n",
    "\n",
    "for coluna in colunas_necessarias:\n",
    "    if coluna not in df_resultados_exogena.columns:\n",
    "        df_resultados_exogena[coluna] = pd.NA\n",
    "\n",
    "# Salvar resultados em CSV\n",
    "output_path = '/Workspace/Users/dayanna.quintanilha@afya.com.br/resultados_exogena2.csv'\n",
    "df_resultados_exogena.to_csv(output_path, index=False)\n",
    "\n",
    "# Exibir resumo\n",
    "print(\"\\nResultados consolidados salvos em:\")\n",
    "print(output_path)\n"
   ]
  },
  {
   "cell_type": "code",
   "execution_count": 0,
   "metadata": {
    "application/vnd.databricks.v1+cell": {
     "cellMetadata": {
      "byteLimit": 2048000,
      "rowLimit": 10000
     },
     "inputWidgets": {},
     "nuid": "5e4a5cfa-8dbf-43dc-b582-ae28fa3e7d06",
     "showTitle": false,
     "tableResultSettingsMap": {},
     "title": ""
    }
   },
   "outputs": [
    {
     "output_type": "stream",
     "name": "stdout",
     "output_type": "stream",
     "text": [
      "Requirement already satisfied: openpyxl in /local_disk0/.ephemeral_nfs/envs/pythonEnv-61f421d3-a20e-4d43-887a-3236a2dc9dfa/lib/python3.10/site-packages (3.1.5)\nRequirement already satisfied: et-xmlfile in /local_disk0/.ephemeral_nfs/envs/pythonEnv-61f421d3-a20e-4d43-887a-3236a2dc9dfa/lib/python3.10/site-packages (from openpyxl) (2.0.0)\n\u001B[43mNote: you may need to restart the kernel using %restart_python or dbutils.library.restartPython() to use updated packages.\u001B[0m\n\n--- Processando arquivos EXÓGENOS ---\n\nProcessando arquivo: /Workspace/Users/danielly.xavier@iclinic.com.br/Modelo Séries Temporais Clima e Saúde WB/Modelo Séries Temporais Clima e Saúde WB - Resultados/analise_estadual/ts_exogena/summaries/ts_Covid-19_CE_exaogena_summary.xlsx\nProcessando arquivo: /Workspace/Users/danielly.xavier@iclinic.com.br/Modelo Séries Temporais Clima e Saúde WB/Modelo Séries Temporais Clima e Saúde WB - Resultados/analise_estadual/ts_exogena/summaries/ts_Covid-19_TO_exaogena_summary.xlsx\nProcessando arquivo: /Workspace/Users/danielly.xavier@iclinic.com.br/Modelo Séries Temporais Clima e Saúde WB/Modelo Séries Temporais Clima e Saúde WB - Resultados/analise_estadual/ts_exogena/summaries/ts_Cetoacidose diabética_PR_exaogena_summary.xlsx\nProcessando arquivo: /Workspace/Users/danielly.xavier@iclinic.com.br/Modelo Séries Temporais Clima e Saúde WB/Modelo Séries Temporais Clima e Saúde WB - Resultados/analise_estadual/ts_exogena/summaries/ts_Pneumonia viral_RN_exaogena_summary.xlsx\nProcessando arquivo: /Workspace/Users/danielly.xavier@iclinic.com.br/Modelo Séries Temporais Clima e Saúde WB/Modelo Séries Temporais Clima e Saúde WB - Resultados/analise_estadual/ts_exogena/summaries/ts_Doença renal crônica_MT_exaogena_summary.xlsx\nProcessando arquivo: /Workspace/Users/danielly.xavier@iclinic.com.br/Modelo Séries Temporais Clima e Saúde WB/Modelo Séries Temporais Clima e Saúde WB - Resultados/analise_estadual/ts_exogena/summaries/ts_Infecção de trato urinário_RR_exaogena_summary.xlsx\nProcessando arquivo: /Workspace/Users/danielly.xavier@iclinic.com.br/Modelo Séries Temporais Clima e Saúde WB/Modelo Séries Temporais Clima e Saúde WB - Resultados/analise_estadual/ts_exogena/summaries/ts_Influenza_PE_exaogena_summary.xlsx\nProcessando arquivo: /Workspace/Users/danielly.xavier@iclinic.com.br/Modelo Séries Temporais Clima e Saúde WB/Modelo Séries Temporais Clima e Saúde WB - Resultados/analise_estadual/ts_exogena/summaries/ts_Influenza_RN_exaogena_summary.xlsx\nProcessando arquivo: /Workspace/Users/danielly.xavier@iclinic.com.br/Modelo Séries Temporais Clima e Saúde WB/Modelo Séries Temporais Clima e Saúde WB - Resultados/analise_estadual/ts_exogena/summaries/ts_Pneumonia bacteriana_PE_exaogena_summary.xlsx\nProcessando arquivo: /Workspace/Users/danielly.xavier@iclinic.com.br/Modelo Séries Temporais Clima e Saúde WB/Modelo Séries Temporais Clima e Saúde WB - Resultados/analise_estadual/ts_exogena/summaries/ts_Diabetes mellitus tipo 2_BA_exaogena_summary.xlsx\nProcessando arquivo: /Workspace/Users/danielly.xavier@iclinic.com.br/Modelo Séries Temporais Clima e Saúde WB/Modelo Séries Temporais Clima e Saúde WB - Resultados/analise_estadual/ts_exogena/summaries/ts_Tuberculose_ES_exaogena_summary.xlsx\nProcessando arquivo: /Workspace/Users/danielly.xavier@iclinic.com.br/Modelo Séries Temporais Clima e Saúde WB/Modelo Séries Temporais Clima e Saúde WB - Resultados/analise_estadual/ts_exogena/summaries/ts_Transtorno de ansiedade generalizada_SC_exaogena_summary.xlsx\nProcessando arquivo: /Workspace/Users/danielly.xavier@iclinic.com.br/Modelo Séries Temporais Clima e Saúde WB/Modelo Séries Temporais Clima e Saúde WB - Resultados/analise_estadual/ts_exogena/summaries/ts_Cetoacidose diabética_SP_exaogena_summary.xlsx\nProcessando arquivo: /Workspace/Users/danielly.xavier@iclinic.com.br/Modelo Séries Temporais Clima e Saúde WB/Modelo Séries Temporais Clima e Saúde WB - Resultados/analise_estadual/ts_exogena/summaries/ts_Doença renal crônica_RR_exaogena_summary.xlsx\nProcessando arquivo: /Workspace/Users/danielly.xavier@iclinic.com.br/Modelo Séries Temporais Clima e Saúde WB/Modelo Séries Temporais Clima e Saúde WB - Resultados/analise_estadual/ts_exogena/summaries/ts_Infarto agudo do miocárdio_TO_exaogena_summary.xlsx\nProcessando arquivo: /Workspace/Users/danielly.xavier@iclinic.com.br/Modelo Séries Temporais Clima e Saúde WB/Modelo Séries Temporais Clima e Saúde WB - Resultados/analise_estadual/ts_exogena/summaries/ts_Insuficiência cardíaca _MS_exaogena_summary.xlsx\nProcessando arquivo: /Workspace/Users/danielly.xavier@iclinic.com.br/Modelo Séries Temporais Clima e Saúde WB/Modelo Séries Temporais Clima e Saúde WB - Resultados/analise_estadual/ts_exogena/summaries/ts_Injúria Renal Aguda_AM_exaogena_summary.xlsx\nProcessando arquivo: /Workspace/Users/danielly.xavier@iclinic.com.br/Modelo Séries Temporais Clima e Saúde WB/Modelo Séries Temporais Clima e Saúde WB - Resultados/analise_estadual/ts_exogena/summaries/ts_Injúria Renal Aguda_CE_exaogena_summary.xlsx\nProcessando arquivo: /Workspace/Users/danielly.xavier@iclinic.com.br/Modelo Séries Temporais Clima e Saúde WB/Modelo Séries Temporais Clima e Saúde WB - Resultados/analise_estadual/ts_exogena/summaries/ts_Injúria Renal Aguda_SP_exaogena_summary.xlsx\nProcessando arquivo: /Workspace/Users/danielly.xavier@iclinic.com.br/Modelo Séries Temporais Clima e Saúde WB/Modelo Séries Temporais Clima e Saúde WB - Resultados/analise_estadual/ts_exogena/summaries/ts_Pneumonia bacteriana_AM_exaogena_summary.xlsx\nProcessando arquivo: /Workspace/Users/danielly.xavier@iclinic.com.br/Modelo Séries Temporais Clima e Saúde WB/Modelo Séries Temporais Clima e Saúde WB - Resultados/analise_estadual/ts_exogena/summaries/ts_Pneumonia bacteriana_RR_exaogena_summary.xlsx\nProcessando arquivo: /Workspace/Users/danielly.xavier@iclinic.com.br/Modelo Séries Temporais Clima e Saúde WB/Modelo Séries Temporais Clima e Saúde WB - Resultados/analise_estadual/ts_exogena/summaries/ts_Diabetes mellitus tipo 2_MS_exaogena_summary.xlsx\nProcessando arquivo: /Workspace/Users/danielly.xavier@iclinic.com.br/Modelo Séries Temporais Clima e Saúde WB/Modelo Séries Temporais Clima e Saúde WB - Resultados/analise_estadual/ts_exogena/summaries/ts_Doença pulmonar obstrutiva crônica_PB_exaogena_summary.xlsx\nProcessando arquivo: /Workspace/Users/danielly.xavier@iclinic.com.br/Modelo Séries Temporais Clima e Saúde WB/Modelo Séries Temporais Clima e Saúde WB - Resultados/analise_estadual/ts_exogena/summaries/ts_Tuberculose_PB_exaogena_summary.xlsx\nProcessando arquivo: /Workspace/Users/danielly.xavier@iclinic.com.br/Modelo Séries Temporais Clima e Saúde WB/Modelo Séries Temporais Clima e Saúde WB - Resultados/analise_estadual/ts_exogena/summaries/ts_Transtorno de ansiedade generalizada_ES_exaogena_summary.xlsx\nProcessando arquivo: /Workspace/Users/danielly.xavier@iclinic.com.br/Modelo Séries Temporais Clima e Saúde WB/Modelo Séries Temporais Clima e Saúde WB - Resultados/analise_estadual/ts_exogena/summaries/ts_Transtorno de ansiedade generalizada_SE_exaogena_summary.xlsx\nProcessando arquivo: /Workspace/Users/danielly.xavier@iclinic.com.br/Modelo Séries Temporais Clima e Saúde WB/Modelo Séries Temporais Clima e Saúde WB - Resultados/analise_estadual/ts_exogena/summaries/ts_Transtorno de ansiedade generalizada_SP_exaogena_summary.xlsx\nProcessando arquivo: /Workspace/Users/danielly.xavier@iclinic.com.br/Modelo Séries Temporais Clima e Saúde WB/Modelo Séries Temporais Clima e Saúde WB - Resultados/analise_estadual/ts_exogena/summaries/ts_Malária_MG_exaogena_summary.xlsx\nProcessando arquivo: /Workspace/Users/danielly.xavier@iclinic.com.br/Modelo Séries Temporais Clima e Saúde WB/Modelo Séries Temporais Clima e Saúde WB - Resultados/analise_estadual/ts_exogena/summaries/ts_Malária_PE_exaogena_summary.xlsx\nProcessando arquivo: /Workspace/Users/danielly.xavier@iclinic.com.br/Modelo Séries Temporais Clima e Saúde WB/Modelo Séries Temporais Clima e Saúde WB - Resultados/analise_estadual/ts_exogena/summaries/ts_Febre de Chikungunya_GO_exaogena_summary.xlsx\nProcessando arquivo: /Workspace/Users/danielly.xavier@iclinic.com.br/Modelo Séries Temporais Clima e Saúde WB/Modelo Séries Temporais Clima e Saúde WB - Resultados/analise_estadual/ts_exogena/summaries/ts_Pneumonia comunitária_PE_exaogena_summary.xlsx\nProcessando arquivo: /Workspace/Users/danielly.xavier@iclinic.com.br/Modelo Séries Temporais Clima e Saúde WB/Modelo Séries Temporais Clima e Saúde WB - Resultados/analise_estadual/ts_exogena/summaries/ts_Pneumonia viral_PB_exaogena_summary.xlsx\nProcessando arquivo: /Workspace/Users/danielly.xavier@iclinic.com.br/Modelo Séries Temporais Clima e Saúde WB/Modelo Séries Temporais Clima e Saúde WB - Resultados/analise_estadual/ts_exogena/summaries/ts_Pneumonia viral_RR_exaogena_summary.xlsx\nProcessando arquivo: /Workspace/Users/danielly.xavier@iclinic.com.br/Modelo Séries Temporais Clima e Saúde WB/Modelo Séries Temporais Clima e Saúde WB - Resultados/analise_estadual/ts_exogena/summaries/ts_Asma_MT_exaogena_summary.xlsx\nProcessando arquivo: /Workspace/Users/danielly.xavier@iclinic.com.br/Modelo Séries Temporais Clima e Saúde WB/Modelo Séries Temporais Clima e Saúde WB - Resultados/analise_estadual/ts_exogena/summaries/ts_Infecção de trato urinário_MS_exaogena_summary.xlsx\nProcessando arquivo: /Workspace/Users/danielly.xavier@iclinic.com.br/Modelo Séries Temporais Clima e Saúde WB/Modelo Séries Temporais Clima e Saúde WB - Resultados/analise_estadual/ts_exogena/summaries/ts_Depressão_RO_exaogena_summary.xlsx\nProcessando arquivo: /Workspace/Users/danielly.xavier@iclinic.com.br/Modelo Séries Temporais Clima e Saúde WB/Modelo Séries Temporais Clima e Saúde WB - Resultados/analise_estadual/ts_exogena/summaries/ts_Doença renal crônica_CE_exaogena_summary.xlsx\nProcessando arquivo: /Workspace/Users/danielly.xavier@iclinic.com.br/Modelo Séries Temporais Clima e Saúde WB/Modelo Séries Temporais Clima e Saúde WB - Resultados/analise_estadual/ts_exogena/summaries/ts_Influenza_MS_exaogena_summary.xlsx\nProcessando arquivo: /Workspace/Users/danielly.xavier@iclinic.com.br/Modelo Séries Temporais Clima e Saúde WB/Modelo Séries Temporais Clima e Saúde WB - Resultados/analise_estadual/ts_exogena/summaries/ts_Injúria Renal Aguda_PR_exaogena_summary.xlsx\nProcessando arquivo: /Workspace/Users/danielly.xavier@iclinic.com.br/Modelo Séries Temporais Clima e Saúde WB/Modelo Séries Temporais Clima e Saúde WB - Resultados/analise_estadual/ts_exogena/summaries/ts_Doença pulmonar obstrutiva crônica_ES_exaogena_summary.xlsx\nProcessando arquivo: /Workspace/Users/danielly.xavier@iclinic.com.br/Modelo Séries Temporais Clima e Saúde WB/Modelo Séries Temporais Clima e Saúde WB - Resultados/analise_estadual/ts_exogena/summaries/ts_Doença pulmonar obstrutiva crônica_MT_exaogena_summary.xlsx\nProcessando arquivo: /Workspace/Users/danielly.xavier@iclinic.com.br/Modelo Séries Temporais Clima e Saúde WB/Modelo Séries Temporais Clima e Saúde WB - Resultados/analise_estadual/ts_exogena/summaries/ts_Doença pulmonar obstrutiva crônica_RS_exaogena_summary.xlsx\nProcessando arquivo: /Workspace/Users/danielly.xavier@iclinic.com.br/Modelo Séries Temporais Clima e Saúde WB/Modelo Séries Temporais Clima e Saúde WB - Resultados/analise_estadual/ts_exogena/summaries/ts_Cetoacidose diabética_RR_exaogena_summary.xlsx\nProcessando arquivo: /Workspace/Users/danielly.xavier@iclinic.com.br/Modelo Séries Temporais Clima e Saúde WB/Modelo Séries Temporais Clima e Saúde WB - Resultados/analise_estadual/ts_exogena/summaries/ts_Doença renal crônica_DF_exaogena_summary.xlsx\nProcessando arquivo: /Workspace/Users/danielly.xavier@iclinic.com.br/Modelo Séries Temporais Clima e Saúde WB/Modelo Séries Temporais Clima e Saúde WB - Resultados/analise_estadual/ts_exogena/summaries/ts_Doença renal crônica_PA_exaogena_summary.xlsx\nProcessando arquivo: /Workspace/Users/danielly.xavier@iclinic.com.br/Modelo Séries Temporais Clima e Saúde WB/Modelo Séries Temporais Clima e Saúde WB - Resultados/analise_estadual/ts_exogena/summaries/ts_Doença renal crônica_TO_exaogena_summary.xlsx\nProcessando arquivo: /Workspace/Users/danielly.xavier@iclinic.com.br/Modelo Séries Temporais Clima e Saúde WB/Modelo Séries Temporais Clima e Saúde WB - Resultados/analise_estadual/ts_exogena/summaries/ts_Infarto agudo do miocárdio_CE_exaogena_summary.xlsx\nProcessando arquivo: /Workspace/Users/danielly.xavier@iclinic.com.br/Modelo Séries Temporais Clima e Saúde WB/Modelo Séries Temporais Clima e Saúde WB - Resultados/analise_estadual/ts_exogena/summaries/ts_Infarto agudo do miocárdio_MT_exaogena_summary.xlsx\nProcessando arquivo: /Workspace/Users/danielly.xavier@iclinic.com.br/Modelo Séries Temporais Clima e Saúde WB/Modelo Séries Temporais Clima e Saúde WB - Resultados/analise_estadual/ts_exogena/summaries/ts_Infarto agudo do miocárdio_PA_exaogena_summary.xlsx\nProcessando arquivo: /Workspace/Users/danielly.xavier@iclinic.com.br/Modelo Séries Temporais Clima e Saúde WB/Modelo Séries Temporais Clima e Saúde WB - Resultados/analise_estadual/ts_exogena/summaries/ts_Asma_PA_exaogena_summary.xlsx\nProcessando arquivo: /Workspace/Users/danielly.xavier@iclinic.com.br/Modelo Séries Temporais Clima e Saúde WB/Modelo Séries Temporais Clima e Saúde WB - Resultados/analise_estadual/ts_exogena/summaries/ts_Influenza_AP_exaogena_summary.xlsx\nProcessando arquivo: /Workspace/Users/danielly.xavier@iclinic.com.br/Modelo Séries Temporais Clima e Saúde WB/Modelo Séries Temporais Clima e Saúde WB - Resultados/analise_estadual/ts_exogena/summaries/ts_Influenza_SE_exaogena_summary.xlsx\nProcessando arquivo: /Workspace/Users/danielly.xavier@iclinic.com.br/Modelo Séries Temporais Clima e Saúde WB/Modelo Séries Temporais Clima e Saúde WB - Resultados/analise_estadual/ts_exogena/summaries/ts_Injúria Renal Aguda_BA_exaogena_summary.xlsx\nProcessando arquivo: /Workspace/Users/danielly.xavier@iclinic.com.br/Modelo Séries Temporais Clima e Saúde WB/Modelo Séries Temporais Clima e Saúde WB - Resultados/analise_estadual/ts_exogena/summaries/ts_Injúria Renal Aguda_MG_exaogena_summary.xlsx\nProcessando arquivo: /Workspace/Users/danielly.xavier@iclinic.com.br/Modelo Séries Temporais Clima e Saúde WB/Modelo Séries Temporais Clima e Saúde WB - Resultados/analise_estadual/ts_exogena/summaries/ts_Pneumonia bacteriana_PI_exaogena_summary.xlsx\nProcessando arquivo: /Workspace/Users/danielly.xavier@iclinic.com.br/Modelo Séries Temporais Clima e Saúde WB/Modelo Séries Temporais Clima e Saúde WB - Resultados/analise_estadual/ts_exogena/summaries/ts_Diabetes mellitus tipo 2_ES_exaogena_summary.xlsx\nProcessando arquivo: /Workspace/Users/danielly.xavier@iclinic.com.br/Modelo Séries Temporais Clima e Saúde WB/Modelo Séries Temporais Clima e Saúde WB - Resultados/analise_estadual/ts_exogena/summaries/ts_Diabetes mellitus tipo 2_SC_exaogena_summary.xlsx\nProcessando arquivo: /Workspace/Users/danielly.xavier@iclinic.com.br/Modelo Séries Temporais Clima e Saúde WB/Modelo Séries Temporais Clima e Saúde WB - Resultados/analise_estadual/ts_exogena/summaries/ts_Tuberculose_AC_exaogena_summary.xlsx\nProcessando arquivo: /Workspace/Users/danielly.xavier@iclinic.com.br/Modelo Séries Temporais Clima e Saúde WB/Modelo Séries Temporais Clima e Saúde WB - Resultados/analise_estadual/ts_exogena/summaries/ts_Transtorno de ansiedade generalizada_AM_exaogena_summary.xlsx\nProcessando arquivo: /Workspace/Users/danielly.xavier@iclinic.com.br/Modelo Séries Temporais Clima e Saúde WB/Modelo Séries Temporais Clima e Saúde WB - Resultados/analise_estadual/ts_exogena/summaries/ts_Doença pulmonar obstrutiva crônica_CE_exaogena_summary.xlsx\nProcessando arquivo: /Workspace/Users/danielly.xavier@iclinic.com.br/Modelo Séries Temporais Clima e Saúde WB/Modelo Séries Temporais Clima e Saúde WB - Resultados/analise_estadual/ts_exogena/summaries/ts_Malária_AM_exaogena_summary.xlsx\nProcessando arquivo: /Workspace/Users/danielly.xavier@iclinic.com.br/Modelo Séries Temporais Clima e Saúde WB/Modelo Séries Temporais Clima e Saúde WB - Resultados/analise_estadual/ts_exogena/summaries/ts_Malária_RN_exaogena_summary.xlsx\nProcessando arquivo: /Workspace/Users/danielly.xavier@iclinic.com.br/Modelo Séries Temporais Clima e Saúde WB/Modelo Séries Temporais Clima e Saúde WB - Resultados/analise_estadual/ts_exogena/summaries/ts_Malária_TO_exaogena_summary.xlsx\nProcessando arquivo: /Workspace/Users/danielly.xavier@iclinic.com.br/Modelo Séries Temporais Clima e Saúde WB/Modelo Séries Temporais Clima e Saúde WB - Resultados/analise_estadual/ts_exogena/summaries/ts_Febre de Chikungunya_AC_exaogena_summary.xlsx\nProcessando arquivo: /Workspace/Users/danielly.xavier@iclinic.com.br/Modelo Séries Temporais Clima e Saúde WB/Modelo Séries Temporais Clima e Saúde WB - Resultados/analise_estadual/ts_exogena/summaries/ts_Febre de Chikungunya_RN_exaogena_summary.xlsx\nProcessando arquivo: /Workspace/Users/danielly.xavier@iclinic.com.br/Modelo Séries Temporais Clima e Saúde WB/Modelo Séries Temporais Clima e Saúde WB - Resultados/analise_estadual/ts_exogena/summaries/ts_Febre de Chikungunya_TO_exaogena_summary.xlsx\nProcessando arquivo: /Workspace/Users/danielly.xavier@iclinic.com.br/Modelo Séries Temporais Clima e Saúde WB/Modelo Séries Temporais Clima e Saúde WB - Resultados/analise_estadual/ts_exogena/summaries/ts_Pneumonia comunitária_MA_exaogena_summary.xlsx\nProcessando arquivo: /Workspace/Users/danielly.xavier@iclinic.com.br/Modelo Séries Temporais Clima e Saúde WB/Modelo Séries Temporais Clima e Saúde WB - Resultados/analise_estadual/ts_exogena/summaries/ts_Cetoacidose diabética_RJ_exaogena_summary.xlsx\nProcessando arquivo: /Workspace/Users/danielly.xavier@iclinic.com.br/Modelo Séries Temporais Clima e Saúde WB/Modelo Séries Temporais Clima e Saúde WB - Resultados/analise_estadual/ts_exogena/summaries/ts_Cetoacidose diabética_SE_exaogena_summary.xlsx\nProcessando arquivo: /Workspace/Users/danielly.xavier@iclinic.com.br/Modelo Séries Temporais Clima e Saúde WB/Modelo Séries Temporais Clima e Saúde WB - Resultados/analise_estadual/ts_exogena/summaries/ts_Depressão_RN_exaogena_summary.xlsx\nProcessando arquivo: /Workspace/Users/danielly.xavier@iclinic.com.br/Modelo Séries Temporais Clima e Saúde WB/Modelo Séries Temporais Clima e Saúde WB - Resultados/analise_estadual/ts_exogena/summaries/ts_Depressão_TO_exaogena_summary.xlsx\nProcessando arquivo: /Workspace/Users/danielly.xavier@iclinic.com.br/Modelo Séries Temporais Clima e Saúde WB/Modelo Séries Temporais Clima e Saúde WB - Resultados/analise_estadual/ts_exogena/summaries/ts_Pneumonia viral_AM_exaogena_summary.xlsx\nProcessando arquivo: /Workspace/Users/danielly.xavier@iclinic.com.br/Modelo Séries Temporais Clima e Saúde WB/Modelo Séries Temporais Clima e Saúde WB - Resultados/analise_estadual/ts_exogena/summaries/ts_Pneumonia viral_MS_exaogena_summary.xlsx\nProcessando arquivo: /Workspace/Users/danielly.xavier@iclinic.com.br/Modelo Séries Temporais Clima e Saúde WB/Modelo Séries Temporais Clima e Saúde WB - Resultados/analise_estadual/ts_exogena/summaries/ts_Pneumonia viral_PI_exaogena_summary.xlsx\nProcessando arquivo: /Workspace/Users/danielly.xavier@iclinic.com.br/Modelo Séries Temporais Clima e Saúde WB/Modelo Séries Temporais Clima e Saúde WB - Resultados/analise_estadual/ts_exogena/summaries/ts_Cetoacidose diabética_RO_exaogena_summary.xlsx\nProcessando arquivo: /Workspace/Users/danielly.xavier@iclinic.com.br/Modelo Séries Temporais Clima e Saúde WB/Modelo Séries Temporais Clima e Saúde WB - Resultados/analise_estadual/ts_exogena/summaries/ts_Depressão_SE_exaogena_summary.xlsx\nProcessando arquivo: /Workspace/Users/danielly.xavier@iclinic.com.br/Modelo Séries Temporais Clima e Saúde WB/Modelo Séries Temporais Clima e Saúde WB - Resultados/analise_estadual/ts_exogena/summaries/ts_Doença renal crônica_AC_exaogena_summary.xlsx\nProcessando arquivo: /Workspace/Users/danielly.xavier@iclinic.com.br/Modelo Séries Temporais Clima e Saúde WB/Modelo Séries Temporais Clima e Saúde WB - Resultados/analise_estadual/ts_exogena/summaries/ts_Infarto agudo do miocárdio_RO_exaogena_summary.xlsx\nProcessando arquivo: /Workspace/Users/danielly.xavier@iclinic.com.br/Modelo Séries Temporais Clima e Saúde WB/Modelo Séries Temporais Clima e Saúde WB - Resultados/analise_estadual/ts_exogena/summaries/ts_Pneumonia viral_PR_exaogena_summary.xlsx\nProcessando arquivo: /Workspace/Users/danielly.xavier@iclinic.com.br/Modelo Séries Temporais Clima e Saúde WB/Modelo Séries Temporais Clima e Saúde WB - Resultados/analise_estadual/ts_exogena/summaries/ts_Pneumonia viral_RJ_exaogena_summary.xlsx\nProcessando arquivo: /Workspace/Users/danielly.xavier@iclinic.com.br/Modelo Séries Temporais Clima e Saúde WB/Modelo Séries Temporais Clima e Saúde WB - Resultados/analise_estadual/ts_exogena/summaries/ts_Asma_PB_exaogena_summary.xlsx\nProcessando arquivo: /Workspace/Users/danielly.xavier@iclinic.com.br/Modelo Séries Temporais Clima e Saúde WB/Modelo Séries Temporais Clima e Saúde WB - Resultados/analise_estadual/ts_exogena/summaries/ts_Tuberculose_BA_exaogena_summary.xlsx\nProcessando arquivo: /Workspace/Users/danielly.xavier@iclinic.com.br/Modelo Séries Temporais Clima e Saúde WB/Modelo Séries Temporais Clima e Saúde WB - Resultados/analise_estadual/ts_exogena/summaries/ts_Tuberculose_SC_exaogena_summary.xlsx\nProcessando arquivo: /Workspace/Users/danielly.xavier@iclinic.com.br/Modelo Séries Temporais Clima e Saúde WB/Modelo Séries Temporais Clima e Saúde WB - Resultados/analise_estadual/ts_exogena/summaries/ts_Tuberculose_SP_exaogena_summary.xlsx\nProcessando arquivo: /Workspace/Users/danielly.xavier@iclinic.com.br/Modelo Séries Temporais Clima e Saúde WB/Modelo Séries Temporais Clima e Saúde WB - Resultados/analise_estadual/ts_exogena/summaries/ts_Pneumonia comunitária_MG_exaogena_summary.xlsx\nProcessando arquivo: /Workspace/Users/danielly.xavier@iclinic.com.br/Modelo Séries Temporais Clima e Saúde WB/Modelo Séries Temporais Clima e Saúde WB - Resultados/analise_estadual/ts_exogena/summaries/ts_Cetoacidose diabética_AL_exaogena_summary.xlsx\nProcessando arquivo: /Workspace/Users/danielly.xavier@iclinic.com.br/Modelo Séries Temporais Clima e Saúde WB/Modelo Séries Temporais Clima e Saúde WB - Resultados/analise_estadual/ts_exogena/summaries/ts_Depressão_MS_exaogena_summary.xlsx\nProcessando arquivo: /Workspace/Users/danielly.xavier@iclinic.com.br/Modelo Séries Temporais Clima e Saúde WB/Modelo Séries Temporais Clima e Saúde WB - Resultados/analise_estadual/ts_exogena/summaries/ts_Infarto agudo do miocárdio_DF_exaogena_summary.xlsx\nProcessando arquivo: /Workspace/Users/danielly.xavier@iclinic.com.br/Modelo Séries Temporais Clima e Saúde WB/Modelo Séries Temporais Clima e Saúde WB - Resultados/analise_estadual/ts_exogena/summaries/ts_Infarto agudo do miocárdio_RN_exaogena_summary.xlsx\nProcessando arquivo: /Workspace/Users/danielly.xavier@iclinic.com.br/Modelo Séries Temporais Clima e Saúde WB/Modelo Séries Temporais Clima e Saúde WB - Resultados/analise_estadual/ts_exogena/summaries/ts_Insuficiência cardíaca _AM_exaogena_summary.xlsx\nProcessando arquivo: /Workspace/Users/danielly.xavier@iclinic.com.br/Modelo Séries Temporais Clima e Saúde WB/Modelo Séries Temporais Clima e Saúde WB - Resultados/analise_estadual/ts_exogena/summaries/ts_Insuficiência cardíaca _ES_exaogena_summary.xlsx\nProcessando arquivo: /Workspace/Users/danielly.xavier@iclinic.com.br/Modelo Séries Temporais Clima e Saúde WB/Modelo Séries Temporais Clima e Saúde WB - Resultados/analise_estadual/ts_exogena/summaries/ts_Insuficiência cardíaca _PA_exaogena_summary.xlsx\nProcessando arquivo: /Workspace/Users/danielly.xavier@iclinic.com.br/Modelo Séries Temporais Clima e Saúde WB/Modelo Séries Temporais Clima e Saúde WB - Resultados/analise_estadual/ts_exogena/summaries/ts_Pneumonia viral_AC_exaogena_summary.xlsx\nProcessando arquivo: /Workspace/Users/danielly.xavier@iclinic.com.br/Modelo Séries Temporais Clima e Saúde WB/Modelo Séries Temporais Clima e Saúde WB - Resultados/analise_estadual/ts_exogena/summaries/ts_Pneumonia viral_AL_exaogena_summary.xlsx\nProcessando arquivo: /Workspace/Users/danielly.xavier@iclinic.com.br/Modelo Séries Temporais Clima e Saúde WB/Modelo Séries Temporais Clima e Saúde WB - Resultados/analise_estadual/ts_exogena/summaries/ts_Asma_PR_exaogena_summary.xlsx\nProcessando arquivo: /Workspace/Users/danielly.xavier@iclinic.com.br/Modelo Séries Temporais Clima e Saúde WB/Modelo Séries Temporais Clima e Saúde WB - Resultados/analise_estadual/ts_exogena/summaries/ts_Asma_RJ_exaogena_summary.xlsx\nProcessando arquivo: /Workspace/Users/danielly.xavier@iclinic.com.br/Modelo Séries Temporais Clima e Saúde WB/Modelo Séries Temporais Clima e Saúde WB - Resultados/analise_estadual/ts_exogena/summaries/ts_Asma_RN_exaogena_summary.xlsx\nProcessando arquivo: /Workspace/Users/danielly.xavier@iclinic.com.br/Modelo Séries Temporais Clima e Saúde WB/Modelo Séries Temporais Clima e Saúde WB - Resultados/analise_estadual/ts_exogena/summaries/ts_Doença pulmonar obstrutiva crônica_PE_exaogena_summary.xlsx\nProcessando arquivo: /Workspace/Users/dan\n\n*** WARNING: max output size exceeded, skipping output. ***\n\nvo: /Workspace/Users/danielly.xavier@iclinic.com.br/Modelo Séries Temporais Clima e Saúde WB/Modelo Séries Temporais Clima e Saúde WB - Resultados/analise_estadual/ts_exogena/summaries/ts_Febre de Chikungunya_PB_exaogena_summary.xlsx\nProcessando arquivo: /Workspace/Users/danielly.xavier@iclinic.com.br/Modelo Séries Temporais Clima e Saúde WB/Modelo Séries Temporais Clima e Saúde WB - Resultados/analise_estadual/ts_exogena/summaries/ts_Pneumonia por outros organismos_AM_exaogena_summary.xlsx\nProcessando arquivo: /Workspace/Users/danielly.xavier@iclinic.com.br/Modelo Séries Temporais Clima e Saúde WB/Modelo Séries Temporais Clima e Saúde WB - Resultados/analise_estadual/ts_exogena/summaries/ts_Depressão_AL_exaogena_summary.xlsx\nProcessando arquivo: /Workspace/Users/danielly.xavier@iclinic.com.br/Modelo Séries Temporais Clima e Saúde WB/Modelo Séries Temporais Clima e Saúde WB - Resultados/analise_estadual/ts_exogena/summaries/ts_Depressão_PI_exaogena_summary.xlsx\nProcessando arquivo: /Workspace/Users/danielly.xavier@iclinic.com.br/Modelo Séries Temporais Clima e Saúde WB/Modelo Séries Temporais Clima e Saúde WB - Resultados/analise_estadual/ts_exogena/summaries/ts_Depressão_SC_exaogena_summary.xlsx\nProcessando arquivo: /Workspace/Users/danielly.xavier@iclinic.com.br/Modelo Séries Temporais Clima e Saúde WB/Modelo Séries Temporais Clima e Saúde WB - Resultados/analise_estadual/ts_exogena/summaries/ts_Doença renal crônica_SC_exaogena_summary.xlsx\nProcessando arquivo: /Workspace/Users/danielly.xavier@iclinic.com.br/Modelo Séries Temporais Clima e Saúde WB/Modelo Séries Temporais Clima e Saúde WB - Resultados/analise_estadual/ts_exogena/summaries/ts_Infarto agudo do miocárdio_PI_exaogena_summary.xlsx\nProcessando arquivo: /Workspace/Users/danielly.xavier@iclinic.com.br/Modelo Séries Temporais Clima e Saúde WB/Modelo Séries Temporais Clima e Saúde WB - Resultados/analise_estadual/ts_exogena/summaries/ts_Infarto agudo do miocárdio_RR_exaogena_summary.xlsx\nProcessando arquivo: /Workspace/Users/danielly.xavier@iclinic.com.br/Modelo Séries Temporais Clima e Saúde WB/Modelo Séries Temporais Clima e Saúde WB - Resultados/analise_estadual/ts_exogena/summaries/ts_Infarto agudo do miocárdio_SE_exaogena_summary.xlsx\nProcessando arquivo: /Workspace/Users/danielly.xavier@iclinic.com.br/Modelo Séries Temporais Clima e Saúde WB/Modelo Séries Temporais Clima e Saúde WB - Resultados/analise_estadual/ts_exogena/summaries/ts_Insuficiência cardíaca _TO_exaogena_summary.xlsx\nProcessando arquivo: /Workspace/Users/danielly.xavier@iclinic.com.br/Modelo Séries Temporais Clima e Saúde WB/Modelo Séries Temporais Clima e Saúde WB - Resultados/analise_estadual/ts_exogena/summaries/ts_Pneumonia viral_GO_exaogena_summary.xlsx\nProcessando arquivo: /Workspace/Users/danielly.xavier@iclinic.com.br/Modelo Séries Temporais Clima e Saúde WB/Modelo Séries Temporais Clima e Saúde WB - Resultados/analise_estadual/ts_exogena/summaries/ts_Asma_AP_exaogena_summary.xlsx\nProcessando arquivo: /Workspace/Users/danielly.xavier@iclinic.com.br/Modelo Séries Temporais Clima e Saúde WB/Modelo Séries Temporais Clima e Saúde WB - Resultados/analise_estadual/ts_exogena/summaries/ts_Infecção de trato urinário_CE_exaogena_summary.xlsx\nProcessando arquivo: /Workspace/Users/danielly.xavier@iclinic.com.br/Modelo Séries Temporais Clima e Saúde WB/Modelo Séries Temporais Clima e Saúde WB - Resultados/analise_estadual/ts_exogena/summaries/ts_Pneumonia bacteriana_PR_exaogena_summary.xlsx\nProcessando arquivo: /Workspace/Users/danielly.xavier@iclinic.com.br/Modelo Séries Temporais Clima e Saúde WB/Modelo Séries Temporais Clima e Saúde WB - Resultados/analise_estadual/ts_exogena/summaries/ts_Tuberculose_AP_exaogena_summary.xlsx\nProcessando arquivo: /Workspace/Users/danielly.xavier@iclinic.com.br/Modelo Séries Temporais Clima e Saúde WB/Modelo Séries Temporais Clima e Saúde WB - Resultados/analise_estadual/ts_exogena/summaries/00C_ts_Dengue_RS_exaogena_summary.xlsx\nProcessando arquivo: /Workspace/Users/danielly.xavier@iclinic.com.br/Modelo Séries Temporais Clima e Saúde WB/Modelo Séries Temporais Clima e Saúde WB - Resultados/analise_estadual/ts_exogena/summaries/00C_ts_Pneumonia_RO_exaogena_summary.xlsx\nProcessando arquivo: /Workspace/Users/danielly.xavier@iclinic.com.br/Modelo Séries Temporais Clima e Saúde WB/Modelo Séries Temporais Clima e Saúde WB - Resultados/analise_estadual/ts_exogena/summaries/00C_ts_Pneumonia_SC_exaogena_summary.xlsx\nProcessando arquivo: /Workspace/Users/danielly.xavier@iclinic.com.br/Modelo Séries Temporais Clima e Saúde WB/Modelo Séries Temporais Clima e Saúde WB - Resultados/analise_estadual/ts_exogena/summaries/00C_ts_Pneumonia_AP_exaogena_summary.xlsx\nProcessando arquivo: /Workspace/Users/danielly.xavier@iclinic.com.br/Modelo Séries Temporais Clima e Saúde WB/Modelo Séries Temporais Clima e Saúde WB - Resultados/analise_estadual/ts_exogena/summaries/ts_Covid-19_AP_exaogena_summary.xlsx\nProcessando arquivo: /Workspace/Users/danielly.xavier@iclinic.com.br/Modelo Séries Temporais Clima e Saúde WB/Modelo Séries Temporais Clima e Saúde WB - Resultados/analise_estadual/ts_exogena/summaries/ts_Pneumonia comunitária_AP_exaogena_summary.xlsx\nProcessando arquivo: /Workspace/Users/danielly.xavier@iclinic.com.br/Modelo Séries Temporais Clima e Saúde WB/Modelo Séries Temporais Clima e Saúde WB - Resultados/analise_estadual/ts_exogena/summaries/ts_Pneumonia comunitária_MT_exaogena_summary.xlsx\nProcessando arquivo: /Workspace/Users/danielly.xavier@iclinic.com.br/Modelo Séries Temporais Clima e Saúde WB/Modelo Séries Temporais Clima e Saúde WB - Resultados/analise_estadual/ts_exogena/summaries/ts_Pneumonia comunitária_PB_exaogena_summary.xlsx\nProcessando arquivo: /Workspace/Users/danielly.xavier@iclinic.com.br/Modelo Séries Temporais Clima e Saúde WB/Modelo Séries Temporais Clima e Saúde WB - Resultados/analise_estadual/ts_exogena/summaries/ts_Asma_BA_exaogena_summary.xlsx\nProcessando arquivo: /Workspace/Users/danielly.xavier@iclinic.com.br/Modelo Séries Temporais Clima e Saúde WB/Modelo Séries Temporais Clima e Saúde WB - Resultados/analise_estadual/ts_exogena/summaries/ts_Doença renal crônica_PR_exaogena_summary.xlsx\nProcessando arquivo: /Workspace/Users/danielly.xavier@iclinic.com.br/Modelo Séries Temporais Clima e Saúde WB/Modelo Séries Temporais Clima e Saúde WB - Resultados/analise_estadual/ts_exogena/summaries/ts_Infarto agudo do miocárdio_AM_exaogena_summary.xlsx\nProcessando arquivo: /Workspace/Users/danielly.xavier@iclinic.com.br/Modelo Séries Temporais Clima e Saúde WB/Modelo Séries Temporais Clima e Saúde WB - Resultados/analise_estadual/ts_exogena/summaries/ts_Asma_PE_exaogena_summary.xlsx\nProcessando arquivo: /Workspace/Users/danielly.xavier@iclinic.com.br/Modelo Séries Temporais Clima e Saúde WB/Modelo Séries Temporais Clima e Saúde WB - Resultados/analise_estadual/ts_exogena/summaries/ts_Asma_RO_exaogena_summary.xlsx\nProcessando arquivo: /Workspace/Users/danielly.xavier@iclinic.com.br/Modelo Séries Temporais Clima e Saúde WB/Modelo Séries Temporais Clima e Saúde WB - Resultados/analise_estadual/ts_exogena/summaries/ts_Infecção de trato urinário_AC_exaogena_summary.xlsx\nProcessando arquivo: /Workspace/Users/danielly.xavier@iclinic.com.br/Modelo Séries Temporais Clima e Saúde WB/Modelo Séries Temporais Clima e Saúde WB - Resultados/analise_estadual/ts_exogena/summaries/ts_Infecção de trato urinário_MT_exaogena_summary.xlsx\nProcessando arquivo: /Workspace/Users/danielly.xavier@iclinic.com.br/Modelo Séries Temporais Clima e Saúde WB/Modelo Séries Temporais Clima e Saúde WB - Resultados/analise_estadual/ts_exogena/summaries/ts_Infecção de trato urinário_PB_exaogena_summary.xlsx\nProcessando arquivo: /Workspace/Users/danielly.xavier@iclinic.com.br/Modelo Séries Temporais Clima e Saúde WB/Modelo Séries Temporais Clima e Saúde WB - Resultados/analise_estadual/ts_exogena/summaries/ts_Injúria Renal Aguda_MA_exaogena_summary.xlsx\nProcessando arquivo: /Workspace/Users/danielly.xavier@iclinic.com.br/Modelo Séries Temporais Clima e Saúde WB/Modelo Séries Temporais Clima e Saúde WB - Resultados/analise_estadual/ts_exogena/summaries/ts_Injúria Renal Aguda_RN_exaogena_summary.xlsx\nProcessando arquivo: /Workspace/Users/danielly.xavier@iclinic.com.br/Modelo Séries Temporais Clima e Saúde WB/Modelo Séries Temporais Clima e Saúde WB - Resultados/analise_estadual/ts_exogena/summaries/ts_Pneumonia bacteriana_TO_exaogena_summary.xlsx\nProcessando arquivo: /Workspace/Users/danielly.xavier@iclinic.com.br/Modelo Séries Temporais Clima e Saúde WB/Modelo Séries Temporais Clima e Saúde WB - Resultados/analise_estadual/ts_exogena/summaries/ts_Cetoacidose diabética_PB_exaogena_summary.xlsx\nProcessando arquivo: /Workspace/Users/danielly.xavier@iclinic.com.br/Modelo Séries Temporais Clima e Saúde WB/Modelo Séries Temporais Clima e Saúde WB - Resultados/analise_estadual/ts_exogena/summaries/ts_Infarto agudo do miocárdio_GO_exaogena_summary.xlsx\nProcessando arquivo: /Workspace/Users/danielly.xavier@iclinic.com.br/Modelo Séries Temporais Clima e Saúde WB/Modelo Séries Temporais Clima e Saúde WB - Resultados/analise_estadual/ts_exogena/summaries/ts_Infarto agudo do miocárdio_MA_exaogena_summary.xlsx\nProcessando arquivo: /Workspace/Users/danielly.xavier@iclinic.com.br/Modelo Séries Temporais Clima e Saúde WB/Modelo Séries Temporais Clima e Saúde WB - Resultados/analise_estadual/ts_exogena/summaries/ts_Infarto agudo do miocárdio_SC_exaogena_summary.xlsx\nProcessando arquivo: /Workspace/Users/danielly.xavier@iclinic.com.br/Modelo Séries Temporais Clima e Saúde WB/Modelo Séries Temporais Clima e Saúde WB - Resultados/analise_estadual/ts_exogena/summaries/ts_Insuficiência cardíaca _AC_exaogena_summary.xlsx\nProcessando arquivo: /Workspace/Users/danielly.xavier@iclinic.com.br/Modelo Séries Temporais Clima e Saúde WB/Modelo Séries Temporais Clima e Saúde WB - Resultados/analise_estadual/ts_exogena/summaries/ts_Insuficiência cardíaca _RR_exaogena_summary.xlsx\nProcessando arquivo: /Workspace/Users/danielly.xavier@iclinic.com.br/Modelo Séries Temporais Clima e Saúde WB/Modelo Séries Temporais Clima e Saúde WB - Resultados/analise_estadual/ts_exogena/summaries/ts_Pneumonia viral_MA_exaogena_summary.xlsx\nProcessando arquivo: /Workspace/Users/danielly.xavier@iclinic.com.br/Modelo Séries Temporais Clima e Saúde WB/Modelo Séries Temporais Clima e Saúde WB - Resultados/analise_estadual/ts_exogena/summaries/ts_Pneumonia viral_MG_exaogena_summary.xlsx\nProcessando arquivo: /Workspace/Users/danielly.xavier@iclinic.com.br/Modelo Séries Temporais Clima e Saúde WB/Modelo Séries Temporais Clima e Saúde WB - Resultados/analise_estadual/ts_exogena/summaries/ts_Influenza_CE_exaogena_summary.xlsx\nProcessando arquivo: /Workspace/Users/danielly.xavier@iclinic.com.br/Modelo Séries Temporais Clima e Saúde WB/Modelo Séries Temporais Clima e Saúde WB - Resultados/analise_estadual/ts_exogena/summaries/ts_Influenza_ES_exaogena_summary.xlsx\nProcessando arquivo: /Workspace/Users/danielly.xavier@iclinic.com.br/Modelo Séries Temporais Clima e Saúde WB/Modelo Séries Temporais Clima e Saúde WB - Resultados/analise_estadual/ts_exogena/summaries/ts_Injúria Renal Aguda_GO_exaogena_summary.xlsx\nProcessando arquivo: /Workspace/Users/danielly.xavier@iclinic.com.br/Modelo Séries Temporais Clima e Saúde WB/Modelo Séries Temporais Clima e Saúde WB - Resultados/analise_estadual/ts_exogena/summaries/ts_Diabetes mellitus tipo 2_AM_exaogena_summary.xlsx\nProcessando arquivo: /Workspace/Users/danielly.xavier@iclinic.com.br/Modelo Séries Temporais Clima e Saúde WB/Modelo Séries Temporais Clima e Saúde WB - Resultados/analise_estadual/ts_exogena/summaries/ts_Tuberculose_RJ_exaogena_summary.xlsx\nProcessando arquivo: /Workspace/Users/danielly.xavier@iclinic.com.br/Modelo Séries Temporais Clima e Saúde WB/Modelo Séries Temporais Clima e Saúde WB - Resultados/analise_estadual/ts_exogena/summaries/ts_Malária_SC_exaogena_summary.xlsx\nProcessando arquivo: /Workspace/Users/danielly.xavier@iclinic.com.br/Modelo Séries Temporais Clima e Saúde WB/Modelo Séries Temporais Clima e Saúde WB - Resultados/analise_estadual/ts_exogena/summaries/ts_Febre de Chikungunya_PR_exaogena_summary.xlsx\nProcessando arquivo: /Workspace/Users/danielly.xavier@iclinic.com.br/Modelo Séries Temporais Clima e Saúde WB/Modelo Séries Temporais Clima e Saúde WB - Resultados/analise_estadual/ts_exogena/summaries/ts_Pneumonia por outros organismos_AL_exaogena_summary.xlsx\nProcessando arquivo: /Workspace/Users/danielly.xavier@iclinic.com.br/Modelo Séries Temporais Clima e Saúde WB/Modelo Séries Temporais Clima e Saúde WB - Resultados/analise_estadual/ts_exogena/summaries/ts_Pneumonia por outros organismos_MG_exaogena_summary.xlsx\nProcessando arquivo: /Workspace/Users/danielly.xavier@iclinic.com.br/Modelo Séries Temporais Clima e Saúde WB/Modelo Séries Temporais Clima e Saúde WB - Resultados/analise_estadual/ts_exogena/summaries/ts_Doença pulmonar obstrutiva crônica_AC_exaogena_summary.xlsx\nProcessando arquivo: /Workspace/Users/danielly.xavier@iclinic.com.br/Modelo Séries Temporais Clima e Saúde WB/Modelo Séries Temporais Clima e Saúde WB - Resultados/analise_estadual/ts_exogena/summaries/ts_Tuberculose_MA_exaogena_summary.xlsx\nProcessando arquivo: /Workspace/Users/danielly.xavier@iclinic.com.br/Modelo Séries Temporais Clima e Saúde WB/Modelo Séries Temporais Clima e Saúde WB - Resultados/analise_estadual/ts_exogena/summaries/ts_Febre de Chikungunya_RJ_exaogena_summary.xlsx\nProcessando arquivo: /Workspace/Users/danielly.xavier@iclinic.com.br/Modelo Séries Temporais Clima e Saúde WB/Modelo Séries Temporais Clima e Saúde WB - Resultados/analise_estadual/ts_exogena/summaries/ts_Pneumonia por outros organismos_RJ_exaogena_summary.xlsx\nProcessando arquivo: /Workspace/Users/danielly.xavier@iclinic.com.br/Modelo Séries Temporais Clima e Saúde WB/Modelo Séries Temporais Clima e Saúde WB - Resultados/analise_estadual/ts_exogena/summaries/00C_ts_Pneumonia_AL_exaogena_summary.xlsx\nProcessando arquivo: /Workspace/Users/danielly.xavier@iclinic.com.br/Modelo Séries Temporais Clima e Saúde WB/Modelo Séries Temporais Clima e Saúde WB - Resultados/analise_estadual/ts_exogena/summaries/ts_Pneumonia comunitária_BA_exaogena_summary.xlsx\nProcessando arquivo: /Workspace/Users/danielly.xavier@iclinic.com.br/Modelo Séries Temporais Clima e Saúde WB/Modelo Séries Temporais Clima e Saúde WB - Resultados/analise_estadual/ts_exogena/summaries/ts_Cetoacidose diabética_DF_exaogena_summary.xlsx\nProcessando arquivo: /Workspace/Users/danielly.xavier@iclinic.com.br/Modelo Séries Temporais Clima e Saúde WB/Modelo Séries Temporais Clima e Saúde WB - Resultados/analise_estadual/ts_exogena/summaries/ts_Cetoacidose diabética_PI_exaogena_summary.xlsx\nProcessando arquivo: /Workspace/Users/danielly.xavier@iclinic.com.br/Modelo Séries Temporais Clima e Saúde WB/Modelo Séries Temporais Clima e Saúde WB - Resultados/analise_estadual/ts_exogena/summaries/ts_Depressão_DF_exaogena_summary.xlsx\nProcessando arquivo: /Workspace/Users/danielly.xavier@iclinic.com.br/Modelo Séries Temporais Clima e Saúde WB/Modelo Séries Temporais Clima e Saúde WB - Resultados/analise_estadual/ts_exogena/summaries/ts_Infecção de trato urinário_ES_exaogena_summary.xlsx\nProcessando arquivo: /Workspace/Users/danielly.xavier@iclinic.com.br/Modelo Séries Temporais Clima e Saúde WB/Modelo Séries Temporais Clima e Saúde WB - Resultados/analise_estadual/ts_exogena/summaries/ts_Covid-19_MA_exaogena_summary.xlsx\nProcessando arquivo: /Workspace/Users/danielly.xavier@iclinic.com.br/Modelo Séries Temporais Clima e Saúde WB/Modelo Séries Temporais Clima e Saúde WB - Resultados/analise_estadual/ts_exogena/summaries/ts_Covid-19_PA_exaogena_summary.xlsx\nProcessando arquivo: /Workspace/Users/danielly.xavier@iclinic.com.br/Modelo Séries Temporais Clima e Saúde WB/Modelo Séries Temporais Clima e Saúde WB - Resultados/analise_estadual/ts_exogena/summaries/ts_Pneumonia comunitária_RR_exaogena_summary.xlsx\nProcessando arquivo: /Workspace/Users/danielly.xavier@iclinic.com.br/Modelo Séries Temporais Clima e Saúde WB/Modelo Séries Temporais Clima e Saúde WB - Resultados/analise_estadual/ts_exogena/summaries/ts_Pneumonia comunitária_SC_exaogena_summary.xlsx\nProcessando arquivo: /Workspace/Users/danielly.xavier@iclinic.com.br/Modelo Séries Temporais Clima e Saúde WB/Modelo Séries Temporais Clima e Saúde WB - Resultados/analise_estadual/ts_exogena/summaries/ts_Cetoacidose diabética_CE_exaogena_summary.xlsx\nProcessando arquivo: /Workspace/Users/danielly.xavier@iclinic.com.br/Modelo Séries Temporais Clima e Saúde WB/Modelo Séries Temporais Clima e Saúde WB - Resultados/analise_estadual/ts_exogena/summaries/ts_Pneumonia viral_ES_exaogena_summary.xlsx\nProcessando arquivo: /Workspace/Users/danielly.xavier@iclinic.com.br/Modelo Séries Temporais Clima e Saúde WB/Modelo Séries Temporais Clima e Saúde WB - Resultados/analise_estadual/ts_exogena/summaries/ts_Pneumonia viral_SC_exaogena_summary.xlsx\nProcessando arquivo: /Workspace/Users/danielly.xavier@iclinic.com.br/Modelo Séries Temporais Clima e Saúde WB/Modelo Séries Temporais Clima e Saúde WB - Resultados/analise_estadual/ts_exogena/summaries/ts_Asma_RS_exaogena_summary.xlsx\nProcessando arquivo: /Workspace/Users/danielly.xavier@iclinic.com.br/Modelo Séries Temporais Clima e Saúde WB/Modelo Séries Temporais Clima e Saúde WB - Resultados/analise_estadual/ts_exogena/summaries/ts_Influenza_BA_exaogena_summary.xlsx\nProcessando arquivo: /Workspace/Users/danielly.xavier@iclinic.com.br/Modelo Séries Temporais Clima e Saúde WB/Modelo Séries Temporais Clima e Saúde WB - Resultados/analise_estadual/ts_exogena/summaries/ts_Injúria Renal Aguda_DF_exaogena_summary.xlsx\nProcessando arquivo: /Workspace/Users/danielly.xavier@iclinic.com.br/Modelo Séries Temporais Clima e Saúde WB/Modelo Séries Temporais Clima e Saúde WB - Resultados/analise_estadual/ts_exogena/summaries/ts_Pneumonia bacteriana_RN_exaogena_summary.xlsx\nProcessando arquivo: /Workspace/Users/danielly.xavier@iclinic.com.br/Modelo Séries Temporais Clima e Saúde WB/Modelo Séries Temporais Clima e Saúde WB - Resultados/analise_estadual/ts_exogena/summaries/ts_Doença pulmonar obstrutiva crônica_AL_exaogena_summary.xlsx\nProcessando arquivo: /Workspace/Users/danielly.xavier@iclinic.com.br/Modelo Séries Temporais Clima e Saúde WB/Modelo Séries Temporais Clima e Saúde WB - Resultados/analise_estadual/ts_exogena/summaries/ts_Tuberculose_RR_exaogena_summary.xlsx\nProcessando arquivo: /Workspace/Users/danielly.xavier@iclinic.com.br/Modelo Séries Temporais Clima e Saúde WB/Modelo Séries Temporais Clima e Saúde WB - Resultados/analise_estadual/ts_exogena/summaries/ts_Depressão_MA_exaogena_summary.xlsx\nProcessando arquivo: /Workspace/Users/danielly.xavier@iclinic.com.br/Modelo Séries Temporais Clima e Saúde WB/Modelo Séries Temporais Clima e Saúde WB - Resultados/analise_estadual/ts_exogena/summaries/ts_Doença renal crônica_AP_exaogena_summary.xlsx\nProcessando arquivo: /Workspace/Users/danielly.xavier@iclinic.com.br/Modelo Séries Temporais Clima e Saúde WB/Modelo Séries Temporais Clima e Saúde WB - Resultados/analise_estadual/ts_exogena/summaries/ts_Infarto agudo do miocárdio_PB_exaogena_summary.xlsx\nProcessando arquivo: /Workspace/Users/danielly.xavier@iclinic.com.br/Modelo Séries Temporais Clima e Saúde WB/Modelo Séries Temporais Clima e Saúde WB - Resultados/analise_estadual/ts_exogena/summaries/ts_Insuficiência cardíaca _PE_exaogena_summary.xlsx\nProcessando arquivo: /Workspace/Users/danielly.xavier@iclinic.com.br/Modelo Séries Temporais Clima e Saúde WB/Modelo Séries Temporais Clima e Saúde WB - Resultados/analise_estadual/ts_exogena/summaries/ts_Asma_MS_exaogena_summary.xlsx\nProcessando arquivo: /Workspace/Users/danielly.xavier@iclinic.com.br/Modelo Séries Temporais Clima e Saúde WB/Modelo Séries Temporais Clima e Saúde WB - Resultados/analise_estadual/ts_exogena/summaries/ts_Influenza_AM_exaogena_summary.xlsx\nProcessando arquivo: /Workspace/Users/danielly.xavier@iclinic.com.br/Modelo Séries Temporais Clima e Saúde WB/Modelo Séries Temporais Clima e Saúde WB - Resultados/analise_estadual/ts_exogena/summaries/ts_Influenza_TO_exaogena_summary.xlsx\nProcessando arquivo: /Workspace/Users/danielly.xavier@iclinic.com.br/Modelo Séries Temporais Clima e Saúde WB/Modelo Séries Temporais Clima e Saúde WB - Resultados/analise_estadual/ts_exogena/summaries/ts_Injúria Renal Aguda_PI_exaogena_summary.xlsx\nProcessando arquivo: /Workspace/Users/danielly.xavier@iclinic.com.br/Modelo Séries Temporais Clima e Saúde WB/Modelo Séries Temporais Clima e Saúde WB - Resultados/analise_estadual/ts_exogena/summaries/ts_Injúria Renal Aguda_RJ_exaogena_summary.xlsx\nProcessando arquivo: /Workspace/Users/danielly.xavier@iclinic.com.br/Modelo Séries Temporais Clima e Saúde WB/Modelo Séries Temporais Clima e Saúde WB - Resultados/analise_estadual/ts_exogena/summaries/ts_Pneumonia bacteriana_GO_exaogena_summary.xlsx\nProcessando arquivo: /Workspace/Users/danielly.xavier@iclinic.com.br/Modelo Séries Temporais Clima e Saúde WB/Modelo Séries Temporais Clima e Saúde WB - Resultados/analise_estadual/ts_exogena/summaries/ts_Pneumonia bacteriana_MA_exaogena_summary.xlsx\nProcessando arquivo: /Workspace/Users/danielly.xavier@iclinic.com.br/Modelo Séries Temporais Clima e Saúde WB/Modelo Séries Temporais Clima e Saúde WB - Resultados/analise_estadual/ts_exogena/summaries/ts_Pneumonia bacteriana_PB_exaogena_summary.xlsx\nProcessando arquivo: /Workspace/Users/danielly.xavier@iclinic.com.br/Modelo Séries Temporais Clima e Saúde WB/Modelo Séries Temporais Clima e Saúde WB - Resultados/analise_estadual/ts_exogena/summaries/ts_Diabetes mellitus tipo 2_AC_exaogena_summary.xlsx\nProcessando arquivo: /Workspace/Users/danielly.xavier@iclinic.com.br/Modelo Séries Temporais Clima e Saúde WB/Modelo Séries Temporais Clima e Saúde WB - Resultados/analise_estadual/ts_exogena/summaries/ts_Diabetes mellitus tipo 2_PB_exaogena_summary.xlsx\nProcessando arquivo: /Workspace/Users/danielly.xavier@iclinic.com.br/Modelo Séries Temporais Clima e Saúde WB/Modelo Séries Temporais Clima e Saúde WB - Resultados/analise_estadual/ts_exogena/summaries/ts_Tuberculose_AM_exaogena_summary.xlsx\nProcessando arquivo: /Workspace/Users/danielly.xavier@iclinic.com.br/Modelo Séries Temporais Clima e Saúde WB/Modelo Séries Temporais Clima e Saúde WB - Resultados/analise_estadual/ts_exogena/summaries/ts_Tuberculose_MS_exaogena_summary.xlsx\nProcessando arquivo: /Workspace/Users/danielly.xavier@iclinic.com.br/Modelo Séries Temporais Clima e Saúde WB/Modelo Séries Temporais Clima e Saúde WB - Resultados/analise_estadual/ts_exogena/summaries/ts_Tuberculose_MT_exaogena_summary.xlsx\nProcessando arquivo: /Workspace/Users/danielly.xavier@iclinic.com.br/Modelo Séries Temporais Clima e Saúde WB/Modelo Séries Temporais Clima e Saúde WB - Resultados/analise_estadual/ts_exogena/summaries/ts_Transtorno de ansiedade generalizada_MS_exaogena_summary.xlsx\nProcessando arquivo: /Workspace/Users/danielly.xavier@iclinic.com.br/Modelo Séries Temporais Clima e Saúde WB/Modelo Séries Temporais Clima e Saúde WB - Resultados/analise_estadual/ts_exogena/summaries/ts_Transtorno de ansiedade generalizada_PE_exaogena_summary.xlsx\nProcessando arquivo: /Workspace/Users/danielly.xavier@iclinic.com.br/Modelo Séries Temporais Clima e Saúde WB/Modelo Séries Temporais Clima e Saúde WB - Resultados/analise_estadual/ts_exogena/summaries/ts_Malária_RS_exaogena_summary.xlsx\nProcessando arquivo: /Workspace/Users/danielly.xavier@iclinic.com.br/Modelo Séries Temporais Clima e Saúde WB/Modelo Séries Temporais Clima e Saúde WB - Resultados/analise_estadual/ts_exogena/summaries/ts_Febre de Chikungunya_AL_exaogena_summary.xlsx\nProcessando arquivo: /Workspace/Users/danielly.xavier@iclinic.com.br/Modelo Séries Temporais Clima e Saúde WB/Modelo Séries Temporais Clima e Saúde WB - Resultados/analise_estadual/ts_exogena/summaries/ts_Febre de Chikungunya_MG_exaogena_summary.xlsx\nProcessando arquivo: /Workspace/Users/danielly.xavier@iclinic.com.br/Modelo Séries Temporais Clima e Saúde WB/Modelo Séries Temporais Clima e Saúde WB - Resultados/analise_estadual/ts_exogena/summaries/ts_Febre de Chikungunya_MT_exaogena_summary.xlsx\nProcessando arquivo: /Workspace/Users/danielly.xavier@iclinic.com.br/Modelo Séries Temporais Clima e Saúde WB/Modelo Séries Temporais Clima e Saúde WB - Resultados/analise_estadual/ts_exogena/summaries/ts_Pneumonia por outros organismos_CE_exaogena_summary.xlsx\nProcessando arquivo: /Workspace/Users/danielly.xavier@iclinic.com.br/Modelo Séries Temporais Clima e Saúde WB/Modelo Séries Temporais Clima e Saúde WB - Resultados/analise_estadual/ts_exogena/summaries/00C_ts_Dengue_AP_exaogena_summary.xlsx\nProcessando arquivo: /Workspace/Users/danielly.xavier@iclinic.com.br/Modelo Séries Temporais Clima e Saúde WB/Modelo Séries Temporais Clima e Saúde WB - Resultados/analise_estadual/ts_exogena/summaries/00C_ts_Dengue_CE_exaogena_summary.xlsx\n\nResultados consolidados salvos em:\n/Workspace/Users/dayanna.quintanilha@afya.com.br/resultados_exogena_2.csv\n"
     ]
    }
   ],
   "source": [
    "%python\n",
    "%pip install openpyxl\n",
    "\n",
    "import os\n",
    "import pandas as pd\n",
    "import glob\n",
    "\n",
    "try:\n",
    "    import openpyxl\n",
    "except ImportError:\n",
    "    print(\"O módulo 'openpyxl' não está instalado. Use 'pip install openpyxl' para instalá-lo.\")\n",
    "    raise\n",
    "\n",
    "# Caminho da pasta com arquivos exógenos\n",
    "path_exogena = '/Workspace/Users/danielly.xavier@iclinic.com.br/Modelo Séries Temporais Clima e Saúde WB/Modelo Séries Temporais Clima e Saúde WB - Resultados/analise_estadual/ts_exogena/summaries/*.xlsx'\n",
    "\n",
    "# Dicionário para armazenar resultados temporários\n",
    "results_dict = {}\n",
    "\n",
    "# Função para extrair dados exógenos\n",
    "def extract_exogena_data(file_path):\n",
    "    try:\n",
    "        print(f\"Processando arquivo: {file_path}\")\n",
    "        df = pd.read_excel(file_path, header=None)\n",
    "\n",
    "        # Extrair valores baseando-se na posição conhecida\n",
    "        log_likelihood = pd.to_numeric(df.iloc[3, 9], errors='coerce')\n",
    "        aic = pd.to_numeric(df.iloc[4, 6], errors='coerce')\n",
    "        bic = pd.to_numeric(df.iloc[5, 3], errors='coerce')\n",
    "        hqic = pd.to_numeric(df.iloc[6, 3], errors='coerce')\n",
    "        ljung_box = pd.to_numeric(df.iloc[19, 3], errors='coerce')\n",
    "        jarque_bera = pd.to_numeric(df.iloc[19, 6], errors='coerce')\n",
    "        kurtosis = pd.to_numeric(df.iloc[22, 4], errors='coerce')\n",
    "        estatistica = pd.to_numeric(df.iloc[12, 3], errors='coerce')\n",
    "        pvalue = pd.to_numeric(df.iloc[12, 4], errors='coerce')\n",
    "        significancia = 1 if pvalue is not None and pvalue <= 0.05 else 0\n",
    "\n",
    "        # Identificar UF e Agravo a partir do nome do arquivo\n",
    "        filename = os.path.basename(file_path)\n",
    "        parts = filename.replace(\".xlsx\", \"\").split('_')\n",
    "        uf = parts[-2]  # Pegando a penúltima parte do nome\n",
    "        agravo = \" \".join(parts[1:-2])\n",
    "\n",
    "        descricao = f\"Resultados para {agravo} no estado {uf}\"\n",
    "\n",
    "        # Armazenar os dados\n",
    "        data = {\n",
    "            'UF': uf,\n",
    "            'AGRAVO': agravo,\n",
    "            'LOG_EXOGENA': log_likelihood,\n",
    "            'AIC_EXOGENA': aic,\n",
    "            'BIC_EXOGENA': bic,\n",
    "            'HQIC_EXOGENA': hqic,\n",
    "            'LJUNGBOX_EXOGENA': ljung_box,\n",
    "            'JAQUE_BERA_EXOGENA': jarque_bera,\n",
    "            'KURTOSIS_EXOGENA': kurtosis,\n",
    "            'VARIAVEL_EXOGENA_SIGNIFICATIVA': significancia,\n",
    "            'VARIAVEL_EXOGENA_ESTATISTICA': estatistica,\n",
    "            'VARIAVEL_EXOGENA_PVALUE': pvalue,\n",
    "            'DESCRICAO': descricao\n",
    "        }\n",
    "\n",
    "        # Atualizar o dicionário de resultados\n",
    "        key = (uf, agravo)\n",
    "        if key not in results_dict:\n",
    "            results_dict[key] = {}\n",
    "        results_dict[key].update(data)\n",
    "\n",
    "    except Exception as e:\n",
    "        print(f\"Erro ao processar {file_path}: {e}\")\n",
    "\n",
    "# Processar os arquivos da pasta exógena\n",
    "print(\"\\n--- Processando arquivos EXÓGENOS ---\\n\")\n",
    "arquivos_exogena = glob.glob(path_exogena)\n",
    "for file_path in arquivos_exogena:\n",
    "    extract_exogena_data(file_path)\n",
    "\n",
    "# Consolidar resultados\n",
    "df_resultados_exogena = pd.DataFrame(results_dict.values())\n",
    "\n",
    "# Verificar e preencher colunas ausentes\n",
    "colunas_necessarias = [\n",
    "    'UF', 'AGRAVO', 'LOG_EXOGENA', 'AIC_EXOGENA', 'BIC_EXOGENA', \n",
    "    'HQIC_EXOGENA', 'LJUNGBOX_EXOGENA', 'JAQUE_BERA_EXOGENA', \n",
    "    'KURTOSIS_EXOGENA', 'VARIAVEL_EXOGENA_SIGNIFICATIVA', \n",
    "    'VARIAVEL_EXOGENA_ESTATISTICA', 'VARIAVEL_EXOGENA_PVALUE', \n",
    "    'DESCRICAO'\n",
    "]\n",
    "\n",
    "for coluna in colunas_necessarias:\n",
    "    if coluna not in df_resultados_exogena.columns:\n",
    "        df_resultados_exogena[coluna] = pd.NA\n",
    "\n",
    "# Salvar resultados em CSV\n",
    "output_path = '/Workspace/Users/dayanna.quintanilha@afya.com.br/resultados_exogena_2.csv'\n",
    "df_resultados_exogena.to_csv(output_path, index=False)\n",
    "\n",
    "# Exibir resumo\n",
    "print(\"\\nResultados consolidados salvos em:\")\n",
    "print(output_path)\n"
   ]
  },
  {
   "cell_type": "code",
   "execution_count": 0,
   "metadata": {
    "application/vnd.databricks.v1+cell": {
     "cellMetadata": {
      "byteLimit": 2048000,
      "rowLimit": 10000
     },
     "inputWidgets": {},
     "nuid": "d54fe497-9fec-421b-bac8-14d2d8243650",
     "showTitle": false,
     "tableResultSettingsMap": {},
     "title": ""
    }
   },
   "outputs": [
    {
     "output_type": "stream",
     "name": "stdout",
     "output_type": "stream",
     "text": [
      "Tabela consolidada salva em: /Workspace/Users/dayanna.quintanilha@afya.com.br/extracao_final2.csv\n"
     ]
    }
   ],
   "source": [
    "import pandas as pd\n",
    "\n",
    "# Caminhos dos arquivos CSV\n",
    "univariada_path = \"/Workspace/Users/dayanna.quintanilha@afya.com.br/resultados_univariados2.csv\"\n",
    "exogena_path = \"/Workspace/Users/dayanna.quintanilha@afya.com.br/resultados_exogena_2.csv\"\n",
    "\n",
    "# Carregar os arquivos CSV\n",
    "df_univariada = pd.read_csv(univariada_path)\n",
    "df_exogena = pd.read_csv(exogena_path)\n",
    "\n",
    "# Separar o UF do AGRAVO na tabela exógena\n",
    "df_exogena[['AGRAVO', 'UF']] = df_exogena['AGRAVO'].str.extract(r'(.+)\\s(\\w+)$')\n",
    "\n",
    "# Definir as colunas finais esperadas\n",
    "colunas_finais = [\n",
    "    'UF', 'AGRAVO',\n",
    "    'LOG_UNIVARIADO', 'AIC_UNIVARIADO', 'BIC_UNIVARIADO', 'HQIC_UNIVARIADO',\n",
    "    'LJUNGBOX_UNIVARIADO', 'JAQUE_BERA_UNIVARIADO', 'KURTOSIS_UNIVARIADO',\n",
    "    'LOG_EXOGENA', 'AIC_EXOGENA', 'BIC_EXOGENA', 'HQIC_EXOGENA',\n",
    "    'LJUNGBOX_EXOGENA', 'JAQUE_BERA_EXOGENA', 'KURTOSIS_EXOGENA',\n",
    "    'VARIAVEL_EXOGENA_SIGNIFICATIVA', 'VARIAVEL_EXOGENA_ESTATISTICA', 'VARIAVEL_EXOGENA_PVALUE',\n",
    "    'DESCRICAO'\n",
    "]\n",
    "\n",
    "# Fazer o merge das tabelas univariada e exógena\n",
    "df_final = pd.merge(df_univariada, df_exogena, on=['UF', 'AGRAVO'], how='outer')\n",
    "\n",
    "# Reindexar para garantir a ordem correta das colunas\n",
    "df_final = df_final.reindex(columns=colunas_finais)\n",
    "\n",
    "# Substituir valores NaN por valores padrão (opcional)\n",
    "df_final.fillna(\"\", inplace=True)\n",
    "\n",
    "# Salvar a tabela consolidada\n",
    "output_path = '/Workspace/Users/dayanna.quintanilha@afya.com.br/extracao_final2.csv'\n",
    "df_final.to_csv(output_path, index=False)\n",
    "\n",
    "print(f\"Tabela consolidada salva em: {output_path}\")\n"
   ]
  },
  {
   "cell_type": "code",
   "execution_count": 0,
   "metadata": {
    "application/vnd.databricks.v1+cell": {
     "cellMetadata": {
      "byteLimit": 2048000,
      "rowLimit": 10000
     },
     "inputWidgets": {},
     "nuid": "616b057b-7149-4f4d-bced-158a13703f82",
     "showTitle": false,
     "tableResultSettingsMap": {},
     "title": ""
    }
   },
   "outputs": [
    {
     "output_type": "display_data",
     "data": {
      "text/html": [
       "<style scoped>\n",
       "  .ansiout {\n",
       "    display: block;\n",
       "    unicode-bidi: embed;\n",
       "    white-space: pre-wrap;\n",
       "    word-wrap: break-word;\n",
       "    word-break: break-all;\n",
       "    font-family: \"Menlo\", \"Monaco\", \"Consolas\", \"Ubuntu Mono\", \"Source Code Pro\", monospace;\n",
       "    font-size: 13px;\n",
       "    color: #555;\n",
       "    margin-left: 4px;\n",
       "    line-height: 19px;\n",
       "  }\n",
       "</style>"
      ]
     },
     "metadata": {
      "application/vnd.databricks.v1+output": {
       "arguments": {},
       "data": "",
       "errorSummary": "",
       "errorTraceType": null,
       "metadata": {},
       "type": "ipynbError"
      }
     },
     "output_type": "display_data"
    }
   ],
   "source": [
    "%pip install openpyxl\n",
    "\n",
    "import os\n",
    "import pandas as pd\n",
    "import glob\n",
    "\n",
    "try:\n",
    "    import openpyxl\n",
    "except ImportError:\n",
    "    print(\"O módulo 'openpyxl' não está instalado. Use 'pip install openpyxl' para instalá-lo.\")\n",
    "    raise\n",
    "\n",
    "# Caminho da pasta com arquivos exógenos\n",
    "path_exogena = '/Workspace/Users/danielly.xavier@iclinic.com.br/Modelo Séries Temporais Clima e Saúde WB/Modelo Séries Temporais Clima e Saúde WB - Resultados/analise_estadual/ts_exogena/summaries/*.xlsx'\n",
    "\n",
    "# Dicionário para armazenar resultados temporários\n",
    "results_dict = {}\n",
    "\n",
    "# Função para extrair dados exógenos\n",
    "def extract_exogena_data(file_path):\n",
    "    try:\n",
    "        print(f\"Processando arquivo: {file_path}\")\n",
    "        df = pd.read_excel(file_path, header=None)\n",
    "\n",
    "        # Extrair valores baseando-se na posição conhecida e garantindo que os números sejam numéricos\n",
    "        log_likelihood = float(df.iloc[3, 9])\n",
    "        aic = float(df.iloc[4, 6])\n",
    "        bic = float(df.iloc[5, 3])\n",
    "        hqic = float(df.iloc[6, 3])\n",
    "        ljung_box = float(df.iloc[19, 3])\n",
    "        jarque_bera = float(df.iloc[19, 6])\n",
    "        kurtosis = float(df.iloc[21, 4])\n",
    "        estatistica = float(df.iloc[12, 3])\n",
    "        pvalue = float(df.iloc[12, 4])\n",
    "        significancia = 1 if pvalue <= 0.05 else 0\n",
    "\n",
    "        # Identificar UF e Agravo a partir do nome do arquivo\n",
    "        filename = os.path.basename(file_path)\n",
    "        parts = filename.replace(\".xlsx\", \"\").split('_')\n",
    "        uf = parts[-2]\n",
    "        agravo = \" \".join(parts[1:-2])\n",
    "\n",
    "        descricao = f\"Resultados para {agravo} no estado {uf}\"\n",
    "\n",
    "        # Armazenar os dados\n",
    "        data = {\n",
    "            'UF': uf,\n",
    "            'AGRAVO': agravo,\n",
    "            'LOG_EXOGENA': log_likelihood,\n",
    "            'AIC_EXOGENA': aic,\n",
    "            'BIC_EXOGENA': bic,\n",
    "            'HQIC_EXOGENA': hqic,\n",
    "            'LJUNGBOX_EXOGENA': ljung_box,\n",
    "            'JAQUE_BERA_EXOGENA': jarque_bera,\n",
    "            'KURTOSIS_EXOGENA': kurtosis,\n",
    "            'VARIAVEL_EXOGENA_SIGNIFICATIVA': significancia,\n",
    "            'VARIAVEL_EXOGENA_ESTATISTICA': estatistica,\n",
    "            'VARIAVEL_EXOGENA_PVALUE': pvalue,\n",
    "            'DESCRICAO': descricao\n",
    "        }\n",
    "\n",
    "        # Atualizar o dicionário de resultados\n",
    "        key = (uf, agravo)\n",
    "        if key not in results_dict:\n",
    "            results_dict[key] = {}\n",
    "        results_dict[key].update(data)\n",
    "\n",
    "    except Exception as e:\n",
    "        print(f\"Erro ao processar {file_path}: {e}\")\n",
    "\n",
    "# Processar os arquivos da pasta exógena\n",
    "print(\"\\n--- Processando arquivos EXÓGENOS ---\\n\")\n",
    "arquivos_exogena = glob.glob(path_exogena)\n",
    "for file_path in arquivos_exogena:\n",
    "    extract_exogena_data(file_path)\n",
    "\n",
    "# Consolidar resultados\n",
    "df_resultados_exogena = pd.DataFrame(results_dict.values())\n",
    "\n",
    "# Verificar e preencher colunas ausentes\n",
    "colunas_necessarias = [\n",
    "    'UF', 'AGRAVO', 'LOG_EXOGENA', 'AIC_EXOGENA', 'BIC_EXOGENA', \n",
    "    'HQIC_EXOGENA', 'LJUNGBOX_EXOGENA', 'JAQUE_BERA_EXOGENA', \n",
    "    'KURTOSIS_EXOGENA', 'VARIAVEL_EXOGENA_SIGNIFICATIVA', \n",
    "    'VARIAVEL_EXOGENA_ESTATISTICA', 'VARIAVEL_EXOGENA_PVALUE', \n",
    "    'DESCRICAO'\n",
    "]\n",
    "\n",
    "for coluna in colunas_necessarias:\n",
    "    if coluna not in df_resultados_exogena.columns:\n",
    "        df_resultados_exogena[coluna] = pd.NA\n",
    "\n",
    "# Ajustar a formatação numérica para Excel com separador decimal como vírgula e ponto de milhar\n",
    "def format_number(value):\n",
    "    if isinstance(value, (float, int)):\n",
    "        return f\"{value:,.2f}\".replace(\",\", \"X\").replace(\".\", \",\").replace(\"X\", \".\")\n",
    "    return value\n",
    "\n",
    "# Aplicar a formatação nas colunas numéricas\n",
    "numeric_columns = ['LOG_EXOGENA', 'AIC_EXOGENA', 'BIC_EXOGENA', 'HQIC_EXOGENA',\n",
    "                   'LJUNGBOX_EXOGENA', 'JAQUE_BERA_EXOGENA', 'KURTOSIS_EXOGENA',\n",
    "                   'VARIAVEL_EXOGENA_ESTATISTICA', 'VARIAVEL_EXOGENA_PVALUE']\n",
    "df_resultados_exogena[numeric_columns] = df_resultados_exogena[numeric_columns].applymap(format_number)\n",
    "\n",
    "# Salvar resultados em CSV\n",
    "output_path_csv = '/Workspace/Users/dayanna.quintanilha@afya.com.br/resultados_exogena2.csv'\n",
    "df_resultados_exogena.to_csv(output_path_csv, index=False, sep=\";\", decimal=\",\")\n",
    "\n",
    "# Salvar resultados em Excel\n",
    "output_path_excel = '/Workspace/Users/dayanna.quintanilha@afya.com.br/resultados_exogena2.xlsx'\n",
    "df_resultados_exogena.to_excel(output_path_excel, index=False, engine='openpyxl')\n",
    "\n",
    "# Exibir resumo\n",
    "print(\"\\nResultados consolidados salvos em:\")\n",
    "print(f\"CSV: {output_path_csv}\")\n",
    "print(f\"Excel: {output_path_excel}\")\n"
   ]
  },
  {
   "cell_type": "markdown",
   "metadata": {
    "application/vnd.databricks.v1+cell": {
     "cellMetadata": {},
     "inputWidgets": {},
     "nuid": "f4fec757-43be-43e6-973b-a6274d8cfefc",
     "showTitle": false,
     "tableResultSettingsMap": {},
     "title": ""
    }
   },
   "source": []
  }
 ],
 "metadata": {
  "application/vnd.databricks.v1+notebook": {
   "computePreferences": null,
   "dashboards": [],
   "environmentMetadata": {
    "base_environment": "",
    "environment_version": "1"
   },
   "language": "python",
   "notebookMetadata": {
    "pythonIndentUnit": 4
   },
   "notebookName": "(Recuperado) Modelo Séries Temporais Agravos Sensiveis ao Clima SIH e WB - Treinamento",
   "widgets": {}
  },
  "language_info": {
   "name": "python"
  }
 },
 "nbformat": 4,
 "nbformat_minor": 0
}